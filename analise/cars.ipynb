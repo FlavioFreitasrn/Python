{
 "cells": [
  {
   "cell_type": "code",
   "execution_count": 1,
   "metadata": {},
   "outputs": [],
   "source": [
    "#Atualizado 08/12/2022 as 17:00\n",
    "#IMPORTANDO BIBLIOTECAS\n",
    "import pandas as pd\n",
    "import numpy as np\n",
    "import statistics as sts\n",
    "import math as ma #from math import ceil #amostra Sistematica\n",
    "\n",
    "#\n",
    "from scipy import stats\n",
    "from scipy.stats import norm, skewnorm, t, binom, chi2_contingency\n",
    "\n",
    "#IMPORTANDO BIBLIOTECAS  - APRENDIZADO DE MÁQUINA\n",
    "import sklearn as skl \n",
    "from sklearn.model_selection import train_test_split\n",
    "from sklearn.linear_model import LinearRegression\n",
    "\n",
    "from yellowbrick.regressor import ResidualsPlot\n",
    "\n",
    "#IMPORTANDO BIBLIOTECAS GRAFICAS\n",
    "import plotly.express as px\n",
    "import plotly.figure_factory as ff\n",
    "import seaborn as srn\n",
    "import matplotlib.pyplot as plt\n",
    "from plotly.figure_factory import create_distplot\n",
    "\n"
   ]
  },
  {
   "cell_type": "code",
   "execution_count": 2,
   "metadata": {},
   "outputs": [],
   "source": [
    "#importando e dados \n",
    "arquivo = \"./BaseDeDados/cars.csv\"\n",
    "dfChurn = pd.read_csv(arquivo,\n",
    "                      sep=\";\")"
   ]
  }
 ],
 "metadata": {
  "kernelspec": {
   "display_name": "Python 3.11.0 64-bit",
   "language": "python",
   "name": "python3"
  },
  "language_info": {
   "codemirror_mode": {
    "name": "ipython",
    "version": 3
   },
   "file_extension": ".py",
   "mimetype": "text/x-python",
   "name": "python",
   "nbconvert_exporter": "python",
   "pygments_lexer": "ipython3",
   "version": "3.11.0 (main, Oct 24 2022, 18:26:48) [MSC v.1933 64 bit (AMD64)]"
  },
  "orig_nbformat": 4,
  "vscode": {
   "interpreter": {
    "hash": "eaf8a68c62a3b03a7c6ad42a51c04ce54587c9e2f7ba1c64499fd6085a55f6ef"
   }
  }
 },
 "nbformat": 4,
 "nbformat_minor": 2
}
