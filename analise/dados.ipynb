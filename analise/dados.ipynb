{
 "cells": [
  {
   "attachments": {},
   "cell_type": "markdown",
   "metadata": {},
   "source": [
    "1. Arquivo dados.csv\n",
    "    1. CODIGO\n",
    "    2. MUNICIPIO\n",
    "    3. PIB\n",
    "    4. VALOREMPENHO\n",
    "2. Empenho em diárias em municípios gaúchos e PIB do municipio\n",
    "3. Execute um processo de Análise de Dados\n",
    "Exploratória para conhecimento/Entendimento\n",
    "deste dados"
   ]
  },
  {
   "cell_type": "code",
   "execution_count": 42,
   "metadata": {},
   "outputs": [],
   "source": [
    "#Atualizado 08/12/2022 as 17:00\n",
    "#IMPORTANDO BIBLIOTECAS\n",
    "import pandas as pd\n",
    "import numpy as np\n",
    "import statistics as sts\n",
    "import math as ma #from math import ceil #amostra Sistematica\n",
    "\n",
    "#\n",
    "from scipy import stats\n",
    "from scipy.stats import norm, skewnorm, t, binom, chi2_contingency\n",
    "\n",
    "#IMPORTANDO BIBLIOTECAS  - APRENDIZADO DE MÁQUINA\n",
    "import sklearn as skl \n",
    "from sklearn.model_selection import train_test_split\n",
    "from sklearn.linear_model import LinearRegression\n",
    "\n",
    "from yellowbrick.regressor import ResidualsPlot\n",
    "\n",
    "#IMPORTANDO BIBLIOTECAS GRAFICAS\n",
    "import plotly.express as px\n",
    "import plotly.figure_factory as ff\n",
    "import seaborn as srn\n",
    "import matplotlib.pyplot as plt\n",
    "from plotly.figure_factory import create_distplot\n"
   ]
  },
  {
   "cell_type": "code",
   "execution_count": 5,
   "metadata": {},
   "outputs": [],
   "source": [
    "#importando e dados \n",
    "arquivo = \"./BaseDeDados/dados.csv\"\n",
    "dfDados = pd.read_csv(arquivo,\n",
    "                      sep=\";\")"
   ]
  },
  {
   "cell_type": "code",
   "execution_count": null,
   "metadata": {},
   "outputs": [],
   "source": []
  },
  {
   "cell_type": "code",
   "execution_count": 19,
   "metadata": {},
   "outputs": [
    {
     "data": {
      "text/html": [
       "<div>\n",
       "<style scoped>\n",
       "    .dataframe tbody tr th:only-of-type {\n",
       "        vertical-align: middle;\n",
       "    }\n",
       "\n",
       "    .dataframe tbody tr th {\n",
       "        vertical-align: top;\n",
       "    }\n",
       "\n",
       "    .dataframe thead th {\n",
       "        text-align: right;\n",
       "    }\n",
       "</style>\n",
       "<table border=\"1\" class=\"dataframe\">\n",
       "  <thead>\n",
       "    <tr style=\"text-align: right;\">\n",
       "      <th></th>\n",
       "      <th>CODIGO</th>\n",
       "      <th>MUNICIPIO</th>\n",
       "      <th>PIB</th>\n",
       "      <th>VALOREMPENHO</th>\n",
       "    </tr>\n",
       "  </thead>\n",
       "  <tbody>\n",
       "    <tr>\n",
       "      <th>0</th>\n",
       "      <td>106</td>\n",
       "      <td>SANTANA DO LIVRAMENTO</td>\n",
       "      <td>12240.76</td>\n",
       "      <td>1088666.10</td>\n",
       "    </tr>\n",
       "    <tr>\n",
       "      <th>1</th>\n",
       "      <td>113</td>\n",
       "      <td>SANTO ANGELO</td>\n",
       "      <td>16575.82</td>\n",
       "      <td>800669.92</td>\n",
       "    </tr>\n",
       "    <tr>\n",
       "      <th>2</th>\n",
       "      <td>118</td>\n",
       "      <td>SAO FRANCISCO DE ASSIS</td>\n",
       "      <td>12037.61</td>\n",
       "      <td>466122.80</td>\n",
       "    </tr>\n",
       "    <tr>\n",
       "      <th>3</th>\n",
       "      <td>13</td>\n",
       "      <td>CACAPAVA DO SUL</td>\n",
       "      <td>13674.54</td>\n",
       "      <td>485535.86</td>\n",
       "    </tr>\n",
       "    <tr>\n",
       "      <th>4</th>\n",
       "      <td>120</td>\n",
       "      <td>SAO GABRIEL</td>\n",
       "      <td>19912.38</td>\n",
       "      <td>533719.86</td>\n",
       "    </tr>\n",
       "  </tbody>\n",
       "</table>\n",
       "</div>"
      ],
      "text/plain": [
       "   CODIGO               MUNICIPIO       PIB  VALOREMPENHO\n",
       "0     106   SANTANA DO LIVRAMENTO  12240.76    1088666.10\n",
       "1     113            SANTO ANGELO  16575.82     800669.92\n",
       "2     118  SAO FRANCISCO DE ASSIS  12037.61     466122.80\n",
       "3      13         CACAPAVA DO SUL  13674.54     485535.86\n",
       "4     120             SAO GABRIEL  19912.38     533719.86"
      ]
     },
     "execution_count": 19,
     "metadata": {},
     "output_type": "execute_result"
    }
   ],
   "source": [
    "#CONHECENDO A ESRUTURA DOS DADOS\n",
    "dfDados.head()\n",
    "#dfDados.shape"
   ]
  },
  {
   "cell_type": "code",
   "execution_count": null,
   "metadata": {},
   "outputs": [],
   "source": [
    "#VERIFICA REGISTROS NULOS/NAs\n",
    "dfDados.isnull().sum()"
   ]
  },
  {
   "cell_type": "code",
   "execution_count": null,
   "metadata": {},
   "outputs": [],
   "source": [
    "#VERIFICA A DUPLICIDADE DE CODIGOS\n",
    "dfDados[dfDados.duplicated([\"CODIGO\"], keep= False)]"
   ]
  },
  {
   "cell_type": "code",
   "execution_count": null,
   "metadata": {},
   "outputs": [],
   "source": [
    "#AGRUPANDO AS COLUNAS CODIGO E MUNICIPIO CODIGO\tMUNICIPIO\t\n",
    "\n",
    "#CODIGO\n",
    "agrupCodigo = dfDados.groupby(dfDados[\"CODIGO\"]).size()\n",
    "#MUNICIPIO\n",
    "agrupMunicipio = dfDados.groupby(dfDados[\"MUNICIPIO\"]).size()\n",
    "#print(agrupCodigo, agrupMunicipio)"
   ]
  },
  {
   "cell_type": "code",
   "execution_count": 24,
   "metadata": {},
   "outputs": [
    {
     "data": {
      "text/plain": [
       "count       187.000000\n",
       "mean      19808.741337\n",
       "std       16984.223244\n",
       "min        8236.630000\n",
       "25%       13621.455000\n",
       "50%       17206.190000\n",
       "75%       21429.165000\n",
       "max      223848.220000\n",
       "Name: PIB, dtype: float64"
      ]
     },
     "execution_count": 24,
     "metadata": {},
     "output_type": "execute_result"
    }
   ],
   "source": [
    "dfDados[\"PIB\"].describe()"
   ]
  },
  {
   "cell_type": "code",
   "execution_count": 33,
   "metadata": {},
   "outputs": [
    {
     "data": {
      "text/plain": [
       "Text(0.5, 1.0, 'PIB')"
      ]
     },
     "execution_count": 33,
     "metadata": {},
     "output_type": "execute_result"
    },
    {
     "data": {
      "image/png": "[encoded data removed]",
      "text/plain": [
       "<Figure size 640x480 with 1 Axes>"
      ]
     },
     "metadata": {},
     "output_type": "display_data"
    }
   ],
   "source": [
    "#GRAFICO BOXPLOT - SRN\n",
    "srn.boxplot(dfDados[\"PIB\"]).set_title(\"PIB\")\n"
   ]
  },
  {
   "cell_type": "code",
   "execution_count": 34,
   "metadata": {},
   "outputs": [
    {
     "data": {
      "application/vnd.plotly.v1+json": {
       "config": {
        "plotlyServerURL": "https://plot.ly"
       },
       "data": [
        {
         "alignmentgroup": "True",
         "boxpoints": "all",
         "hovertemplate": "x=%{x}<br>y=%{y}<extra></extra>",
         "legendgroup": "",
         "marker": {
          "color": "#636efa"
         },
         "name": "",
         "notched": false,
         "offsetgroup": "",
         "orientation": "v",
         "showlegend": false,
         "type": "box",
         "x": [
          "SANTANA DO LIVRAMENTO",
          "SANTO ANGELO",
          "SAO FRANCISCO DE ASSIS",
          "CACAPAVA DO SUL",
          "SAO GABRIEL",
          "QUARAI",
          "PIRATINI",
          "TUNAS",
          "SAO LUIZ GONZAGA",
          "URUGUAIANA",
          "DOM PEDRITO",
          "AMARAL FERRADOR",
          "PARAISO DO SUL",
          "SAO LOURENCO DO SUL",
          "JOIA",
          "ENCRUZILHADA DO SUL",
          "CANGUCU",
          "TAPES",
          "CERRO BRANCO",
          "MONTE ALEGRE DOS CAMPOS",
          "MOSTARDAS",
          "CERRO BRANCO",
          "MONTE ALEGRE DOS CAMPOS",
          "HERVAL",
          "CRISSIUMAL",
          "VERA CRUZ",
          "CORONEL BICACO",
          "CACHOEIRA DO SUL",
          "VACARIA",
          "BUTIA",
          "GUAPORE",
          "MINAS DO LEAO",
          "CACEQUI",
          "INDEPENDENCIA",
          "TRES DE MAIO",
          "DOM PEDRO DE ALCANTARA",
          "ITAARA",
          "SANTANA DA BOA VISTA",
          "BRAGA",
          "SALTO DO JACUI",
          "IBIRAPUITA",
          "DOUTOR MAURICIO CARDOSO",
          "TAQUARA",
          "JULIO DE CASTILHOS",
          "MANOEL VIANA",
          "VILA NOVA DO SUL",
          "GIRUA",
          "JAQUIRANA",
          "ENTRE-IJUIS",
          "TRIUNFO",
          "AJURICABA",
          "TAVARES",
          "SETE DE SETEMBRO",
          "CERRO LARGO",
          "UBIRETAMA",
          "CRISTAL",
          "MATA",
          "DOUTOR MAURICIO CARDOSO",
          "TAQUARA",
          "AGUDO",
          "PEDRAS ALTAS",
          "TIRADENTES DO SUL",
          "CHUI",
          "BARAO DO COTEGIPE",
          "SAO VICENTE DO SUL",
          "CORONEL BARROS",
          "SENTINELA DO SUL",
          "ROQUE GONZALES",
          "MARAU",
          "RESTINGA SECA",
          "CAIBATE",
          "DEZESSEIS DE NOVEMBRO",
          "CAMPINA DAS MISSOES",
          "SEDE NOVA",
          "TIO HUGO",
          "PORTO MAUA",
          "SILVEIRA MARTINS",
          "SAO NICOLAU",
          "BOZANO",
          "SAO MIGUEL DAS MISSOES",
          "SAO MARTINHO",
          "JACUIZINHO",
          "MULITERNO",
          "SANTO ANTONIO DAS MISSOES",
          "NOVA RAMADA",
          "MATO QUEIMADO",
          "ALTO FELIZ",
          "ESPERANCA DO SUL",
          "REDENTORA",
          "SAO VALERIO DO SUL",
          "ALECRIM",
          "GARRUCHOS",
          "PALMARES DO SUL",
          "SENADOR SALGADO FILHO",
          "MULITERNO",
          "SANTO ANTONIO DAS MISSOES",
          "PANTANO GRANDE",
          "DONA FRANCISCA",
          "ITACURUBI",
          "FORMIGUEIRO",
          "CRUZALTENSE",
          "AUGUSTO PESTANA",
          "TUPARENDI",
          "CARLOS GOMES",
          "PIRAPO",
          "VALE DO SOL",
          "EUGENIO DE CASTRO",
          "SELBACH",
          "DILERMANDO DE AGUIAR",
          "SAO PAULO DAS MISSOES",
          "ARVOREZINHA",
          "NOVA CANDELARIA",
          "FORTALEZA DOS VALOS",
          "SOLEDADE",
          "NOVA PALMA",
          "PORTO LUCENA",
          "BOSSOROCA",
          "PORTO VERA CRUZ",
          "IBIRAIARAS",
          "COXILHA",
          "CATUIPE",
          "SAO JOAO DO POLESINE",
          "VICTOR GRAEFF",
          "SAO JOSE DO INHACORA",
          "LAGOA DOS TRES CANTOS",
          "NOVA BOA VISTA",
          "SANTO ANTONIO DO PLANALTO",
          "BARRA DO RIBEIRO",
          "MORMACO",
          "ILOPOLIS",
          "JACUTINGA",
          "TRES COROAS",
          "FAXINAL DO SOTURNO",
          "CANDIDO GODOI",
          "DOIS LAJEADOS",
          "ESMERALDA",
          "VENANCIO AIRES",
          "TRES ARROIOS",
          "VIADUTOS",
          "EREBANGO",
          "FAGUNDES VARELA",
          "NOVA BOA VISTA",
          "SANTO ANTONIO DO PLANALTO",
          "PAULO BENTO",
          "IPE",
          "GLORINHA",
          "MUITOS CAPOES",
          "ROLADOR",
          "SAO JOAO DA URTIGA",
          "UNIAO DA SERRA",
          "PEJUCARA",
          "CAMBARA DO SUL",
          "TUCUNDUVA",
          "ESTACAO",
          "QUATRO IRMAOS",
          "CAPAO DO CIPO",
          "TAPERA",
          "AUREA",
          "PASSO DO SOBRADO",
          "TUPANCI DO SUL",
          "NOVA ROMA DO SUL",
          "SAO JOSE DO HERVAL",
          "GAURAMA",
          "QUINZE DE NOVEMBRO",
          "FLORIANO PEIXOTO",
          "MONTAURI",
          "MAXIMILIANO DE ALMEIDA",
          "NOVO MACHADO",
          "ALMIRANTE TAMANDARE DO SUL",
          "VILA MARIA",
          "GENERAL CAMARA",
          "IPIRANGA DO SUL",
          "CONDOR",
          "SANTA MARIA",
          "TUPANCIRETA",
          "PORTO ALEGRE",
          "SANTA CRUZ DO SUL",
          "IJUI",
          "SAO SEPE",
          "MATO LEITAO",
          "SANTA VITORIA DO PALMAR",
          "MATO LEITAO",
          "SANTA VITORIA DO PALMAR",
          "SANTA BARBARA DO SUL",
          "GETULIO VARGAS",
          "NOVA SANTA RITA",
          "GUARANI DAS MISSOES"
         ],
         "x0": " ",
         "xaxis": "x",
         "y": [
          12240.76,
          16575.82,
          12037.61,
          13674.54,
          19912.38,
          12552.51,
          10811.67,
          11543.02,
          15887.14,
          21084.19,
          19013.71,
          9216.87,
          13170.25,
          12674.7,
          23312.14,
          10372.8,
          11213.34,
          14056.88,
          11961.1,
          11961.1,
          19565.25,
          12467.25,
          12467.25,
          11484.31,
          14008.76,
          18417.96,
          18904.82,
          16397.28,
          20448.38,
          13813.54,
          18161.99,
          12205.44,
          13648.11,
          17860.75,
          19158.36,
          11846.92,
          11615.69,
          11172.34,
          12018.09,
          16639.3,
          14493.69,
          13628.17,
          13628.17,
          21618.63,
          15913.84,
          13053.13,
          24219.34,
          11413.37,
          13675.59,
          223848.22,
          20784.67,
          13614.74,
          14167.01,
          24621.74,
          17624.98,
          13480.21,
          10935.82,
          18628.78,
          18628.78,
          16444.8,
          23555.6,
          11460.58,
          27211.85,
          18002.39,
          14478.75,
          19040.37,
          10477.52,
          14153.96,
          34568.53,
          13662.14,
          16351.42,
          12031.78,
          13265.54,
          16573.84,
          20308.6,
          14274.99,
          11760.63,
          12118.17,
          17385.64,
          27604.1,
          16194.66,
          13023.32,
          16581.6,
          16581.6,
          20065.46,
          16741.72,
          13209.54,
          13475.82,
          8236.63,
          10503.72,
          11431.18,
          68672.25,
          19129.95,
          18747.25,
          19914.82,
          19914.82,
          17773.33,
          12755.5,
          17165.76,
          14434.15,
          15521,
          21093.68,
          17472.05,
          14074.6,
          12907.72,
          15438.03,
          30468.92,
          23079.27,
          19759.2,
          13658.06,
          12322.75,
          24036.64,
          24850.71,
          12628.91,
          22751.3,
          11721.19,
          20475.92,
          16254,
          20324.25,
          29446.8,
          16817.21,
          14616.58,
          26700.28,
          17858.77,
          26887.69,
          18676.57,
          18676.57,
          13536.8,
          19118.72,
          14891.22,
          19989.87,
          22845.82,
          18772.7,
          17321.8,
          21239.7,
          26582.62,
          27673.59,
          14817.08,
          12520.25,
          15497.3,
          26973.38,
          24509.74,
          24509.74,
          20777.63,
          19635.49,
          33730.13,
          72353.72,
          17853.36,
          13896.88,
          25746.93,
          29005.14,
          17604.06,
          21897.55,
          19809.37,
          22971.63,
          36739.78,
          25222.94,
          14243.78,
          16001.36,
          17206.19,
          29148.6,
          12934.88,
          19545.1,
          21072.81,
          15990.69,
          25168.07,
          12775.29,
          15579.4,
          26895.37,
          31104.22,
          11628.97,
          25276.04,
          25915.7,
          15719.56,
          23275.79,
          30524.8,
          40671.53,
          23027.95,
          15525.66,
          17213.98,
          17213.98,
          27170.89,
          27170.89,
          29654.02,
          16876.33,
          25938.38,
          24363.31
         ],
         "y0": " ",
         "yaxis": "y"
        }
       ],
       "layout": {
        "boxmode": "group",
        "legend": {
         "tracegroupgap": 0
        },
        "margin": {
         "t": 60
        },
        "template": {
         "data": {
          "bar": [
           {
            "error_x": {
             "color": "#2a3f5f"
            },
            "error_y": {
             "color": "#2a3f5f"
            },
            "marker": {
             "line": {
              "color": "#E5ECF6",
              "width": 0.5
             },
             "pattern": {
              "fillmode": "overlay",
              "size": 10,
              "solidity": 0.2
             }
            },
            "type": "bar"
           }
          ],
          "barpolar": [
           {
            "marker": {
             "line": {
              "color": "#E5ECF6",
              "width": 0.5
             },
             "pattern": {
              "fillmode": "overlay",
              "size": 10,
              "solidity": 0.2
             }
            },
            "type": "barpolar"
           }
          ],
          "carpet": [
           {
            "aaxis": {
             "endlinecolor": "#2a3f5f",
             "gridcolor": "white",
             "linecolor": "white",
             "minorgridcolor": "white",
             "startlinecolor": "#2a3f5f"
            },
            "baxis": {
             "endlinecolor": "#2a3f5f",
             "gridcolor": "white",
             "linecolor": "white",
             "minorgridcolor": "white",
             "startlinecolor": "#2a3f5f"
            },
            "type": "carpet"
           }
          ],
          "choropleth": [
           {
            "colorbar": {
             "outlinewidth": 0,
             "ticks": ""
            },
            "type": "choropleth"
           }
          ],
          "contour": [
           {
            "colorbar": {
             "outlinewidth": 0,
             "ticks": ""
            },
            "colorscale": [
             [
              0,
              "#0d0887"
             ],
             [
              0.1111111111111111,
              "#46039f"
             ],
             [
              0.2222222222222222,
              "#7201a8"
             ],
             [
              0.3333333333333333,
              "#9c179e"
             ],
             [
              0.4444444444444444,
              "#bd3786"
             ],
             [
              0.5555555555555556,
              "#d8576b"
             ],
             [
              0.6666666666666666,
              "#ed7953"
             ],
             [
              0.7777777777777778,
              "#fb9f3a"
             ],
             [
              0.8888888888888888,
              "#fdca26"
             ],
             [
              1,
              "#f0f921"
             ]
            ],
            "type": "contour"
           }
          ],
          "contourcarpet": [
           {
            "colorbar": {
             "outlinewidth": 0,
             "ticks": ""
            },
            "type": "contourcarpet"
           }
          ],
          "heatmap": [
           {
            "colorbar": {
             "outlinewidth": 0,
             "ticks": ""
            },
            "colorscale": [
             [
              0,
              "#0d0887"
             ],
             [
              0.1111111111111111,
              "#46039f"
             ],
             [
              0.2222222222222222,
              "#7201a8"
             ],
             [
              0.3333333333333333,
              "#9c179e"
             ],
             [
              0.4444444444444444,
              "#bd3786"
             ],
             [
              0.5555555555555556,
              "#d8576b"
             ],
             [
              0.6666666666666666,
              "#ed7953"
             ],
             [
              0.7777777777777778,
              "#fb9f3a"
             ],
             [
              0.8888888888888888,
              "#fdca26"
             ],
             [
              1,
              "#f0f921"
             ]
            ],
            "type": "heatmap"
           }
          ],
          "heatmapgl": [
           {
            "colorbar": {
             "outlinewidth": 0,
             "ticks": ""
            },
            "colorscale": [
             [
              0,
              "#0d0887"
             ],
             [
              0.1111111111111111,
              "#46039f"
             ],
             [
              0.2222222222222222,
              "#7201a8"
             ],
             [
              0.3333333333333333,
              "#9c179e"
             ],
             [
              0.4444444444444444,
              "#bd3786"
             ],
             [
              0.5555555555555556,
              "#d8576b"
             ],
             [
              0.6666666666666666,
              "#ed7953"
             ],
             [
              0.7777777777777778,
              "#fb9f3a"
             ],
             [
              0.8888888888888888,
              "#fdca26"
             ],
             [
              1,
              "#f0f921"
             ]
            ],
            "type": "heatmapgl"
           }
          ],
          "histogram": [
           {
            "marker": {
             "pattern": {
              "fillmode": "overlay",
              "size": 10,
              "solidity": 0.2
             }
            },
            "type": "histogram"
           }
          ],
          "histogram2d": [
           {
            "colorbar": {
             "outlinewidth": 0,
             "ticks": ""
            },
            "colorscale": [
             [
              0,
              "#0d0887"
             ],
             [
              0.1111111111111111,
              "#46039f"
             ],
             [
              0.2222222222222222,
              "#7201a8"
             ],
             [
              0.3333333333333333,
              "#9c179e"
             ],
             [
              0.4444444444444444,
              "#bd3786"
             ],
             [
              0.5555555555555556,
              "#d8576b"
             ],
             [
              0.6666666666666666,
              "#ed7953"
             ],
             [
              0.7777777777777778,
              "#fb9f3a"
             ],
             [
              0.8888888888888888,
              "#fdca26"
             ],
             [
              1,
              "#f0f921"
             ]
            ],
            "type": "histogram2d"
           }
          ],
          "histogram2dcontour": [
           {
            "colorbar": {
             "outlinewidth": 0,
             "ticks": ""
            },
            "colorscale": [
             [
              0,
              "#0d0887"
             ],
             [
              0.1111111111111111,
              "#46039f"
             ],
             [
              0.2222222222222222,
              "#7201a8"
             ],
             [
              0.3333333333333333,
              "#9c179e"
             ],
             [
              0.4444444444444444,
              "#bd3786"
             ],
             [
              0.5555555555555556,
              "#d8576b"
             ],
             [
              0.6666666666666666,
              "#ed7953"
             ],
             [
              0.7777777777777778,
              "#fb9f3a"
             ],
             [
              0.8888888888888888,
              "#fdca26"
             ],
             [
              1,
              "#f0f921"
             ]
            ],
            "type": "histogram2dcontour"
           }
          ],
          "mesh3d": [
           {
            "colorbar": {
             "outlinewidth": 0,
             "ticks": ""
            },
            "type": "mesh3d"
           }
          ],
          "parcoords": [
           {
            "line": {
             "colorbar": {
              "outlinewidth": 0,
              "ticks": ""
             }
            },
            "type": "parcoords"
           }
          ],
          "pie": [
           {
            "automargin": true,
            "type": "pie"
           }
          ],
          "scatter": [
           {
            "fillpattern": {
             "fillmode": "overlay",
             "size": 10,
             "solidity": 0.2
            },
            "type": "scatter"
           }
          ],
          "scatter3d": [
           {
            "line": {
             "colorbar": {
              "outlinewidth": 0,
              "ticks": ""
             }
            },
            "marker": {
             "colorbar": {
              "outlinewidth": 0,
              "ticks": ""
             }
            },
            "type": "scatter3d"
           }
          ],
          "scattercarpet": [
           {
            "marker": {
             "colorbar": {
              "outlinewidth": 0,
              "ticks": ""
             }
            },
            "type": "scattercarpet"
           }
          ],
          "scattergeo": [
           {
            "marker": {
             "colorbar": {
              "outlinewidth": 0,
              "ticks": ""
             }
            },
            "type": "scattergeo"
           }
          ],
          "scattergl": [
           {
            "marker": {
             "colorbar": {
              "outlinewidth": 0,
              "ticks": ""
             }
            },
            "type": "scattergl"
           }
          ],
          "scattermapbox": [
           {
            "marker": {
             "colorbar": {
              "outlinewidth": 0,
              "ticks": ""
             }
            },
            "type": "scattermapbox"
           }
          ],
          "scatterpolar": [
           {
            "marker": {
             "colorbar": {
              "outlinewidth": 0,
              "ticks": ""
             }
            },
            "type": "scatterpolar"
           }
          ],
          "scatterpolargl": [
           {
            "marker": {
             "colorbar": {
              "outlinewidth": 0,
              "ticks": ""
             }
            },
            "type": "scatterpolargl"
           }
          ],
          "scatterternary": [
           {
            "marker": {
             "colorbar": {
              "outlinewidth": 0,
              "ticks": ""
             }
            },
            "type": "scatterternary"
           }
          ],
          "surface": [
           {
            "colorbar": {
             "outlinewidth": 0,
             "ticks": ""
            },
            "colorscale": [
             [
              0,
              "#0d0887"
             ],
             [
              0.1111111111111111,
              "#46039f"
             ],
             [
              0.2222222222222222,
              "#7201a8"
             ],
             [
              0.3333333333333333,
              "#9c179e"
             ],
             [
              0.4444444444444444,
              "#bd3786"
             ],
             [
              0.5555555555555556,
              "#d8576b"
             ],
             [
              0.6666666666666666,
              "#ed7953"
             ],
             [
              0.7777777777777778,
              "#fb9f3a"
             ],
             [
              0.8888888888888888,
              "#fdca26"
             ],
             [
              1,
              "#f0f921"
             ]
            ],
            "type": "surface"
           }
          ],
          "table": [
           {
            "cells": {
             "fill": {
              "color": "#EBF0F8"
             },
             "line": {
              "color": "white"
             }
            },
            "header": {
             "fill": {
              "color": "#C8D4E3"
             },
             "line": {
              "color": "white"
             }
            },
            "type": "table"
           }
          ]
         },
         "layout": {
          "annotationdefaults": {
           "arrowcolor": "#2a3f5f",
           "arrowhead": 0,
           "arrowwidth": 1
          },
          "autotypenumbers": "strict",
          "coloraxis": {
           "colorbar": {
            "outlinewidth": 0,
            "ticks": ""
           }
          },
          "colorscale": {
           "diverging": [
            [
             0,
             "#8e0152"
            ],
            [
             0.1,
             "#c51b7d"
            ],
            [
             0.2,
             "#de77ae"
            ],
            [
             0.3,
             "#f1b6da"
            ],
            [
             0.4,
             "#fde0ef"
            ],
            [
             0.5,
             "#f7f7f7"
            ],
            [
             0.6,
             "#e6f5d0"
            ],
            [
             0.7,
             "#b8e186"
            ],
            [
             0.8,
             "#7fbc41"
            ],
            [
             0.9,
             "#4d9221"
            ],
            [
             1,
             "#276419"
            ]
           ],
           "sequential": [
            [
             0,
             "#0d0887"
            ],
            [
             0.1111111111111111,
             "#46039f"
            ],
            [
             0.2222222222222222,
             "#7201a8"
            ],
            [
             0.3333333333333333,
             "#9c179e"
            ],
            [
             0.4444444444444444,
             "#bd3786"
            ],
            [
             0.5555555555555556,
             "#d8576b"
            ],
            [
             0.6666666666666666,
             "#ed7953"
            ],
            [
             0.7777777777777778,
             "#fb9f3a"
            ],
            [
             0.8888888888888888,
             "#fdca26"
            ],
            [
             1,
             "#f0f921"
            ]
           ],
           "sequentialminus": [
            [
             0,
             "#0d0887"
            ],
            [
             0.1111111111111111,
             "#46039f"
            ],
            [
             0.2222222222222222,
             "#7201a8"
            ],
            [
             0.3333333333333333,
             "#9c179e"
            ],
            [
             0.4444444444444444,
             "#bd3786"
            ],
            [
             0.5555555555555556,
             "#d8576b"
            ],
            [
             0.6666666666666666,
             "#ed7953"
            ],
            [
             0.7777777777777778,
             "#fb9f3a"
            ],
            [
             0.8888888888888888,
             "#fdca26"
            ],
            [
             1,
             "#f0f921"
            ]
           ]
          },
          "colorway": [
           "#636efa",
           "#EF553B",
           "#00cc96",
           "#ab63fa",
           "#FFA15A",
           "#19d3f3",
           "#FF6692",
           "#B6E880",
           "#FF97FF",
           "#FECB52"
          ],
          "font": {
           "color": "#2a3f5f"
          },
          "geo": {
           "bgcolor": "white",
           "lakecolor": "white",
           "landcolor": "#E5ECF6",
           "showlakes": true,
           "showland": true,
           "subunitcolor": "white"
          },
          "hoverlabel": {
           "align": "left"
          },
          "hovermode": "closest",
          "mapbox": {
           "style": "light"
          },
          "paper_bgcolor": "white",
          "plot_bgcolor": "#E5ECF6",
          "polar": {
           "angularaxis": {
            "gridcolor": "white",
            "linecolor": "white",
            "ticks": ""
           },
           "bgcolor": "#E5ECF6",
           "radialaxis": {
            "gridcolor": "white",
            "linecolor": "white",
            "ticks": ""
           }
          },
          "scene": {
           "xaxis": {
            "backgroundcolor": "#E5ECF6",
            "gridcolor": "white",
            "gridwidth": 2,
            "linecolor": "white",
            "showbackground": true,
            "ticks": "",
            "zerolinecolor": "white"
           },
           "yaxis": {
            "backgroundcolor": "#E5ECF6",
            "gridcolor": "white",
            "gridwidth": 2,
            "linecolor": "white",
            "showbackground": true,
            "ticks": "",
            "zerolinecolor": "white"
           },
           "zaxis": {
            "backgroundcolor": "#E5ECF6",
            "gridcolor": "white",
            "gridwidth": 2,
            "linecolor": "white",
            "showbackground": true,
            "ticks": "",
            "zerolinecolor": "white"
           }
          },
          "shapedefaults": {
           "line": {
            "color": "#2a3f5f"
           }
          },
          "ternary": {
           "aaxis": {
            "gridcolor": "white",
            "linecolor": "white",
            "ticks": ""
           },
           "baxis": {
            "gridcolor": "white",
            "linecolor": "white",
            "ticks": ""
           },
           "bgcolor": "#E5ECF6",
           "caxis": {
            "gridcolor": "white",
            "linecolor": "white",
            "ticks": ""
           }
          },
          "title": {
           "x": 0.05
          },
          "xaxis": {
           "automargin": true,
           "gridcolor": "white",
           "linecolor": "white",
           "ticks": "",
           "title": {
            "standoff": 15
           },
           "zerolinecolor": "white",
           "zerolinewidth": 2
          },
          "yaxis": {
           "automargin": true,
           "gridcolor": "white",
           "linecolor": "white",
           "ticks": "",
           "title": {
            "standoff": 15
           },
           "zerolinecolor": "white",
           "zerolinewidth": 2
          }
         }
        },
        "title": {
         "text": "Tit.: Boxplot PIB"
        },
        "xaxis": {
         "anchor": "y",
         "domain": [
          0,
          1
         ],
         "title": {
          "text": "x"
         }
        },
        "yaxis": {
         "anchor": "x",
         "domain": [
          0,
          1
         ],
         "title": {
          "text": "y"
         }
        }
       }
      }
     },
     "metadata": {},
     "output_type": "display_data"
    }
   ],
   "source": [
    "#Identificando o OUTlier\n",
    "#GRAFICO BOXPLOT - PLOTY\n",
    "pib = dfDados[\"PIB\"]\n",
    "x = dfDados[\"MUNICIPIO\"]\n",
    "df = px.data.tips()\n",
    "fig = px.box(df, x= x, y=pib, points=\"all\")\n",
    "fig.update_layout(title_text='Tit.: Boxplot PIB')\n",
    "\n",
    "fig.show()"
   ]
  },
  {
   "cell_type": "code",
   "execution_count": null,
   "metadata": {},
   "outputs": [],
   "source": [
    "import plotly.graph_objects as go\n",
    "\n",
    "fig = go.Figure(data=go.Scatter(\n",
    "        x=dfDados[\"MUNICIPIO\"],\n",
    "        y=dfDados[\"PIB\"],\n",
    "        error_y=dict(\n",
    "            type='data', # value of error bar given in data coordinates\n",
    "            array=[1, 2, 3],\n",
    "            visible=True)\n",
    "    ))\n",
    "fig.show()"
   ]
  },
  {
   "cell_type": "code",
   "execution_count": 21,
   "metadata": {},
   "outputs": [
    {
     "data": {
      "text/plain": [
       "count    1.870000e+02\n",
       "mean     1.299844e+05\n",
       "std      1.615491e+05\n",
       "min      1.721300e+02\n",
       "25%      5.251718e+04\n",
       "50%      8.422816e+04\n",
       "75%      1.538961e+05\n",
       "max      1.442760e+06\n",
       "Name: VALOREMPENHO, dtype: float64"
      ]
     },
     "execution_count": 21,
     "metadata": {},
     "output_type": "execute_result"
    }
   ],
   "source": [
    "dfDados[\"VALOREMPENHO\"].describe()"
   ]
  },
  {
   "cell_type": "code",
   "execution_count": 38,
   "metadata": {},
   "outputs": [
    {
     "data": {
      "text/plain": [
       "Text(0.5, 1.0, 'VALOREMPENHO')"
      ]
     },
     "execution_count": 38,
     "metadata": {},
     "output_type": "execute_result"
    },
    {
     "data": {
      "image/png": "[encoded data removed]",
      "text/plain": [
       "<Figure size 640x480 with 1 Axes>"
      ]
     },
     "metadata": {},
     "output_type": "display_data"
    }
   ],
   "source": [
    "#GRAFICO BOXPLOT - SRN\n",
    "srn.boxplot(dfDados[\"VALOREMPENHO\"]).set_title(\"VALOREMPENHO\")"
   ]
  },
  {
   "cell_type": "code",
   "execution_count": 39,
   "metadata": {},
   "outputs": [
    {
     "data": {
      "application/vnd.plotly.v1+json": {
       "config": {
        "plotlyServerURL": "https://plot.ly"
       },
       "data": [
        {
         "alignmentgroup": "True",
         "boxpoints": "all",
         "hovertemplate": "x=%{x}<br>y=%{y}<extra></extra>",
         "legendgroup": "",
         "marker": {
          "color": "#636efa"
         },
         "name": "",
         "notched": false,
         "offsetgroup": "",
         "orientation": "v",
         "showlegend": false,
         "type": "box",
         "x": [
          "SANTANA DO LIVRAMENTO",
          "SANTO ANGELO",
          "SAO FRANCISCO DE ASSIS",
          "CACAPAVA DO SUL",
          "SAO GABRIEL",
          "QUARAI",
          "PIRATINI",
          "TUNAS",
          "SAO LUIZ GONZAGA",
          "URUGUAIANA",
          "DOM PEDRITO",
          "AMARAL FERRADOR",
          "PARAISO DO SUL",
          "SAO LOURENCO DO SUL",
          "JOIA",
          "ENCRUZILHADA DO SUL",
          "CANGUCU",
          "TAPES",
          "CERRO BRANCO",
          "MONTE ALEGRE DOS CAMPOS",
          "MOSTARDAS",
          "CERRO BRANCO",
          "MONTE ALEGRE DOS CAMPOS",
          "HERVAL",
          "CRISSIUMAL",
          "VERA CRUZ",
          "CORONEL BICACO",
          "CACHOEIRA DO SUL",
          "VACARIA",
          "BUTIA",
          "GUAPORE",
          "MINAS DO LEAO",
          "CACEQUI",
          "INDEPENDENCIA",
          "TRES DE MAIO",
          "DOM PEDRO DE ALCANTARA",
          "ITAARA",
          "SANTANA DA BOA VISTA",
          "BRAGA",
          "SALTO DO JACUI",
          "IBIRAPUITA",
          "DOUTOR MAURICIO CARDOSO",
          "TAQUARA",
          "JULIO DE CASTILHOS",
          "MANOEL VIANA",
          "VILA NOVA DO SUL",
          "GIRUA",
          "JAQUIRANA",
          "ENTRE-IJUIS",
          "TRIUNFO",
          "AJURICABA",
          "TAVARES",
          "SETE DE SETEMBRO",
          "CERRO LARGO",
          "UBIRETAMA",
          "CRISTAL",
          "MATA",
          "DOUTOR MAURICIO CARDOSO",
          "TAQUARA",
          "AGUDO",
          "PEDRAS ALTAS",
          "TIRADENTES DO SUL",
          "CHUI",
          "BARAO DO COTEGIPE",
          "SAO VICENTE DO SUL",
          "CORONEL BARROS",
          "SENTINELA DO SUL",
          "ROQUE GONZALES",
          "MARAU",
          "RESTINGA SECA",
          "CAIBATE",
          "DEZESSEIS DE NOVEMBRO",
          "CAMPINA DAS MISSOES",
          "SEDE NOVA",
          "TIO HUGO",
          "PORTO MAUA",
          "SILVEIRA MARTINS",
          "SAO NICOLAU",
          "BOZANO",
          "SAO MIGUEL DAS MISSOES",
          "SAO MARTINHO",
          "JACUIZINHO",
          "MULITERNO",
          "SANTO ANTONIO DAS MISSOES",
          "NOVA RAMADA",
          "MATO QUEIMADO",
          "ALTO FELIZ",
          "ESPERANCA DO SUL",
          "REDENTORA",
          "SAO VALERIO DO SUL",
          "ALECRIM",
          "GARRUCHOS",
          "PALMARES DO SUL",
          "SENADOR SALGADO FILHO",
          "MULITERNO",
          "SANTO ANTONIO DAS MISSOES",
          "PANTANO GRANDE",
          "DONA FRANCISCA",
          "ITACURUBI",
          "FORMIGUEIRO",
          "CRUZALTENSE",
          "AUGUSTO PESTANA",
          "TUPARENDI",
          "CARLOS GOMES",
          "PIRAPO",
          "VALE DO SOL",
          "EUGENIO DE CASTRO",
          "SELBACH",
          "DILERMANDO DE AGUIAR",
          "SAO PAULO DAS MISSOES",
          "ARVOREZINHA",
          "NOVA CANDELARIA",
          "FORTALEZA DOS VALOS",
          "SOLEDADE",
          "NOVA PALMA",
          "PORTO LUCENA",
          "BOSSOROCA",
          "PORTO VERA CRUZ",
          "IBIRAIARAS",
          "COXILHA",
          "CATUIPE",
          "SAO JOAO DO POLESINE",
          "VICTOR GRAEFF",
          "SAO JOSE DO INHACORA",
          "LAGOA DOS TRES CANTOS",
          "NOVA BOA VISTA",
          "SANTO ANTONIO DO PLANALTO",
          "BARRA DO RIBEIRO",
          "MORMACO",
          "ILOPOLIS",
          "JACUTINGA",
          "TRES COROAS",
          "FAXINAL DO SOTURNO",
          "CANDIDO GODOI",
          "DOIS LAJEADOS",
          "ESMERALDA",
          "VENANCIO AIRES",
          "TRES ARROIOS",
          "VIADUTOS",
          "EREBANGO",
          "FAGUNDES VARELA",
          "NOVA BOA VISTA",
          "SANTO ANTONIO DO PLANALTO",
          "PAULO BENTO",
          "IPE",
          "GLORINHA",
          "MUITOS CAPOES",
          "ROLADOR",
          "SAO JOAO DA URTIGA",
          "UNIAO DA SERRA",
          "PEJUCARA",
          "CAMBARA DO SUL",
          "TUCUNDUVA",
          "ESTACAO",
          "QUATRO IRMAOS",
          "CAPAO DO CIPO",
          "TAPERA",
          "AUREA",
          "PASSO DO SOBRADO",
          "TUPANCI DO SUL",
          "NOVA ROMA DO SUL",
          "SAO JOSE DO HERVAL",
          "GAURAMA",
          "QUINZE DE NOVEMBRO",
          "FLORIANO PEIXOTO",
          "MONTAURI",
          "MAXIMILIANO DE ALMEIDA",
          "NOVO MACHADO",
          "ALMIRANTE TAMANDARE DO SUL",
          "VILA MARIA",
          "GENERAL CAMARA",
          "IPIRANGA DO SUL",
          "CONDOR",
          "SANTA MARIA",
          "TUPANCIRETA",
          "PORTO ALEGRE",
          "SANTA CRUZ DO SUL",
          "IJUI",
          "SAO SEPE",
          "MATO LEITAO",
          "SANTA VITORIA DO PALMAR",
          "MATO LEITAO",
          "SANTA VITORIA DO PALMAR",
          "SANTA BARBARA DO SUL",
          "GETULIO VARGAS",
          "NOVA SANTA RITA",
          "GUARANI DAS MISSOES"
         ],
         "x0": " ",
         "xaxis": "x",
         "y": [
          1088666.1,
          800669.92,
          466122.8,
          485535.86,
          533719.86,
          381286.24,
          315884.5,
          326884.6,
          385185.68,
          401124.62,
          371857.25,
          235327.02,
          270262.04,
          251561.35,
          347560.44,
          200738.61,
          205741.65,
          230054.99,
          208240.5,
          208240.5,
          284378.16,
          208240.5,
          208240.5,
          190683.19,
          209081.5,
          246386.96,
          242475.63,
          212709.75,
          245264.54,
          185455.23,
          213430.42,
          159124.9,
          168348.38,
          198871.61,
          207262.75,
          151929.31,
          147695.96,
          139594.29,
          145459.93,
          172118.1,
          155862.98,
          147767.38,
          147767.38,
          201137,
          161561.59,
          141895.69,
          214877.97,
          129434.42,
          142254.22,
          1442759.82,
          180603.16,
          134810,
          135513.71,
          194534.47,
          147190,
          123228.69,
          107740.9,
          147767.38,
          147767.38,
          134912,
          172711.88,
          107111,
          191953.5,
          141194.95,
          119382.93,
          141024,
          92380.2,
          109582.13,
          193840.83,
          98001.49,
          108141.69,
          88756.96,
          93439.28,
          107428.88,
          123207.6,
          92807.2,
          81437.95,
          82690.45,
          102757.09,
          143096.57,
          97248.7,
          83870.17,
          97594.98,
          97594.98,
          109138.18,
          96221.32,
          82293.86,
          81440.55,
          60134,
          67638.25,
          70277.71,
          271841.26,
          96770.63,
          94051,
          97594.98,
          97594.98,
          86674.03,
          67342.2,
          78243.36,
          68801.4,
          69924.8,
          85677.83,
          74968,
          64068.77,
          59196.14,
          65811.24,
          105023.36,
          84228.16,
          74348.22,
          58025.36,
          53848.5,
          83084.13,
          83076.65,
          52500.44,
          76304.4,
          49142.95,
          70249.33,
          58321.5,
          66818.26,
          87241.91,
          57760.46,
          52533.91,
          79029.29,
          57786.95,
          77449.57,
          58868.19,
          58868.19,
          46719.3,
          58222.04,
          48284,
          58058.46,
          62296.44,
          53632.55,
          50037.9,
          56596.27,
          64937.14,
          66953.86,
          42735.5,
          38128.96,
          43389.46,
          63579.04,
          58868.19,
          58868.19,
          52189.75,
          49490.3,
          74325.48,
          140597.55,
          44955.88,
          37257.18,
          56890.56,
          59830.97,
          39963.33,
          46340,
          41816.89,
          45604.38,
          60851,
          43510,
          28735.1,
          29898.17,
          30868.49,
          43757.7,
          24583,
          31718.48,
          31602.74,
          25715.5,
          34664.79,
          19376.34,
          21715,
          31936.85,
          28149.89,
          13824.15,
          22470.03,
          22632.98,
          9538.34,
          12475.2,
          9358.33,
          9637,
          5920,
          1186,
          760,
          760,
          760,
          760,
          365,
          233.01,
          310.58,
          172.13
         ],
         "y0": " ",
         "yaxis": "y"
        }
       ],
       "layout": {
        "boxmode": "group",
        "legend": {
         "tracegroupgap": 0
        },
        "margin": {
         "t": 60
        },
        "template": {
         "data": {
          "bar": [
           {
            "error_x": {
             "color": "#2a3f5f"
            },
            "error_y": {
             "color": "#2a3f5f"
            },
            "marker": {
             "line": {
              "color": "#E5ECF6",
              "width": 0.5
             },
             "pattern": {
              "fillmode": "overlay",
              "size": 10,
              "solidity": 0.2
             }
            },
            "type": "bar"
           }
          ],
          "barpolar": [
           {
            "marker": {
             "line": {
              "color": "#E5ECF6",
              "width": 0.5
             },
             "pattern": {
              "fillmode": "overlay",
              "size": 10,
              "solidity": 0.2
             }
            },
            "type": "barpolar"
           }
          ],
          "carpet": [
           {
            "aaxis": {
             "endlinecolor": "#2a3f5f",
             "gridcolor": "white",
             "linecolor": "white",
             "minorgridcolor": "white",
             "startlinecolor": "#2a3f5f"
            },
            "baxis": {
             "endlinecolor": "#2a3f5f",
             "gridcolor": "white",
             "linecolor": "white",
             "minorgridcolor": "white",
             "startlinecolor": "#2a3f5f"
            },
            "type": "carpet"
           }
          ],
          "choropleth": [
           {
            "colorbar": {
             "outlinewidth": 0,
             "ticks": ""
            },
            "type": "choropleth"
           }
          ],
          "contour": [
           {
            "colorbar": {
             "outlinewidth": 0,
             "ticks": ""
            },
            "colorscale": [
             [
              0,
              "#0d0887"
             ],
             [
              0.1111111111111111,
              "#46039f"
             ],
             [
              0.2222222222222222,
              "#7201a8"
             ],
             [
              0.3333333333333333,
              "#9c179e"
             ],
             [
              0.4444444444444444,
              "#bd3786"
             ],
             [
              0.5555555555555556,
              "#d8576b"
             ],
             [
              0.6666666666666666,
              "#ed7953"
             ],
             [
              0.7777777777777778,
              "#fb9f3a"
             ],
             [
              0.8888888888888888,
              "#fdca26"
             ],
             [
              1,
              "#f0f921"
             ]
            ],
            "type": "contour"
           }
          ],
          "contourcarpet": [
           {
            "colorbar": {
             "outlinewidth": 0,
             "ticks": ""
            },
            "type": "contourcarpet"
           }
          ],
          "heatmap": [
           {
            "colorbar": {
             "outlinewidth": 0,
             "ticks": ""
            },
            "colorscale": [
             [
              0,
              "#0d0887"
             ],
             [
              0.1111111111111111,
              "#46039f"
             ],
             [
              0.2222222222222222,
              "#7201a8"
             ],
             [
              0.3333333333333333,
              "#9c179e"
             ],
             [
              0.4444444444444444,
              "#bd3786"
             ],
             [
              0.5555555555555556,
              "#d8576b"
             ],
             [
              0.6666666666666666,
              "#ed7953"
             ],
             [
              0.7777777777777778,
              "#fb9f3a"
             ],
             [
              0.8888888888888888,
              "#fdca26"
             ],
             [
              1,
              "#f0f921"
             ]
            ],
            "type": "heatmap"
           }
          ],
          "heatmapgl": [
           {
            "colorbar": {
             "outlinewidth": 0,
             "ticks": ""
            },
            "colorscale": [
             [
              0,
              "#0d0887"
             ],
             [
              0.1111111111111111,
              "#46039f"
             ],
             [
              0.2222222222222222,
              "#7201a8"
             ],
             [
              0.3333333333333333,
              "#9c179e"
             ],
             [
              0.4444444444444444,
              "#bd3786"
             ],
             [
              0.5555555555555556,
              "#d8576b"
             ],
             [
              0.6666666666666666,
              "#ed7953"
             ],
             [
              0.7777777777777778,
              "#fb9f3a"
             ],
             [
              0.8888888888888888,
              "#fdca26"
             ],
             [
              1,
              "#f0f921"
             ]
            ],
            "type": "heatmapgl"
           }
          ],
          "histogram": [
           {
            "marker": {
             "pattern": {
              "fillmode": "overlay",
              "size": 10,
              "solidity": 0.2
             }
            },
            "type": "histogram"
           }
          ],
          "histogram2d": [
           {
            "colorbar": {
             "outlinewidth": 0,
             "ticks": ""
            },
            "colorscale": [
             [
              0,
              "#0d0887"
             ],
             [
              0.1111111111111111,
              "#46039f"
             ],
             [
              0.2222222222222222,
              "#7201a8"
             ],
             [
              0.3333333333333333,
              "#9c179e"
             ],
             [
              0.4444444444444444,
              "#bd3786"
             ],
             [
              0.5555555555555556,
              "#d8576b"
             ],
             [
              0.6666666666666666,
              "#ed7953"
             ],
             [
              0.7777777777777778,
              "#fb9f3a"
             ],
             [
              0.8888888888888888,
              "#fdca26"
             ],
             [
              1,
              "#f0f921"
             ]
            ],
            "type": "histogram2d"
           }
          ],
          "histogram2dcontour": [
           {
            "colorbar": {
             "outlinewidth": 0,
             "ticks": ""
            },
            "colorscale": [
             [
              0,
              "#0d0887"
             ],
             [
              0.1111111111111111,
              "#46039f"
             ],
             [
              0.2222222222222222,
              "#7201a8"
             ],
             [
              0.3333333333333333,
              "#9c179e"
             ],
             [
              0.4444444444444444,
              "#bd3786"
             ],
             [
              0.5555555555555556,
              "#d8576b"
             ],
             [
              0.6666666666666666,
              "#ed7953"
             ],
             [
              0.7777777777777778,
              "#fb9f3a"
             ],
             [
              0.8888888888888888,
              "#fdca26"
             ],
             [
              1,
              "#f0f921"
             ]
            ],
            "type": "histogram2dcontour"
           }
          ],
          "mesh3d": [
           {
            "colorbar": {
             "outlinewidth": 0,
             "ticks": ""
            },
            "type": "mesh3d"
           }
          ],
          "parcoords": [
           {
            "line": {
             "colorbar": {
              "outlinewidth": 0,
              "ticks": ""
             }
            },
            "type": "parcoords"
           }
          ],
          "pie": [
           {
            "automargin": true,
            "type": "pie"
           }
          ],
          "scatter": [
           {
            "fillpattern": {
             "fillmode": "overlay",
             "size": 10,
             "solidity": 0.2
            },
            "type": "scatter"
           }
          ],
          "scatter3d": [
           {
            "line": {
             "colorbar": {
              "outlinewidth": 0,
              "ticks": ""
             }
            },
            "marker": {
             "colorbar": {
              "outlinewidth": 0,
              "ticks": ""
             }
            },
            "type": "scatter3d"
           }
          ],
          "scattercarpet": [
           {
            "marker": {
             "colorbar": {
              "outlinewidth": 0,
              "ticks": ""
             }
            },
            "type": "scattercarpet"
           }
          ],
          "scattergeo": [
           {
            "marker": {
             "colorbar": {
              "outlinewidth": 0,
              "ticks": ""
             }
            },
            "type": "scattergeo"
           }
          ],
          "scattergl": [
           {
            "marker": {
             "colorbar": {
              "outlinewidth": 0,
              "ticks": ""
             }
            },
            "type": "scattergl"
           }
          ],
          "scattermapbox": [
           {
            "marker": {
             "colorbar": {
              "outlinewidth": 0,
              "ticks": ""
             }
            },
            "type": "scattermapbox"
           }
          ],
          "scatterpolar": [
           {
            "marker": {
             "colorbar": {
              "outlinewidth": 0,
              "ticks": ""
             }
            },
            "type": "scatterpolar"
           }
          ],
          "scatterpolargl": [
           {
            "marker": {
             "colorbar": {
              "outlinewidth": 0,
              "ticks": ""
             }
            },
            "type": "scatterpolargl"
           }
          ],
          "scatterternary": [
           {
            "marker": {
             "colorbar": {
              "outlinewidth": 0,
              "ticks": ""
             }
            },
            "type": "scatterternary"
           }
          ],
          "surface": [
           {
            "colorbar": {
             "outlinewidth": 0,
             "ticks": ""
            },
            "colorscale": [
             [
              0,
              "#0d0887"
             ],
             [
              0.1111111111111111,
              "#46039f"
             ],
             [
              0.2222222222222222,
              "#7201a8"
             ],
             [
              0.3333333333333333,
              "#9c179e"
             ],
             [
              0.4444444444444444,
              "#bd3786"
             ],
             [
              0.5555555555555556,
              "#d8576b"
             ],
             [
              0.6666666666666666,
              "#ed7953"
             ],
             [
              0.7777777777777778,
              "#fb9f3a"
             ],
             [
              0.8888888888888888,
              "#fdca26"
             ],
             [
              1,
              "#f0f921"
             ]
            ],
            "type": "surface"
           }
          ],
          "table": [
           {
            "cells": {
             "fill": {
              "color": "#EBF0F8"
             },
             "line": {
              "color": "white"
             }
            },
            "header": {
             "fill": {
              "color": "#C8D4E3"
             },
             "line": {
              "color": "white"
             }
            },
            "type": "table"
           }
          ]
         },
         "layout": {
          "annotationdefaults": {
           "arrowcolor": "#2a3f5f",
           "arrowhead": 0,
           "arrowwidth": 1
          },
          "autotypenumbers": "strict",
          "coloraxis": {
           "colorbar": {
            "outlinewidth": 0,
            "ticks": ""
           }
          },
          "colorscale": {
           "diverging": [
            [
             0,
             "#8e0152"
            ],
            [
             0.1,
             "#c51b7d"
            ],
            [
             0.2,
             "#de77ae"
            ],
            [
             0.3,
             "#f1b6da"
            ],
            [
             0.4,
             "#fde0ef"
            ],
            [
             0.5,
             "#f7f7f7"
            ],
            [
             0.6,
             "#e6f5d0"
            ],
            [
             0.7,
             "#b8e186"
            ],
            [
             0.8,
             "#7fbc41"
            ],
            [
             0.9,
             "#4d9221"
            ],
            [
             1,
             "#276419"
            ]
           ],
           "sequential": [
            [
             0,
             "#0d0887"
            ],
            [
             0.1111111111111111,
             "#46039f"
            ],
            [
             0.2222222222222222,
             "#7201a8"
            ],
            [
             0.3333333333333333,
             "#9c179e"
            ],
            [
             0.4444444444444444,
             "#bd3786"
            ],
            [
             0.5555555555555556,
             "#d8576b"
            ],
            [
             0.6666666666666666,
             "#ed7953"
            ],
            [
             0.7777777777777778,
             "#fb9f3a"
            ],
            [
             0.8888888888888888,
             "#fdca26"
            ],
            [
             1,
             "#f0f921"
            ]
           ],
           "sequentialminus": [
            [
             0,
             "#0d0887"
            ],
            [
             0.1111111111111111,
             "#46039f"
            ],
            [
             0.2222222222222222,
             "#7201a8"
            ],
            [
             0.3333333333333333,
             "#9c179e"
            ],
            [
             0.4444444444444444,
             "#bd3786"
            ],
            [
             0.5555555555555556,
             "#d8576b"
            ],
            [
             0.6666666666666666,
             "#ed7953"
            ],
            [
             0.7777777777777778,
             "#fb9f3a"
            ],
            [
             0.8888888888888888,
             "#fdca26"
            ],
            [
             1,
             "#f0f921"
            ]
           ]
          },
          "colorway": [
           "#636efa",
           "#EF553B",
           "#00cc96",
           "#ab63fa",
           "#FFA15A",
           "#19d3f3",
           "#FF6692",
           "#B6E880",
           "#FF97FF",
           "#FECB52"
          ],
          "font": {
           "color": "#2a3f5f"
          },
          "geo": {
           "bgcolor": "white",
           "lakecolor": "white",
           "landcolor": "#E5ECF6",
           "showlakes": true,
           "showland": true,
           "subunitcolor": "white"
          },
          "hoverlabel": {
           "align": "left"
          },
          "hovermode": "closest",
          "mapbox": {
           "style": "light"
          },
          "paper_bgcolor": "white",
          "plot_bgcolor": "#E5ECF6",
          "polar": {
           "angularaxis": {
            "gridcolor": "white",
            "linecolor": "white",
            "ticks": ""
           },
           "bgcolor": "#E5ECF6",
           "radialaxis": {
            "gridcolor": "white",
            "linecolor": "white",
            "ticks": ""
           }
          },
          "scene": {
           "xaxis": {
            "backgroundcolor": "#E5ECF6",
            "gridcolor": "white",
            "gridwidth": 2,
            "linecolor": "white",
            "showbackground": true,
            "ticks": "",
            "zerolinecolor": "white"
           },
           "yaxis": {
            "backgroundcolor": "#E5ECF6",
            "gridcolor": "white",
            "gridwidth": 2,
            "linecolor": "white",
            "showbackground": true,
            "ticks": "",
            "zerolinecolor": "white"
           },
           "zaxis": {
            "backgroundcolor": "#E5ECF6",
            "gridcolor": "white",
            "gridwidth": 2,
            "linecolor": "white",
            "showbackground": true,
            "ticks": "",
            "zerolinecolor": "white"
           }
          },
          "shapedefaults": {
           "line": {
            "color": "#2a3f5f"
           }
          },
          "ternary": {
           "aaxis": {
            "gridcolor": "white",
            "linecolor": "white",
            "ticks": ""
           },
           "baxis": {
            "gridcolor": "white",
            "linecolor": "white",
            "ticks": ""
           },
           "bgcolor": "#E5ECF6",
           "caxis": {
            "gridcolor": "white",
            "linecolor": "white",
            "ticks": ""
           }
          },
          "title": {
           "x": 0.05
          },
          "xaxis": {
           "automargin": true,
           "gridcolor": "white",
           "linecolor": "white",
           "ticks": "",
           "title": {
            "standoff": 15
           },
           "zerolinecolor": "white",
           "zerolinewidth": 2
          },
          "yaxis": {
           "automargin": true,
           "gridcolor": "white",
           "linecolor": "white",
           "ticks": "",
           "title": {
            "standoff": 15
           },
           "zerolinecolor": "white",
           "zerolinewidth": 2
          }
         }
        },
        "title": {
         "text": "Tit.: Boxplot PIB"
        },
        "xaxis": {
         "anchor": "y",
         "domain": [
          0,
          1
         ],
         "title": {
          "text": "x"
         }
        },
        "yaxis": {
         "anchor": "x",
         "domain": [
          0,
          1
         ],
         "title": {
          "text": "y"
         }
        }
       }
      }
     },
     "metadata": {},
     "output_type": "display_data"
    }
   ],
   "source": [
    "pib = dfDados[\"VALOREMPENHO\"]\n",
    "x = dfDados[\"MUNICIPIO\"]\n",
    "df = px.data.tips()\n",
    "fig = px.box(df, x= x, y=pib, points=\"all\")\n",
    "fig.update_layout(title_text='Tit.: Boxplot PIB')\n",
    "\n",
    "fig.show()"
   ]
  },
  {
   "cell_type": "code",
   "execution_count": 45,
   "metadata": {},
   "outputs": [
    {
     "data": {
      "image/png": "[encoded data removed]",
      "text/plain": [
       "<Figure size 800x550 with 1 Axes>"
      ]
     },
     "metadata": {},
     "output_type": "display_data"
    },
    {
     "data": {
      "image/png": "[encoded data removed]",
      "text/plain": [
       "<Figure size 800x550 with 1 Axes>"
      ]
     },
     "metadata": {},
     "output_type": "display_data"
    }
   ],
   "source": [
    "\n",
    "plt.hist(dfDados[\"PIB\"], bins = 20)\n",
    "\n",
    "fig, ax = plt.subplots()\n",
    "stats.probplot(dfDados[\"PIB\"], fit = True, plot = ax)\n",
    "plt.show()"
   ]
  }
 ],
 "metadata": {
  "kernelspec": {
   "display_name": "Python 3",
   "language": "python",
   "name": "python3"
  },
  "language_info": {
   "codemirror_mode": {
    "name": "ipython",
    "version": 3
   },
   "file_extension": ".py",
   "mimetype": "text/x-python",
   "name": "python",
   "nbconvert_exporter": "python",
   "pygments_lexer": "ipython3",
   "version": "3.11.0 (main, Oct 24 2022, 18:26:48) [MSC v.1933 64 bit (AMD64)]"
  },
  "orig_nbformat": 4,
  "vscode": {
   "interpreter": {
    "hash": "eaf8a68c62a3b03a7c6ad42a51c04ce54587c9e2f7ba1c64499fd6085a55f6ef"
   }
  }
 },
 "nbformat": 4,
 "nbformat_minor": 2
}
