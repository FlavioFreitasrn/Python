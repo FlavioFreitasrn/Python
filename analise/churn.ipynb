{
 "cells": [
  {
   "cell_type": "markdown",
   "metadata": {},
   "source": [
    "#Analisando o arqquivo Churn.csv"
   ]
  },
  {
   "cell_type": "code",
   "execution_count": 138,
   "metadata": {},
   "outputs": [],
   "source": [
    "#Atualizado 08/12/2022 as 13:40\n",
    "#IMPORTANDO BIBLIOTECAS\n",
    "import pandas as pd\n",
    "import numpy as np\n",
    "import statistics as sts\n",
    "import math as ma #from math import ceil #amostra Sistematica\n",
    "##\n",
    "from scipy import stats\n",
    "#from scipy.stats import norm, skewnorm\n",
    "\n",
    "#IMPORTANDO BIBLIOTECAS  - APRENDIZADO DE MÁQUINA\n",
    "#import sklearn as skl # \n",
    "from sklearn.model_selection import train_test_split\n",
    "\n",
    "#IMPORTANDO BIBLIOTECAS GRAFICAS\n",
    "import plotly.express as px\n",
    "import plotly.figure_factory as ff\n",
    "import seaborn as srn\n",
    "import matplotlib.pyplot as plt"
   ]
  },
  {
   "cell_type": "code",
   "execution_count": 15,
   "metadata": {},
   "outputs": [],
   "source": [
    "#importando e dados \n",
    "arquivo = \"./BaseDeDados/Churn.csv\"\n",
    "dfChurn = pd.read_csv(arquivo,\n",
    "                      sep=\";\")"
   ]
  },
  {
   "cell_type": "markdown",
   "metadata": {},
   "source": [
    "#análise exploratória"
   ]
  },
  {
   "cell_type": "code",
   "execution_count": null,
   "metadata": {},
   "outputs": [],
   "source": [
    "#print(dfChurn)\n",
    "#dfChurn.head()\n",
    "#dfchurn.shape"
   ]
  },
  {
   "cell_type": "code",
   "execution_count": 18,
   "metadata": {},
   "outputs": [],
   "source": [
    "#ALTERANDO NOMENCLATURA DA COLUNAS\n",
    "dfChurn.columns = [\"Id\", \"Score\", \"Estado\", \"Genero\", \"Idade\", \"Patrimonio\", \"Saldo\", \"Produto\",\n",
    "                        \"PossuiCartaoCredito\", \"Ativo\", \"Salario\", \"Saiu\"]\n",
    "#dfChurn.head()"
   ]
  },
  {
   "cell_type": "markdown",
   "metadata": {},
   "source": [
    "#Priorizando colunas categoricas\n",
    "##Coluna Estado"
   ]
  },
  {
   "cell_type": "code",
   "execution_count": 19,
   "metadata": {},
   "outputs": [],
   "source": [
    "#Agrupando registros\n",
    "# estados = dfChurn.groupby([\"Estado\"]).size()\n",
    "# estados"
   ]
  },
  {
   "cell_type": "code",
   "execution_count": 20,
   "metadata": {},
   "outputs": [],
   "source": [
    "#CORRIGINDO NOMENCLATURA DOS ESTADOS - (REGRAS DE NEGOCIO OU DE DIGITAÇÃO)\n",
    "dfChurn.loc[dfChurn[\"Estado\"] == \"RP\", \"Estado\"] = \"PR\"\n",
    "#\n",
    "dfChurn.loc[dfChurn[\"Estado\"].isin([\"SP\", \"TD\"]), \"Estado\" ] = \"RS\""
   ]
  },
  {
   "cell_type": "code",
   "execution_count": null,
   "metadata": {},
   "outputs": [],
   "source": [
    "estados.plot.bar(color = 'blue')"
   ]
  },
  {
   "cell_type": "code",
   "execution_count": 22,
   "metadata": {},
   "outputs": [
    {
     "data": {
      "text/plain": [
       "0"
      ]
     },
     "execution_count": 22,
     "metadata": {},
     "output_type": "execute_result"
    }
   ],
   "source": [
    "#VERIFICO CAMPOS VAZIOS\n",
    "dfChurn[\"Estado\"].isnull().sum()"
   ]
  },
  {
   "cell_type": "markdown",
   "metadata": {},
   "source": [
    "##Coluna Genero"
   ]
  },
  {
   "cell_type": "code",
   "execution_count": null,
   "metadata": {},
   "outputs": [],
   "source": [
    "#Agrupando itens da coluna\n",
    "genero = dfChurn.groupby([\"Genero\"]).size()\n",
    "genero"
   ]
  },
  {
   "cell_type": "code",
   "execution_count": 24,
   "metadata": {},
   "outputs": [
    {
     "data": {
      "text/plain": [
       "8"
      ]
     },
     "execution_count": 24,
     "metadata": {},
     "output_type": "execute_result"
    }
   ],
   "source": [
    "#Verificando campos vazios\n",
    "dfChurn[\"Genero\"].isnull().sum()"
   ]
  },
  {
   "cell_type": "markdown",
   "metadata": {},
   "source": [
    "#Problemas encontrados\n",
    "1- nomenclatura\n",
    "2-campos vazios\n",
    "#Iniciando correção"
   ]
  },
  {
   "cell_type": "code",
   "execution_count": 25,
   "metadata": {},
   "outputs": [],
   "source": [
    "#Alterando o campos NAs para moda \n",
    "dfChurn[\"Genero\"].fillna('Masculino', inplace = True)\n",
    "#Correção de nomenclatura\n",
    "dfChurn.loc[dfChurn[\"Genero\"] == \"M\", \"Genero\"] = \"Masculino\"\n",
    "dfChurn.loc[dfChurn[\"Genero\"].isin([\"Fem\", \"F\"]), \"Genero\" ] = \"Feminino\""
   ]
  },
  {
   "cell_type": "code",
   "execution_count": null,
   "metadata": {},
   "outputs": [],
   "source": [
    "#verifico a correção\n",
    "genero = dfChurn.groupby([\"Genero\"]).size()\n",
    "genero"
   ]
  },
  {
   "cell_type": "code",
   "execution_count": null,
   "metadata": {},
   "outputs": [],
   "source": [
    "genero.plot.bar(color = 'blue')"
   ]
  },
  {
   "cell_type": "markdown",
   "metadata": {},
   "source": [
    "#Iniciando a analise da coluna Patrimonio"
   ]
  },
  {
   "cell_type": "code",
   "execution_count": null,
   "metadata": {},
   "outputs": [],
   "source": [
    "patrimonio = dfChurn.groupby([\"Patrimonio\"]).size()\n",
    "patrimonio"
   ]
  },
  {
   "cell_type": "code",
   "execution_count": 29,
   "metadata": {},
   "outputs": [
    {
     "data": {
      "text/plain": [
       "0"
      ]
     },
     "execution_count": 29,
     "metadata": {},
     "output_type": "execute_result"
    }
   ],
   "source": [
    "#verificando campos NAs\n",
    "dfChurn[\"Patrimonio\"].isnull().sum()"
   ]
  },
  {
   "cell_type": "code",
   "execution_count": null,
   "metadata": {},
   "outputs": [],
   "source": [
    "patrimonio.plot.bar(color = 'blue')"
   ]
  },
  {
   "cell_type": "markdown",
   "metadata": {},
   "source": [
    "#Analisando coluna Produto, PossuiCartaoCredito, Ativo, Saiu\n",
    "##Não foi encontrado erros de nomenclatura e campos NAs"
   ]
  },
  {
   "cell_type": "code",
   "execution_count": null,
   "metadata": {},
   "outputs": [],
   "source": [
    "#verificando campos NAs\n",
    "dfChurn.isnull().sum()\n",
    "#dfChurn[\"Produto\"].isnull().sum()\n",
    "#dfChurn[\"PossuiCartaoCredito\"].isnull().sum()\n",
    "#dfChurn[\"Ativo\"].isnull().sum()\n",
    "#dfChurn[\"Saiu\"].isnull().sum()"
   ]
  },
  {
   "cell_type": "markdown",
   "metadata": {},
   "source": [
    "#Iniciando análise nas colunas numericas\n",
    "\n",
    "#Score\n",
    "#Não foi encontrado anomalia nas informações\n"
   ]
  },
  {
   "cell_type": "code",
   "execution_count": null,
   "metadata": {},
   "outputs": [],
   "source": [
    "#Explorando dados da coluna Score\n",
    "dfChurn[\"Score\"].describe()"
   ]
  },
  {
   "cell_type": "code",
   "execution_count": 33,
   "metadata": {},
   "outputs": [
    {
     "data": {
      "text/plain": [
       "0"
      ]
     },
     "execution_count": 33,
     "metadata": {},
     "output_type": "execute_result"
    }
   ],
   "source": [
    "#verificando campos NAs\n",
    "dfChurn[\"Score\"].isnull().sum()"
   ]
  },
  {
   "cell_type": "code",
   "execution_count": null,
   "metadata": {},
   "outputs": [],
   "source": [
    "srn.boxplot(dfChurn[\"Score\"]).set_title(\"Score\")\n"
   ]
  },
  {
   "cell_type": "code",
   "execution_count": 116,
   "metadata": {},
   "outputs": [
    {
     "data": {
      "text/plain": [
       "<seaborn.axisgrid.FacetGrid at 0xf278564590>"
      ]
     },
     "execution_count": 116,
     "metadata": {},
     "output_type": "execute_result"
    },
    {
     "data": {
      "image/png": "[encoded data removed]",
      "text/plain": [
       "<Figure size 640x480 with 1 Axes>"
      ]
     },
     "metadata": {},
     "output_type": "display_data"
    },
    {
     "data": {
      "image/png": "[encoded data removed]",
      "text/plain": [
       "<Figure size 500x500 with 1 Axes>"
      ]
     },
     "metadata": {},
     "output_type": "display_data"
    }
   ],
   "source": [
    "srn.histplot(dfChurn['Score']).set_title('Score')\n",
    "\n",
    "srn.displot(data=dfChurn, x= \"Score\", kde=True)"
   ]
  },
  {
   "cell_type": "markdown",
   "metadata": {},
   "source": [
    "#Iniciando análise na coluna Idade"
   ]
  },
  {
   "cell_type": "code",
   "execution_count": null,
   "metadata": {},
   "outputs": [],
   "source": [
    "dfChurn[\"Idade\"].describe()"
   ]
  },
  {
   "cell_type": "code",
   "execution_count": 37,
   "metadata": {},
   "outputs": [
    {
     "data": {
      "text/plain": [
       "0"
      ]
     },
     "execution_count": 37,
     "metadata": {},
     "output_type": "execute_result"
    }
   ],
   "source": [
    "#verificando campos NAs\n",
    "dfChurn[\"Idade\"].isnull().sum()"
   ]
  },
  {
   "cell_type": "markdown",
   "metadata": {},
   "source": [
    "#Foi encontrado encontrado idade fora do contexto da analise\n",
    "Idade  negativa e maior que 120 anos"
   ]
  },
  {
   "cell_type": "code",
   "execution_count": 38,
   "metadata": {},
   "outputs": [],
   "source": [
    "#Iniciando a correção\n",
    "#Realizando a alteração dos campos com a mediana\n",
    "medianaIdade = sts.median(dfChurn[\"Idade\"])\n",
    "dfChurn.loc[(dfChurn[\"Idade\"] < 0) | (dfChurn[\"Idade\"] > 120), \"Idade\"] = medianaIdade"
   ]
  },
  {
   "cell_type": "code",
   "execution_count": null,
   "metadata": {},
   "outputs": [],
   "source": [
    "#GRAFICO BOXPLOT\n",
    "srn.boxplot(dfChurn[\"Idade\"]).set_title(\"Idade\")"
   ]
  },
  {
   "cell_type": "code",
   "execution_count": null,
   "metadata": {},
   "outputs": [],
   "source": [
    "#srn.histplot(dfchurm['Idade']).set_title('Idade')\n",
    "srn.displot(data=dfChurn, x= \"Idade\", kde=True)"
   ]
  },
  {
   "cell_type": "markdown",
   "metadata": {},
   "source": [
    "#Iniciando a analise da coluna Saldo\n",
    "##ão foi encontrado problema"
   ]
  },
  {
   "cell_type": "code",
   "execution_count": null,
   "metadata": {},
   "outputs": [],
   "source": [
    "#dfChurn.head()\n",
    "dfChurn[\"Saldo\"].describe()"
   ]
  },
  {
   "cell_type": "code",
   "execution_count": 42,
   "metadata": {},
   "outputs": [
    {
     "data": {
      "text/plain": [
       "0"
      ]
     },
     "execution_count": 42,
     "metadata": {},
     "output_type": "execute_result"
    }
   ],
   "source": [
    "#verificando campos NAs\n",
    "dfChurn[\"Saldo\"].isnull().sum()"
   ]
  },
  {
   "cell_type": "markdown",
   "metadata": {},
   "source": [
    "#Analisando coluna Salario"
   ]
  },
  {
   "cell_type": "code",
   "execution_count": null,
   "metadata": {},
   "outputs": [],
   "source": [
    "dfChurn[\"Salario\"].describe()"
   ]
  },
  {
   "cell_type": "code",
   "execution_count": null,
   "metadata": {},
   "outputs": [],
   "source": [
    "#verificando campos NAs\n",
    "dfChurn[\"Salario\"].isnull().sum()"
   ]
  },
  {
   "cell_type": "markdown",
   "metadata": {},
   "source": [
    "Tratamento do campo salario Nans"
   ]
  },
  {
   "cell_type": "code",
   "execution_count": 45,
   "metadata": {},
   "outputs": [],
   "source": [
    "medianaSalario = sts.median(dfChurn[\"Salario\"])\n",
    "dfChurn[\"Salario\"].fillna(medianaSalario, inplace = True)"
   ]
  },
  {
   "cell_type": "code",
   "execution_count": 46,
   "metadata": {},
   "outputs": [
    {
     "data": {
      "text/plain": [
       "0"
      ]
     },
     "execution_count": 46,
     "metadata": {},
     "output_type": "execute_result"
    }
   ],
   "source": [
    "dfChurn[\"Salario\"].isnull().sum()"
   ]
  },
  {
   "cell_type": "markdown",
   "metadata": {},
   "source": [
    "#FIM DA ANALISE"
   ]
  },
  {
   "cell_type": "markdown",
   "metadata": {},
   "source": [
    "#INICIANDO CRIAÇÃO DOS GRAFICOS"
   ]
  },
  {
   "cell_type": "code",
   "execution_count": null,
   "metadata": {},
   "outputs": [],
   "source": [
    "#GRAFICO BOXPLOT\n",
    "idade = dfChurn[\"Idade\"]\n",
    "x = dfChurn[\"Genero\"]\n",
    "df = px.data.tips()\n",
    "fig = px.box(df, x= x, y=idade, points=\"all\")\n",
    "fig.update_layout(title_text='Tit.: Boxplot Idade')\n",
    "\n",
    "fig.show()"
   ]
  },
  {
   "cell_type": "code",
   "execution_count": null,
   "metadata": {},
   "outputs": [],
   "source": [
    "from plotly.figure_factory import create_distplot\n",
    "hist_data = [dfChurn[\"Idade\"]] \n",
    "group_labels = ['Idade']\n",
    "show_rug=True \n",
    "curve_type = \"normal\"\n",
    "bin_size = 1\n",
    "fig = create_distplot(hist_data, group_labels, show_rug=show_rug, curve_type =curve_type ,bin_size=bin_size)\n",
    "# Add title\n",
    "fig.update_layout(title_text='Tit.: Hist. Idade')\n",
    "fig.show()"
   ]
  },
  {
   "cell_type": "code",
   "execution_count": null,
   "metadata": {},
   "outputs": [],
   "source": [
    "srn.displot(data= dfChurn, x= \"Saldo\", kde=True)"
   ]
  },
  {
   "cell_type": "code",
   "execution_count": null,
   "metadata": {},
   "outputs": [],
   "source": [
    "#amostra do histograma\n",
    "from plotly.figure_factory import create_distplot\n",
    "hist_data = [dfChurn[\"Idade\"]] #Use list of lists to plot multiple data sets on the same plot\n",
    "group_labels = ['Idade'] #Names for each data set\n",
    "bin_size = 1 #Size of histogram bins. Default = 1\n",
    "curve_type = \"normal\" #‘kde’ or ‘normal’. Default = ‘kde’\n",
    "show_rug=True #Add rug to distplot? Default = True\n",
    "#colors = ['#333F44']\n",
    "#show_curve = True #Add curve to distplot? Default = True\n",
    "# histnorm ((str)) – ‘probability density’ or ‘probability’ Default = ‘probability density’\n",
    "# show_hist ((bool)) – Add histogram to distplot? Default = True\n",
    "# show_rug ((bool)) – Add rug to distplot? Default = True\n",
    "# colors ((list[str])) – Colors for traces.\n",
    "# rug_text ((list[list])) – Hovertext values for rug_plot,\n",
    "fig = create_distplot(hist_data, group_labels,show_rug=show_rug, curve_type =curve_type ,bin_size=bin_size)\n",
    "# Add title\n",
    "fig.update_layout(title_text='Tit.: Idade')\n",
    "fig.show()\n",
    "\n",
    "\n"
   ]
  },
  {
   "cell_type": "code",
   "execution_count": null,
   "metadata": {},
   "outputs": [],
   "source": [
    "#dados duplicados, buscamos pelo ID\n",
    "dfChurn[dfChurn.duplicated(['Id'],keep=False)]"
   ]
  },
  {
   "cell_type": "code",
   "execution_count": 52,
   "metadata": {},
   "outputs": [],
   "source": [
    "#excluimso pelo ID\n",
    "dfChurn.drop_duplicates(subset=\"Id\", keep='first',inplace=True)"
   ]
  },
  {
   "cell_type": "markdown",
   "metadata": {},
   "source": [
    "##CRIANDO AMOSTRAS SIMPLES E EXTRATIFICADAS"
   ]
  },
  {
   "cell_type": "code",
   "execution_count": 58,
   "metadata": {},
   "outputs": [
    {
     "data": {
      "text/plain": [
       "(998, 12)"
      ]
     },
     "execution_count": 58,
     "metadata": {},
     "output_type": "execute_result"
    }
   ],
   "source": [
    "dfChurnTratado  = dfChurn\n",
    "dfChurnTratado.head()\n",
    "dfChurnTratado.shape #(998, 12)"
   ]
  },
  {
   "cell_type": "code",
   "execution_count": null,
   "metadata": {},
   "outputs": [],
   "source": [
    "#GERANDO AMOSTRAS SIMPLES"
   ]
  },
  {
   "cell_type": "code",
   "execution_count": 67,
   "metadata": {},
   "outputs": [],
   "source": [
    "#PLANTANDO UM SEMENTE PARA REPLICAÇAO FUTURA DA ALETORIEDADE DA AMOSTRA\n",
    "np.random.seed(2345)\n",
    "#Contendo (998) amostras de 0 a 1, com reposição e propabilidade equivalente\n",
    "aleatoriedadeSimples = np.random.choice(  a = [0,1],\n",
    "                                    size = 998,\n",
    "                                    replace = True,\n",
    "                                    p = [0.7, 0.3]\n",
    "                                )"
   ]
  },
  {
   "cell_type": "code",
   "execution_count": 68,
   "metadata": {},
   "outputs": [
    {
     "data": {
      "text/plain": [
       "(998,)"
      ]
     },
     "execution_count": 68,
     "metadata": {},
     "output_type": "execute_result"
    }
   ],
   "source": [
    "#Checando modelo de aletoriedade para amostra\n",
    "aleatoriedadeSimples.shape #((998,))\n",
    "#amostraSimples"
   ]
  },
  {
   "cell_type": "code",
   "execution_count": 72,
   "metadata": {},
   "outputs": [
    {
     "data": {
      "text/plain": [
       "(302, 12)"
      ]
     },
     "execution_count": 72,
     "metadata": {},
     "output_type": "execute_result"
    }
   ],
   "source": [
    "#Gerando amostra \n",
    "#AmostraSimples= dfChurnTratado.loc[ aleatoriedadeSimples ==0] \n",
    "#AmostraSimples.shape\n",
    "AmostraSimples= dfChurnTratado.loc[ aleatoriedadeSimples ==1] \n",
    "AmostraSimples.shape"
   ]
  },
  {
   "cell_type": "code",
   "execution_count": 76,
   "metadata": {},
   "outputs": [
    {
     "data": {
      "text/plain": [
       "Index(['Id', 'Score', 'Estado', 'Genero', 'Idade', 'Patrimonio', 'Saldo',\n",
       "       'Produto', 'PossuiCartaoCredito', 'Ativo', 'Salario', 'Saiu'],\n",
       "      dtype='object')"
      ]
     },
     "execution_count": 76,
     "metadata": {},
     "output_type": "execute_result"
    }
   ],
   "source": [
    "#dfChurnTratado.head()\n",
    "dfChurnTratado.columns"
   ]
  },
  {
   "cell_type": "code",
   "execution_count": 94,
   "metadata": {},
   "outputs": [],
   "source": [
    "#Gerando amostra extratificada coluna Estado\n",
    "#dfChurnTratado.head()\n",
    "\n",
    "x, _, y, _ = train_test_split(dfChurnTratado.iloc[:, 1:12],\n",
    "                               dfChurnTratado.iloc[:,2],\n",
    "                               test_size= 0.7,\n",
    "                               stratify= dfChurnTratado.iloc[:,2])"
   ]
  },
  {
   "cell_type": "code",
   "execution_count": null,
   "metadata": {},
   "outputs": [],
   "source": [
    "y"
   ]
  },
  {
   "cell_type": "code",
   "execution_count": 98,
   "metadata": {},
   "outputs": [
    {
     "data": {
      "text/html": [
       "<div>\n",
       "<style scoped>\n",
       "    .dataframe tbody tr th:only-of-type {\n",
       "        vertical-align: middle;\n",
       "    }\n",
       "\n",
       "    .dataframe tbody tr th {\n",
       "        vertical-align: top;\n",
       "    }\n",
       "\n",
       "    .dataframe thead th {\n",
       "        text-align: right;\n",
       "    }\n",
       "</style>\n",
       "<table border=\"1\" class=\"dataframe\">\n",
       "  <thead>\n",
       "    <tr style=\"text-align: right;\">\n",
       "      <th></th>\n",
       "      <th>Score</th>\n",
       "      <th>Estado</th>\n",
       "      <th>Genero</th>\n",
       "      <th>Idade</th>\n",
       "      <th>Patrimonio</th>\n",
       "      <th>Saldo</th>\n",
       "      <th>Produto</th>\n",
       "      <th>PossuiCartaoCredito</th>\n",
       "      <th>Ativo</th>\n",
       "      <th>Salario</th>\n",
       "      <th>Saiu</th>\n",
       "    </tr>\n",
       "  </thead>\n",
       "  <tbody>\n",
       "    <tr>\n",
       "      <th>476</th>\n",
       "      <td>605</td>\n",
       "      <td>PR</td>\n",
       "      <td>Feminino</td>\n",
       "      <td>31</td>\n",
       "      <td>1</td>\n",
       "      <td>11799259</td>\n",
       "      <td>1</td>\n",
       "      <td>1</td>\n",
       "      <td>1</td>\n",
       "      <td>18359877.0</td>\n",
       "      <td>0</td>\n",
       "    </tr>\n",
       "    <tr>\n",
       "      <th>59</th>\n",
       "      <td>614</td>\n",
       "      <td>RS</td>\n",
       "      <td>Masculino</td>\n",
       "      <td>51</td>\n",
       "      <td>4</td>\n",
       "      <td>4068592</td>\n",
       "      <td>1</td>\n",
       "      <td>1</td>\n",
       "      <td>1</td>\n",
       "      <td>4677528.0</td>\n",
       "      <td>0</td>\n",
       "    </tr>\n",
       "    <tr>\n",
       "      <th>327</th>\n",
       "      <td>644</td>\n",
       "      <td>RS</td>\n",
       "      <td>Feminino</td>\n",
       "      <td>46</td>\n",
       "      <td>9</td>\n",
       "      <td>9544127</td>\n",
       "      <td>1</td>\n",
       "      <td>1</td>\n",
       "      <td>0</td>\n",
       "      <td>10876105.0</td>\n",
       "      <td>1</td>\n",
       "    </tr>\n",
       "    <tr>\n",
       "      <th>156</th>\n",
       "      <td>758</td>\n",
       "      <td>RS</td>\n",
       "      <td>Feminino</td>\n",
       "      <td>33</td>\n",
       "      <td>7</td>\n",
       "      <td>0</td>\n",
       "      <td>2</td>\n",
       "      <td>0</td>\n",
       "      <td>0</td>\n",
       "      <td>8299647.0</td>\n",
       "      <td>0</td>\n",
       "    </tr>\n",
       "    <tr>\n",
       "      <th>502</th>\n",
       "      <td>774</td>\n",
       "      <td>RS</td>\n",
       "      <td>Masculino</td>\n",
       "      <td>60</td>\n",
       "      <td>5</td>\n",
       "      <td>8589155</td>\n",
       "      <td>1</td>\n",
       "      <td>1</td>\n",
       "      <td>0</td>\n",
       "      <td>7413548.0</td>\n",
       "      <td>1</td>\n",
       "    </tr>\n",
       "    <tr>\n",
       "      <th>...</th>\n",
       "      <td>...</td>\n",
       "      <td>...</td>\n",
       "      <td>...</td>\n",
       "      <td>...</td>\n",
       "      <td>...</td>\n",
       "      <td>...</td>\n",
       "      <td>...</td>\n",
       "      <td>...</td>\n",
       "      <td>...</td>\n",
       "      <td>...</td>\n",
       "      <td>...</td>\n",
       "    </tr>\n",
       "    <tr>\n",
       "      <th>517</th>\n",
       "      <td>779</td>\n",
       "      <td>PR</td>\n",
       "      <td>Masculino</td>\n",
       "      <td>37</td>\n",
       "      <td>7</td>\n",
       "      <td>12009252</td>\n",
       "      <td>2</td>\n",
       "      <td>1</td>\n",
       "      <td>0</td>\n",
       "      <td>13592572.0</td>\n",
       "      <td>0</td>\n",
       "    </tr>\n",
       "    <tr>\n",
       "      <th>44</th>\n",
       "      <td>660</td>\n",
       "      <td>SC</td>\n",
       "      <td>Feminino</td>\n",
       "      <td>61</td>\n",
       "      <td>5</td>\n",
       "      <td>15593111</td>\n",
       "      <td>1</td>\n",
       "      <td>1</td>\n",
       "      <td>1</td>\n",
       "      <td>15833839.0</td>\n",
       "      <td>0</td>\n",
       "    </tr>\n",
       "    <tr>\n",
       "      <th>944</th>\n",
       "      <td>745</td>\n",
       "      <td>RS</td>\n",
       "      <td>Masculino</td>\n",
       "      <td>36</td>\n",
       "      <td>8</td>\n",
       "      <td>6722637</td>\n",
       "      <td>1</td>\n",
       "      <td>1</td>\n",
       "      <td>0</td>\n",
       "      <td>1307896.0</td>\n",
       "      <td>0</td>\n",
       "    </tr>\n",
       "    <tr>\n",
       "      <th>234</th>\n",
       "      <td>585</td>\n",
       "      <td>RS</td>\n",
       "      <td>Feminino</td>\n",
       "      <td>67</td>\n",
       "      <td>5</td>\n",
       "      <td>11397897</td>\n",
       "      <td>2</td>\n",
       "      <td>0</td>\n",
       "      <td>1</td>\n",
       "      <td>9314611.0</td>\n",
       "      <td>0</td>\n",
       "    </tr>\n",
       "    <tr>\n",
       "      <th>177</th>\n",
       "      <td>606</td>\n",
       "      <td>PR</td>\n",
       "      <td>Masculino</td>\n",
       "      <td>36</td>\n",
       "      <td>5</td>\n",
       "      <td>19047948</td>\n",
       "      <td>2</td>\n",
       "      <td>0</td>\n",
       "      <td>0</td>\n",
       "      <td>17935189.0</td>\n",
       "      <td>0</td>\n",
       "    </tr>\n",
       "  </tbody>\n",
       "</table>\n",
       "<p>299 rows × 11 columns</p>\n",
       "</div>"
      ],
      "text/plain": [
       "     Score Estado     Genero  Idade  Patrimonio     Saldo  Produto  \\\n",
       "476    605     PR   Feminino     31           1  11799259        1   \n",
       "59     614     RS  Masculino     51           4   4068592        1   \n",
       "327    644     RS   Feminino     46           9   9544127        1   \n",
       "156    758     RS   Feminino     33           7         0        2   \n",
       "502    774     RS  Masculino     60           5   8589155        1   \n",
       "..     ...    ...        ...    ...         ...       ...      ...   \n",
       "517    779     PR  Masculino     37           7  12009252        2   \n",
       "44     660     SC   Feminino     61           5  15593111        1   \n",
       "944    745     RS  Masculino     36           8   6722637        1   \n",
       "234    585     RS   Feminino     67           5  11397897        2   \n",
       "177    606     PR  Masculino     36           5  19047948        2   \n",
       "\n",
       "     PossuiCartaoCredito  Ativo     Salario  Saiu  \n",
       "476                    1      1  18359877.0     0  \n",
       "59                     1      1   4677528.0     0  \n",
       "327                    1      0  10876105.0     1  \n",
       "156                    0      0   8299647.0     0  \n",
       "502                    1      0   7413548.0     1  \n",
       "..                   ...    ...         ...   ...  \n",
       "517                    1      0  13592572.0     0  \n",
       "44                     1      1  15833839.0     0  \n",
       "944                    1      0   1307896.0     0  \n",
       "234                    0      1   9314611.0     0  \n",
       "177                    0      0  17935189.0     0  \n",
       "\n",
       "[299 rows x 11 columns]"
      ]
     },
     "execution_count": 98,
     "metadata": {},
     "output_type": "execute_result"
    }
   ],
   "source": [
    "x"
   ]
  },
  {
   "cell_type": "code",
   "execution_count": 102,
   "metadata": {},
   "outputs": [
    {
     "name": "stdout",
     "output_type": "stream",
     "text": [
      "Media:  39.12709030100334  | STD:  11.283290872552968\n"
     ]
    }
   ],
   "source": [
    "#Media e desvio padrao\n",
    "media = np.mean(x[\"Idade\"])\n",
    "media\n",
    "quartil= np.quantile(x[\"Idade\"], [0,0.25,0.5,0.75,1])\n",
    "desvioP = np.std(x[\"Idade\"], ddof = 1)\n",
    "desvioP\n",
    "print(\"Media: \", media, \" | STD: \", desvioP)\n",
    "#print(stats.describe(x[\"Idade\"]))"
   ]
  },
  {
   "cell_type": "code",
   "execution_count": 108,
   "metadata": {},
   "outputs": [
    {
     "data": {
      "text/plain": [
       "0.790714591230574"
      ]
     },
     "execution_count": 108,
     "metadata": {},
     "output_type": "execute_result"
    }
   ],
   "source": [
    "#Calculado a maior probabilidade de Tirar um pesso com mais de 30 anos\n",
    "stats.norm.cdf(30,media,desvioP)\n",
    "#Calculado a menor probabilidade de Tirar um pesso com mais de 30 anos\n",
    "stats.norm.sf(30, media, desvioP) # calculo: 1 - stats.norm.cdf(30,media,desvioP)"
   ]
  },
  {
   "cell_type": "code",
   "execution_count": null,
   "metadata": {},
   "outputs": [],
   "source": [
    "#Teste de normalidade\n",
    "plt.hist(x[\"Idade\"], bins=20)"
   ]
  },
  {
   "cell_type": "code",
   "execution_count": null,
   "metadata": {},
   "outputs": [],
   "source": [
    "from plotly.figure_factory import create_distplot\n",
    "hist_data = [x[\"Idade\"]] \n",
    "group_labels = ['Idade']\n",
    "show_rug=True \n",
    "curve_type = \"normal\"\n",
    "bin_size = 3\n",
    "fig = create_distplot(hist_data, group_labels, show_rug=show_rug, curve_type =curve_type ,bin_size=bin_size)\n",
    "# Add title\n",
    "fig.update_layout(title_text='Tit.: Hist. Idade')\n",
    "fig.show()"
   ]
  },
  {
   "cell_type": "code",
   "execution_count": null,
   "metadata": {},
   "outputs": [],
   "source": [
    "x.head()"
   ]
  },
  {
   "cell_type": "code",
   "execution_count": null,
   "metadata": {},
   "outputs": [],
   "source": [
    "#stats.shapiro(x[\"Score\"]) #pvalue=0.03915928676724434\n",
    "#stats.shapiro(x[\"Idade\"]) #pvalue=3.3485045292103166e-10\n",
    "#stats.shapiro(x[\"Salario\"])\n",
    "stats.anderson(x[\"Salario\"])"
   ]
  },
  {
   "cell_type": "code",
   "execution_count": null,
   "metadata": {},
   "outputs": [],
   "source": [
    "fig, ax = plt.subplots()\n",
    "stats.probplot(x[\"Idade\"], fit = True, plot = ax)\n",
    "plt.show()"
   ]
  },
  {
   "cell_type": "code",
   "execution_count": null,
   "metadata": {},
   "outputs": [],
   "source": [
    "x.head()\n",
    "fig, ax = plt.subplots()\n",
    "stats.probplot(x[\"Score\"], fit = True, plot = ax)\n",
    "plt.show()"
   ]
  }
 ],
 "metadata": {
  "kernelspec": {
   "display_name": "Python 3.11.0 64-bit",
   "language": "python",
   "name": "python3"
  },
  "language_info": {
   "codemirror_mode": {
    "name": "ipython",
    "version": 3
   },
   "file_extension": ".py",
   "mimetype": "text/x-python",
   "name": "python",
   "nbconvert_exporter": "python",
   "pygments_lexer": "ipython3",
   "version": "3.11.0 (main, Oct 24 2022, 18:26:48) [MSC v.1933 64 bit (AMD64)]"
  },
  "orig_nbformat": 4,
  "vscode": {
   "interpreter": {
    "hash": "eaf8a68c62a3b03a7c6ad42a51c04ce54587c9e2f7ba1c64499fd6085a55f6ef"
   }
  }
 },
 "nbformat": 4,
 "nbformat_minor": 2
}
