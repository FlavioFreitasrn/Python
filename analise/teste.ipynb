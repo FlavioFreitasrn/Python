{
 "cells": [
  {
   "cell_type": "code",
   "execution_count": null,
   "metadata": {},
   "outputs": [],
   "source": [
    "#media = np.mean(x[\"age\"])\n",
    "#quartil= np.quantile(x[\"age\"], [0,0.25,0.5,0.75,1])\n",
    "desvioP = np.std(x[\"age\"], ddof = 1)\n",
    "desvioP\n",
    "print(stats.describe(x[\"age\"]))"
   ]
  }
 ],
 "metadata": {
  "kernelspec": {
   "display_name": "Python 3.11.0 64-bit",
   "language": "python",
   "name": "python3"
  },
  "language_info": {
   "name": "python",
   "version": "3.11.0"
  },
  "orig_nbformat": 4,
  "vscode": {
   "interpreter": {
    "hash": "eaf8a68c62a3b03a7c6ad42a51c04ce54587c9e2f7ba1c64499fd6085a55f6ef"
   }
  }
 },
 "nbformat": 4,
 "nbformat_minor": 2
}
