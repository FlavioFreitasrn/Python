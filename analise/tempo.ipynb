{
 "cells": [
  {
   "cell_type": "markdown",
   "metadata": {},
   "source": [
    "#ANALISANDO O ARQUIVO  - \"tempo.csv\"\n",
    "\n",
    "##Instruções para analise\n",
    "\n",
    "-Tratar dados: \"tempo.csv\"\n",
    "-Aparência:  \"sol, nublado, chuva\"\n",
    "- Temperatura: \"-135 ~ 130 F\"\n",
    "- Umidade: \"0 ~ 100\"\n",
    "- Jogar: \"sim/nao\"\n",
    "- Tratar valores: \"NAs\""
   ]
  },
  {
   "cell_type": "code",
   "execution_count": 14,
   "metadata": {},
   "outputs": [],
   "source": [
    "#IMPORTANDO BIBLIOTECAS\n",
    "import pandas as pd\n",
    "import numpy as np\n",
    "import statistics as sts\n",
    "import math as ma #from math import ceil #amostra Sistematica\n",
    "\n",
    "#IMPORTANDO BIBLIOTECAS  - APRENDIZADO DE MÁQUINA\n",
    "#import sklearn as skl # \n",
    "from sklearn.model_selection import train_test_split\n",
    "\n",
    "#IMPORTANDO BIBLIOTECAS GRAFICAS\n",
    "import plotly.express as px\n",
    "import plotly.figure_factory as ff\n",
    "import seaborn as srn\n",
    "\n",
    "\n",
    "\n"
   ]
  },
  {
   "cell_type": "code",
   "execution_count": null,
   "metadata": {},
   "outputs": [],
   "source": [
    "#importando e dados \n",
    "arquivo = \"./BaseDeDados/tempo.csv\"\n",
    "dfTempo = pd.read_csv(arquivo, sep=\";\")\n",
    "print(dfTempo)"
   ]
  },
  {
   "cell_type": "code",
   "execution_count": null,
   "metadata": {},
   "outputs": [],
   "source": [
    "#Verificando colunas com valores NAs\n",
    "dfTempo.isnull().sum()\n"
   ]
  },
  {
   "cell_type": "code",
   "execution_count": 17,
   "metadata": {},
   "outputs": [],
   "source": [
    "#Verificar dupllicidade de registros, pelo ID\n",
    "#dfTempo[dfTempo.duplicated([\"ID\"],keep=False)] ---> não possui coluna de registro unico"
   ]
  },
  {
   "cell_type": "markdown",
   "metadata": {},
   "source": [
    "- FORAM ENCONTRADOS VALORES NAs nas colunas Umidade e Vento\n",
    "\n",
    "#Iniciando a análise.\n",
    " - Aparência:  \n",
    " \"sol, nublado, chuva\""
   ]
  },
  {
   "cell_type": "code",
   "execution_count": null,
   "metadata": {},
   "outputs": [],
   "source": [
    "aparencia = dfTempo.groupby(dfTempo[\"Aparencia\"]).size()\n",
    "aparencia"
   ]
  },
  {
   "cell_type": "code",
   "execution_count": null,
   "metadata": {},
   "outputs": [],
   "source": [
    "aparencia.plot.bar(x=\"Aparencia\")"
   ]
  },
  {
   "cell_type": "code",
   "execution_count": 20,
   "metadata": {},
   "outputs": [],
   "source": [
    "# Iniciando a correção \n",
    "#Substituindo o valor pela medida de MODA\n",
    "modaAparencia = sts.mode(dfTempo[\"Aparencia\"])\n",
    "#print(modaAparencia)\n",
    "dfTempo.loc[dfTempo[\"Aparencia\"] == \"menos\", \"Aparencia\"] = modaAparencia"
   ]
  },
  {
   "cell_type": "code",
   "execution_count": null,
   "metadata": {},
   "outputs": [],
   "source": [
    "aparencia = dfTempo.groupby(dfTempo[\"Aparencia\"]).size()\n",
    "aparencia.plot.bar(x=\"Aparencia\")"
   ]
  },
  {
   "cell_type": "markdown",
   "metadata": {},
   "source": [
    "Analisando coluna Vento"
   ]
  },
  {
   "cell_type": "code",
   "execution_count": null,
   "metadata": {},
   "outputs": [],
   "source": [
    "dfTempo.head()"
   ]
  },
  {
   "cell_type": "code",
   "execution_count": null,
   "metadata": {},
   "outputs": [],
   "source": [
    "vento = dfTempo.groupby(dfTempo[\"Vento\"]).size()\n",
    "vento"
   ]
  },
  {
   "cell_type": "code",
   "execution_count": null,
   "metadata": {},
   "outputs": [],
   "source": [
    "vento.plot.bar(x=\"Vento\")"
   ]
  },
  {
   "cell_type": "code",
   "execution_count": null,
   "metadata": {},
   "outputs": [],
   "source": [
    "#Tratando valores NAs de vento\n",
    "dfTempo[\"Vento\"].isnull().sum()"
   ]
  },
  {
   "cell_type": "code",
   "execution_count": 26,
   "metadata": {},
   "outputs": [],
   "source": [
    "modaVento = sts.mode(dfTempo[\"Vento\"])\n",
    "modaVento\n",
    "dfTempo['Vento'].fillna(modaVento, inplace=True)"
   ]
  },
  {
   "cell_type": "markdown",
   "metadata": {},
   "source": [
    "#Analisando  - Temperatura\n",
    "- Temperatura: \"-135 ~ 130 F\""
   ]
  },
  {
   "cell_type": "code",
   "execution_count": null,
   "metadata": {},
   "outputs": [],
   "source": [
    "dfTempo[\"Temperatura\"].describe()"
   ]
  },
  {
   "cell_type": "markdown",
   "metadata": {},
   "source": [
    "#Poderemos aplicar duas soluções \n",
    "1- Aplicar a substituir os valores NAs pela mediana \n",
    "ou\n",
    "2- Gerar um novo dataset excluindo o acima do limite estabelecido e gerar um nova mediana e com esta mediana\n",
    "substituir no dataset original\n"
   ]
  },
  {
   "cell_type": "code",
   "execution_count": 28,
   "metadata": {},
   "outputs": [],
   "source": [
    "#Alterando valores fora dos limites pela medida de MEDIANA \n",
    "#medianaTemperatura = sts.median(dfTempo[\"Temperatura\"])\n",
    "#print(medianaTemperatura)\n",
    "#dfTempo.loc[(dfTempo[\"Temperatura\"]<-135) |( dfTempo[\"Temperatura\"]>130)] = medianaTemperatura\n"
   ]
  },
  {
   "cell_type": "code",
   "execution_count": 29,
   "metadata": {},
   "outputs": [],
   "source": [
    "nova = pd.DataFrame(dfTempo[(dfTempo[\"Temperatura\"]>-135) |( dfTempo[\"Temperatura\"]<130)])\n",
    "novamediana = sts.median(nova[\"Temperatura\"])\n",
    "novamediana\n",
    "dfTempo.loc[(dfTempo[\"Temperatura\"]<-135) |( dfTempo[\"Temperatura\"]>130), \"Temperatura\"] = novamediana"
   ]
  },
  {
   "cell_type": "code",
   "execution_count": null,
   "metadata": {},
   "outputs": [],
   "source": [
    "srn.boxplot(dfTempo[\"Temperatura\"]).set_title(\"Temperatura\")"
   ]
  },
  {
   "cell_type": "markdown",
   "metadata": {},
   "source": [
    "#Iniciando analise da coluna Umidade\n",
    "-Umidade: \"0 ~ 100\"\n",
    "-Tratar valores NAs"
   ]
  },
  {
   "cell_type": "code",
   "execution_count": null,
   "metadata": {},
   "outputs": [],
   "source": [
    "dfTempo[\"Umidade\"].describe()"
   ]
  },
  {
   "cell_type": "code",
   "execution_count": 32,
   "metadata": {},
   "outputs": [],
   "source": [
    "medianaUmidade = sts.median(dfTempo[\"Umidade\"])\n",
    "#medianaUmidade\n",
    "dfTempo.loc[(dfTempo[\"Umidade\"]<0) |(dfTempo[\"Umidade\"]>100) | (dfTempo[\"Umidade\"].isnull()), \"Umidade\"] = medianaUmidade"
   ]
  },
  {
   "cell_type": "code",
   "execution_count": null,
   "metadata": {},
   "outputs": [],
   "source": [
    "dfTempo.loc[dfTempo[\"Umidade\"].isnull()] "
   ]
  },
  {
   "cell_type": "code",
   "execution_count": null,
   "metadata": {},
   "outputs": [],
   "source": [
    "srn.boxplot(dfTempo[\"Umidade\"])"
   ]
  },
  {
   "cell_type": "code",
   "execution_count": null,
   "metadata": {},
   "outputs": [],
   "source": [
    "dfTempo[\"Vento\"].head()"
   ]
  },
  {
   "cell_type": "markdown",
   "metadata": {},
   "source": [
    "#Analisando coluna Jogar"
   ]
  },
  {
   "cell_type": "code",
   "execution_count": null,
   "metadata": {},
   "outputs": [],
   "source": [
    "#dfTempo[\"Jogar\"].head\n",
    "jogar = dfTempo.groupby(dfTempo[\"Jogar\"]).size()\n",
    "jogar"
   ]
  },
  {
   "cell_type": "code",
   "execution_count": null,
   "metadata": {},
   "outputs": [],
   "source": [
    "#Verificando colunas com valores NAs\n",
    "dfTempo.isnull().sum()"
   ]
  },
  {
   "cell_type": "markdown",
   "metadata": {},
   "source": [
    "#FIM DA ANÁLISE"
   ]
  },
  {
   "cell_type": "markdown",
   "metadata": {},
   "source": [
    "#Gerando amostra simples e Extratificada"
   ]
  },
  {
   "cell_type": "code",
   "execution_count": null,
   "metadata": {},
   "outputs": [],
   "source": [
    "#Criando um nova base de dados após o tratamento dos dados\n",
    "dfTempoCorrigido = dfTempo"
   ]
  },
  {
   "cell_type": "code",
   "execution_count": 73,
   "metadata": {},
   "outputs": [
    {
     "data": {
      "text/plain": [
       "(14, 5)"
      ]
     },
     "execution_count": 73,
     "metadata": {},
     "output_type": "execute_result"
    }
   ],
   "source": [
    "dfTempoCorrigido.shape\n",
    "#dfTempoCorrigido\n",
    "#dfTempoCorrigido[\"Aparencia\"].value_counts()\n"
   ]
  },
  {
   "cell_type": "markdown",
   "metadata": {},
   "source": [
    "#gerando um amostra simples"
   ]
  },
  {
   "cell_type": "code",
   "execution_count": 74,
   "metadata": {},
   "outputs": [],
   "source": [
    "np.random.seed(2345)\n",
    "#Gerando uma amostra simples\n",
    "#Contendo 150 amostras de 0 a 1, com reposição e propabilidade equivalente\n",
    "amostraSimplesdfTempoCorrigido = np.random.choice( a = [0,1],\n",
    "                                                    size = 14,\n",
    "                                                    replace = True,\n",
    "                                                    p = [0.7, 0.3]\n",
    "                                                    )"
   ]
  },
  {
   "cell_type": "code",
   "execution_count": 77,
   "metadata": {},
   "outputs": [
    {
     "data": {
      "text/plain": [
       "array([0, 0, 0, 0, 1, 0, 0, 0, 1, 0, 0, 1, 0, 1])"
      ]
     },
     "execution_count": 77,
     "metadata": {},
     "output_type": "execute_result"
    }
   ],
   "source": [
    "amostraSimplesdfTempoCorrigido"
   ]
  },
  {
   "cell_type": "code",
   "execution_count": null,
   "metadata": {},
   "outputs": [],
   "source": [
    "#amostra criada\n",
    "\n",
    "baseAmostradfTempoCorrigido = dfTempoCorrigido.loc[amostraSimplesdfTempoCorrigido==0] \n",
    "baseAmostradfTempoCorrigido "
   ]
  },
  {
   "cell_type": "markdown",
   "metadata": {},
   "source": [
    "#Gerando amostra extratificada coluna Aparencia"
   ]
  },
  {
   "cell_type": "code",
   "execution_count": 71,
   "metadata": {},
   "outputs": [],
   "source": [
    "x, _, y, _ = train_test_split(dfTempoCorrigido.iloc[:, 1:5],\n",
    "                               dfTempoCorrigido.iloc[:,0],\n",
    "                               test_size= 0.5,\n",
    "                               stratify= dfTempoCorrigido.iloc[:,0])"
   ]
  },
  {
   "cell_type": "code",
   "execution_count": 72,
   "metadata": {},
   "outputs": [
    {
     "data": {
      "text/plain": [
       "3       chuva\n",
       "7         sol\n",
       "12    nublado\n",
       "6         sol\n",
       "5       chuva\n",
       "10        sol\n",
       "2     nublado\n",
       "Name: Aparencia, dtype: object"
      ]
     },
     "execution_count": 72,
     "metadata": {},
     "output_type": "execute_result"
    }
   ],
   "source": [
    "#Visualizando a mostra gerada\n",
    "y"
   ]
  }
 ],
 "metadata": {
  "kernelspec": {
   "display_name": "Python 3.11.0 64-bit",
   "language": "python",
   "name": "python3"
  },
  "language_info": {
   "codemirror_mode": {
    "name": "ipython",
    "version": 3
   },
   "file_extension": ".py",
   "mimetype": "text/x-python",
   "name": "python",
   "nbconvert_exporter": "python",
   "pygments_lexer": "ipython3",
   "version": "3.11.0"
  },
  "orig_nbformat": 4,
  "vscode": {
   "interpreter": {
    "hash": "eaf8a68c62a3b03a7c6ad42a51c04ce54587c9e2f7ba1c64499fd6085a55f6ef"
   }
  }
 },
 "nbformat": 4,
 "nbformat_minor": 2
}
