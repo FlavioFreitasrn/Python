{
 "cells": [
  {
   "cell_type": "markdown",
   "id": "47eb4929",
   "metadata": {},
   "source": [
    "#CENARIO DA ANALISE\n",
    "\n",
    "-ARQUIVO: titanic.csv\n",
    "\n",
    "DICIONÁRIO DE DADOS\n",
    "\n",
    "-Survived (Sobreviveu): \n",
    "0 = Não, 1 = Sim\n",
    "\n",
    "-Pclass (Classe): Classe de ingresso \n",
    "1 = 1º, 2 = 2º, 3 = 3º\n",
    "\n",
    "Sex (Sexo): Sexo do passageiro\n",
    "\n",
    "\n",
    "Age (Idade): Idade em anos\n",
    "\n",
    "\n",
    "Sibsp: Quantidade de irmãos / cônjuges a bordo do Titanic\n",
    "Parch: Quantidade de pais / crianças a bordo do Titanic\n",
    "Ticket (Bilhete): Número do bilhete de embarque\n",
    "Fare (Tarifa): Tarifa paga pelo Passageiro\n",
    "Cabin (Cabine): Número de cabine\n",
    "Embarked (Embarque): Porto de Embarque (C = Cherbourg, Q = Queenstown, S = Southampton)\n",
    "\n",
    "Notas sobre as variáveis\n",
    "\n",
    "Pclass (Classe): 1º = Superior 2º = Médio 3º = inferior\n",
    "\n",
    "Age (Idade): A idade é fracionada se for inferior a 1. Se a idade for estimada, é na forma de xx.5\n",
    "\n",
    "Sibsp: O conjunto de dados define as relações familiares dessa maneira.\n",
    "\n",
    "\n",
    "Sibling = Irmão, irmã, meio-irmão, irmandade\n",
    "Spouse (Cônjuge) = marido, esposa (amantes e desposados foram ignorados)\n",
    "\n"
   ]
  },
  {
   "cell_type": "markdown",
   "id": "ea17c19e",
   "metadata": {},
   "source": [
    "Objetivo da analisando o registro de bordo do Titanic e extrair informações gerais e especificas\n",
    "\n",
    "-Quantidade total de passageiros e sobreviventes, \n",
    "-MEDIA DE IDADE POR SEXO\n"
   ]
  },
  {
   "cell_type": "markdown",
   "id": "04142951",
   "metadata": {},
   "source": [
    "CARREGAMENTO DO ARQUIVO\n"
   ]
  },
  {
   "cell_type": "code",
   "execution_count": 3,
   "id": "2944256a",
   "metadata": {},
   "outputs": [
    {
     "ename": "SyntaxError",
     "evalue": "invalid syntax (3943192108.py, line 1)",
     "output_type": "error",
     "traceback": [
      "\u001b[1;36m  Cell \u001b[1;32mIn [3], line 1\u001b[1;36m\u001b[0m\n\u001b[1;33m    pip install pandas\u001b[0m\n\u001b[1;37m        ^\u001b[0m\n\u001b[1;31mSyntaxError\u001b[0m\u001b[1;31m:\u001b[0m invalid syntax\n"
     ]
    }
   ],
   "source": [
    "import pandas as pd\n",
    "\n",
    "df = pd.read_csv(\"C:/Users/Papai/Google Drive/5.Projetos/estudopy/estudopy/arquivos/titanic.csv\")"
   ]
  },
  {
   "cell_type": "raw",
   "id": "b2a2d301",
   "metadata": {},
   "source": [
    "VISÃO GERAL DAS INFORMAÇÕES\n",
    "\n",
    "ANALISE PRIMARIA\n",
    "-TOTAL DE COLUNAS\n",
    "-TOTAL DE LINHA\n",
    "-IDENTIFICAÇÃO DE CAMPOS NULOS E VAZIOS\n",
    "-IDENTIFICAÇÃO DE COLUNAS QUE NÃO SERÃO NECESSARIO PARA NOSSA ANALISE\n",
    "-IDENTIFICAÇÃO DOS TIPOS DE DADOS\n",
    "\n",
    "display(df.info())\n",
    "display(df.isnull().sum())\n",
    "display(df.describe())\n",
    "display(df)"
   ]
  },
  {
   "cell_type": "code",
   "execution_count": 38,
   "id": "d15f94af",
   "metadata": {},
   "outputs": [
    {
     "name": "stdout",
     "output_type": "stream",
     "text": [
      "<class 'pandas.core.frame.DataFrame'>\n",
      "RangeIndex: 891 entries, 0 to 890\n",
      "Data columns (total 12 columns):\n",
      " #   Column       Non-Null Count  Dtype  \n",
      "---  ------       --------------  -----  \n",
      " 0   PassengerId  891 non-null    int64  \n",
      " 1   Survived     891 non-null    int64  \n",
      " 2   Pclass       891 non-null    int64  \n",
      " 3   Name         891 non-null    object \n",
      " 4   Sex          891 non-null    object \n",
      " 5   Age          714 non-null    float64\n",
      " 6   SibSp        891 non-null    int64  \n",
      " 7   Parch        891 non-null    int64  \n",
      " 8   Ticket       891 non-null    object \n",
      " 9   Fare         891 non-null    float64\n",
      " 10  Cabin        204 non-null    object \n",
      " 11  Embarked     889 non-null    object \n",
      "dtypes: float64(2), int64(5), object(5)\n",
      "memory usage: 83.7+ KB\n"
     ]
    },
    {
     "data": {
      "text/plain": [
       "None"
      ]
     },
     "metadata": {},
     "output_type": "display_data"
    },
    {
     "data": {
      "text/plain": [
       "PassengerId      0\n",
       "Survived         0\n",
       "Pclass           0\n",
       "Name             0\n",
       "Sex              0\n",
       "Age            177\n",
       "SibSp            0\n",
       "Parch            0\n",
       "Ticket           0\n",
       "Fare             0\n",
       "Cabin          687\n",
       "Embarked         2\n",
       "dtype: int64"
      ]
     },
     "metadata": {},
     "output_type": "display_data"
    },
    {
     "data": {
      "text/html": [
       "<div>\n",
       "<style scoped>\n",
       "    .dataframe tbody tr th:only-of-type {\n",
       "        vertical-align: middle;\n",
       "    }\n",
       "\n",
       "    .dataframe tbody tr th {\n",
       "        vertical-align: top;\n",
       "    }\n",
       "\n",
       "    .dataframe thead th {\n",
       "        text-align: right;\n",
       "    }\n",
       "</style>\n",
       "<table border=\"1\" class=\"dataframe\">\n",
       "  <thead>\n",
       "    <tr style=\"text-align: right;\">\n",
       "      <th></th>\n",
       "      <th>PassengerId</th>\n",
       "      <th>Survived</th>\n",
       "      <th>Pclass</th>\n",
       "      <th>Age</th>\n",
       "      <th>SibSp</th>\n",
       "      <th>Parch</th>\n",
       "      <th>Fare</th>\n",
       "    </tr>\n",
       "  </thead>\n",
       "  <tbody>\n",
       "    <tr>\n",
       "      <th>count</th>\n",
       "      <td>891.000000</td>\n",
       "      <td>891.000000</td>\n",
       "      <td>891.000000</td>\n",
       "      <td>714.000000</td>\n",
       "      <td>891.000000</td>\n",
       "      <td>891.000000</td>\n",
       "      <td>891.000000</td>\n",
       "    </tr>\n",
       "    <tr>\n",
       "      <th>mean</th>\n",
       "      <td>446.000000</td>\n",
       "      <td>0.383838</td>\n",
       "      <td>2.308642</td>\n",
       "      <td>29.699118</td>\n",
       "      <td>0.523008</td>\n",
       "      <td>0.381594</td>\n",
       "      <td>32.204208</td>\n",
       "    </tr>\n",
       "    <tr>\n",
       "      <th>std</th>\n",
       "      <td>257.353842</td>\n",
       "      <td>0.486592</td>\n",
       "      <td>0.836071</td>\n",
       "      <td>14.526497</td>\n",
       "      <td>1.102743</td>\n",
       "      <td>0.806057</td>\n",
       "      <td>49.693429</td>\n",
       "    </tr>\n",
       "    <tr>\n",
       "      <th>min</th>\n",
       "      <td>1.000000</td>\n",
       "      <td>0.000000</td>\n",
       "      <td>1.000000</td>\n",
       "      <td>0.420000</td>\n",
       "      <td>0.000000</td>\n",
       "      <td>0.000000</td>\n",
       "      <td>0.000000</td>\n",
       "    </tr>\n",
       "    <tr>\n",
       "      <th>25%</th>\n",
       "      <td>223.500000</td>\n",
       "      <td>0.000000</td>\n",
       "      <td>2.000000</td>\n",
       "      <td>20.125000</td>\n",
       "      <td>0.000000</td>\n",
       "      <td>0.000000</td>\n",
       "      <td>7.910400</td>\n",
       "    </tr>\n",
       "    <tr>\n",
       "      <th>50%</th>\n",
       "      <td>446.000000</td>\n",
       "      <td>0.000000</td>\n",
       "      <td>3.000000</td>\n",
       "      <td>28.000000</td>\n",
       "      <td>0.000000</td>\n",
       "      <td>0.000000</td>\n",
       "      <td>14.454200</td>\n",
       "    </tr>\n",
       "    <tr>\n",
       "      <th>75%</th>\n",
       "      <td>668.500000</td>\n",
       "      <td>1.000000</td>\n",
       "      <td>3.000000</td>\n",
       "      <td>38.000000</td>\n",
       "      <td>1.000000</td>\n",
       "      <td>0.000000</td>\n",
       "      <td>31.000000</td>\n",
       "    </tr>\n",
       "    <tr>\n",
       "      <th>max</th>\n",
       "      <td>891.000000</td>\n",
       "      <td>1.000000</td>\n",
       "      <td>3.000000</td>\n",
       "      <td>80.000000</td>\n",
       "      <td>8.000000</td>\n",
       "      <td>6.000000</td>\n",
       "      <td>512.329200</td>\n",
       "    </tr>\n",
       "  </tbody>\n",
       "</table>\n",
       "</div>"
      ],
      "text/plain": [
       "       PassengerId    Survived      Pclass         Age       SibSp  \\\n",
       "count   891.000000  891.000000  891.000000  714.000000  891.000000   \n",
       "mean    446.000000    0.383838    2.308642   29.699118    0.523008   \n",
       "std     257.353842    0.486592    0.836071   14.526497    1.102743   \n",
       "min       1.000000    0.000000    1.000000    0.420000    0.000000   \n",
       "25%     223.500000    0.000000    2.000000   20.125000    0.000000   \n",
       "50%     446.000000    0.000000    3.000000   28.000000    0.000000   \n",
       "75%     668.500000    1.000000    3.000000   38.000000    1.000000   \n",
       "max     891.000000    1.000000    3.000000   80.000000    8.000000   \n",
       "\n",
       "            Parch        Fare  \n",
       "count  891.000000  891.000000  \n",
       "mean     0.381594   32.204208  \n",
       "std      0.806057   49.693429  \n",
       "min      0.000000    0.000000  \n",
       "25%      0.000000    7.910400  \n",
       "50%      0.000000   14.454200  \n",
       "75%      0.000000   31.000000  \n",
       "max      6.000000  512.329200  "
      ]
     },
     "metadata": {},
     "output_type": "display_data"
    },
    {
     "data": {
      "text/html": [
       "<div>\n",
       "<style scoped>\n",
       "    .dataframe tbody tr th:only-of-type {\n",
       "        vertical-align: middle;\n",
       "    }\n",
       "\n",
       "    .dataframe tbody tr th {\n",
       "        vertical-align: top;\n",
       "    }\n",
       "\n",
       "    .dataframe thead th {\n",
       "        text-align: right;\n",
       "    }\n",
       "</style>\n",
       "<table border=\"1\" class=\"dataframe\">\n",
       "  <thead>\n",
       "    <tr style=\"text-align: right;\">\n",
       "      <th></th>\n",
       "      <th>PassengerId</th>\n",
       "      <th>Survived</th>\n",
       "      <th>Pclass</th>\n",
       "      <th>Name</th>\n",
       "      <th>Sex</th>\n",
       "      <th>Age</th>\n",
       "      <th>SibSp</th>\n",
       "      <th>Parch</th>\n",
       "      <th>Ticket</th>\n",
       "      <th>Fare</th>\n",
       "      <th>Cabin</th>\n",
       "      <th>Embarked</th>\n",
       "    </tr>\n",
       "  </thead>\n",
       "  <tbody>\n",
       "    <tr>\n",
       "      <th>0</th>\n",
       "      <td>1</td>\n",
       "      <td>0</td>\n",
       "      <td>3</td>\n",
       "      <td>Braund, Mr. Owen Harris</td>\n",
       "      <td>male</td>\n",
       "      <td>22.0</td>\n",
       "      <td>1</td>\n",
       "      <td>0</td>\n",
       "      <td>A/5 21171</td>\n",
       "      <td>7.2500</td>\n",
       "      <td>NaN</td>\n",
       "      <td>S</td>\n",
       "    </tr>\n",
       "    <tr>\n",
       "      <th>1</th>\n",
       "      <td>2</td>\n",
       "      <td>1</td>\n",
       "      <td>1</td>\n",
       "      <td>Cumings, Mrs. John Bradley (Florence Briggs Th...</td>\n",
       "      <td>female</td>\n",
       "      <td>38.0</td>\n",
       "      <td>1</td>\n",
       "      <td>0</td>\n",
       "      <td>PC 17599</td>\n",
       "      <td>71.2833</td>\n",
       "      <td>C85</td>\n",
       "      <td>C</td>\n",
       "    </tr>\n",
       "    <tr>\n",
       "      <th>2</th>\n",
       "      <td>3</td>\n",
       "      <td>1</td>\n",
       "      <td>3</td>\n",
       "      <td>Heikkinen, Miss. Laina</td>\n",
       "      <td>female</td>\n",
       "      <td>26.0</td>\n",
       "      <td>0</td>\n",
       "      <td>0</td>\n",
       "      <td>STON/O2. 3101282</td>\n",
       "      <td>7.9250</td>\n",
       "      <td>NaN</td>\n",
       "      <td>S</td>\n",
       "    </tr>\n",
       "    <tr>\n",
       "      <th>3</th>\n",
       "      <td>4</td>\n",
       "      <td>1</td>\n",
       "      <td>1</td>\n",
       "      <td>Futrelle, Mrs. Jacques Heath (Lily May Peel)</td>\n",
       "      <td>female</td>\n",
       "      <td>35.0</td>\n",
       "      <td>1</td>\n",
       "      <td>0</td>\n",
       "      <td>113803</td>\n",
       "      <td>53.1000</td>\n",
       "      <td>C123</td>\n",
       "      <td>S</td>\n",
       "    </tr>\n",
       "    <tr>\n",
       "      <th>4</th>\n",
       "      <td>5</td>\n",
       "      <td>0</td>\n",
       "      <td>3</td>\n",
       "      <td>Allen, Mr. William Henry</td>\n",
       "      <td>male</td>\n",
       "      <td>35.0</td>\n",
       "      <td>0</td>\n",
       "      <td>0</td>\n",
       "      <td>373450</td>\n",
       "      <td>8.0500</td>\n",
       "      <td>NaN</td>\n",
       "      <td>S</td>\n",
       "    </tr>\n",
       "    <tr>\n",
       "      <th>...</th>\n",
       "      <td>...</td>\n",
       "      <td>...</td>\n",
       "      <td>...</td>\n",
       "      <td>...</td>\n",
       "      <td>...</td>\n",
       "      <td>...</td>\n",
       "      <td>...</td>\n",
       "      <td>...</td>\n",
       "      <td>...</td>\n",
       "      <td>...</td>\n",
       "      <td>...</td>\n",
       "      <td>...</td>\n",
       "    </tr>\n",
       "    <tr>\n",
       "      <th>886</th>\n",
       "      <td>887</td>\n",
       "      <td>0</td>\n",
       "      <td>2</td>\n",
       "      <td>Montvila, Rev. Juozas</td>\n",
       "      <td>male</td>\n",
       "      <td>27.0</td>\n",
       "      <td>0</td>\n",
       "      <td>0</td>\n",
       "      <td>211536</td>\n",
       "      <td>13.0000</td>\n",
       "      <td>NaN</td>\n",
       "      <td>S</td>\n",
       "    </tr>\n",
       "    <tr>\n",
       "      <th>887</th>\n",
       "      <td>888</td>\n",
       "      <td>1</td>\n",
       "      <td>1</td>\n",
       "      <td>Graham, Miss. Margaret Edith</td>\n",
       "      <td>female</td>\n",
       "      <td>19.0</td>\n",
       "      <td>0</td>\n",
       "      <td>0</td>\n",
       "      <td>112053</td>\n",
       "      <td>30.0000</td>\n",
       "      <td>B42</td>\n",
       "      <td>S</td>\n",
       "    </tr>\n",
       "    <tr>\n",
       "      <th>888</th>\n",
       "      <td>889</td>\n",
       "      <td>0</td>\n",
       "      <td>3</td>\n",
       "      <td>Johnston, Miss. Catherine Helen \"Carrie\"</td>\n",
       "      <td>female</td>\n",
       "      <td>NaN</td>\n",
       "      <td>1</td>\n",
       "      <td>2</td>\n",
       "      <td>W./C. 6607</td>\n",
       "      <td>23.4500</td>\n",
       "      <td>NaN</td>\n",
       "      <td>S</td>\n",
       "    </tr>\n",
       "    <tr>\n",
       "      <th>889</th>\n",
       "      <td>890</td>\n",
       "      <td>1</td>\n",
       "      <td>1</td>\n",
       "      <td>Behr, Mr. Karl Howell</td>\n",
       "      <td>male</td>\n",
       "      <td>26.0</td>\n",
       "      <td>0</td>\n",
       "      <td>0</td>\n",
       "      <td>111369</td>\n",
       "      <td>30.0000</td>\n",
       "      <td>C148</td>\n",
       "      <td>C</td>\n",
       "    </tr>\n",
       "    <tr>\n",
       "      <th>890</th>\n",
       "      <td>891</td>\n",
       "      <td>0</td>\n",
       "      <td>3</td>\n",
       "      <td>Dooley, Mr. Patrick</td>\n",
       "      <td>male</td>\n",
       "      <td>32.0</td>\n",
       "      <td>0</td>\n",
       "      <td>0</td>\n",
       "      <td>370376</td>\n",
       "      <td>7.7500</td>\n",
       "      <td>NaN</td>\n",
       "      <td>Q</td>\n",
       "    </tr>\n",
       "  </tbody>\n",
       "</table>\n",
       "<p>891 rows × 12 columns</p>\n",
       "</div>"
      ],
      "text/plain": [
       "     PassengerId  Survived  Pclass  \\\n",
       "0              1         0       3   \n",
       "1              2         1       1   \n",
       "2              3         1       3   \n",
       "3              4         1       1   \n",
       "4              5         0       3   \n",
       "..           ...       ...     ...   \n",
       "886          887         0       2   \n",
       "887          888         1       1   \n",
       "888          889         0       3   \n",
       "889          890         1       1   \n",
       "890          891         0       3   \n",
       "\n",
       "                                                  Name     Sex   Age  SibSp  \\\n",
       "0                              Braund, Mr. Owen Harris    male  22.0      1   \n",
       "1    Cumings, Mrs. John Bradley (Florence Briggs Th...  female  38.0      1   \n",
       "2                               Heikkinen, Miss. Laina  female  26.0      0   \n",
       "3         Futrelle, Mrs. Jacques Heath (Lily May Peel)  female  35.0      1   \n",
       "4                             Allen, Mr. William Henry    male  35.0      0   \n",
       "..                                                 ...     ...   ...    ...   \n",
       "886                              Montvila, Rev. Juozas    male  27.0      0   \n",
       "887                       Graham, Miss. Margaret Edith  female  19.0      0   \n",
       "888           Johnston, Miss. Catherine Helen \"Carrie\"  female   NaN      1   \n",
       "889                              Behr, Mr. Karl Howell    male  26.0      0   \n",
       "890                                Dooley, Mr. Patrick    male  32.0      0   \n",
       "\n",
       "     Parch            Ticket     Fare Cabin Embarked  \n",
       "0        0         A/5 21171   7.2500   NaN        S  \n",
       "1        0          PC 17599  71.2833   C85        C  \n",
       "2        0  STON/O2. 3101282   7.9250   NaN        S  \n",
       "3        0            113803  53.1000  C123        S  \n",
       "4        0            373450   8.0500   NaN        S  \n",
       "..     ...               ...      ...   ...      ...  \n",
       "886      0            211536  13.0000   NaN        S  \n",
       "887      0            112053  30.0000   B42        S  \n",
       "888      2        W./C. 6607  23.4500   NaN        S  \n",
       "889      0            111369  30.0000  C148        C  \n",
       "890      0            370376   7.7500   NaN        Q  \n",
       "\n",
       "[891 rows x 12 columns]"
      ]
     },
     "metadata": {},
     "output_type": "display_data"
    }
   ],
   "source": [
    "display(df.info())\n",
    "display(df.isnull().sum())\n",
    "display(df.describe())\n",
    "display(df)"
   ]
  },
  {
   "cell_type": "raw",
   "id": "3319f85f",
   "metadata": {},
   "source": [
    "ANALISE PRIMARIA\n",
    "-TOTAL DE COLUNAS\n",
    "-TOTAL DE LINHA\n",
    "-IDENTIFICAÇÃO DE COLUNAS E LINHAS VAZIAS\n",
    "-IDENTIFICAÇÃO DE COLUNAS QUE NÃO SERÃO NECESSARIO PARA NOSSA ANALISE\n",
    "-IDENTIFICAÇÃO DOS TIPOS DE DADOS\n",
    "\n",
    "\n",
    "1- INICIANDO A TRATAMENTO DO DADOS\n",
    "-REMOÇÃO COLUNAS QUE NÃO SERÃO NECESSARIO PARA ANALISE: \n",
    "\n",
    "1-PassengerId\n",
    "2-SibSp\n",
    "3-Parch\n",
    "34-Ticket\n",
    "5-Cabin"
   ]
  },
  {
   "cell_type": "code",
   "execution_count": 39,
   "id": "0db4b9c7",
   "metadata": {},
   "outputs": [],
   "source": [
    "df = df.drop([\"PassengerId\"], axis =1)\n",
    "df = df.drop([\"SibSp\"], axis =1)\n",
    "df = df.drop([\"Parch\"], axis =1)\n",
    "df = df.drop([\"Ticket\"], axis =1)\n",
    "df = df.drop([\"Cabin\"], axis =1)"
   ]
  },
  {
   "cell_type": "code",
   "execution_count": 40,
   "id": "7ab41ff1",
   "metadata": {},
   "outputs": [
    {
     "name": "stdout",
     "output_type": "stream",
     "text": [
      "<class 'pandas.core.frame.DataFrame'>\n",
      "RangeIndex: 891 entries, 0 to 890\n",
      "Data columns (total 7 columns):\n",
      " #   Column    Non-Null Count  Dtype  \n",
      "---  ------    --------------  -----  \n",
      " 0   Survived  891 non-null    int64  \n",
      " 1   Pclass    891 non-null    int64  \n",
      " 2   Name      891 non-null    object \n",
      " 3   Sex       891 non-null    object \n",
      " 4   Age       714 non-null    float64\n",
      " 5   Fare      891 non-null    float64\n",
      " 6   Embarked  889 non-null    object \n",
      "dtypes: float64(2), int64(2), object(3)\n",
      "memory usage: 48.9+ KB\n"
     ]
    },
    {
     "data": {
      "text/plain": [
       "None"
      ]
     },
     "metadata": {},
     "output_type": "display_data"
    },
    {
     "data": {
      "text/plain": [
       "Survived      0\n",
       "Pclass        0\n",
       "Name          0\n",
       "Sex           0\n",
       "Age         177\n",
       "Fare          0\n",
       "Embarked      2\n",
       "dtype: int64"
      ]
     },
     "metadata": {},
     "output_type": "display_data"
    },
    {
     "data": {
      "text/html": [
       "<div>\n",
       "<style scoped>\n",
       "    .dataframe tbody tr th:only-of-type {\n",
       "        vertical-align: middle;\n",
       "    }\n",
       "\n",
       "    .dataframe tbody tr th {\n",
       "        vertical-align: top;\n",
       "    }\n",
       "\n",
       "    .dataframe thead th {\n",
       "        text-align: right;\n",
       "    }\n",
       "</style>\n",
       "<table border=\"1\" class=\"dataframe\">\n",
       "  <thead>\n",
       "    <tr style=\"text-align: right;\">\n",
       "      <th></th>\n",
       "      <th>Survived</th>\n",
       "      <th>Pclass</th>\n",
       "      <th>Age</th>\n",
       "      <th>Fare</th>\n",
       "    </tr>\n",
       "  </thead>\n",
       "  <tbody>\n",
       "    <tr>\n",
       "      <th>count</th>\n",
       "      <td>891.000000</td>\n",
       "      <td>891.000000</td>\n",
       "      <td>714.000000</td>\n",
       "      <td>891.000000</td>\n",
       "    </tr>\n",
       "    <tr>\n",
       "      <th>mean</th>\n",
       "      <td>0.383838</td>\n",
       "      <td>2.308642</td>\n",
       "      <td>29.699118</td>\n",
       "      <td>32.204208</td>\n",
       "    </tr>\n",
       "    <tr>\n",
       "      <th>std</th>\n",
       "      <td>0.486592</td>\n",
       "      <td>0.836071</td>\n",
       "      <td>14.526497</td>\n",
       "      <td>49.693429</td>\n",
       "    </tr>\n",
       "    <tr>\n",
       "      <th>min</th>\n",
       "      <td>0.000000</td>\n",
       "      <td>1.000000</td>\n",
       "      <td>0.420000</td>\n",
       "      <td>0.000000</td>\n",
       "    </tr>\n",
       "    <tr>\n",
       "      <th>25%</th>\n",
       "      <td>0.000000</td>\n",
       "      <td>2.000000</td>\n",
       "      <td>20.125000</td>\n",
       "      <td>7.910400</td>\n",
       "    </tr>\n",
       "    <tr>\n",
       "      <th>50%</th>\n",
       "      <td>0.000000</td>\n",
       "      <td>3.000000</td>\n",
       "      <td>28.000000</td>\n",
       "      <td>14.454200</td>\n",
       "    </tr>\n",
       "    <tr>\n",
       "      <th>75%</th>\n",
       "      <td>1.000000</td>\n",
       "      <td>3.000000</td>\n",
       "      <td>38.000000</td>\n",
       "      <td>31.000000</td>\n",
       "    </tr>\n",
       "    <tr>\n",
       "      <th>max</th>\n",
       "      <td>1.000000</td>\n",
       "      <td>3.000000</td>\n",
       "      <td>80.000000</td>\n",
       "      <td>512.329200</td>\n",
       "    </tr>\n",
       "  </tbody>\n",
       "</table>\n",
       "</div>"
      ],
      "text/plain": [
       "         Survived      Pclass         Age        Fare\n",
       "count  891.000000  891.000000  714.000000  891.000000\n",
       "mean     0.383838    2.308642   29.699118   32.204208\n",
       "std      0.486592    0.836071   14.526497   49.693429\n",
       "min      0.000000    1.000000    0.420000    0.000000\n",
       "25%      0.000000    2.000000   20.125000    7.910400\n",
       "50%      0.000000    3.000000   28.000000   14.454200\n",
       "75%      1.000000    3.000000   38.000000   31.000000\n",
       "max      1.000000    3.000000   80.000000  512.329200"
      ]
     },
     "metadata": {},
     "output_type": "display_data"
    },
    {
     "data": {
      "text/html": [
       "<div>\n",
       "<style scoped>\n",
       "    .dataframe tbody tr th:only-of-type {\n",
       "        vertical-align: middle;\n",
       "    }\n",
       "\n",
       "    .dataframe tbody tr th {\n",
       "        vertical-align: top;\n",
       "    }\n",
       "\n",
       "    .dataframe thead th {\n",
       "        text-align: right;\n",
       "    }\n",
       "</style>\n",
       "<table border=\"1\" class=\"dataframe\">\n",
       "  <thead>\n",
       "    <tr style=\"text-align: right;\">\n",
       "      <th></th>\n",
       "      <th>Survived</th>\n",
       "      <th>Pclass</th>\n",
       "      <th>Name</th>\n",
       "      <th>Sex</th>\n",
       "      <th>Age</th>\n",
       "      <th>Fare</th>\n",
       "      <th>Embarked</th>\n",
       "    </tr>\n",
       "  </thead>\n",
       "  <tbody>\n",
       "    <tr>\n",
       "      <th>0</th>\n",
       "      <td>0</td>\n",
       "      <td>3</td>\n",
       "      <td>Braund, Mr. Owen Harris</td>\n",
       "      <td>male</td>\n",
       "      <td>22.0</td>\n",
       "      <td>7.2500</td>\n",
       "      <td>S</td>\n",
       "    </tr>\n",
       "    <tr>\n",
       "      <th>1</th>\n",
       "      <td>1</td>\n",
       "      <td>1</td>\n",
       "      <td>Cumings, Mrs. John Bradley (Florence Briggs Th...</td>\n",
       "      <td>female</td>\n",
       "      <td>38.0</td>\n",
       "      <td>71.2833</td>\n",
       "      <td>C</td>\n",
       "    </tr>\n",
       "    <tr>\n",
       "      <th>2</th>\n",
       "      <td>1</td>\n",
       "      <td>3</td>\n",
       "      <td>Heikkinen, Miss. Laina</td>\n",
       "      <td>female</td>\n",
       "      <td>26.0</td>\n",
       "      <td>7.9250</td>\n",
       "      <td>S</td>\n",
       "    </tr>\n",
       "    <tr>\n",
       "      <th>3</th>\n",
       "      <td>1</td>\n",
       "      <td>1</td>\n",
       "      <td>Futrelle, Mrs. Jacques Heath (Lily May Peel)</td>\n",
       "      <td>female</td>\n",
       "      <td>35.0</td>\n",
       "      <td>53.1000</td>\n",
       "      <td>S</td>\n",
       "    </tr>\n",
       "    <tr>\n",
       "      <th>4</th>\n",
       "      <td>0</td>\n",
       "      <td>3</td>\n",
       "      <td>Allen, Mr. William Henry</td>\n",
       "      <td>male</td>\n",
       "      <td>35.0</td>\n",
       "      <td>8.0500</td>\n",
       "      <td>S</td>\n",
       "    </tr>\n",
       "    <tr>\n",
       "      <th>...</th>\n",
       "      <td>...</td>\n",
       "      <td>...</td>\n",
       "      <td>...</td>\n",
       "      <td>...</td>\n",
       "      <td>...</td>\n",
       "      <td>...</td>\n",
       "      <td>...</td>\n",
       "    </tr>\n",
       "    <tr>\n",
       "      <th>886</th>\n",
       "      <td>0</td>\n",
       "      <td>2</td>\n",
       "      <td>Montvila, Rev. Juozas</td>\n",
       "      <td>male</td>\n",
       "      <td>27.0</td>\n",
       "      <td>13.0000</td>\n",
       "      <td>S</td>\n",
       "    </tr>\n",
       "    <tr>\n",
       "      <th>887</th>\n",
       "      <td>1</td>\n",
       "      <td>1</td>\n",
       "      <td>Graham, Miss. Margaret Edith</td>\n",
       "      <td>female</td>\n",
       "      <td>19.0</td>\n",
       "      <td>30.0000</td>\n",
       "      <td>S</td>\n",
       "    </tr>\n",
       "    <tr>\n",
       "      <th>888</th>\n",
       "      <td>0</td>\n",
       "      <td>3</td>\n",
       "      <td>Johnston, Miss. Catherine Helen \"Carrie\"</td>\n",
       "      <td>female</td>\n",
       "      <td>NaN</td>\n",
       "      <td>23.4500</td>\n",
       "      <td>S</td>\n",
       "    </tr>\n",
       "    <tr>\n",
       "      <th>889</th>\n",
       "      <td>1</td>\n",
       "      <td>1</td>\n",
       "      <td>Behr, Mr. Karl Howell</td>\n",
       "      <td>male</td>\n",
       "      <td>26.0</td>\n",
       "      <td>30.0000</td>\n",
       "      <td>C</td>\n",
       "    </tr>\n",
       "    <tr>\n",
       "      <th>890</th>\n",
       "      <td>0</td>\n",
       "      <td>3</td>\n",
       "      <td>Dooley, Mr. Patrick</td>\n",
       "      <td>male</td>\n",
       "      <td>32.0</td>\n",
       "      <td>7.7500</td>\n",
       "      <td>Q</td>\n",
       "    </tr>\n",
       "  </tbody>\n",
       "</table>\n",
       "<p>891 rows × 7 columns</p>\n",
       "</div>"
      ],
      "text/plain": [
       "     Survived  Pclass                                               Name  \\\n",
       "0           0       3                            Braund, Mr. Owen Harris   \n",
       "1           1       1  Cumings, Mrs. John Bradley (Florence Briggs Th...   \n",
       "2           1       3                             Heikkinen, Miss. Laina   \n",
       "3           1       1       Futrelle, Mrs. Jacques Heath (Lily May Peel)   \n",
       "4           0       3                           Allen, Mr. William Henry   \n",
       "..        ...     ...                                                ...   \n",
       "886         0       2                              Montvila, Rev. Juozas   \n",
       "887         1       1                       Graham, Miss. Margaret Edith   \n",
       "888         0       3           Johnston, Miss. Catherine Helen \"Carrie\"   \n",
       "889         1       1                              Behr, Mr. Karl Howell   \n",
       "890         0       3                                Dooley, Mr. Patrick   \n",
       "\n",
       "        Sex   Age     Fare Embarked  \n",
       "0      male  22.0   7.2500        S  \n",
       "1    female  38.0  71.2833        C  \n",
       "2    female  26.0   7.9250        S  \n",
       "3    female  35.0  53.1000        S  \n",
       "4      male  35.0   8.0500        S  \n",
       "..      ...   ...      ...      ...  \n",
       "886    male  27.0  13.0000        S  \n",
       "887  female  19.0  30.0000        S  \n",
       "888  female   NaN  23.4500        S  \n",
       "889    male  26.0  30.0000        C  \n",
       "890    male  32.0   7.7500        Q  \n",
       "\n",
       "[891 rows x 7 columns]"
      ]
     },
     "metadata": {},
     "output_type": "display_data"
    }
   ],
   "source": [
    "display(df.info())\n",
    "display(df.isnull().sum())\n",
    "display(df.describe())\n",
    "display(df)"
   ]
  },
  {
   "cell_type": "markdown",
   "id": "60bd999e",
   "metadata": {},
   "source": [
    "1- INICIANDO A TRATAMENTO DO DADOS\n",
    "-TRATAMENTO DE CAMPOS VAZIO \n",
    "COLUNAS COM REGISTRO VAZIOS OU NULOS\n",
    "\n",
    "COLUNA    TOTAL VAZIOS OU NULOS\n",
    "Age         177\n",
    "Embarked      2"
   ]
  },
  {
   "cell_type": "markdown",
   "id": "ef75a3e5",
   "metadata": {},
   "source": [
    "-RESOLVENDO O PROBLEMA DA COLUNA Embarked COM DOIS REGISTROS VAZIOS E NÃO NUMERICOS\n",
    "VERIFICO AS REPETIÇÕES DO REGISTRO"
   ]
  },
  {
   "cell_type": "code",
   "execution_count": 54,
   "id": "47a4297d",
   "metadata": {},
   "outputs": [
    {
     "data": {
      "text/plain": [
       "S    644\n",
       "C    168\n",
       "Q     77\n",
       "Name: Embarked, dtype: int64"
      ]
     },
     "execution_count": 54,
     "metadata": {},
     "output_type": "execute_result"
    }
   ],
   "source": [
    "df[\"Embarked\"].value_counts(normalize=False)"
   ]
  },
  {
   "cell_type": "code",
   "execution_count": 59,
   "id": "bb0625fa",
   "metadata": {},
   "outputs": [],
   "source": [
    "embarked_MaiorFreq = \"S\""
   ]
  },
  {
   "cell_type": "code",
   "execution_count": 60,
   "id": "25340415",
   "metadata": {},
   "outputs": [],
   "source": [
    "df[\"Embarked\"].fillna(embarked_MaiorFreq , inplace=True)"
   ]
  },
  {
   "cell_type": "code",
   "execution_count": 61,
   "id": "5e147f4b",
   "metadata": {},
   "outputs": [
    {
     "data": {
      "text/plain": [
       "S    646\n",
       "C    168\n",
       "Q     77\n",
       "Name: Embarked, dtype: int64"
      ]
     },
     "execution_count": 61,
     "metadata": {},
     "output_type": "execute_result"
    }
   ],
   "source": [
    "df[\"Embarked\"].value_counts()"
   ]
  },
  {
   "cell_type": "code",
   "execution_count": 64,
   "id": "59f88d57",
   "metadata": {},
   "outputs": [
    {
     "data": {
      "text/plain": [
       "0    S\n",
       "Name: Embarked, dtype: object"
      ]
     },
     "execution_count": 64,
     "metadata": {},
     "output_type": "execute_result"
    }
   ],
   "source": [
    "df[\"Embarked\"].mode()"
   ]
  },
  {
   "cell_type": "markdown",
   "id": "9a9264db",
   "metadata": {},
   "source": [
    "-RESOLVENDO O PROBLEMA DA COLUNA Age COM 177 REGISTROS VAZIOS E NUMERICOS \n",
    "-Verificando a moda, media e mediana"
   ]
  },
  {
   "cell_type": "code",
   "execution_count": 79,
   "id": "ce9bcfa6",
   "metadata": {},
   "outputs": [
    {
     "data": {
      "text/html": [
       "<div>\n",
       "<style scoped>\n",
       "    .dataframe tbody tr th:only-of-type {\n",
       "        vertical-align: middle;\n",
       "    }\n",
       "\n",
       "    .dataframe tbody tr th {\n",
       "        vertical-align: top;\n",
       "    }\n",
       "\n",
       "    .dataframe thead th {\n",
       "        text-align: right;\n",
       "    }\n",
       "</style>\n",
       "<table border=\"1\" class=\"dataframe\">\n",
       "  <thead>\n",
       "    <tr style=\"text-align: right;\">\n",
       "      <th></th>\n",
       "      <th>Survived</th>\n",
       "      <th>Pclass</th>\n",
       "      <th>Age</th>\n",
       "      <th>Fare</th>\n",
       "    </tr>\n",
       "  </thead>\n",
       "  <tbody>\n",
       "    <tr>\n",
       "      <th>0</th>\n",
       "      <td>0</td>\n",
       "      <td>3</td>\n",
       "      <td>24.0</td>\n",
       "      <td>8.05</td>\n",
       "    </tr>\n",
       "  </tbody>\n",
       "</table>\n",
       "</div>"
      ],
      "text/plain": [
       "   Survived  Pclass   Age  Fare\n",
       "0         0       3  24.0  8.05"
      ]
     },
     "execution_count": 79,
     "metadata": {},
     "output_type": "execute_result"
    }
   ],
   "source": [
    "df.mode(axis =0 , numeric_only = True , dropna = True)"
   ]
  },
  {
   "cell_type": "code",
   "execution_count": 88,
   "id": "66d51c3a",
   "metadata": {},
   "outputs": [
    {
     "name": "stderr",
     "output_type": "stream",
     "text": [
      "C:\\Users\\Papai\\AppData\\Local\\Temp\\ipykernel_9188\\1699688053.py:1: FutureWarning: Dropping of nuisance columns in DataFrame reductions (with 'numeric_only=None') is deprecated; in a future version this will raise TypeError.  Select only valid columns before calling the reduction.\n",
      "  df.mean(axis =0, skipna=True )\n"
     ]
    },
    {
     "data": {
      "text/plain": [
       "Survived     0.383838\n",
       "Pclass       2.308642\n",
       "Age         29.699118\n",
       "Fare        32.204208\n",
       "dtype: float64"
      ]
     },
     "execution_count": 88,
     "metadata": {},
     "output_type": "execute_result"
    }
   ],
   "source": [
    "df.mean(axis =0, skipna=True )"
   ]
  },
  {
   "cell_type": "code",
   "execution_count": 89,
   "id": "4ae77707",
   "metadata": {},
   "outputs": [
    {
     "data": {
      "text/plain": [
       "29.69911764705882"
      ]
     },
     "execution_count": 89,
     "metadata": {},
     "output_type": "execute_result"
    }
   ],
   "source": [
    "df[\"Age\"].mean(axis =0, skipna=True )"
   ]
  },
  {
   "cell_type": "code",
   "execution_count": 86,
   "id": "a9d748e4",
   "metadata": {},
   "outputs": [
    {
     "name": "stderr",
     "output_type": "stream",
     "text": [
      "C:\\Users\\Papai\\AppData\\Local\\Temp\\ipykernel_9188\\523233236.py:1: FutureWarning: Dropping of nuisance columns in DataFrame reductions (with 'numeric_only=None') is deprecated; in a future version this will raise TypeError.  Select only valid columns before calling the reduction.\n",
      "  df.median(axis =0, skipna=True)\n"
     ]
    },
    {
     "data": {
      "text/plain": [
       "Survived     0.0000\n",
       "Pclass       3.0000\n",
       "Age         28.0000\n",
       "Fare        14.4542\n",
       "dtype: float64"
      ]
     },
     "execution_count": 86,
     "metadata": {},
     "output_type": "execute_result"
    }
   ],
   "source": [
    "df.median(axis =0, skipna=True)"
   ]
  },
  {
   "cell_type": "markdown",
   "id": "13238b1e",
   "metadata": {},
   "source": [
    "REMOVENDO A COLUNA COM INFORMAÇÕES DESNECESSARIAS \n",
    "axis = 0 ou \"index\" será apagada a linha indicada\n",
    "axis = 1 ou  \"columns\" será apagada a coluna indicada"
   ]
  },
  {
   "cell_type": "code",
   "execution_count": 93,
   "id": "e1bc42d0",
   "metadata": {},
   "outputs": [],
   "source": [
    "age_Mediana = df[\"Age\"].median(axis =0, skipna=True)"
   ]
  },
  {
   "cell_type": "code",
   "execution_count": 94,
   "id": "09e084b0",
   "metadata": {},
   "outputs": [],
   "source": [
    "df[\"Age\"].fillna(age_Mediana , inplace=True)"
   ]
  },
  {
   "cell_type": "code",
   "execution_count": 95,
   "id": "85d3692d",
   "metadata": {},
   "outputs": [
    {
     "name": "stdout",
     "output_type": "stream",
     "text": [
      "<class 'pandas.core.frame.DataFrame'>\n",
      "RangeIndex: 891 entries, 0 to 890\n",
      "Data columns (total 7 columns):\n",
      " #   Column    Non-Null Count  Dtype  \n",
      "---  ------    --------------  -----  \n",
      " 0   Survived  891 non-null    int64  \n",
      " 1   Pclass    891 non-null    int64  \n",
      " 2   Name      891 non-null    object \n",
      " 3   Sex       891 non-null    object \n",
      " 4   Age       891 non-null    float64\n",
      " 5   Fare      891 non-null    float64\n",
      " 6   Embarked  891 non-null    object \n",
      "dtypes: float64(2), int64(2), object(3)\n",
      "memory usage: 48.9+ KB\n"
     ]
    },
    {
     "data": {
      "text/plain": [
       "None"
      ]
     },
     "metadata": {},
     "output_type": "display_data"
    },
    {
     "data": {
      "text/plain": [
       "Survived    0\n",
       "Pclass      0\n",
       "Name        0\n",
       "Sex         0\n",
       "Age         0\n",
       "Fare        0\n",
       "Embarked    0\n",
       "dtype: int64"
      ]
     },
     "metadata": {},
     "output_type": "display_data"
    },
    {
     "data": {
      "text/html": [
       "<div>\n",
       "<style scoped>\n",
       "    .dataframe tbody tr th:only-of-type {\n",
       "        vertical-align: middle;\n",
       "    }\n",
       "\n",
       "    .dataframe tbody tr th {\n",
       "        vertical-align: top;\n",
       "    }\n",
       "\n",
       "    .dataframe thead th {\n",
       "        text-align: right;\n",
       "    }\n",
       "</style>\n",
       "<table border=\"1\" class=\"dataframe\">\n",
       "  <thead>\n",
       "    <tr style=\"text-align: right;\">\n",
       "      <th></th>\n",
       "      <th>Survived</th>\n",
       "      <th>Pclass</th>\n",
       "      <th>Age</th>\n",
       "      <th>Fare</th>\n",
       "    </tr>\n",
       "  </thead>\n",
       "  <tbody>\n",
       "    <tr>\n",
       "      <th>count</th>\n",
       "      <td>891.000000</td>\n",
       "      <td>891.000000</td>\n",
       "      <td>891.000000</td>\n",
       "      <td>891.000000</td>\n",
       "    </tr>\n",
       "    <tr>\n",
       "      <th>mean</th>\n",
       "      <td>0.383838</td>\n",
       "      <td>2.308642</td>\n",
       "      <td>29.361582</td>\n",
       "      <td>32.204208</td>\n",
       "    </tr>\n",
       "    <tr>\n",
       "      <th>std</th>\n",
       "      <td>0.486592</td>\n",
       "      <td>0.836071</td>\n",
       "      <td>13.019697</td>\n",
       "      <td>49.693429</td>\n",
       "    </tr>\n",
       "    <tr>\n",
       "      <th>min</th>\n",
       "      <td>0.000000</td>\n",
       "      <td>1.000000</td>\n",
       "      <td>0.420000</td>\n",
       "      <td>0.000000</td>\n",
       "    </tr>\n",
       "    <tr>\n",
       "      <th>25%</th>\n",
       "      <td>0.000000</td>\n",
       "      <td>2.000000</td>\n",
       "      <td>22.000000</td>\n",
       "      <td>7.910400</td>\n",
       "    </tr>\n",
       "    <tr>\n",
       "      <th>50%</th>\n",
       "      <td>0.000000</td>\n",
       "      <td>3.000000</td>\n",
       "      <td>28.000000</td>\n",
       "      <td>14.454200</td>\n",
       "    </tr>\n",
       "    <tr>\n",
       "      <th>75%</th>\n",
       "      <td>1.000000</td>\n",
       "      <td>3.000000</td>\n",
       "      <td>35.000000</td>\n",
       "      <td>31.000000</td>\n",
       "    </tr>\n",
       "    <tr>\n",
       "      <th>max</th>\n",
       "      <td>1.000000</td>\n",
       "      <td>3.000000</td>\n",
       "      <td>80.000000</td>\n",
       "      <td>512.329200</td>\n",
       "    </tr>\n",
       "  </tbody>\n",
       "</table>\n",
       "</div>"
      ],
      "text/plain": [
       "         Survived      Pclass         Age        Fare\n",
       "count  891.000000  891.000000  891.000000  891.000000\n",
       "mean     0.383838    2.308642   29.361582   32.204208\n",
       "std      0.486592    0.836071   13.019697   49.693429\n",
       "min      0.000000    1.000000    0.420000    0.000000\n",
       "25%      0.000000    2.000000   22.000000    7.910400\n",
       "50%      0.000000    3.000000   28.000000   14.454200\n",
       "75%      1.000000    3.000000   35.000000   31.000000\n",
       "max      1.000000    3.000000   80.000000  512.329200"
      ]
     },
     "metadata": {},
     "output_type": "display_data"
    },
    {
     "data": {
      "text/html": [
       "<div>\n",
       "<style scoped>\n",
       "    .dataframe tbody tr th:only-of-type {\n",
       "        vertical-align: middle;\n",
       "    }\n",
       "\n",
       "    .dataframe tbody tr th {\n",
       "        vertical-align: top;\n",
       "    }\n",
       "\n",
       "    .dataframe thead th {\n",
       "        text-align: right;\n",
       "    }\n",
       "</style>\n",
       "<table border=\"1\" class=\"dataframe\">\n",
       "  <thead>\n",
       "    <tr style=\"text-align: right;\">\n",
       "      <th></th>\n",
       "      <th>Survived</th>\n",
       "      <th>Pclass</th>\n",
       "      <th>Name</th>\n",
       "      <th>Sex</th>\n",
       "      <th>Age</th>\n",
       "      <th>Fare</th>\n",
       "      <th>Embarked</th>\n",
       "    </tr>\n",
       "  </thead>\n",
       "  <tbody>\n",
       "    <tr>\n",
       "      <th>0</th>\n",
       "      <td>0</td>\n",
       "      <td>3</td>\n",
       "      <td>Braund, Mr. Owen Harris</td>\n",
       "      <td>male</td>\n",
       "      <td>22.0</td>\n",
       "      <td>7.2500</td>\n",
       "      <td>S</td>\n",
       "    </tr>\n",
       "    <tr>\n",
       "      <th>1</th>\n",
       "      <td>1</td>\n",
       "      <td>1</td>\n",
       "      <td>Cumings, Mrs. John Bradley (Florence Briggs Th...</td>\n",
       "      <td>female</td>\n",
       "      <td>38.0</td>\n",
       "      <td>71.2833</td>\n",
       "      <td>C</td>\n",
       "    </tr>\n",
       "    <tr>\n",
       "      <th>2</th>\n",
       "      <td>1</td>\n",
       "      <td>3</td>\n",
       "      <td>Heikkinen, Miss. Laina</td>\n",
       "      <td>female</td>\n",
       "      <td>26.0</td>\n",
       "      <td>7.9250</td>\n",
       "      <td>S</td>\n",
       "    </tr>\n",
       "    <tr>\n",
       "      <th>3</th>\n",
       "      <td>1</td>\n",
       "      <td>1</td>\n",
       "      <td>Futrelle, Mrs. Jacques Heath (Lily May Peel)</td>\n",
       "      <td>female</td>\n",
       "      <td>35.0</td>\n",
       "      <td>53.1000</td>\n",
       "      <td>S</td>\n",
       "    </tr>\n",
       "    <tr>\n",
       "      <th>4</th>\n",
       "      <td>0</td>\n",
       "      <td>3</td>\n",
       "      <td>Allen, Mr. William Henry</td>\n",
       "      <td>male</td>\n",
       "      <td>35.0</td>\n",
       "      <td>8.0500</td>\n",
       "      <td>S</td>\n",
       "    </tr>\n",
       "    <tr>\n",
       "      <th>...</th>\n",
       "      <td>...</td>\n",
       "      <td>...</td>\n",
       "      <td>...</td>\n",
       "      <td>...</td>\n",
       "      <td>...</td>\n",
       "      <td>...</td>\n",
       "      <td>...</td>\n",
       "    </tr>\n",
       "    <tr>\n",
       "      <th>886</th>\n",
       "      <td>0</td>\n",
       "      <td>2</td>\n",
       "      <td>Montvila, Rev. Juozas</td>\n",
       "      <td>male</td>\n",
       "      <td>27.0</td>\n",
       "      <td>13.0000</td>\n",
       "      <td>S</td>\n",
       "    </tr>\n",
       "    <tr>\n",
       "      <th>887</th>\n",
       "      <td>1</td>\n",
       "      <td>1</td>\n",
       "      <td>Graham, Miss. Margaret Edith</td>\n",
       "      <td>female</td>\n",
       "      <td>19.0</td>\n",
       "      <td>30.0000</td>\n",
       "      <td>S</td>\n",
       "    </tr>\n",
       "    <tr>\n",
       "      <th>888</th>\n",
       "      <td>0</td>\n",
       "      <td>3</td>\n",
       "      <td>Johnston, Miss. Catherine Helen \"Carrie\"</td>\n",
       "      <td>female</td>\n",
       "      <td>28.0</td>\n",
       "      <td>23.4500</td>\n",
       "      <td>S</td>\n",
       "    </tr>\n",
       "    <tr>\n",
       "      <th>889</th>\n",
       "      <td>1</td>\n",
       "      <td>1</td>\n",
       "      <td>Behr, Mr. Karl Howell</td>\n",
       "      <td>male</td>\n",
       "      <td>26.0</td>\n",
       "      <td>30.0000</td>\n",
       "      <td>C</td>\n",
       "    </tr>\n",
       "    <tr>\n",
       "      <th>890</th>\n",
       "      <td>0</td>\n",
       "      <td>3</td>\n",
       "      <td>Dooley, Mr. Patrick</td>\n",
       "      <td>male</td>\n",
       "      <td>32.0</td>\n",
       "      <td>7.7500</td>\n",
       "      <td>Q</td>\n",
       "    </tr>\n",
       "  </tbody>\n",
       "</table>\n",
       "<p>891 rows × 7 columns</p>\n",
       "</div>"
      ],
      "text/plain": [
       "     Survived  Pclass                                               Name  \\\n",
       "0           0       3                            Braund, Mr. Owen Harris   \n",
       "1           1       1  Cumings, Mrs. John Bradley (Florence Briggs Th...   \n",
       "2           1       3                             Heikkinen, Miss. Laina   \n",
       "3           1       1       Futrelle, Mrs. Jacques Heath (Lily May Peel)   \n",
       "4           0       3                           Allen, Mr. William Henry   \n",
       "..        ...     ...                                                ...   \n",
       "886         0       2                              Montvila, Rev. Juozas   \n",
       "887         1       1                       Graham, Miss. Margaret Edith   \n",
       "888         0       3           Johnston, Miss. Catherine Helen \"Carrie\"   \n",
       "889         1       1                              Behr, Mr. Karl Howell   \n",
       "890         0       3                                Dooley, Mr. Patrick   \n",
       "\n",
       "        Sex   Age     Fare Embarked  \n",
       "0      male  22.0   7.2500        S  \n",
       "1    female  38.0  71.2833        C  \n",
       "2    female  26.0   7.9250        S  \n",
       "3    female  35.0  53.1000        S  \n",
       "4      male  35.0   8.0500        S  \n",
       "..      ...   ...      ...      ...  \n",
       "886    male  27.0  13.0000        S  \n",
       "887  female  19.0  30.0000        S  \n",
       "888  female  28.0  23.4500        S  \n",
       "889    male  26.0  30.0000        C  \n",
       "890    male  32.0   7.7500        Q  \n",
       "\n",
       "[891 rows x 7 columns]"
      ]
     },
     "metadata": {},
     "output_type": "display_data"
    }
   ],
   "source": [
    "display(df.info())\n",
    "display(df.isnull().sum())\n",
    "display(df.describe())\n",
    "display(df)\n"
   ]
  },
  {
   "cell_type": "markdown",
   "id": "7aabb1b2",
   "metadata": {},
   "source": [
    "FIM DAS ETAPAS DE EXTRAÇÃO E TRATAMENTO DOS DADOS"
   ]
  },
  {
   "cell_type": "markdown",
   "id": "d0386e12",
   "metadata": {},
   "source": [
    "3- INICIANDO ANALISE EXPLORATORIA / APRESENTAÇÃO DOS GRAFICOS"
   ]
  },
  {
   "cell_type": "markdown",
   "id": "5b534c3d",
   "metadata": {},
   "source": [
    "Objetivo da analisando o registro de bordo do Titanic e extrair informações gerais e especificas\n",
    "\n",
    "-Quantidade total de passageiros e sobreviventes, \n",
    "-MEDIA DE IDADE POR SEXO\n",
    "\n",
    "#Analise exploratória\n",
    "-PRINCIPAL DESTINO,\n",
    "-QUANTIDADE DE PASSAGEIROS E SOBREVIVENTES POR SEXO\n",
    "-MEDIA DE IDADE POR SEXO\n",
    "-MEDIA DE IDADE\n",
    "\n",
    "#retorna qtd em inteiro percentual\n",
    "display(df[\"Churn\"].value_counts())\n",
    "\n",
    "#retorna qtd em percentual\n",
    "display(df[\"Churn\"].value_counts(normalize=\"True\"))\n",
    "#retorno com uma casa decimal\n",
    ".map(\"{:.1%}\".format)\n",
    "display(df[\"Churn\"].value_counts(normalize=\"True\").map(\"{:.1%}\".format) )\n"
   ]
  },
  {
   "cell_type": "markdown",
   "id": "4908ee11",
   "metadata": {},
   "source": [
    "Iniciando a Análise gráfica\n",
    "importando ploty\n",
    "import plotly.express as px"
   ]
  },
  {
   "cell_type": "code",
   "execution_count": 99,
   "id": "0c66dba0",
   "metadata": {},
   "outputs": [
    {
     "data": {
      "application/vnd.plotly.v1+json": {
       "config": {
        "plotlyServerURL": "https://plot.ly"
       },
       "data": [
        {
         "alignmentgroup": "True",
         "bingroup": "x",
         "hovertemplate": "Sex=male<br>Pclass=%{x}<br>count=%{y}<extra></extra>",
         "legendgroup": "male",
         "marker": {
          "color": "#636efa",
          "pattern": {
           "shape": ""
          }
         },
         "name": "male",
         "offsetgroup": "male",
         "orientation": "v",
         "showlegend": true,
         "type": "histogram",
         "x": [
          3,
          3,
          3,
          1,
          3,
          3,
          3,
          3,
          2,
          2,
          2,
          1,
          3,
          1,
          3,
          1,
          2,
          1,
          1,
          3,
          3,
          3,
          3,
          3,
          3,
          3,
          3,
          1,
          1,
          3,
          3,
          3,
          1,
          3,
          1,
          3,
          3,
          3,
          2,
          2,
          3,
          3,
          3,
          3,
          3,
          2,
          3,
          3,
          1,
          3,
          3,
          3,
          3,
          3,
          1,
          3,
          3,
          3,
          1,
          1,
          2,
          3,
          1,
          3,
          3,
          3,
          3,
          3,
          1,
          3,
          3,
          3,
          2,
          1,
          2,
          3,
          2,
          1,
          3,
          3,
          3,
          3,
          3,
          3,
          2,
          2,
          1,
          3,
          1,
          3,
          2,
          2,
          3,
          2,
          2,
          2,
          3,
          3,
          3,
          1,
          3,
          3,
          3,
          3,
          3,
          3,
          3,
          3,
          1,
          3,
          1,
          3,
          3,
          1,
          3,
          3,
          2,
          3,
          2,
          3,
          2,
          1,
          1,
          3,
          3,
          2,
          2,
          3,
          3,
          3,
          3,
          3,
          3,
          3,
          3,
          3,
          1,
          3,
          3,
          2,
          3,
          2,
          2,
          3,
          2,
          3,
          3,
          1,
          3,
          2,
          3,
          2,
          3,
          2,
          2,
          2,
          2,
          2,
          2,
          3,
          3,
          1,
          1,
          2,
          3,
          1,
          3,
          3,
          3,
          1,
          1,
          2,
          3,
          3,
          1,
          3,
          1,
          2,
          3,
          3,
          3,
          3,
          3,
          1,
          3,
          3,
          3,
          2,
          2,
          3,
          1,
          3,
          1,
          3,
          3,
          3,
          1,
          2,
          3,
          2,
          2,
          3,
          3,
          3,
          3,
          1,
          1,
          3,
          3,
          1,
          3,
          1,
          2,
          2,
          2,
          2,
          3,
          3,
          3,
          1,
          3,
          3,
          3,
          3,
          3,
          2,
          3,
          3,
          3,
          1,
          3,
          3,
          1,
          1,
          3,
          3,
          3,
          3,
          2,
          3,
          3,
          1,
          3,
          3,
          3,
          2,
          2,
          3,
          3,
          3,
          2,
          3,
          2,
          3,
          3,
          3,
          2,
          3,
          2,
          3,
          3,
          3,
          3,
          3,
          3,
          3,
          1,
          3,
          1,
          1,
          2,
          3,
          3,
          3,
          1,
          1,
          1,
          2,
          3,
          1,
          1,
          3,
          3,
          1,
          3,
          1,
          3,
          1,
          2,
          3,
          3,
          2,
          1,
          3,
          3,
          3,
          1,
          2,
          3,
          3,
          3,
          2,
          3,
          1,
          1,
          3,
          3,
          3,
          3,
          1,
          1,
          3,
          3,
          3,
          3,
          3,
          1,
          1,
          3,
          3,
          3,
          3,
          1,
          3,
          1,
          3,
          3,
          3,
          3,
          3,
          3,
          1,
          3,
          2,
          3,
          3,
          1,
          3,
          2,
          1,
          1,
          2,
          3,
          2,
          1,
          2,
          3,
          3,
          1,
          1,
          3,
          3,
          2,
          3,
          3,
          3,
          3,
          3,
          2,
          1,
          3,
          3,
          3,
          2,
          1,
          3,
          2,
          1,
          3,
          3,
          3,
          3,
          2,
          3,
          3,
          3,
          1,
          3,
          1,
          3,
          1,
          3,
          3,
          1,
          3,
          3,
          3,
          3,
          2,
          3,
          1,
          3,
          3,
          3,
          1,
          2,
          3,
          3,
          1,
          3,
          1,
          1,
          3,
          2,
          3,
          3,
          3,
          1,
          3,
          1,
          3,
          3,
          3,
          2,
          3,
          2,
          1,
          1,
          3,
          1,
          3,
          3,
          2,
          2,
          3,
          3,
          1,
          2,
          2,
          2,
          3,
          3,
          1,
          1,
          3,
          3,
          2,
          2,
          3,
          3,
          3,
          1,
          3,
          3,
          1,
          2,
          3,
          1,
          3,
          1,
          3,
          3,
          2,
          1,
          3,
          1,
          1,
          3,
          2,
          3,
          3,
          3,
          3,
          2,
          2,
          1,
          3,
          2,
          3,
          2,
          2,
          2,
          3,
          1,
          3,
          3,
          1,
          1,
          3,
          3,
          1,
          3,
          1,
          3,
          3,
          3,
          3,
          2,
          3,
          2,
          3,
          3,
          3,
          3,
          3,
          1,
          3,
          3,
          3,
          3,
          3,
          3,
          3,
          3,
          1,
          3,
          3,
          3,
          3,
          3,
          1,
          3,
          2,
          1,
          3,
          2,
          3,
          2,
          1,
          3,
          3,
          3,
          1,
          2,
          3,
          3,
          2,
          3,
          1,
          2,
          3,
          3,
          3,
          1,
          3,
          3,
          3,
          2,
          3,
          2,
          3,
          3,
          3,
          3,
          3,
          3,
          1,
          3,
          2,
          3,
          3,
          3,
          3,
          3,
          2,
          3,
          3,
          1,
          3,
          3,
          2,
          2,
          1,
          3,
          3,
          3,
          1,
          3,
          3,
          3,
          3,
          3,
          2,
          3,
          2,
          1,
          3
         ],
         "xaxis": "x",
         "yaxis": "y"
        },
        {
         "alignmentgroup": "True",
         "bingroup": "x",
         "hovertemplate": "Sex=female<br>Pclass=%{x}<br>count=%{y}<extra></extra>",
         "legendgroup": "female",
         "marker": {
          "color": "#EF553B",
          "pattern": {
           "shape": ""
          }
         },
         "name": "female",
         "offsetgroup": "female",
         "orientation": "v",
         "showlegend": true,
         "type": "histogram",
         "x": [
          1,
          3,
          1,
          3,
          2,
          3,
          1,
          3,
          2,
          3,
          3,
          3,
          3,
          3,
          3,
          1,
          3,
          3,
          3,
          3,
          2,
          2,
          3,
          3,
          3,
          1,
          2,
          2,
          2,
          1,
          2,
          3,
          3,
          3,
          3,
          2,
          3,
          1,
          2,
          3,
          3,
          3,
          3,
          3,
          3,
          3,
          2,
          3,
          3,
          2,
          1,
          3,
          3,
          3,
          3,
          1,
          3,
          2,
          1,
          3,
          3,
          1,
          3,
          3,
          3,
          2,
          3,
          1,
          1,
          3,
          2,
          3,
          3,
          2,
          1,
          3,
          1,
          3,
          1,
          3,
          3,
          2,
          3,
          3,
          3,
          2,
          3,
          3,
          3,
          1,
          1,
          1,
          2,
          3,
          1,
          1,
          2,
          3,
          1,
          3,
          3,
          3,
          1,
          1,
          3,
          1,
          1,
          3,
          2,
          1,
          1,
          1,
          1,
          1,
          2,
          3,
          2,
          1,
          1,
          2,
          2,
          1,
          2,
          3,
          1,
          3,
          1,
          1,
          1,
          2,
          2,
          3,
          1,
          2,
          3,
          3,
          3,
          1,
          3,
          3,
          1,
          3,
          1,
          3,
          1,
          3,
          1,
          2,
          2,
          1,
          3,
          3,
          2,
          3,
          3,
          3,
          1,
          3,
          2,
          2,
          3,
          3,
          2,
          2,
          3,
          2,
          1,
          3,
          2,
          2,
          2,
          2,
          3,
          1,
          2,
          3,
          2,
          2,
          3,
          3,
          3,
          3,
          1,
          1,
          1,
          3,
          3,
          3,
          1,
          2,
          1,
          2,
          2,
          1,
          1,
          2,
          2,
          3,
          3,
          2,
          1,
          1,
          1,
          3,
          3,
          2,
          3,
          1,
          1,
          3,
          3,
          3,
          1,
          3,
          2,
          1,
          3,
          2,
          1,
          1,
          1,
          3,
          2,
          2,
          2,
          1,
          3,
          3,
          2,
          3,
          2,
          1,
          3,
          2,
          3,
          1,
          3,
          3,
          3,
          2,
          3,
          3,
          3,
          1,
          2,
          3,
          3,
          3,
          1,
          3,
          3,
          1,
          3,
          2,
          1,
          1,
          1,
          2,
          2,
          2,
          3,
          3,
          1,
          3,
          1,
          2,
          2,
          2,
          1,
          1,
          1,
          3,
          2,
          2,
          3,
          1,
          3,
          1,
          3,
          3,
          1,
          3,
          3,
          2,
          3,
          1,
          3,
          3,
          1,
          3,
          1,
          3,
          1,
          1,
          1,
          3,
          1,
          2,
          3,
          1,
          3,
          1,
          3,
          2,
          2,
          1,
          2,
          3,
          1,
          2,
          3,
          3,
          1,
          3
         ],
         "xaxis": "x",
         "yaxis": "y"
        }
       ],
       "layout": {
        "barmode": "relative",
        "legend": {
         "title": {
          "text": "Sex"
         },
         "tracegroupgap": 0
        },
        "margin": {
         "t": 60
        },
        "template": {
         "data": {
          "bar": [
           {
            "error_x": {
             "color": "#2a3f5f"
            },
            "error_y": {
             "color": "#2a3f5f"
            },
            "marker": {
             "line": {
              "color": "#E5ECF6",
              "width": 0.5
             },
             "pattern": {
              "fillmode": "overlay",
              "size": 10,
              "solidity": 0.2
             }
            },
            "type": "bar"
           }
          ],
          "barpolar": [
           {
            "marker": {
             "line": {
              "color": "#E5ECF6",
              "width": 0.5
             },
             "pattern": {
              "fillmode": "overlay",
              "size": 10,
              "solidity": 0.2
             }
            },
            "type": "barpolar"
           }
          ],
          "carpet": [
           {
            "aaxis": {
             "endlinecolor": "#2a3f5f",
             "gridcolor": "white",
             "linecolor": "white",
             "minorgridcolor": "white",
             "startlinecolor": "#2a3f5f"
            },
            "baxis": {
             "endlinecolor": "#2a3f5f",
             "gridcolor": "white",
             "linecolor": "white",
             "minorgridcolor": "white",
             "startlinecolor": "#2a3f5f"
            },
            "type": "carpet"
           }
          ],
          "choropleth": [
           {
            "colorbar": {
             "outlinewidth": 0,
             "ticks": ""
            },
            "type": "choropleth"
           }
          ],
          "contour": [
           {
            "colorbar": {
             "outlinewidth": 0,
             "ticks": ""
            },
            "colorscale": [
             [
              0,
              "#0d0887"
             ],
             [
              0.1111111111111111,
              "#46039f"
             ],
             [
              0.2222222222222222,
              "#7201a8"
             ],
             [
              0.3333333333333333,
              "#9c179e"
             ],
             [
              0.4444444444444444,
              "#bd3786"
             ],
             [
              0.5555555555555556,
              "#d8576b"
             ],
             [
              0.6666666666666666,
              "#ed7953"
             ],
             [
              0.7777777777777778,
              "#fb9f3a"
             ],
             [
              0.8888888888888888,
              "#fdca26"
             ],
             [
              1,
              "#f0f921"
             ]
            ],
            "type": "contour"
           }
          ],
          "contourcarpet": [
           {
            "colorbar": {
             "outlinewidth": 0,
             "ticks": ""
            },
            "type": "contourcarpet"
           }
          ],
          "heatmap": [
           {
            "colorbar": {
             "outlinewidth": 0,
             "ticks": ""
            },
            "colorscale": [
             [
              0,
              "#0d0887"
             ],
             [
              0.1111111111111111,
              "#46039f"
             ],
             [
              0.2222222222222222,
              "#7201a8"
             ],
             [
              0.3333333333333333,
              "#9c179e"
             ],
             [
              0.4444444444444444,
              "#bd3786"
             ],
             [
              0.5555555555555556,
              "#d8576b"
             ],
             [
              0.6666666666666666,
              "#ed7953"
             ],
             [
              0.7777777777777778,
              "#fb9f3a"
             ],
             [
              0.8888888888888888,
              "#fdca26"
             ],
             [
              1,
              "#f0f921"
             ]
            ],
            "type": "heatmap"
           }
          ],
          "heatmapgl": [
           {
            "colorbar": {
             "outlinewidth": 0,
             "ticks": ""
            },
            "colorscale": [
             [
              0,
              "#0d0887"
             ],
             [
              0.1111111111111111,
              "#46039f"
             ],
             [
              0.2222222222222222,
              "#7201a8"
             ],
             [
              0.3333333333333333,
              "#9c179e"
             ],
             [
              0.4444444444444444,
              "#bd3786"
             ],
             [
              0.5555555555555556,
              "#d8576b"
             ],
             [
              0.6666666666666666,
              "#ed7953"
             ],
             [
              0.7777777777777778,
              "#fb9f3a"
             ],
             [
              0.8888888888888888,
              "#fdca26"
             ],
             [
              1,
              "#f0f921"
             ]
            ],
            "type": "heatmapgl"
           }
          ],
          "histogram": [
           {
            "marker": {
             "pattern": {
              "fillmode": "overlay",
              "size": 10,
              "solidity": 0.2
             }
            },
            "type": "histogram"
           }
          ],
          "histogram2d": [
           {
            "colorbar": {
             "outlinewidth": 0,
             "ticks": ""
            },
            "colorscale": [
             [
              0,
              "#0d0887"
             ],
             [
              0.1111111111111111,
              "#46039f"
             ],
             [
              0.2222222222222222,
              "#7201a8"
             ],
             [
              0.3333333333333333,
              "#9c179e"
             ],
             [
              0.4444444444444444,
              "#bd3786"
             ],
             [
              0.5555555555555556,
              "#d8576b"
             ],
             [
              0.6666666666666666,
              "#ed7953"
             ],
             [
              0.7777777777777778,
              "#fb9f3a"
             ],
             [
              0.8888888888888888,
              "#fdca26"
             ],
             [
              1,
              "#f0f921"
             ]
            ],
            "type": "histogram2d"
           }
          ],
          "histogram2dcontour": [
           {
            "colorbar": {
             "outlinewidth": 0,
             "ticks": ""
            },
            "colorscale": [
             [
              0,
              "#0d0887"
             ],
             [
              0.1111111111111111,
              "#46039f"
             ],
             [
              0.2222222222222222,
              "#7201a8"
             ],
             [
              0.3333333333333333,
              "#9c179e"
             ],
             [
              0.4444444444444444,
              "#bd3786"
             ],
             [
              0.5555555555555556,
              "#d8576b"
             ],
             [
              0.6666666666666666,
              "#ed7953"
             ],
             [
              0.7777777777777778,
              "#fb9f3a"
             ],
             [
              0.8888888888888888,
              "#fdca26"
             ],
             [
              1,
              "#f0f921"
             ]
            ],
            "type": "histogram2dcontour"
           }
          ],
          "mesh3d": [
           {
            "colorbar": {
             "outlinewidth": 0,
             "ticks": ""
            },
            "type": "mesh3d"
           }
          ],
          "parcoords": [
           {
            "line": {
             "colorbar": {
              "outlinewidth": 0,
              "ticks": ""
             }
            },
            "type": "parcoords"
           }
          ],
          "pie": [
           {
            "automargin": true,
            "type": "pie"
           }
          ],
          "scatter": [
           {
            "marker": {
             "colorbar": {
              "outlinewidth": 0,
              "ticks": ""
             }
            },
            "type": "scatter"
           }
          ],
          "scatter3d": [
           {
            "line": {
             "colorbar": {
              "outlinewidth": 0,
              "ticks": ""
             }
            },
            "marker": {
             "colorbar": {
              "outlinewidth": 0,
              "ticks": ""
             }
            },
            "type": "scatter3d"
           }
          ],
          "scattercarpet": [
           {
            "marker": {
             "colorbar": {
              "outlinewidth": 0,
              "ticks": ""
             }
            },
            "type": "scattercarpet"
           }
          ],
          "scattergeo": [
           {
            "marker": {
             "colorbar": {
              "outlinewidth": 0,
              "ticks": ""
             }
            },
            "type": "scattergeo"
           }
          ],
          "scattergl": [
           {
            "marker": {
             "colorbar": {
              "outlinewidth": 0,
              "ticks": ""
             }
            },
            "type": "scattergl"
           }
          ],
          "scattermapbox": [
           {
            "marker": {
             "colorbar": {
              "outlinewidth": 0,
              "ticks": ""
             }
            },
            "type": "scattermapbox"
           }
          ],
          "scatterpolar": [
           {
            "marker": {
             "colorbar": {
              "outlinewidth": 0,
              "ticks": ""
             }
            },
            "type": "scatterpolar"
           }
          ],
          "scatterpolargl": [
           {
            "marker": {
             "colorbar": {
              "outlinewidth": 0,
              "ticks": ""
             }
            },
            "type": "scatterpolargl"
           }
          ],
          "scatterternary": [
           {
            "marker": {
             "colorbar": {
              "outlinewidth": 0,
              "ticks": ""
             }
            },
            "type": "scatterternary"
           }
          ],
          "surface": [
           {
            "colorbar": {
             "outlinewidth": 0,
             "ticks": ""
            },
            "colorscale": [
             [
              0,
              "#0d0887"
             ],
             [
              0.1111111111111111,
              "#46039f"
             ],
             [
              0.2222222222222222,
              "#7201a8"
             ],
             [
              0.3333333333333333,
              "#9c179e"
             ],
             [
              0.4444444444444444,
              "#bd3786"
             ],
             [
              0.5555555555555556,
              "#d8576b"
             ],
             [
              0.6666666666666666,
              "#ed7953"
             ],
             [
              0.7777777777777778,
              "#fb9f3a"
             ],
             [
              0.8888888888888888,
              "#fdca26"
             ],
             [
              1,
              "#f0f921"
             ]
            ],
            "type": "surface"
           }
          ],
          "table": [
           {
            "cells": {
             "fill": {
              "color": "#EBF0F8"
             },
             "line": {
              "color": "white"
             }
            },
            "header": {
             "fill": {
              "color": "#C8D4E3"
             },
             "line": {
              "color": "white"
             }
            },
            "type": "table"
           }
          ]
         },
         "layout": {
          "annotationdefaults": {
           "arrowcolor": "#2a3f5f",
           "arrowhead": 0,
           "arrowwidth": 1
          },
          "autotypenumbers": "strict",
          "coloraxis": {
           "colorbar": {
            "outlinewidth": 0,
            "ticks": ""
           }
          },
          "colorscale": {
           "diverging": [
            [
             0,
             "#8e0152"
            ],
            [
             0.1,
             "#c51b7d"
            ],
            [
             0.2,
             "#de77ae"
            ],
            [
             0.3,
             "#f1b6da"
            ],
            [
             0.4,
             "#fde0ef"
            ],
            [
             0.5,
             "#f7f7f7"
            ],
            [
             0.6,
             "#e6f5d0"
            ],
            [
             0.7,
             "#b8e186"
            ],
            [
             0.8,
             "#7fbc41"
            ],
            [
             0.9,
             "#4d9221"
            ],
            [
             1,
             "#276419"
            ]
           ],
           "sequential": [
            [
             0,
             "#0d0887"
            ],
            [
             0.1111111111111111,
             "#46039f"
            ],
            [
             0.2222222222222222,
             "#7201a8"
            ],
            [
             0.3333333333333333,
             "#9c179e"
            ],
            [
             0.4444444444444444,
             "#bd3786"
            ],
            [
             0.5555555555555556,
             "#d8576b"
            ],
            [
             0.6666666666666666,
             "#ed7953"
            ],
            [
             0.7777777777777778,
             "#fb9f3a"
            ],
            [
             0.8888888888888888,
             "#fdca26"
            ],
            [
             1,
             "#f0f921"
            ]
           ],
           "sequentialminus": [
            [
             0,
             "#0d0887"
            ],
            [
             0.1111111111111111,
             "#46039f"
            ],
            [
             0.2222222222222222,
             "#7201a8"
            ],
            [
             0.3333333333333333,
             "#9c179e"
            ],
            [
             0.4444444444444444,
             "#bd3786"
            ],
            [
             0.5555555555555556,
             "#d8576b"
            ],
            [
             0.6666666666666666,
             "#ed7953"
            ],
            [
             0.7777777777777778,
             "#fb9f3a"
            ],
            [
             0.8888888888888888,
             "#fdca26"
            ],
            [
             1,
             "#f0f921"
            ]
           ]
          },
          "colorway": [
           "#636efa",
           "#EF553B",
           "#00cc96",
           "#ab63fa",
           "#FFA15A",
           "#19d3f3",
           "#FF6692",
           "#B6E880",
           "#FF97FF",
           "#FECB52"
          ],
          "font": {
           "color": "#2a3f5f"
          },
          "geo": {
           "bgcolor": "white",
           "lakecolor": "white",
           "landcolor": "#E5ECF6",
           "showlakes": true,
           "showland": true,
           "subunitcolor": "white"
          },
          "hoverlabel": {
           "align": "left"
          },
          "hovermode": "closest",
          "mapbox": {
           "style": "light"
          },
          "paper_bgcolor": "white",
          "plot_bgcolor": "#E5ECF6",
          "polar": {
           "angularaxis": {
            "gridcolor": "white",
            "linecolor": "white",
            "ticks": ""
           },
           "bgcolor": "#E5ECF6",
           "radialaxis": {
            "gridcolor": "white",
            "linecolor": "white",
            "ticks": ""
           }
          },
          "scene": {
           "xaxis": {
            "backgroundcolor": "#E5ECF6",
            "gridcolor": "white",
            "gridwidth": 2,
            "linecolor": "white",
            "showbackground": true,
            "ticks": "",
            "zerolinecolor": "white"
           },
           "yaxis": {
            "backgroundcolor": "#E5ECF6",
            "gridcolor": "white",
            "gridwidth": 2,
            "linecolor": "white",
            "showbackground": true,
            "ticks": "",
            "zerolinecolor": "white"
           },
           "zaxis": {
            "backgroundcolor": "#E5ECF6",
            "gridcolor": "white",
            "gridwidth": 2,
            "linecolor": "white",
            "showbackground": true,
            "ticks": "",
            "zerolinecolor": "white"
           }
          },
          "shapedefaults": {
           "line": {
            "color": "#2a3f5f"
           }
          },
          "ternary": {
           "aaxis": {
            "gridcolor": "white",
            "linecolor": "white",
            "ticks": ""
           },
           "baxis": {
            "gridcolor": "white",
            "linecolor": "white",
            "ticks": ""
           },
           "bgcolor": "#E5ECF6",
           "caxis": {
            "gridcolor": "white",
            "linecolor": "white",
            "ticks": ""
           }
          },
          "title": {
           "x": 0.05
          },
          "xaxis": {
           "automargin": true,
           "gridcolor": "white",
           "linecolor": "white",
           "ticks": "",
           "title": {
            "standoff": 15
           },
           "zerolinecolor": "white",
           "zerolinewidth": 2
          },
          "yaxis": {
           "automargin": true,
           "gridcolor": "white",
           "linecolor": "white",
           "ticks": "",
           "title": {
            "standoff": 15
           },
           "zerolinecolor": "white",
           "zerolinewidth": 2
          }
         }
        },
        "xaxis": {
         "anchor": "y",
         "domain": [
          0,
          1
         ],
         "title": {
          "text": "Pclass"
         }
        },
        "yaxis": {
         "anchor": "x",
         "domain": [
          0,
          1
         ],
         "title": {
          "text": "count"
         }
        }
       }
      },
      "text/html": [
       "<div>                            <div id=\"ff781d15-5a78-462d-8faa-87745e728780\" class=\"plotly-graph-div\" style=\"height:525px; width:100%;\"></div>            <script type=\"text/javascript\">                require([\"plotly\"], function(Plotly) {                    window.PLOTLYENV=window.PLOTLYENV || {};                                    if (document.getElementById(\"ff781d15-5a78-462d-8faa-87745e728780\")) {                    Plotly.newPlot(                        \"ff781d15-5a78-462d-8faa-87745e728780\",                        [{\"alignmentgroup\":\"True\",\"bingroup\":\"x\",\"hovertemplate\":\"Sex=male<br>Pclass=%{x}<br>count=%{y}<extra></extra>\",\"legendgroup\":\"male\",\"marker\":{\"color\":\"#636efa\",\"pattern\":{\"shape\":\"\"}},\"name\":\"male\",\"offsetgroup\":\"male\",\"orientation\":\"v\",\"showlegend\":true,\"x\":[3,3,3,1,3,3,3,3,2,2,2,1,3,1,3,1,2,1,1,3,3,3,3,3,3,3,3,1,1,3,3,3,1,3,1,3,3,3,2,2,3,3,3,3,3,2,3,3,1,3,3,3,3,3,1,3,3,3,1,1,2,3,1,3,3,3,3,3,1,3,3,3,2,1,2,3,2,1,3,3,3,3,3,3,2,2,1,3,1,3,2,2,3,2,2,2,3,3,3,1,3,3,3,3,3,3,3,3,1,3,1,3,3,1,3,3,2,3,2,3,2,1,1,3,3,2,2,3,3,3,3,3,3,3,3,3,1,3,3,2,3,2,2,3,2,3,3,1,3,2,3,2,3,2,2,2,2,2,2,3,3,1,1,2,3,1,3,3,3,1,1,2,3,3,1,3,1,2,3,3,3,3,3,1,3,3,3,2,2,3,1,3,1,3,3,3,1,2,3,2,2,3,3,3,3,1,1,3,3,1,3,1,2,2,2,2,3,3,3,1,3,3,3,3,3,2,3,3,3,1,3,3,1,1,3,3,3,3,2,3,3,1,3,3,3,2,2,3,3,3,2,3,2,3,3,3,2,3,2,3,3,3,3,3,3,3,1,3,1,1,2,3,3,3,1,1,1,2,3,1,1,3,3,1,3,1,3,1,2,3,3,2,1,3,3,3,1,2,3,3,3,2,3,1,1,3,3,3,3,1,1,3,3,3,3,3,1,1,3,3,3,3,1,3,1,3,3,3,3,3,3,1,3,2,3,3,1,3,2,1,1,2,3,2,1,2,3,3,1,1,3,3,2,3,3,3,3,3,2,1,3,3,3,2,1,3,2,1,3,3,3,3,2,3,3,3,1,3,1,3,1,3,3,1,3,3,3,3,2,3,1,3,3,3,1,2,3,3,1,3,1,1,3,2,3,3,3,1,3,1,3,3,3,2,3,2,1,1,3,1,3,3,2,2,3,3,1,2,2,2,3,3,1,1,3,3,2,2,3,3,3,1,3,3,1,2,3,1,3,1,3,3,2,1,3,1,1,3,2,3,3,3,3,2,2,1,3,2,3,2,2,2,3,1,3,3,1,1,3,3,1,3,1,3,3,3,3,2,3,2,3,3,3,3,3,1,3,3,3,3,3,3,3,3,1,3,3,3,3,3,1,3,2,1,3,2,3,2,1,3,3,3,1,2,3,3,2,3,1,2,3,3,3,1,3,3,3,2,3,2,3,3,3,3,3,3,1,3,2,3,3,3,3,3,2,3,3,1,3,3,2,2,1,3,3,3,1,3,3,3,3,3,2,3,2,1,3],\"xaxis\":\"x\",\"yaxis\":\"y\",\"type\":\"histogram\"},{\"alignmentgroup\":\"True\",\"bingroup\":\"x\",\"hovertemplate\":\"Sex=female<br>Pclass=%{x}<br>count=%{y}<extra></extra>\",\"legendgroup\":\"female\",\"marker\":{\"color\":\"#EF553B\",\"pattern\":{\"shape\":\"\"}},\"name\":\"female\",\"offsetgroup\":\"female\",\"orientation\":\"v\",\"showlegend\":true,\"x\":[1,3,1,3,2,3,1,3,2,3,3,3,3,3,3,1,3,3,3,3,2,2,3,3,3,1,2,2,2,1,2,3,3,3,3,2,3,1,2,3,3,3,3,3,3,3,2,3,3,2,1,3,3,3,3,1,3,2,1,3,3,1,3,3,3,2,3,1,1,3,2,3,3,2,1,3,1,3,1,3,3,2,3,3,3,2,3,3,3,1,1,1,2,3,1,1,2,3,1,3,3,3,1,1,3,1,1,3,2,1,1,1,1,1,2,3,2,1,1,2,2,1,2,3,1,3,1,1,1,2,2,3,1,2,3,3,3,1,3,3,1,3,1,3,1,3,1,2,2,1,3,3,2,3,3,3,1,3,2,2,3,3,2,2,3,2,1,3,2,2,2,2,3,1,2,3,2,2,3,3,3,3,1,1,1,3,3,3,1,2,1,2,2,1,1,2,2,3,3,2,1,1,1,3,3,2,3,1,1,3,3,3,1,3,2,1,3,2,1,1,1,3,2,2,2,1,3,3,2,3,2,1,3,2,3,1,3,3,3,2,3,3,3,1,2,3,3,3,1,3,3,1,3,2,1,1,1,2,2,2,3,3,1,3,1,2,2,2,1,1,1,3,2,2,3,1,3,1,3,3,1,3,3,2,3,1,3,3,1,3,1,3,1,1,1,3,1,2,3,1,3,1,3,2,2,1,2,3,1,2,3,3,1,3],\"xaxis\":\"x\",\"yaxis\":\"y\",\"type\":\"histogram\"}],                        {\"template\":{\"data\":{\"bar\":[{\"error_x\":{\"color\":\"#2a3f5f\"},\"error_y\":{\"color\":\"#2a3f5f\"},\"marker\":{\"line\":{\"color\":\"#E5ECF6\",\"width\":0.5},\"pattern\":{\"fillmode\":\"overlay\",\"size\":10,\"solidity\":0.2}},\"type\":\"bar\"}],\"barpolar\":[{\"marker\":{\"line\":{\"color\":\"#E5ECF6\",\"width\":0.5},\"pattern\":{\"fillmode\":\"overlay\",\"size\":10,\"solidity\":0.2}},\"type\":\"barpolar\"}],\"carpet\":[{\"aaxis\":{\"endlinecolor\":\"#2a3f5f\",\"gridcolor\":\"white\",\"linecolor\":\"white\",\"minorgridcolor\":\"white\",\"startlinecolor\":\"#2a3f5f\"},\"baxis\":{\"endlinecolor\":\"#2a3f5f\",\"gridcolor\":\"white\",\"linecolor\":\"white\",\"minorgridcolor\":\"white\",\"startlinecolor\":\"#2a3f5f\"},\"type\":\"carpet\"}],\"choropleth\":[{\"colorbar\":{\"outlinewidth\":0,\"ticks\":\"\"},\"type\":\"choropleth\"}],\"contour\":[{\"colorbar\":{\"outlinewidth\":0,\"ticks\":\"\"},\"colorscale\":[[0.0,\"#0d0887\"],[0.1111111111111111,\"#46039f\"],[0.2222222222222222,\"#7201a8\"],[0.3333333333333333,\"#9c179e\"],[0.4444444444444444,\"#bd3786\"],[0.5555555555555556,\"#d8576b\"],[0.6666666666666666,\"#ed7953\"],[0.7777777777777778,\"#fb9f3a\"],[0.8888888888888888,\"#fdca26\"],[1.0,\"#f0f921\"]],\"type\":\"contour\"}],\"contourcarpet\":[{\"colorbar\":{\"outlinewidth\":0,\"ticks\":\"\"},\"type\":\"contourcarpet\"}],\"heatmap\":[{\"colorbar\":{\"outlinewidth\":0,\"ticks\":\"\"},\"colorscale\":[[0.0,\"#0d0887\"],[0.1111111111111111,\"#46039f\"],[0.2222222222222222,\"#7201a8\"],[0.3333333333333333,\"#9c179e\"],[0.4444444444444444,\"#bd3786\"],[0.5555555555555556,\"#d8576b\"],[0.6666666666666666,\"#ed7953\"],[0.7777777777777778,\"#fb9f3a\"],[0.8888888888888888,\"#fdca26\"],[1.0,\"#f0f921\"]],\"type\":\"heatmap\"}],\"heatmapgl\":[{\"colorbar\":{\"outlinewidth\":0,\"ticks\":\"\"},\"colorscale\":[[0.0,\"#0d0887\"],[0.1111111111111111,\"#46039f\"],[0.2222222222222222,\"#7201a8\"],[0.3333333333333333,\"#9c179e\"],[0.4444444444444444,\"#bd3786\"],[0.5555555555555556,\"#d8576b\"],[0.6666666666666666,\"#ed7953\"],[0.7777777777777778,\"#fb9f3a\"],[0.8888888888888888,\"#fdca26\"],[1.0,\"#f0f921\"]],\"type\":\"heatmapgl\"}],\"histogram\":[{\"marker\":{\"pattern\":{\"fillmode\":\"overlay\",\"size\":10,\"solidity\":0.2}},\"type\":\"histogram\"}],\"histogram2d\":[{\"colorbar\":{\"outlinewidth\":0,\"ticks\":\"\"},\"colorscale\":[[0.0,\"#0d0887\"],[0.1111111111111111,\"#46039f\"],[0.2222222222222222,\"#7201a8\"],[0.3333333333333333,\"#9c179e\"],[0.4444444444444444,\"#bd3786\"],[0.5555555555555556,\"#d8576b\"],[0.6666666666666666,\"#ed7953\"],[0.7777777777777778,\"#fb9f3a\"],[0.8888888888888888,\"#fdca26\"],[1.0,\"#f0f921\"]],\"type\":\"histogram2d\"}],\"histogram2dcontour\":[{\"colorbar\":{\"outlinewidth\":0,\"ticks\":\"\"},\"colorscale\":[[0.0,\"#0d0887\"],[0.1111111111111111,\"#46039f\"],[0.2222222222222222,\"#7201a8\"],[0.3333333333333333,\"#9c179e\"],[0.4444444444444444,\"#bd3786\"],[0.5555555555555556,\"#d8576b\"],[0.6666666666666666,\"#ed7953\"],[0.7777777777777778,\"#fb9f3a\"],[0.8888888888888888,\"#fdca26\"],[1.0,\"#f0f921\"]],\"type\":\"histogram2dcontour\"}],\"mesh3d\":[{\"colorbar\":{\"outlinewidth\":0,\"ticks\":\"\"},\"type\":\"mesh3d\"}],\"parcoords\":[{\"line\":{\"colorbar\":{\"outlinewidth\":0,\"ticks\":\"\"}},\"type\":\"parcoords\"}],\"pie\":[{\"automargin\":true,\"type\":\"pie\"}],\"scatter\":[{\"marker\":{\"colorbar\":{\"outlinewidth\":0,\"ticks\":\"\"}},\"type\":\"scatter\"}],\"scatter3d\":[{\"line\":{\"colorbar\":{\"outlinewidth\":0,\"ticks\":\"\"}},\"marker\":{\"colorbar\":{\"outlinewidth\":0,\"ticks\":\"\"}},\"type\":\"scatter3d\"}],\"scattercarpet\":[{\"marker\":{\"colorbar\":{\"outlinewidth\":0,\"ticks\":\"\"}},\"type\":\"scattercarpet\"}],\"scattergeo\":[{\"marker\":{\"colorbar\":{\"outlinewidth\":0,\"ticks\":\"\"}},\"type\":\"scattergeo\"}],\"scattergl\":[{\"marker\":{\"colorbar\":{\"outlinewidth\":0,\"ticks\":\"\"}},\"type\":\"scattergl\"}],\"scattermapbox\":[{\"marker\":{\"colorbar\":{\"outlinewidth\":0,\"ticks\":\"\"}},\"type\":\"scattermapbox\"}],\"scatterpolar\":[{\"marker\":{\"colorbar\":{\"outlinewidth\":0,\"ticks\":\"\"}},\"type\":\"scatterpolar\"}],\"scatterpolargl\":[{\"marker\":{\"colorbar\":{\"outlinewidth\":0,\"ticks\":\"\"}},\"type\":\"scatterpolargl\"}],\"scatterternary\":[{\"marker\":{\"colorbar\":{\"outlinewidth\":0,\"ticks\":\"\"}},\"type\":\"scatterternary\"}],\"surface\":[{\"colorbar\":{\"outlinewidth\":0,\"ticks\":\"\"},\"colorscale\":[[0.0,\"#0d0887\"],[0.1111111111111111,\"#46039f\"],[0.2222222222222222,\"#7201a8\"],[0.3333333333333333,\"#9c179e\"],[0.4444444444444444,\"#bd3786\"],[0.5555555555555556,\"#d8576b\"],[0.6666666666666666,\"#ed7953\"],[0.7777777777777778,\"#fb9f3a\"],[0.8888888888888888,\"#fdca26\"],[1.0,\"#f0f921\"]],\"type\":\"surface\"}],\"table\":[{\"cells\":{\"fill\":{\"color\":\"#EBF0F8\"},\"line\":{\"color\":\"white\"}},\"header\":{\"fill\":{\"color\":\"#C8D4E3\"},\"line\":{\"color\":\"white\"}},\"type\":\"table\"}]},\"layout\":{\"annotationdefaults\":{\"arrowcolor\":\"#2a3f5f\",\"arrowhead\":0,\"arrowwidth\":1},\"autotypenumbers\":\"strict\",\"coloraxis\":{\"colorbar\":{\"outlinewidth\":0,\"ticks\":\"\"}},\"colorscale\":{\"diverging\":[[0,\"#8e0152\"],[0.1,\"#c51b7d\"],[0.2,\"#de77ae\"],[0.3,\"#f1b6da\"],[0.4,\"#fde0ef\"],[0.5,\"#f7f7f7\"],[0.6,\"#e6f5d0\"],[0.7,\"#b8e186\"],[0.8,\"#7fbc41\"],[0.9,\"#4d9221\"],[1,\"#276419\"]],\"sequential\":[[0.0,\"#0d0887\"],[0.1111111111111111,\"#46039f\"],[0.2222222222222222,\"#7201a8\"],[0.3333333333333333,\"#9c179e\"],[0.4444444444444444,\"#bd3786\"],[0.5555555555555556,\"#d8576b\"],[0.6666666666666666,\"#ed7953\"],[0.7777777777777778,\"#fb9f3a\"],[0.8888888888888888,\"#fdca26\"],[1.0,\"#f0f921\"]],\"sequentialminus\":[[0.0,\"#0d0887\"],[0.1111111111111111,\"#46039f\"],[0.2222222222222222,\"#7201a8\"],[0.3333333333333333,\"#9c179e\"],[0.4444444444444444,\"#bd3786\"],[0.5555555555555556,\"#d8576b\"],[0.6666666666666666,\"#ed7953\"],[0.7777777777777778,\"#fb9f3a\"],[0.8888888888888888,\"#fdca26\"],[1.0,\"#f0f921\"]]},\"colorway\":[\"#636efa\",\"#EF553B\",\"#00cc96\",\"#ab63fa\",\"#FFA15A\",\"#19d3f3\",\"#FF6692\",\"#B6E880\",\"#FF97FF\",\"#FECB52\"],\"font\":{\"color\":\"#2a3f5f\"},\"geo\":{\"bgcolor\":\"white\",\"lakecolor\":\"white\",\"landcolor\":\"#E5ECF6\",\"showlakes\":true,\"showland\":true,\"subunitcolor\":\"white\"},\"hoverlabel\":{\"align\":\"left\"},\"hovermode\":\"closest\",\"mapbox\":{\"style\":\"light\"},\"paper_bgcolor\":\"white\",\"plot_bgcolor\":\"#E5ECF6\",\"polar\":{\"angularaxis\":{\"gridcolor\":\"white\",\"linecolor\":\"white\",\"ticks\":\"\"},\"bgcolor\":\"#E5ECF6\",\"radialaxis\":{\"gridcolor\":\"white\",\"linecolor\":\"white\",\"ticks\":\"\"}},\"scene\":{\"xaxis\":{\"backgroundcolor\":\"#E5ECF6\",\"gridcolor\":\"white\",\"gridwidth\":2,\"linecolor\":\"white\",\"showbackground\":true,\"ticks\":\"\",\"zerolinecolor\":\"white\"},\"yaxis\":{\"backgroundcolor\":\"#E5ECF6\",\"gridcolor\":\"white\",\"gridwidth\":2,\"linecolor\":\"white\",\"showbackground\":true,\"ticks\":\"\",\"zerolinecolor\":\"white\"},\"zaxis\":{\"backgroundcolor\":\"#E5ECF6\",\"gridcolor\":\"white\",\"gridwidth\":2,\"linecolor\":\"white\",\"showbackground\":true,\"ticks\":\"\",\"zerolinecolor\":\"white\"}},\"shapedefaults\":{\"line\":{\"color\":\"#2a3f5f\"}},\"ternary\":{\"aaxis\":{\"gridcolor\":\"white\",\"linecolor\":\"white\",\"ticks\":\"\"},\"baxis\":{\"gridcolor\":\"white\",\"linecolor\":\"white\",\"ticks\":\"\"},\"bgcolor\":\"#E5ECF6\",\"caxis\":{\"gridcolor\":\"white\",\"linecolor\":\"white\",\"ticks\":\"\"}},\"title\":{\"x\":0.05},\"xaxis\":{\"automargin\":true,\"gridcolor\":\"white\",\"linecolor\":\"white\",\"ticks\":\"\",\"title\":{\"standoff\":15},\"zerolinecolor\":\"white\",\"zerolinewidth\":2},\"yaxis\":{\"automargin\":true,\"gridcolor\":\"white\",\"linecolor\":\"white\",\"ticks\":\"\",\"title\":{\"standoff\":15},\"zerolinecolor\":\"white\",\"zerolinewidth\":2}}},\"xaxis\":{\"anchor\":\"y\",\"domain\":[0.0,1.0],\"title\":{\"text\":\"Pclass\"}},\"yaxis\":{\"anchor\":\"x\",\"domain\":[0.0,1.0],\"title\":{\"text\":\"count\"}},\"legend\":{\"title\":{\"text\":\"Sex\"},\"tracegroupgap\":0},\"margin\":{\"t\":60},\"barmode\":\"relative\"},                        {\"responsive\": true}                    ).then(function(){\n",
       "                            \n",
       "var gd = document.getElementById('ff781d15-5a78-462d-8faa-87745e728780');\n",
       "var x = new MutationObserver(function (mutations, observer) {{\n",
       "        var display = window.getComputedStyle(gd).display;\n",
       "        if (!display || display === 'none') {{\n",
       "            console.log([gd, 'removed!']);\n",
       "            Plotly.purge(gd);\n",
       "            observer.disconnect();\n",
       "        }}\n",
       "}});\n",
       "\n",
       "// Listen for the removal of the full notebook cells\n",
       "var notebookContainer = gd.closest('#notebook-container');\n",
       "if (notebookContainer) {{\n",
       "    x.observe(notebookContainer, {childList: true});\n",
       "}}\n",
       "\n",
       "// Listen for the clearing of the current output cell\n",
       "var outputEl = gd.closest('.output');\n",
       "if (outputEl) {{\n",
       "    x.observe(outputEl, {childList: true});\n",
       "}}\n",
       "\n",
       "                        })                };                });            </script>        </div>"
      ]
     },
     "metadata": {},
     "output_type": "display_data"
    },
    {
     "data": {
      "application/vnd.plotly.v1+json": {
       "config": {
        "plotlyServerURL": "https://plot.ly"
       },
       "data": [
        {
         "alignmentgroup": "True",
         "bingroup": "x",
         "hovertemplate": "Sex=male<br>Name=%{x}<br>count=%{y}<extra></extra>",
         "legendgroup": "male",
         "marker": {
          "color": "#636efa",
          "pattern": {
           "shape": ""
          }
         },
         "name": "male",
         "offsetgroup": "male",
         "orientation": "v",
         "showlegend": true,
         "type": "histogram",
         "x": [
          "Braund, Mr. Owen Harris",
          "Allen, Mr. William Henry",
          "Moran, Mr. James",
          "McCarthy, Mr. Timothy J",
          "Palsson, Master. Gosta Leonard",
          "Saundercock, Mr. William Henry",
          "Andersson, Mr. Anders Johan",
          "Rice, Master. Eugene",
          "Williams, Mr. Charles Eugene",
          "Fynney, Mr. Joseph J",
          "Beesley, Mr. Lawrence",
          "Sloper, Mr. William Thompson",
          "Emir, Mr. Farred Chehab",
          "Fortune, Mr. Charles Alexander",
          "Todoroff, Mr. Lalio",
          "Uruchurtu, Don. Manuel E",
          "Wheadon, Mr. Edward H",
          "Meyer, Mr. Edgar Joseph",
          "Holverson, Mr. Alexander Oskar",
          "Mamee, Mr. Hanna",
          "Cann, Mr. Ernest Charles",
          "Kraeff, Mr. Theodor",
          "Rogers, Mr. William John",
          "Lennon, Mr. Denis",
          "Samaan, Mr. Youssef",
          "Panula, Master. Juha Niilo",
          "Nosworthy, Mr. Richard Cater",
          "Ostby, Mr. Engelhart Cornelius",
          "Woolner, Mr. Hugh",
          "Novel, Mr. Mansouer",
          "Goodwin, Master. William Frederick",
          "Sirayanian, Mr. Orsen",
          "Harris, Mr. Henry Birkhardt",
          "Skoog, Master. Harald",
          "Stewart, Mr. Albert A",
          "Moubarek, Master. Gerios",
          "Crease, Mr. Ernest James",
          "Kink, Mr. Vincenz",
          "Jenkin, Mr. Stephen Curnow",
          "Hood, Mr. Ambrose Jr",
          "Chronopoulos, Mr. Apostolos",
          "Bing, Mr. Lee",
          "Moen, Mr. Sigurd Hansen",
          "Staneff, Mr. Ivan",
          "Moutal, Mr. Rahamin Haim",
          "Caldwell, Master. Alden Gates",
          "Waelens, Mr. Achille",
          "Sheerlinck, Mr. Jan Baptist",
          "Carrau, Mr. Francisco M",
          "Ford, Mr. William Neal",
          "Slocovski, Mr. Selman Francis",
          "Celotti, Mr. Francesco",
          "Christmann, Mr. Emil",
          "Andreasson, Mr. Paul Edvin",
          "Chaffee, Mr. Herbert Fuller",
          "Dean, Mr. Bertram Frank",
          "Coxon, Mr. Daniel",
          "Shorney, Mr. Charles Joseph",
          "Goldschmidt, Mr. George B",
          "Greenfield, Mr. William Bertram",
          "Kantor, Mr. Sinai",
          "Petroff, Mr. Pastcho (\"Pentcho\")",
          "White, Mr. Richard Frasar",
          "Johansson, Mr. Gustaf Joel",
          "Gustafsson, Mr. Anders Vilhelm",
          "Mionoff, Mr. Stoytcho",
          "Moss, Mr. Albert Johan",
          "Rekic, Mr. Tido",
          "Porter, Mr. Walter Chamberlain",
          "Barton, Mr. David John",
          "Pekoniemi, Mr. Edvard",
          "Connors, Mr. Patrick",
          "Turpin, Mr. William John Robert",
          "Baxter, Mr. Quigg Edmond",
          "Hickman, Mr. Stanley George",
          "Moore, Mr. Leonard Charles",
          "Nasser, Mr. Nicholas",
          "White, Mr. Percival Wayland",
          "Nicola-Yarred, Master. Elias",
          "McMahon, Mr. Martin",
          "Madsen, Mr. Fridtjof Arne",
          "Ekstrom, Mr. Johan",
          "Drazenoic, Mr. Jozef",
          "Coelho, Mr. Domingos Fernandeo",
          "Sobey, Mr. Samuel James Hayden",
          "Richard, Mr. Emile",
          "Futrelle, Mr. Jacques Heath",
          "Osen, Mr. Olaf Elon",
          "Giglio, Mr. Victor",
          "Burke, Mr. Jeremiah",
          "Andrew, Mr. Edgardo Samuel",
          "Nicholls, Mr. Joseph Charles",
          "Andersson, Mr. August Edvard (\"Wennerstrom\")",
          "Navratil, Mr. Michel (\"Louis M Hoffman\")",
          "Byles, Rev. Thomas Roussel Davids",
          "Bateman, Rev. Robert James",
          "Meo, Mr. Alfonzo",
          "van Billiard, Mr. Austin Blyler",
          "Olsen, Mr. Ole Martin",
          "Williams, Mr. Charles Duane",
          "Corn, Mr. Harry",
          "Smiljanic, Mr. Mile",
          "Sage, Master. Thomas Henry",
          "Cribb, Mr. John Hatfield",
          "Bengtsson, Mr. John Viktor",
          "Calic, Mr. Jovo",
          "Panula, Master. Eino Viljami",
          "Goldsmith, Master. Frank John William \"Frankie\"",
          "Baumann, Mr. John D",
          "Ling, Mr. Lee",
          "Van der hoef, Mr. Wyckoff",
          "Rice, Master. Arthur",
          "Sivola, Mr. Antti Wilhelm",
          "Smith, Mr. James Clinch",
          "Klasen, Mr. Klas Albin",
          "Lefebre, Master. Henry Forbes",
          "Hale, Mr. Reginald",
          "Leonard, Mr. Lionel",
          "Pernot, Mr. Rene",
          "Asplund, Master. Clarence Gustaf Hugo",
          "Becker, Master. Richard F",
          "Rood, Mr. Hugh Roscoe",
          "Romaine, Mr. Charles Hallace (\"Mr C Rolmane\")",
          "Bourke, Mr. John",
          "Turcin, Mr. Stjepan",
          "Carbines, Mr. William",
          "Navratil, Master. Michel M",
          "Mernagh, Mr. Robert",
          "Olsen, Mr. Karl Siegwart Andreas",
          "Vande Walle, Mr. Nestor Cyriel",
          "Sage, Mr. Frederick",
          "Johanson, Mr. Jakob Alfred",
          "Youseff, Mr. Gerious",
          "Cohen, Mr. Gurshon \"Gus\"",
          "Backstrom, Mr. Karl Alfred",
          "Albimona, Mr. Nassef Cassem",
          "Blank, Mr. Henry",
          "Ali, Mr. Ahmed",
          "Perkin, Mr. John Henry",
          "Givard, Mr. Hans Kristensen",
          "Kiernan, Mr. Philip",
          "Jacobsohn, Mr. Sidney Samuel",
          "Harris, Mr. Walter",
          "Sunderland, Mr. Victor Francis",
          "Bracken, Mr. James H",
          "Green, Mr. George Henry",
          "Nenkoff, Mr. Christo",
          "Hoyt, Mr. Frederick Maxfield",
          "Berglund, Mr. Karl Ivar Sven",
          "Mellors, Mr. William John",
          "Lovell, Mr. John Hall (\"Henry\")",
          "Fahlstrom, Mr. Arne Jonas",
          "Larsson, Mr. Bengt Edvin",
          "Sjostedt, Mr. Ernst Adolf",
          "Leyson, Mr. Robert William Norman",
          "Hold, Mr. Stephen",
          "Pengelly, Mr. Frederick William",
          "Hunt, Mr. George Henry",
          "Coleridge, Mr. Reginald Charles",
          "Maenpaa, Mr. Matti Alexanteri",
          "Attalah, Mr. Sleiman",
          "Minahan, Dr. William Edward",
          "Beckwith, Mr. Richard Leonard",
          "Carter, Rev. Ernest Courtenay",
          "Reed, Mr. James George",
          "Stead, Mr. William Thomas",
          "Lobb, Mr. William Arthur",
          "Smith, Mr. Thomas",
          "Asplund, Master. Edvin Rojj Felix",
          "Taussig, Mr. Emil",
          "Harrison, Mr. William",
          "Reeves, Mr. David",
          "Panula, Mr. Ernesti Arvid",
          "Persson, Mr. Ernst Ulrik",
          "Cairns, Mr. Alexander",
          "Tornquist, Mr. William Henry",
          "Natsch, Mr. Charles H",
          "Parkes, Mr. Francis \"Frank\"",
          "Rice, Master. Eric",
          "Duane, Mr. Frank",
          "Olsson, Mr. Nils Johan Goransson",
          "de Pelsmaeker, Mr. Alfons",
          "Dorking, Mr. Edward Arthur",
          "Smith, Mr. Richard William",
          "Stankovic, Mr. Ivan",
          "de Mulder, Mr. Theodore",
          "Naidenoff, Mr. Penko",
          "Hosono, Mr. Masabumi",
          "Levy, Mr. Rene Jacques",
          "Mineff, Mr. Ivan",
          "Lewy, Mr. Ervin G",
          "Hanna, Mr. Mansour",
          "Saalfeld, Mr. Adolphe",
          "McCoy, Mr. Bernard",
          "Johnson, Mr. William Cahoone Jr",
          "Williams, Mr. Howard Hugh \"Harry\"",
          "Allison, Master. Hudson Trevor",
          "Abelson, Mr. Samuel",
          "Hendekovic, Mr. Ignjac",
          "Hart, Mr. Benjamin",
          "Moraweck, Dr. Ernest",
          "Dennis, Mr. Samuel",
          "Danoff, Mr. Yoto",
          "Sage, Mr. George John Jr",
          "Nysveen, Mr. Johan Hansen",
          "Partner, Mr. Austen",
          "Graham, Mr. George Edward",
          "Vander Planke, Mr. Leo Edmondus",
          "Denkoff, Mr. Mitto",
          "Pears, Mr. Thomas Clinton",
          "Dahl, Mr. Karl Edwart",
          "Blackwell, Mr. Stephen Weart",
          "Navratil, Master. Edmond Roger",
          "Collander, Mr. Erik Gustaf",
          "Sedgwick, Mr. Charles Frederick Waddington",
          "Fox, Mr. Stanley Hubert",
          "Coutts, Master. William Loch \"William\"",
          "Dimic, Mr. Jovan",
          "Odahl, Mr. Nils Martin",
          "Williams-Lambert, Mr. Fletcher Fellows",
          "Elias, Mr. Tannous",
          "Arnold-Franchi, Mr. Josef",
          "Yousif, Mr. Wazli",
          "Vanden Steen, Mr. Leo Peter",
          "Skoog, Mr. Wilhelm",
          "del Carlo, Mr. Sebastiano",
          "Asim, Mr. Adola",
          "O'Brien, Mr. Thomas",
          "Adahl, Mr. Mauritz Nils Martin",
          "Harder, Mr. George Achilles",
          "Wiklund, Mr. Jakob Alfred",
          "Beavan, Mr. William Thomas",
          "Ringhini, Mr. Sante",
          "Widener, Mr. Harry Elkins",
          "Betros, Mr. Tannous",
          "Gustafsson, Mr. Karl Gideon",
          "Tikkanen, Mr. Juho",
          "Plotcharsky, Mr. Vasil",
          "Davies, Mr. Charles Henry",
          "Goodwin, Master. Sidney Leonard",
          "Sadlier, Mr. Matthew",
          "Carter, Mr. William Ernest",
          "Jansson, Mr. Carl Olof",
          "Gustafsson, Mr. Johan Birger",
          "Johansson, Mr. Erik",
          "McKane, Mr. Peter David",
          "Pain, Dr. Alfred",
          "Niskanen, Mr. Juha",
          "Adams, Mr. John",
          "Hakkarainen, Mr. Pekka Pietari",
          "Gale, Mr. Shadrach",
          "Widegren, Mr. Carl/Charles Peter",
          "Richards, Master. William Rowe",
          "Birkeland, Mr. Hans Martin Monsen",
          "Sdycoff, Mr. Todor",
          "Hart, Mr. Henry",
          "Cunningham, Mr. Alfred Fleming",
          "Sundman, Mr. Johan Julian",
          "Matthews, Mr. William John",
          "Gheorgheff, Mr. Stanio",
          "Charters, Mr. David",
          "Zimmerman, Mr. Leo",
          "Rosblom, Mr. Viktor Richard",
          "Wiseman, Mr. Phillippe",
          "Flynn, Mr. James",
          "Pickard, Mr. Berk (Berk Trembisky)",
          "Bjornstrom-Steffansson, Mr. Mauritz Hakan",
          "Kallio, Mr. Nikolai Erland",
          "Silvey, Mr. William Baird",
          "Fortune, Mr. Mark",
          "Kvillner, Mr. Johan Henrik Johannesson",
          "Hampe, Mr. Leon",
          "Petterson, Mr. Johan Emil",
          "Johannesen-Bratthammer, Mr. Bernt",
          "Dodge, Master. Washington",
          "Seward, Mr. Frederic Kimber",
          "Peuchen, Major. Arthur Godfrey",
          "West, Mr. Edwy Arthur",
          "Hagland, Mr. Ingvald Olai Olsen",
          "Foreman, Mr. Benjamin Laventall",
          "Goldenberg, Mr. Samuel L",
          "Peduzzi, Mr. Joseph",
          "Jalsevac, Mr. Ivan",
          "Millet, Mr. Francis Davis",
          "O'Connor, Mr. Maurice",
          "Anderson, Mr. Harry",
          "Morley, Mr. William",
          "Gee, Mr. Arthur H",
          "Milling, Mr. Jacob Christian",
          "Maisner, Mr. Simon",
          "Goncalves, Mr. Manuel Estanslas",
          "Campbell, Mr. William",
          "Smart, Mr. John Montgomery",
          "Scanlan, Mr. James",
          "Keefe, Mr. Arthur",
          "Cacic, Mr. Luka",
          "Clifford, Mr. George Quincy",
          "Renouf, Mr. Peter Henry",
          "Braund, Mr. Lewis Richard",
          "Karlsson, Mr. Nils August",
          "Goodwin, Master. Harold Victor",
          "Frost, Mr. Anthony Wood \"Archie\"",
          "Rouse, Mr. Richard Henry",
          "Bishop, Mr. Dickinson H",
          "Kent, Mr. Edward Austin",
          "Somerton, Mr. Francis William",
          "Coutts, Master. Eden Leslie \"Neville\"",
          "Hagland, Mr. Konrad Mathias Reiersen",
          "Windelov, Mr. Einar",
          "Molson, Mr. Harry Markland",
          "Artagaveytia, Mr. Ramon",
          "Stanley, Mr. Edward Roland",
          "Yousseff, Mr. Gerious",
          "Shellard, Mr. Frederick William",
          "Svensson, Mr. Olof",
          "Calic, Mr. Petar",
          "Penasco y Castellana, Mr. Victor de Satode",
          "Bradley, Mr. George (\"George Arthur Brayton\")",
          "Olsen, Mr. Henry Margido",
          "Lang, Mr. Fang",
          "Daly, Mr. Eugene Patrick",
          "Webber, Mr. James",
          "McGough, Mr. James Robert",
          "Coleff, Mr. Satio",
          "Walker, Mr. William Anderson",
          "Ryan, Mr. Patrick",
          "Pavlovic, Mr. Stefo",
          "Vovk, Mr. Janko",
          "Lahoud, Mr. Sarkis",
          "Kassem, Mr. Fared",
          "Farrell, Mr. James",
          "Farthing, Mr. John",
          "Salonen, Mr. Johan Werner",
          "Hocking, Mr. Richard George",
          "Toufik, Mr. Nakli",
          "Elias, Mr. Joseph Jr",
          "Butt, Major. Archibald Willingham",
          "Risien, Mr. Samuel Beard",
          "Beane, Mr. Edward",
          "Douglas, Mr. Walter Donald",
          "Nicholson, Mr. Arthur Ernest",
          "Padro y Manent, Mr. Julian",
          "Goldsmith, Mr. Frank John",
          "Davies, Master. John Morgan Jr",
          "Thayer, Mr. John Borland Jr",
          "Sharp, Mr. Percival James R",
          "O'Brien, Mr. Timothy",
          "Leeni, Mr. Fahim (\"Philip Zenni\")",
          "Wright, Mr. George",
          "Robbins, Mr. Victor",
          "Morrow, Mr. Thomas Rowan",
          "Sivic, Mr. Husein",
          "Norman, Mr. Robert Douglas",
          "Simmons, Mr. John",
          "Davies, Mr. Alfred J",
          "Stoytcheff, Mr. Ilia",
          "Doharr, Mr. Tannous",
          "Jonsson, Mr. Carl",
          "Harris, Mr. George",
          "Flynn, Mr. John Irwin (\"Irving\")",
          "Rush, Mr. Alfred George John",
          "Patchett, Mr. George",
          "Jussila, Mr. Eiriik",
          "Downton, Mr. William James",
          "Ross, Mr. John Hugo",
          "Paulner, Mr. Uscher",
          "Jarvis, Mr. John Denzil",
          "Frolicher-Stehli, Mr. Maxmillian",
          "Gilinski, Mr. Eliezer",
          "Murdlin, Mr. Joseph",
          "Rintamaki, Mr. Matti",
          "Elsbury, Mr. William James",
          "Chapman, Mr. John Henry",
          "Van Impe, Mr. Jean Baptiste",
          "Johnson, Mr. Alfred",
          "Boulos, Mr. Hanna",
          "Duff Gordon, Sir. Cosmo Edmund (\"Mr Morgan\")",
          "Slabenoff, Mr. Petco",
          "Harrington, Mr. Charles H",
          "Torber, Mr. Ernst William",
          "Homer, Mr. Harry (\"Mr E Haven\")",
          "Lindell, Mr. Edvard Bengtsson",
          "Karaic, Mr. Milan",
          "Daniel, Mr. Robert Williams",
          "Jardin, Mr. Jose Neto",
          "Horgan, Mr. John",
          "Brocklebank, Mr. William Alfred",
          "Danbom, Mr. Ernst Gilbert",
          "Gavey, Mr. Lawrence",
          "Yasbeck, Mr. Antoni",
          "Kimball, Mr. Edwin Nelson Jr",
          "Nakid, Mr. Sahid",
          "Hansen, Mr. Henry Damsgaard",
          "Bowen, Mr. David John \"Dai\"",
          "Sutton, Mr. Frederick",
          "Kirkland, Rev. Charles Leonard",
          "Bostandyeff, Mr. Guentcho",
          "O'Connell, Mr. Patrick D",
          "Barkworth, Mr. Algernon Henry Wilson",
          "Lundahl, Mr. Johan Svensson",
          "Stahelin-Maeglin, Dr. Max",
          "Parr, Mr. William Henry Marsh",
          "Leinonen, Mr. Antti Gustaf",
          "Collyer, Mr. Harvey",
          "Thorneycroft, Mr. Percival",
          "Jensen, Mr. Hans Peder",
          "Foo, Mr. Choong",
          "Harper, Mr. Henry Sleeper",
          "Cor, Mr. Liudevit",
          "Simonius-Blumer, Col. Oberst Alfons",
          "Willey, Mr. Edward",
          "Mitkoff, Mr. Mito",
          "Kalvik, Mr. Johannes Halvorsen",
          "Hickman, Mr. Leonard Mark",
          "Radeff, Mr. Alexander",
          "Eitemiller, Mr. George Floyd",
          "Newell, Mr. Arthur Webster",
          "Frauenthal, Dr. Henry William",
          "Badt, Mr. Mohamed",
          "Colley, Mr. Edward Pomeroy",
          "Coleff, Mr. Peju",
          "Lindqvist, Mr. Eino William",
          "Hickman, Mr. Lewis",
          "Butler, Mr. Reginald Fenton",
          "Rommetvedt, Mr. Knud Paust",
          "Cook, Mr. Jacob",
          "Davidson, Mr. Thornton",
          "Mitchell, Mr. Henry Michael",
          "Wilhelms, Mr. Charles",
          "Watson, Mr. Ennis Hastings",
          "Edvardsson, Mr. Gustaf Hjalmar",
          "Sawyer, Mr. Frederick Charles",
          "Cardeza, Mr. Thomas Drake Martinez",
          "Hassab, Mr. Hammad",
          "Olsvigen, Mr. Thor Anderson",
          "Goodwin, Mr. Charles Edward",
          "Brown, Mr. Thomas William Solomon",
          "Laroche, Mr. Joseph Philippe Lemercier",
          "Panula, Mr. Jaako Arnold",
          "Dakic, Mr. Branko",
          "Fischer, Mr. Eberhard Thelander",
          "Dick, Mr. Albert Adrian",
          "Lam, Mr. Ali",
          "Saad, Mr. Khalil",
          "Weir, Col. John",
          "Chapman, Mr. Charles Henry",
          "Kelly, Mr. James",
          "Thayer, Mr. John Borland",
          "Humblen, Mr. Adolf Mathias Nicolai Olsen",
          "Silverthorne, Mr. Spencer Victor",
          "Gallagher, Mr. Martin",
          "Hansen, Mr. Henrik Juul",
          "Morley, Mr. Henry Samuel (\"Mr Henry Marshall\")",
          "Calderhead, Mr. Edward Pennington",
          "Moubarek, Master. Halim Gonios (\"William George\")",
          "Klaber, Mr. Herman",
          "Taylor, Mr. Elmer Zebley",
          "Larsson, Mr. August Viktor",
          "Greenberg, Mr. Samuel",
          "Soholt, Mr. Peter Andreas Lauritz Andersen",
          "McEvoy, Mr. Michael",
          "Johnson, Mr. Malkolm Joackim",
          "Jensen, Mr. Svend Lauritz",
          "Gillespie, Mr. William Henry",
          "Hodges, Mr. Henry Price",
          "Chambers, Mr. Norman Campbell",
          "Oreskovic, Mr. Luka",
          "Bryhl, Mr. Kurt Arnold Gottfrid",
          "Hassan, Mr. Houssein G N",
          "Knight, Mr. Robert J",
          "Berriman, Mr. William John",
          "Troupiansky, Mr. Moses Aaron",
          "Williams, Mr. Leslie",
          "Lesurer, Mr. Gustave J",
          "Ivanoff, Mr. Kanio",
          "Nankoff, Mr. Minko",
          "Hawksford, Mr. Walter James",
          "Cavendish, Mr. Tyrell William",
          "McNamee, Mr. Neal",
          "Stranden, Mr. Juho",
          "Crosby, Capt. Edward Gifford",
          "Abbott, Mr. Rossmore Edward",
          "Marvin, Mr. Daniel Warner",
          "Connaghton, Mr. Michael",
          "Moor, Master. Meier",
          "Vande Velde, Mr. Johannes Joseph",
          "Jonkoff, Mr. Lalio",
          "Hamalainen, Master. Viljo",
          "Carlsson, Mr. August Sigfrid",
          "Bailey, Mr. Percy Andrew",
          "Theobald, Mr. Thomas Leonard",
          "Garfirth, Mr. John",
          "Nirva, Mr. Iisakki Antino Aijo",
          "Barah, Mr. Hanna Assi",
          "Eklund, Mr. Hans Linus",
          "Brewe, Dr. Arthur Jackson",
          "Moran, Mr. Daniel J",
          "Gronnestad, Mr. Daniel Danielsen",
          "Lievens, Mr. Rene Aime",
          "Jensen, Mr. Niels Peder",
          "Elias, Mr. Dibo",
          "Myhrman, Mr. Pehr Fabian Oliver Malkolm",
          "Tobin, Mr. Roger",
          "Kilgannon, Mr. Thomas J",
          "Long, Mr. Milton Clyde",
          "Johnston, Mr. Andrew G",
          "Ali, Mr. William",
          "Harmer, Mr. Abraham (David Lishin)",
          "Rice, Master. George Hugh",
          "Dean, Master. Bertram Vere",
          "Guggenheim, Mr. Benjamin",
          "Keane, Mr. Andrew \"Andy\"",
          "Gaskell, Mr. Alfred",
          "Hoyt, Mr. William Fisher",
          "Dantcheff, Mr. Ristiu",
          "Otter, Mr. Richard",
          "Ibrahim Shawah, Mr. Yousseff",
          "Ponesell, Mr. Martin",
          "Carter, Master. William Thornton II",
          "Thomas, Master. Assad Alexander",
          "Hedman, Mr. Oskar Arvid",
          "Johansson, Mr. Karl Johan",
          "Andrews, Mr. Thomas Jr",
          "Meyer, Mr. August",
          "Alexander, Mr. William",
          "Lester, Mr. James",
          "Slemen, Mr. Richard James",
          "Tomlin, Mr. Ernest Portage",
          "Fry, Mr. Richard",
          "Mallet, Mr. Albert",
          "Holm, Mr. John Fredrik Alexander",
          "Skoog, Master. Karl Thorsten",
          "Lulic, Mr. Nikola",
          "Reuchlin, Jonkheer. John George",
          "Panula, Master. Urho Abraham",
          "Flynn, Mr. John",
          "Lam, Mr. Len",
          "Mallet, Master. Andre",
          "McCormack, Mr. Thomas Joseph",
          "Richards, Master. George Sibley",
          "Saad, Mr. Amin",
          "Augustsson, Mr. Albert",
          "Allum, Mr. Owen George",
          "Pasic, Mr. Jakob",
          "Sirota, Mr. Maurice",
          "Chip, Mr. Chang",
          "Marechal, Mr. Pierre",
          "Alhomaki, Mr. Ilmari Rudolf",
          "Mudd, Mr. Thomas Charles",
          "Lemberopolous, Mr. Peter L",
          "Culumovic, Mr. Jeso",
          "Abbing, Mr. Anthony",
          "Sage, Mr. Douglas Bullen",
          "Markoff, Mr. Marin",
          "Harper, Rev. John",
          "Andersson, Master. Sigvard Harald Elias",
          "Svensson, Mr. Johan",
          "Daly, Mr. Peter Denis ",
          "Razi, Mr. Raihed",
          "Hansen, Mr. Claus Peter",
          "Giles, Mr. Frederick Edward",
          "Gill, Mr. John William",
          "Roebling, Mr. Washington Augustus II",
          "van Melkebeke, Mr. Philemon",
          "Johnson, Master. Harold Theodor",
          "Balkic, Mr. Cerin",
          "Carlsson, Mr. Frans Olof",
          "Vander Cruyssen, Mr. Victor",
          "Gustafsson, Mr. Alfred Ossian",
          "Petroff, Mr. Nedelio",
          "Laleff, Mr. Kristo",
          "Markun, Mr. Johann",
          "Banfield, Mr. Frederick James",
          "Sutehall, Mr. Henry Jr",
          "Montvila, Rev. Juozas",
          "Behr, Mr. Karl Howell",
          "Dooley, Mr. Patrick"
         ],
         "xaxis": "x",
         "yaxis": "y"
        },
        {
         "alignmentgroup": "True",
         "bingroup": "x",
         "hovertemplate": "Sex=female<br>Name=%{x}<br>count=%{y}<extra></extra>",
         "legendgroup": "female",
         "marker": {
          "color": "#EF553B",
          "pattern": {
           "shape": ""
          }
         },
         "name": "female",
         "offsetgroup": "female",
         "orientation": "v",
         "showlegend": true,
         "type": "histogram",
         "x": [
          "Cumings, Mrs. John Bradley (Florence Briggs Thayer)",
          "Heikkinen, Miss. Laina",
          "Futrelle, Mrs. Jacques Heath (Lily May Peel)",
          "Johnson, Mrs. Oscar W (Elisabeth Vilhelmina Berg)",
          "Nasser, Mrs. Nicholas (Adele Achem)",
          "Sandstrom, Miss. Marguerite Rut",
          "Bonnell, Miss. Elizabeth",
          "Vestrom, Miss. Hulda Amanda Adolfina",
          "Hewlett, Mrs. (Mary D Kingcome) ",
          "Vander Planke, Mrs. Julius (Emelia Maria Vandemoortele)",
          "Masselmani, Mrs. Fatima",
          "McGowan, Miss. Anna \"Annie\"",
          "Palsson, Miss. Torborg Danira",
          "Asplund, Mrs. Carl Oscar (Selma Augusta Emilia Johansson)",
          "O'Dwyer, Miss. Ellen \"Nellie\"",
          "Spencer, Mrs. William Augustus (Marie Eugenie)",
          "Glynn, Miss. Mary Agatha",
          "Vander Planke, Miss. Augusta Maria",
          "Nicola-Yarred, Miss. Jamila",
          "Ahlin, Mrs. Johan (Johanna Persdotter Larsson)",
          "Turpin, Mrs. William John Robert (Dorothy Ann Wonnacott)",
          "Laroche, Miss. Simonne Marie Anne Andree",
          "Devaney, Miss. Margaret Delia",
          "O'Driscoll, Miss. Bridget",
          "Arnold-Franchi, Mrs. Josef (Josefine Franchi)",
          "Harper, Mrs. Henry Sleeper (Myna Haxtun)",
          "Faunthorpe, Mrs. Lizzie (Elizabeth Anne Wilkinson)",
          "Rugg, Miss. Emily",
          "West, Miss. Constance Mirium",
          "Icard, Miss. Amelie",
          "Nye, Mrs. (Elizabeth Ramell)",
          "Andersson, Miss. Erna Alexandra",
          "Goodwin, Miss. Lillian Amy",
          "Dowdell, Miss. Elizabeth",
          "McDermott, Miss. Brigdet Delia",
          "Ilett, Miss. Bertha",
          "Backstrom, Mrs. Karl Alfred (Maria Mathilda Gustafsson)",
          "Fortune, Miss. Mabel Helen",
          "Doling, Mrs. John T (Ada Julia Bone)",
          "Petranec, Miss. Matilda",
          "Salkjelsvik, Miss. Anna Kristine",
          "Moran, Miss. Bertha",
          "Zabour, Miss. Hileni",
          "Jussila, Miss. Katriina",
          "Attalah, Miss. Malake",
          "Andersson, Miss. Ellis Anna Maria",
          "Webber, Miss. Susan",
          "Peter, Miss. Anna",
          "Robins, Mrs. Alexander A (Grace Charity Laury)",
          "Weisz, Mrs. Leopold (Mathilde Francoise Pede)",
          "Newsom, Miss. Helen Monypeny",
          "Boulos, Mrs. Joseph (Sultana)",
          "Nysten, Miss. Anna Sofia",
          "Hakkarainen, Mrs. Pekka Pietari (Elin Matilda Dolck)",
          "Ford, Miss. Robina Maggie \"Ruby\"",
          "Pears, Mrs. Thomas (Edith Wearne)",
          "Gilnagh, Miss. Katherine \"Katie\"",
          "Watt, Mrs. James (Elizabeth \"Bessie\" Inglis Milne)",
          "Chibnall, Mrs. (Edith Martha Bowerman)",
          "Skoog, Mrs. William (Anna Bernhardina Karlsson)",
          "Johnson, Miss. Eleanor Ileen",
          "Isham, Miss. Ann Elizabeth",
          "Sage, Miss. Constance Gladys",
          "Kink-Heilmann, Miss. Luise Gretchen",
          "O'Brien, Mrs. Thomas (Johanna \"Hannah\" Godfrey)",
          "Pinsky, Mrs. (Rosa)",
          "Andersen-Jensen, Miss. Carla Christine Nielsine",
          "Brown, Mrs. James Joseph (Margaret Tobin)",
          "Lurette, Miss. Elise",
          "Madigan, Miss. Margaret \"Maggie\"",
          "Yrois, Miss. Henriette (\"Mrs Harbeck\")",
          "Strom, Miss. Telma Matilda",
          "Carr, Miss. Helen \"Ellen\"",
          "Cameron, Miss. Clear Annie",
          "Newell, Miss. Madeleine",
          "Honkanen, Miss. Eliina",
          "Bazzani, Miss. Albina",
          "Lefebre, Miss. Mathilde",
          "Harris, Mrs. Henry Birkhardt (Irene Wallach)",
          "Asplund, Miss. Lillian Gertrud",
          "Harknett, Miss. Alice Phoebe",
          "Collyer, Miss. Marjorie \"Lottie\"",
          "Zabour, Miss. Thamine",
          "Murphy, Miss. Katherine \"Kate\"",
          "Lindahl, Miss. Agda Thorilda Viktoria",
          "Hamalainen, Mrs. William (Anna)",
          "Strom, Mrs. Wilhelm (Elna Matilda Persson)",
          "Rosblom, Mrs. Viktor (Helena Wilhelmina)",
          "Touma, Mrs. Darwis (Hanne Youssef Razi)",
          "Thorne, Mrs. Gertrude Maybelle",
          "Cherry, Miss. Gladys",
          "Ward, Miss. Anna",
          "Parrish, Mrs. (Lutie Davis)",
          "Henry, Miss. Delia",
          "Graham, Mrs. William Thompson (Edith Junkins)",
          "Bissette, Miss. Amelia",
          "Mellinger, Mrs. (Elizabeth Anne Maidment)",
          "Healy, Miss. Hanora \"Nora\"",
          "Andrews, Miss. Kornelia Theodosia",
          "Lindblom, Miss. Augusta Charlotta",
          "Abbott, Mrs. Stanton (Rosa Hunt)",
          "Connolly, Miss. Kate",
          "Barber, Miss. Ellen \"Nellie\"",
          "Bishop, Mrs. Dickinson H (Helen Walton)",
          "Haas, Miss. Aloisia",
          "Allison, Miss. Helen Loraine",
          "Baxter, Mrs. James (Helene DeLaudeniere Chaput)",
          "Kelly, Miss. Anna Katherine \"Annie Kate\"",
          "Keane, Miss. Nora A",
          "Fleming, Miss. Margaret",
          "Penasco y Castellana, Mrs. Victor de Satode (Maria Josefa Perez de Soto y Vallejo)",
          "Francatelli, Miss. Laura Mabel",
          "Hays, Miss. Margaret Bechstein",
          "Ryerson, Miss. Emily Borie",
          "Lahtinen, Mrs. William (Anna Sylfven)",
          "Nilsson, Miss. Helmina Josefina",
          "Kantor, Mrs. Sinai (Miriam Sternin)",
          "Wick, Miss. Mary Natalie",
          "Spedden, Mrs. Frederic Oakley (Margaretta Corning Stone)",
          "Slayter, Miss. Hilda Mary",
          "Caldwell, Mrs. Albert Francis (Sylvia Mae Harbaugh)",
          "Young, Miss. Marie Grice",
          "Ball, Mrs. (Ada E Hall)",
          "Goldsmith, Mrs. Frank John (Emily Alice Brown)",
          "Hippach, Miss. Jean Gertrude",
          "McCoy, Miss. Agnes",
          "Frauenthal, Mrs. Henry William (Clara Heinsheimer)",
          "Burns, Miss. Elizabeth Margaret",
          "Fortune, Miss. Alice Elizabeth",
          "Brown, Miss. Amelia \"Mildred\"",
          "Smith, Miss. Marion Elsie",
          "Davison, Mrs. Thomas Henry (Mary E Finck)",
          "Bowerman, Miss. Elsie Edith",
          "Funk, Miss. Annie Clemmer",
          "McGovern, Miss. Mary",
          "Mockler, Miss. Helen Mary \"Ellie\"",
          "Barbara, Mrs. (Catherine David)",
          "Warren, Mrs. Frank Manley (Anna Sophia Atkinson)",
          "Moussa, Mrs. (Mantoura Boulos)",
          "Jermyn, Miss. Annie",
          "Aubart, Mme. Leontine Pauline",
          "Palsson, Miss. Stina Viola",
          "Meyer, Mrs. Edgar Joseph (Leila Saks)",
          "Landergren, Miss. Aurora Adelia",
          "Bidois, Miss. Rosalie",
          "Nakid, Miss. Maria (\"Mary\")",
          "Holverson, Mrs. Alexander Oskar (Mary Aline Towner)",
          "Buss, Miss. Kate",
          "Lehmann, Miss. Bertha",
          "Newell, Miss. Marjorie",
          "Sandstrom, Mrs. Hjalmar (Agnes Charlotta Bengtsson)",
          "Olsson, Miss. Elina",
          "Trout, Mrs. William H (Jessie L)",
          "Jussila, Miss. Mari Aina",
          "Oreskovic, Miss. Marija",
          "Lefebre, Miss. Ida",
          "Minahan, Miss. Daisy E",
          "Meek, Mrs. Thomas (Annie Louise Rowley)",
          "Drew, Mrs. James Vivian (Lulu Thorne Christian)",
          "Silven, Miss. Lyyli Karoliina",
          "Van Impe, Miss. Catharina",
          "Danbom, Mrs. Ernst Gilbert (Anna Sigrid Maria Brogren)",
          "Clarke, Mrs. Charles V (Ada Maria Winfield)",
          "Phillips, Miss. Kate Florence (\"Mrs Kate Louise Phillips Marshall\")",
          "Thorneycroft, Mrs. Percival (Florence Kate White)",
          "Louch, Mrs. Charles Alexander (Alice Adelaide Slow)",
          "Carter, Miss. Lucile Polk",
          "Ford, Miss. Doolina Margaret \"Daisy\"",
          "Richards, Mrs. Sidney (Emily Hocking)",
          "Hart, Mrs. Benjamin (Esther Ada Bloomfield)",
          "Reynaldo, Ms. Encarnacion",
          "Mellinger, Miss. Madeleine Violet",
          "Baclini, Miss. Marie Catherine",
          "Kenyon, Mrs. Frederick R (Marion)",
          "Toomey, Miss. Ellen",
          "Baclini, Miss. Helene Barbara",
          "West, Mrs. Edwy Arthur (Ada Mary Worth)",
          "Jerwan, Mrs. Amin S (Marie Marthe Thuillard)",
          "Strandberg, Miss. Ida Sofia",
          "Hirvonen, Miss. Hildur E",
          "Turkula, Mrs. (Hedwig)",
          "Lefebre, Miss. Jeannie",
          "Hoyt, Mrs. Frederick Maxfield (Jane Anne Forby)",
          "Eustis, Miss. Elizabeth Mussey",
          "Allison, Mrs. Hudson J C (Bessie Waldo Daniels)",
          "Canavan, Miss. Mary",
          "O'Sullivan, Miss. Bridget Mary",
          "Laitinen, Miss. Kristina Sofia",
          "Maioni, Miss. Roberta",
          "Quick, Mrs. Frederick Charles (Jane Richards)",
          "Rothschild, Mrs. Martin (Elizabeth L. Barrett)",
          "Lemore, Mrs. (Amelia Milley)",
          "Angle, Mrs. William A (Florence \"Mary\" Agnes Hughes)",
          "Perreault, Miss. Anne",
          "Hippach, Mrs. Louis Albert (Ida Sophia Fischer)",
          "Ridsdale, Miss. Lucy",
          "Quick, Miss. Phyllis May",
          "Peter, Mrs. Catherine (Catherine Rizk)",
          "Cacic, Miss. Marija",
          "Hart, Miss. Eva Miriam",
          "LeRoy, Miss. Bertha",
          "Frolicher, Miss. Hedwig Margaritha",
          "Crosby, Miss. Harriet R",
          "Andersson, Miss. Ingeborg Constanzia",
          "Andersson, Miss. Sigrid Elisabeth",
          "Beane, Mrs. Edward (Ethel Clarke)",
          "Ohman, Miss. Velin",
          "Duff Gordon, Lady. (Lucille Christiana Sutherland) (\"Mrs Morgan\")",
          "Taussig, Mrs. Emil (Tillie Mandelbaum)",
          "de Messemaeker, Mrs. Guillaume Joseph (Emma)",
          "Meanwell, Miss. (Marion Ogden)",
          "Palsson, Mrs. Nils (Alma Cornelia Berglund)",
          "Appleton, Mrs. Edward Dale (Charlotte Lamson)",
          "Kelly, Miss. Mary",
          "Garside, Miss. Ethel",
          "Silvey, Mrs. William Baird (Alice Munger)",
          "Caram, Mrs. Joseph (Maria Elias)",
          "Christy, Miss. Julie Rachel",
          "Thayer, Mrs. John Borland (Marian Longstreth Morris)",
          "Taussig, Miss. Ruth",
          "Stephenson, Mrs. Walter Bertram (Martha Eustis)",
          "Bourke, Miss. Mary",
          "Leitch, Miss. Jessie Wills",
          "Jacobsohn, Mrs. Sidney Samuel (Amy Frances Christy)",
          "Laroche, Mrs. Joseph (Juliette Marie Louise Lafargue)",
          "Shutes, Miss. Elizabeth W",
          "Andersson, Mrs. Anders Johan (Alfrida Konstantia Brogren)",
          "Murphy, Miss. Margaret Jane",
          "Herman, Miss. Alice",
          "Lobb, Mrs. William Arthur (Cordelia K Stanlick)",
          "Becker, Miss. Marion Louise",
          "Longley, Miss. Gretchen Fiske",
          "Skoog, Miss. Mabel",
          "Davis, Miss. Mary",
          "Panula, Mrs. Juha (Maria Emilia Ojala)",
          "Sagesser, Mlle. Emma",
          "Skoog, Miss. Margit Elizabeth",
          "Baclini, Miss. Eugenie",
          "Stanley, Miss. Amy Zillah Elsie",
          "Doling, Miss. Elsie",
          "O'Leary, Miss. Hanora \"Norah\"",
          "Hegarty, Miss. Hanora \"Nora\"",
          "Bourke, Mrs. John (Catherine)",
          "Taylor, Mrs. Elmer Zebley (Juliet Cummins Wright)",
          "Brown, Mrs. Thomas William Solomon (Elizabeth Catherine Ford)",
          "Turja, Miss. Anna Sofia",
          "Goodwin, Mrs. Frederick (Augusta Tyler)",
          "Peters, Miss. Katie",
          "Madill, Miss. Georgette Alexandra",
          "Karun, Miss. Manca",
          "Mullens, Miss. Katherine \"Katie\"",
          "Astor, Mrs. John Jacob (Madeleine Talmadge Force)",
          "Barbara, Miss. Saiide",
          "Kelly, Mrs. Florence \"Fannie\"",
          "Cleaver, Miss. Alice",
          "Mayne, Mlle. Berthe Antonine (\"Mrs de Villiers\")",
          "Endres, Miss. Caroline Louise",
          "Troutt, Miss. Edwina Celia \"Winnie\"",
          "Harper, Miss. Annie Jessie \"Nina\"",
          "Renouf, Mrs. Peter Henry (Lillian Jefferys)",
          "Mannion, Miss. Margareth",
          "Ilmakangas, Miss. Pieta Sofia",
          "Allen, Miss. Elisabeth Walton",
          "Ford, Mrs. Edward (Margaret Ann Watson)",
          "Ryerson, Miss. Susan Parker \"Suzette\"",
          "Sinkkonen, Miss. Anna",
          "Wells, Miss. Joan",
          "Herman, Mrs. Samuel (Jane Laver)",
          "Rothes, the Countess. of (Lucy Noel Martha Dyer-Edwards)",
          "Carter, Mrs. William Ernest (Lucile Polk)",
          "Hogeboom, Mrs. John C (Anna Andrews)",
          "Mangan, Miss. Mary",
          "Mack, Mrs. (Mary)",
          "Hocking, Mrs. Elizabeth (Eliza Needs)",
          "Emanuel, Miss. Virginia Ethel",
          "Robert, Mrs. Edward Scott (Elisabeth Walton McMillan)",
          "Ayoub, Miss. Banoura",
          "Dick, Mrs. Albert Adrian (Vera Gillespie)",
          "Sjoblom, Miss. Anna Sofia",
          "Sage, Miss. Stella Anna",
          "Leader, Dr. Alice (Farnham)",
          "Osman, Mrs. Mara",
          "Van Impe, Mrs. Jean Baptiste (Rosalie Paula Govaert)",
          "Collyer, Mrs. Harvey (Charlotte Annie Tate)",
          "Pettersson, Miss. Ellen Natalia",
          "Chambers, Mrs. Norman Campbell (Bertha Griggs)",
          "Andersson, Miss. Ebba Iris Alfrida",
          "Heininen, Miss. Wendla Maria",
          "Hays, Mrs. Charles Melville (Clara Jennings Gregg)",
          "Moor, Mrs. (Beila)",
          "Stone, Mrs. George Nelson (Martha Evelyn)",
          "Yasbeck, Mrs. Antoni (Selini Alexander)",
          "Compton, Miss. Sara Rebecca",
          "Serepeca, Miss. Augusta",
          "Goldenberg, Mrs. Samuel L (Edwiga Grabowska)",
          "Boulos, Miss. Nourelain",
          "Lines, Miss. Mary Conover",
          "Carter, Mrs. Ernest Courtenay (Lilian Hughes)",
          "Aks, Mrs. Sam (Leah Rosen)",
          "Wick, Mrs. George Dennick (Mary Hitchcock)",
          "Baclini, Mrs. Solomon (Latifa Qurban)",
          "Swift, Mrs. Frederick Joel (Margaret Welles Barron)",
          "Sage, Miss. Dorothy Edith \"Dolly\"",
          "Bystrom, Mrs. (Karolina)",
          "Duran y More, Miss. Asuncion",
          "Beckwith, Mrs. Richard Leonard (Sallie Monypeny)",
          "Abelson, Mrs. Samuel (Hannah Wizosky)",
          "Najib, Miss. Adele Kiamie \"Jane\"",
          "Potter, Mrs. Thomas Jr (Lily Alexenia Wilson)",
          "Shelley, Mrs. William (Imanita Parrish Hall)",
          "Dahlberg, Miss. Gerda Ulrika",
          "Rice, Mrs. William (Margaret Norton)",
          "Graham, Miss. Margaret Edith",
          "Johnston, Miss. Catherine Helen \"Carrie\""
         ],
         "xaxis": "x",
         "yaxis": "y"
        }
       ],
       "layout": {
        "barmode": "relative",
        "legend": {
         "title": {
          "text": "Sex"
         },
         "tracegroupgap": 0
        },
        "margin": {
         "t": 60
        },
        "template": {
         "data": {
          "bar": [
           {
            "error_x": {
             "color": "#2a3f5f"
            },
            "error_y": {
             "color": "#2a3f5f"
            },
            "marker": {
             "line": {
              "color": "#E5ECF6",
              "width": 0.5
             },
             "pattern": {
              "fillmode": "overlay",
              "size": 10,
              "solidity": 0.2
             }
            },
            "type": "bar"
           }
          ],
          "barpolar": [
           {
            "marker": {
             "line": {
              "color": "#E5ECF6",
              "width": 0.5
             },
             "pattern": {
              "fillmode": "overlay",
              "size": 10,
              "solidity": 0.2
             }
            },
            "type": "barpolar"
           }
          ],
          "carpet": [
           {
            "aaxis": {
             "endlinecolor": "#2a3f5f",
             "gridcolor": "white",
             "linecolor": "white",
             "minorgridcolor": "white",
             "startlinecolor": "#2a3f5f"
            },
            "baxis": {
             "endlinecolor": "#2a3f5f",
             "gridcolor": "white",
             "linecolor": "white",
             "minorgridcolor": "white",
             "startlinecolor": "#2a3f5f"
            },
            "type": "carpet"
           }
          ],
          "choropleth": [
           {
            "colorbar": {
             "outlinewidth": 0,
             "ticks": ""
            },
            "type": "choropleth"
           }
          ],
          "contour": [
           {
            "colorbar": {
             "outlinewidth": 0,
             "ticks": ""
            },
            "colorscale": [
             [
              0,
              "#0d0887"
             ],
             [
              0.1111111111111111,
              "#46039f"
             ],
             [
              0.2222222222222222,
              "#7201a8"
             ],
             [
              0.3333333333333333,
              "#9c179e"
             ],
             [
              0.4444444444444444,
              "#bd3786"
             ],
             [
              0.5555555555555556,
              "#d8576b"
             ],
             [
              0.6666666666666666,
              "#ed7953"
             ],
             [
              0.7777777777777778,
              "#fb9f3a"
             ],
             [
              0.8888888888888888,
              "#fdca26"
             ],
             [
              1,
              "#f0f921"
             ]
            ],
            "type": "contour"
           }
          ],
          "contourcarpet": [
           {
            "colorbar": {
             "outlinewidth": 0,
             "ticks": ""
            },
            "type": "contourcarpet"
           }
          ],
          "heatmap": [
           {
            "colorbar": {
             "outlinewidth": 0,
             "ticks": ""
            },
            "colorscale": [
             [
              0,
              "#0d0887"
             ],
             [
              0.1111111111111111,
              "#46039f"
             ],
             [
              0.2222222222222222,
              "#7201a8"
             ],
             [
              0.3333333333333333,
              "#9c179e"
             ],
             [
              0.4444444444444444,
              "#bd3786"
             ],
             [
              0.5555555555555556,
              "#d8576b"
             ],
             [
              0.6666666666666666,
              "#ed7953"
             ],
             [
              0.7777777777777778,
              "#fb9f3a"
             ],
             [
              0.8888888888888888,
              "#fdca26"
             ],
             [
              1,
              "#f0f921"
             ]
            ],
            "type": "heatmap"
           }
          ],
          "heatmapgl": [
           {
            "colorbar": {
             "outlinewidth": 0,
             "ticks": ""
            },
            "colorscale": [
             [
              0,
              "#0d0887"
             ],
             [
              0.1111111111111111,
              "#46039f"
             ],
             [
              0.2222222222222222,
              "#7201a8"
             ],
             [
              0.3333333333333333,
              "#9c179e"
             ],
             [
              0.4444444444444444,
              "#bd3786"
             ],
             [
              0.5555555555555556,
              "#d8576b"
             ],
             [
              0.6666666666666666,
              "#ed7953"
             ],
             [
              0.7777777777777778,
              "#fb9f3a"
             ],
             [
              0.8888888888888888,
              "#fdca26"
             ],
             [
              1,
              "#f0f921"
             ]
            ],
            "type": "heatmapgl"
           }
          ],
          "histogram": [
           {
            "marker": {
             "pattern": {
              "fillmode": "overlay",
              "size": 10,
              "solidity": 0.2
             }
            },
            "type": "histogram"
           }
          ],
          "histogram2d": [
           {
            "colorbar": {
             "outlinewidth": 0,
             "ticks": ""
            },
            "colorscale": [
             [
              0,
              "#0d0887"
             ],
             [
              0.1111111111111111,
              "#46039f"
             ],
             [
              0.2222222222222222,
              "#7201a8"
             ],
             [
              0.3333333333333333,
              "#9c179e"
             ],
             [
              0.4444444444444444,
              "#bd3786"
             ],
             [
              0.5555555555555556,
              "#d8576b"
             ],
             [
              0.6666666666666666,
              "#ed7953"
             ],
             [
              0.7777777777777778,
              "#fb9f3a"
             ],
             [
              0.8888888888888888,
              "#fdca26"
             ],
             [
              1,
              "#f0f921"
             ]
            ],
            "type": "histogram2d"
           }
          ],
          "histogram2dcontour": [
           {
            "colorbar": {
             "outlinewidth": 0,
             "ticks": ""
            },
            "colorscale": [
             [
              0,
              "#0d0887"
             ],
             [
              0.1111111111111111,
              "#46039f"
             ],
             [
              0.2222222222222222,
              "#7201a8"
             ],
             [
              0.3333333333333333,
              "#9c179e"
             ],
             [
              0.4444444444444444,
              "#bd3786"
             ],
             [
              0.5555555555555556,
              "#d8576b"
             ],
             [
              0.6666666666666666,
              "#ed7953"
             ],
             [
              0.7777777777777778,
              "#fb9f3a"
             ],
             [
              0.8888888888888888,
              "#fdca26"
             ],
             [
              1,
              "#f0f921"
             ]
            ],
            "type": "histogram2dcontour"
           }
          ],
          "mesh3d": [
           {
            "colorbar": {
             "outlinewidth": 0,
             "ticks": ""
            },
            "type": "mesh3d"
           }
          ],
          "parcoords": [
           {
            "line": {
             "colorbar": {
              "outlinewidth": 0,
              "ticks": ""
             }
            },
            "type": "parcoords"
           }
          ],
          "pie": [
           {
            "automargin": true,
            "type": "pie"
           }
          ],
          "scatter": [
           {
            "marker": {
             "colorbar": {
              "outlinewidth": 0,
              "ticks": ""
             }
            },
            "type": "scatter"
           }
          ],
          "scatter3d": [
           {
            "line": {
             "colorbar": {
              "outlinewidth": 0,
              "ticks": ""
             }
            },
            "marker": {
             "colorbar": {
              "outlinewidth": 0,
              "ticks": ""
             }
            },
            "type": "scatter3d"
           }
          ],
          "scattercarpet": [
           {
            "marker": {
             "colorbar": {
              "outlinewidth": 0,
              "ticks": ""
             }
            },
            "type": "scattercarpet"
           }
          ],
          "scattergeo": [
           {
            "marker": {
             "colorbar": {
              "outlinewidth": 0,
              "ticks": ""
             }
            },
            "type": "scattergeo"
           }
          ],
          "scattergl": [
           {
            "marker": {
             "colorbar": {
              "outlinewidth": 0,
              "ticks": ""
             }
            },
            "type": "scattergl"
           }
          ],
          "scattermapbox": [
           {
            "marker": {
             "colorbar": {
              "outlinewidth": 0,
              "ticks": ""
             }
            },
            "type": "scattermapbox"
           }
          ],
          "scatterpolar": [
           {
            "marker": {
             "colorbar": {
              "outlinewidth": 0,
              "ticks": ""
             }
            },
            "type": "scatterpolar"
           }
          ],
          "scatterpolargl": [
           {
            "marker": {
             "colorbar": {
              "outlinewidth": 0,
              "ticks": ""
             }
            },
            "type": "scatterpolargl"
           }
          ],
          "scatterternary": [
           {
            "marker": {
             "colorbar": {
              "outlinewidth": 0,
              "ticks": ""
             }
            },
            "type": "scatterternary"
           }
          ],
          "surface": [
           {
            "colorbar": {
             "outlinewidth": 0,
             "ticks": ""
            },
            "colorscale": [
             [
              0,
              "#0d0887"
             ],
             [
              0.1111111111111111,
              "#46039f"
             ],
             [
              0.2222222222222222,
              "#7201a8"
             ],
             [
              0.3333333333333333,
              "#9c179e"
             ],
             [
              0.4444444444444444,
              "#bd3786"
             ],
             [
              0.5555555555555556,
              "#d8576b"
             ],
             [
              0.6666666666666666,
              "#ed7953"
             ],
             [
              0.7777777777777778,
              "#fb9f3a"
             ],
             [
              0.8888888888888888,
              "#fdca26"
             ],
             [
              1,
              "#f0f921"
             ]
            ],
            "type": "surface"
           }
          ],
          "table": [
           {
            "cells": {
             "fill": {
              "color": "#EBF0F8"
             },
             "line": {
              "color": "white"
             }
            },
            "header": {
             "fill": {
              "color": "#C8D4E3"
             },
             "line": {
              "color": "white"
             }
            },
            "type": "table"
           }
          ]
         },
         "layout": {
          "annotationdefaults": {
           "arrowcolor": "#2a3f5f",
           "arrowhead": 0,
           "arrowwidth": 1
          },
          "autotypenumbers": "strict",
          "coloraxis": {
           "colorbar": {
            "outlinewidth": 0,
            "ticks": ""
           }
          },
          "colorscale": {
           "diverging": [
            [
             0,
             "#8e0152"
            ],
            [
             0.1,
             "#c51b7d"
            ],
            [
             0.2,
             "#de77ae"
            ],
            [
             0.3,
             "#f1b6da"
            ],
            [
             0.4,
             "#fde0ef"
            ],
            [
             0.5,
             "#f7f7f7"
            ],
            [
             0.6,
             "#e6f5d0"
            ],
            [
             0.7,
             "#b8e186"
            ],
            [
             0.8,
             "#7fbc41"
            ],
            [
             0.9,
             "#4d9221"
            ],
            [
             1,
             "#276419"
            ]
           ],
           "sequential": [
            [
             0,
             "#0d0887"
            ],
            [
             0.1111111111111111,
             "#46039f"
            ],
            [
             0.2222222222222222,
             "#7201a8"
            ],
            [
             0.3333333333333333,
             "#9c179e"
            ],
            [
             0.4444444444444444,
             "#bd3786"
            ],
            [
             0.5555555555555556,
             "#d8576b"
            ],
            [
             0.6666666666666666,
             "#ed7953"
            ],
            [
             0.7777777777777778,
             "#fb9f3a"
            ],
            [
             0.8888888888888888,
             "#fdca26"
            ],
            [
             1,
             "#f0f921"
            ]
           ],
           "sequentialminus": [
            [
             0,
             "#0d0887"
            ],
            [
             0.1111111111111111,
             "#46039f"
            ],
            [
             0.2222222222222222,
             "#7201a8"
            ],
            [
             0.3333333333333333,
             "#9c179e"
            ],
            [
             0.4444444444444444,
             "#bd3786"
            ],
            [
             0.5555555555555556,
             "#d8576b"
            ],
            [
             0.6666666666666666,
             "#ed7953"
            ],
            [
             0.7777777777777778,
             "#fb9f3a"
            ],
            [
             0.8888888888888888,
             "#fdca26"
            ],
            [
             1,
             "#f0f921"
            ]
           ]
          },
          "colorway": [
           "#636efa",
           "#EF553B",
           "#00cc96",
           "#ab63fa",
           "#FFA15A",
           "#19d3f3",
           "#FF6692",
           "#B6E880",
           "#FF97FF",
           "#FECB52"
          ],
          "font": {
           "color": "#2a3f5f"
          },
          "geo": {
           "bgcolor": "white",
           "lakecolor": "white",
           "landcolor": "#E5ECF6",
           "showlakes": true,
           "showland": true,
           "subunitcolor": "white"
          },
          "hoverlabel": {
           "align": "left"
          },
          "hovermode": "closest",
          "mapbox": {
           "style": "light"
          },
          "paper_bgcolor": "white",
          "plot_bgcolor": "#E5ECF6",
          "polar": {
           "angularaxis": {
            "gridcolor": "white",
            "linecolor": "white",
            "ticks": ""
           },
           "bgcolor": "#E5ECF6",
           "radialaxis": {
            "gridcolor": "white",
            "linecolor": "white",
            "ticks": ""
           }
          },
          "scene": {
           "xaxis": {
            "backgroundcolor": "#E5ECF6",
            "gridcolor": "white",
            "gridwidth": 2,
            "linecolor": "white",
            "showbackground": true,
            "ticks": "",
            "zerolinecolor": "white"
           },
           "yaxis": {
            "backgroundcolor": "#E5ECF6",
            "gridcolor": "white",
            "gridwidth": 2,
            "linecolor": "white",
            "showbackground": true,
            "ticks": "",
            "zerolinecolor": "white"
           },
           "zaxis": {
            "backgroundcolor": "#E5ECF6",
            "gridcolor": "white",
            "gridwidth": 2,
            "linecolor": "white",
            "showbackground": true,
            "ticks": "",
            "zerolinecolor": "white"
           }
          },
          "shapedefaults": {
           "line": {
            "color": "#2a3f5f"
           }
          },
          "ternary": {
           "aaxis": {
            "gridcolor": "white",
            "linecolor": "white",
            "ticks": ""
           },
           "baxis": {
            "gridcolor": "white",
            "linecolor": "white",
            "ticks": ""
           },
           "bgcolor": "#E5ECF6",
           "caxis": {
            "gridcolor": "white",
            "linecolor": "white",
            "ticks": ""
           }
          },
          "title": {
           "x": 0.05
          },
          "xaxis": {
           "automargin": true,
           "gridcolor": "white",
           "linecolor": "white",
           "ticks": "",
           "title": {
            "standoff": 15
           },
           "zerolinecolor": "white",
           "zerolinewidth": 2
          },
          "yaxis": {
           "automargin": true,
           "gridcolor": "white",
           "linecolor": "white",
           "ticks": "",
           "title": {
            "standoff": 15
           },
           "zerolinecolor": "white",
           "zerolinewidth": 2
          }
         }
        },
        "xaxis": {
         "anchor": "y",
         "domain": [
          0,
          1
         ],
         "title": {
          "text": "Name"
         }
        },
        "yaxis": {
         "anchor": "x",
         "domain": [
          0,
          1
         ],
         "title": {
          "text": "count"
         }
        }
       }
      },
      "text/html": [
       "<div>                            <div id=\"dd88c2c3-a765-4b58-9591-9345f07a6c70\" class=\"plotly-graph-div\" style=\"height:525px; width:100%;\"></div>            <script type=\"text/javascript\">                require([\"plotly\"], function(Plotly) {                    window.PLOTLYENV=window.PLOTLYENV || {};                                    if (document.getElementById(\"dd88c2c3-a765-4b58-9591-9345f07a6c70\")) {                    Plotly.newPlot(                        \"dd88c2c3-a765-4b58-9591-9345f07a6c70\",                        [{\"alignmentgroup\":\"True\",\"bingroup\":\"x\",\"hovertemplate\":\"Sex=male<br>Name=%{x}<br>count=%{y}<extra></extra>\",\"legendgroup\":\"male\",\"marker\":{\"color\":\"#636efa\",\"pattern\":{\"shape\":\"\"}},\"name\":\"male\",\"offsetgroup\":\"male\",\"orientation\":\"v\",\"showlegend\":true,\"x\":[\"Braund, Mr. Owen Harris\",\"Allen, Mr. William Henry\",\"Moran, Mr. James\",\"McCarthy, Mr. Timothy J\",\"Palsson, Master. Gosta Leonard\",\"Saundercock, Mr. William Henry\",\"Andersson, Mr. Anders Johan\",\"Rice, Master. Eugene\",\"Williams, Mr. Charles Eugene\",\"Fynney, Mr. Joseph J\",\"Beesley, Mr. Lawrence\",\"Sloper, Mr. William Thompson\",\"Emir, Mr. Farred Chehab\",\"Fortune, Mr. Charles Alexander\",\"Todoroff, Mr. Lalio\",\"Uruchurtu, Don. Manuel E\",\"Wheadon, Mr. Edward H\",\"Meyer, Mr. Edgar Joseph\",\"Holverson, Mr. Alexander Oskar\",\"Mamee, Mr. Hanna\",\"Cann, Mr. Ernest Charles\",\"Kraeff, Mr. Theodor\",\"Rogers, Mr. William John\",\"Lennon, Mr. Denis\",\"Samaan, Mr. Youssef\",\"Panula, Master. Juha Niilo\",\"Nosworthy, Mr. Richard Cater\",\"Ostby, Mr. Engelhart Cornelius\",\"Woolner, Mr. Hugh\",\"Novel, Mr. Mansouer\",\"Goodwin, Master. William Frederick\",\"Sirayanian, Mr. Orsen\",\"Harris, Mr. Henry Birkhardt\",\"Skoog, Master. Harald\",\"Stewart, Mr. Albert A\",\"Moubarek, Master. Gerios\",\"Crease, Mr. Ernest James\",\"Kink, Mr. Vincenz\",\"Jenkin, Mr. Stephen Curnow\",\"Hood, Mr. Ambrose Jr\",\"Chronopoulos, Mr. Apostolos\",\"Bing, Mr. Lee\",\"Moen, Mr. Sigurd Hansen\",\"Staneff, Mr. Ivan\",\"Moutal, Mr. Rahamin Haim\",\"Caldwell, Master. Alden Gates\",\"Waelens, Mr. Achille\",\"Sheerlinck, Mr. Jan Baptist\",\"Carrau, Mr. Francisco M\",\"Ford, Mr. William Neal\",\"Slocovski, Mr. Selman Francis\",\"Celotti, Mr. Francesco\",\"Christmann, Mr. Emil\",\"Andreasson, Mr. Paul Edvin\",\"Chaffee, Mr. Herbert Fuller\",\"Dean, Mr. Bertram Frank\",\"Coxon, Mr. Daniel\",\"Shorney, Mr. Charles Joseph\",\"Goldschmidt, Mr. George B\",\"Greenfield, Mr. William Bertram\",\"Kantor, Mr. Sinai\",\"Petroff, Mr. Pastcho (\\\"Pentcho\\\")\",\"White, Mr. Richard Frasar\",\"Johansson, Mr. Gustaf Joel\",\"Gustafsson, Mr. Anders Vilhelm\",\"Mionoff, Mr. Stoytcho\",\"Moss, Mr. Albert Johan\",\"Rekic, Mr. Tido\",\"Porter, Mr. Walter Chamberlain\",\"Barton, Mr. David John\",\"Pekoniemi, Mr. Edvard\",\"Connors, Mr. Patrick\",\"Turpin, Mr. William John Robert\",\"Baxter, Mr. Quigg Edmond\",\"Hickman, Mr. Stanley George\",\"Moore, Mr. Leonard Charles\",\"Nasser, Mr. Nicholas\",\"White, Mr. Percival Wayland\",\"Nicola-Yarred, Master. Elias\",\"McMahon, Mr. Martin\",\"Madsen, Mr. Fridtjof Arne\",\"Ekstrom, Mr. Johan\",\"Drazenoic, Mr. Jozef\",\"Coelho, Mr. Domingos Fernandeo\",\"Sobey, Mr. Samuel James Hayden\",\"Richard, Mr. Emile\",\"Futrelle, Mr. Jacques Heath\",\"Osen, Mr. Olaf Elon\",\"Giglio, Mr. Victor\",\"Burke, Mr. Jeremiah\",\"Andrew, Mr. Edgardo Samuel\",\"Nicholls, Mr. Joseph Charles\",\"Andersson, Mr. August Edvard (\\\"Wennerstrom\\\")\",\"Navratil, Mr. Michel (\\\"Louis M Hoffman\\\")\",\"Byles, Rev. Thomas Roussel Davids\",\"Bateman, Rev. Robert James\",\"Meo, Mr. Alfonzo\",\"van Billiard, Mr. Austin Blyler\",\"Olsen, Mr. Ole Martin\",\"Williams, Mr. Charles Duane\",\"Corn, Mr. Harry\",\"Smiljanic, Mr. Mile\",\"Sage, Master. Thomas Henry\",\"Cribb, Mr. John Hatfield\",\"Bengtsson, Mr. John Viktor\",\"Calic, Mr. Jovo\",\"Panula, Master. Eino Viljami\",\"Goldsmith, Master. Frank John William \\\"Frankie\\\"\",\"Baumann, Mr. John D\",\"Ling, Mr. Lee\",\"Van der hoef, Mr. Wyckoff\",\"Rice, Master. Arthur\",\"Sivola, Mr. Antti Wilhelm\",\"Smith, Mr. James Clinch\",\"Klasen, Mr. Klas Albin\",\"Lefebre, Master. Henry Forbes\",\"Hale, Mr. Reginald\",\"Leonard, Mr. Lionel\",\"Pernot, Mr. Rene\",\"Asplund, Master. Clarence Gustaf Hugo\",\"Becker, Master. Richard F\",\"Rood, Mr. Hugh Roscoe\",\"Romaine, Mr. Charles Hallace (\\\"Mr C Rolmane\\\")\",\"Bourke, Mr. John\",\"Turcin, Mr. Stjepan\",\"Carbines, Mr. William\",\"Navratil, Master. Michel M\",\"Mernagh, Mr. Robert\",\"Olsen, Mr. Karl Siegwart Andreas\",\"Vande Walle, Mr. Nestor Cyriel\",\"Sage, Mr. Frederick\",\"Johanson, Mr. Jakob Alfred\",\"Youseff, Mr. Gerious\",\"Cohen, Mr. Gurshon \\\"Gus\\\"\",\"Backstrom, Mr. Karl Alfred\",\"Albimona, Mr. Nassef Cassem\",\"Blank, Mr. Henry\",\"Ali, Mr. Ahmed\",\"Perkin, Mr. John Henry\",\"Givard, Mr. Hans Kristensen\",\"Kiernan, Mr. Philip\",\"Jacobsohn, Mr. Sidney Samuel\",\"Harris, Mr. Walter\",\"Sunderland, Mr. Victor Francis\",\"Bracken, Mr. James H\",\"Green, Mr. George Henry\",\"Nenkoff, Mr. Christo\",\"Hoyt, Mr. Frederick Maxfield\",\"Berglund, Mr. Karl Ivar Sven\",\"Mellors, Mr. William John\",\"Lovell, Mr. John Hall (\\\"Henry\\\")\",\"Fahlstrom, Mr. Arne Jonas\",\"Larsson, Mr. Bengt Edvin\",\"Sjostedt, Mr. Ernst Adolf\",\"Leyson, Mr. Robert William Norman\",\"Hold, Mr. Stephen\",\"Pengelly, Mr. Frederick William\",\"Hunt, Mr. George Henry\",\"Coleridge, Mr. Reginald Charles\",\"Maenpaa, Mr. Matti Alexanteri\",\"Attalah, Mr. Sleiman\",\"Minahan, Dr. William Edward\",\"Beckwith, Mr. Richard Leonard\",\"Carter, Rev. Ernest Courtenay\",\"Reed, Mr. James George\",\"Stead, Mr. William Thomas\",\"Lobb, Mr. William Arthur\",\"Smith, Mr. Thomas\",\"Asplund, Master. Edvin Rojj Felix\",\"Taussig, Mr. Emil\",\"Harrison, Mr. William\",\"Reeves, Mr. David\",\"Panula, Mr. Ernesti Arvid\",\"Persson, Mr. Ernst Ulrik\",\"Cairns, Mr. Alexander\",\"Tornquist, Mr. William Henry\",\"Natsch, Mr. Charles H\",\"Parkes, Mr. Francis \\\"Frank\\\"\",\"Rice, Master. Eric\",\"Duane, Mr. Frank\",\"Olsson, Mr. Nils Johan Goransson\",\"de Pelsmaeker, Mr. Alfons\",\"Dorking, Mr. Edward Arthur\",\"Smith, Mr. Richard William\",\"Stankovic, Mr. Ivan\",\"de Mulder, Mr. Theodore\",\"Naidenoff, Mr. Penko\",\"Hosono, Mr. Masabumi\",\"Levy, Mr. Rene Jacques\",\"Mineff, Mr. Ivan\",\"Lewy, Mr. Ervin G\",\"Hanna, Mr. Mansour\",\"Saalfeld, Mr. Adolphe\",\"McCoy, Mr. Bernard\",\"Johnson, Mr. William Cahoone Jr\",\"Williams, Mr. Howard Hugh \\\"Harry\\\"\",\"Allison, Master. Hudson Trevor\",\"Abelson, Mr. Samuel\",\"Hendekovic, Mr. Ignjac\",\"Hart, Mr. Benjamin\",\"Moraweck, Dr. Ernest\",\"Dennis, Mr. Samuel\",\"Danoff, Mr. Yoto\",\"Sage, Mr. George John Jr\",\"Nysveen, Mr. Johan Hansen\",\"Partner, Mr. Austen\",\"Graham, Mr. George Edward\",\"Vander Planke, Mr. Leo Edmondus\",\"Denkoff, Mr. Mitto\",\"Pears, Mr. Thomas Clinton\",\"Dahl, Mr. Karl Edwart\",\"Blackwell, Mr. Stephen Weart\",\"Navratil, Master. Edmond Roger\",\"Collander, Mr. Erik Gustaf\",\"Sedgwick, Mr. Charles Frederick Waddington\",\"Fox, Mr. Stanley Hubert\",\"Coutts, Master. William Loch \\\"William\\\"\",\"Dimic, Mr. Jovan\",\"Odahl, Mr. Nils Martin\",\"Williams-Lambert, Mr. Fletcher Fellows\",\"Elias, Mr. Tannous\",\"Arnold-Franchi, Mr. Josef\",\"Yousif, Mr. Wazli\",\"Vanden Steen, Mr. Leo Peter\",\"Skoog, Mr. Wilhelm\",\"del Carlo, Mr. Sebastiano\",\"Asim, Mr. Adola\",\"O'Brien, Mr. Thomas\",\"Adahl, Mr. Mauritz Nils Martin\",\"Harder, Mr. George Achilles\",\"Wiklund, Mr. Jakob Alfred\",\"Beavan, Mr. William Thomas\",\"Ringhini, Mr. Sante\",\"Widener, Mr. Harry Elkins\",\"Betros, Mr. Tannous\",\"Gustafsson, Mr. Karl Gideon\",\"Tikkanen, Mr. Juho\",\"Plotcharsky, Mr. Vasil\",\"Davies, Mr. Charles Henry\",\"Goodwin, Master. Sidney Leonard\",\"Sadlier, Mr. Matthew\",\"Carter, Mr. William Ernest\",\"Jansson, Mr. Carl Olof\",\"Gustafsson, Mr. Johan Birger\",\"Johansson, Mr. Erik\",\"McKane, Mr. Peter David\",\"Pain, Dr. Alfred\",\"Niskanen, Mr. Juha\",\"Adams, Mr. John\",\"Hakkarainen, Mr. Pekka Pietari\",\"Gale, Mr. Shadrach\",\"Widegren, Mr. Carl/Charles Peter\",\"Richards, Master. William Rowe\",\"Birkeland, Mr. Hans Martin Monsen\",\"Sdycoff, Mr. Todor\",\"Hart, Mr. Henry\",\"Cunningham, Mr. Alfred Fleming\",\"Sundman, Mr. Johan Julian\",\"Matthews, Mr. William John\",\"Gheorgheff, Mr. Stanio\",\"Charters, Mr. David\",\"Zimmerman, Mr. Leo\",\"Rosblom, Mr. Viktor Richard\",\"Wiseman, Mr. Phillippe\",\"Flynn, Mr. James\",\"Pickard, Mr. Berk (Berk Trembisky)\",\"Bjornstrom-Steffansson, Mr. Mauritz Hakan\",\"Kallio, Mr. Nikolai Erland\",\"Silvey, Mr. William Baird\",\"Fortune, Mr. Mark\",\"Kvillner, Mr. Johan Henrik Johannesson\",\"Hampe, Mr. Leon\",\"Petterson, Mr. Johan Emil\",\"Johannesen-Bratthammer, Mr. Bernt\",\"Dodge, Master. Washington\",\"Seward, Mr. Frederic Kimber\",\"Peuchen, Major. Arthur Godfrey\",\"West, Mr. Edwy Arthur\",\"Hagland, Mr. Ingvald Olai Olsen\",\"Foreman, Mr. Benjamin Laventall\",\"Goldenberg, Mr. Samuel L\",\"Peduzzi, Mr. Joseph\",\"Jalsevac, Mr. Ivan\",\"Millet, Mr. Francis Davis\",\"O'Connor, Mr. Maurice\",\"Anderson, Mr. Harry\",\"Morley, Mr. William\",\"Gee, Mr. Arthur H\",\"Milling, Mr. Jacob Christian\",\"Maisner, Mr. Simon\",\"Goncalves, Mr. Manuel Estanslas\",\"Campbell, Mr. William\",\"Smart, Mr. John Montgomery\",\"Scanlan, Mr. James\",\"Keefe, Mr. Arthur\",\"Cacic, Mr. Luka\",\"Clifford, Mr. George Quincy\",\"Renouf, Mr. Peter Henry\",\"Braund, Mr. Lewis Richard\",\"Karlsson, Mr. Nils August\",\"Goodwin, Master. Harold Victor\",\"Frost, Mr. Anthony Wood \\\"Archie\\\"\",\"Rouse, Mr. Richard Henry\",\"Bishop, Mr. Dickinson H\",\"Kent, Mr. Edward Austin\",\"Somerton, Mr. Francis William\",\"Coutts, Master. Eden Leslie \\\"Neville\\\"\",\"Hagland, Mr. Konrad Mathias Reiersen\",\"Windelov, Mr. Einar\",\"Molson, Mr. Harry Markland\",\"Artagaveytia, Mr. Ramon\",\"Stanley, Mr. Edward Roland\",\"Yousseff, Mr. Gerious\",\"Shellard, Mr. Frederick William\",\"Svensson, Mr. Olof\",\"Calic, Mr. Petar\",\"Penasco y Castellana, Mr. Victor de Satode\",\"Bradley, Mr. George (\\\"George Arthur Brayton\\\")\",\"Olsen, Mr. Henry Margido\",\"Lang, Mr. Fang\",\"Daly, Mr. Eugene Patrick\",\"Webber, Mr. James\",\"McGough, Mr. James Robert\",\"Coleff, Mr. Satio\",\"Walker, Mr. William Anderson\",\"Ryan, Mr. Patrick\",\"Pavlovic, Mr. Stefo\",\"Vovk, Mr. Janko\",\"Lahoud, Mr. Sarkis\",\"Kassem, Mr. Fared\",\"Farrell, Mr. James\",\"Farthing, Mr. John\",\"Salonen, Mr. Johan Werner\",\"Hocking, Mr. Richard George\",\"Toufik, Mr. Nakli\",\"Elias, Mr. Joseph Jr\",\"Butt, Major. Archibald Willingham\",\"Risien, Mr. Samuel Beard\",\"Beane, Mr. Edward\",\"Douglas, Mr. Walter Donald\",\"Nicholson, Mr. Arthur Ernest\",\"Padro y Manent, Mr. Julian\",\"Goldsmith, Mr. Frank John\",\"Davies, Master. John Morgan Jr\",\"Thayer, Mr. John Borland Jr\",\"Sharp, Mr. Percival James R\",\"O'Brien, Mr. Timothy\",\"Leeni, Mr. Fahim (\\\"Philip Zenni\\\")\",\"Wright, Mr. George\",\"Robbins, Mr. Victor\",\"Morrow, Mr. Thomas Rowan\",\"Sivic, Mr. Husein\",\"Norman, Mr. Robert Douglas\",\"Simmons, Mr. John\",\"Davies, Mr. Alfred J\",\"Stoytcheff, Mr. Ilia\",\"Doharr, Mr. Tannous\",\"Jonsson, Mr. Carl\",\"Harris, Mr. George\",\"Flynn, Mr. John Irwin (\\\"Irving\\\")\",\"Rush, Mr. Alfred George John\",\"Patchett, Mr. George\",\"Jussila, Mr. Eiriik\",\"Downton, Mr. William James\",\"Ross, Mr. John Hugo\",\"Paulner, Mr. Uscher\",\"Jarvis, Mr. John Denzil\",\"Frolicher-Stehli, Mr. Maxmillian\",\"Gilinski, Mr. Eliezer\",\"Murdlin, Mr. Joseph\",\"Rintamaki, Mr. Matti\",\"Elsbury, Mr. William James\",\"Chapman, Mr. John Henry\",\"Van Impe, Mr. Jean Baptiste\",\"Johnson, Mr. Alfred\",\"Boulos, Mr. Hanna\",\"Duff Gordon, Sir. Cosmo Edmund (\\\"Mr Morgan\\\")\",\"Slabenoff, Mr. Petco\",\"Harrington, Mr. Charles H\",\"Torber, Mr. Ernst William\",\"Homer, Mr. Harry (\\\"Mr E Haven\\\")\",\"Lindell, Mr. Edvard Bengtsson\",\"Karaic, Mr. Milan\",\"Daniel, Mr. Robert Williams\",\"Jardin, Mr. Jose Neto\",\"Horgan, Mr. John\",\"Brocklebank, Mr. William Alfred\",\"Danbom, Mr. Ernst Gilbert\",\"Gavey, Mr. Lawrence\",\"Yasbeck, Mr. Antoni\",\"Kimball, Mr. Edwin Nelson Jr\",\"Nakid, Mr. Sahid\",\"Hansen, Mr. Henry Damsgaard\",\"Bowen, Mr. David John \\\"Dai\\\"\",\"Sutton, Mr. Frederick\",\"Kirkland, Rev. Charles Leonard\",\"Bostandyeff, Mr. Guentcho\",\"O'Connell, Mr. Patrick D\",\"Barkworth, Mr. Algernon Henry Wilson\",\"Lundahl, Mr. Johan Svensson\",\"Stahelin-Maeglin, Dr. Max\",\"Parr, Mr. William Henry Marsh\",\"Leinonen, Mr. Antti Gustaf\",\"Collyer, Mr. Harvey\",\"Thorneycroft, Mr. Percival\",\"Jensen, Mr. Hans Peder\",\"Foo, Mr. Choong\",\"Harper, Mr. Henry Sleeper\",\"Cor, Mr. Liudevit\",\"Simonius-Blumer, Col. Oberst Alfons\",\"Willey, Mr. Edward\",\"Mitkoff, Mr. Mito\",\"Kalvik, Mr. Johannes Halvorsen\",\"Hickman, Mr. Leonard Mark\",\"Radeff, Mr. Alexander\",\"Eitemiller, Mr. George Floyd\",\"Newell, Mr. Arthur Webster\",\"Frauenthal, Dr. Henry William\",\"Badt, Mr. Mohamed\",\"Colley, Mr. Edward Pomeroy\",\"Coleff, Mr. Peju\",\"Lindqvist, Mr. Eino William\",\"Hickman, Mr. Lewis\",\"Butler, Mr. Reginald Fenton\",\"Rommetvedt, Mr. Knud Paust\",\"Cook, Mr. Jacob\",\"Davidson, Mr. Thornton\",\"Mitchell, Mr. Henry Michael\",\"Wilhelms, Mr. Charles\",\"Watson, Mr. Ennis Hastings\",\"Edvardsson, Mr. Gustaf Hjalmar\",\"Sawyer, Mr. Frederick Charles\",\"Cardeza, Mr. Thomas Drake Martinez\",\"Hassab, Mr. Hammad\",\"Olsvigen, Mr. Thor Anderson\",\"Goodwin, Mr. Charles Edward\",\"Brown, Mr. Thomas William Solomon\",\"Laroche, Mr. Joseph Philippe Lemercier\",\"Panula, Mr. Jaako Arnold\",\"Dakic, Mr. Branko\",\"Fischer, Mr. Eberhard Thelander\",\"Dick, Mr. Albert Adrian\",\"Lam, Mr. Ali\",\"Saad, Mr. Khalil\",\"Weir, Col. John\",\"Chapman, Mr. Charles Henry\",\"Kelly, Mr. James\",\"Thayer, Mr. John Borland\",\"Humblen, Mr. Adolf Mathias Nicolai Olsen\",\"Silverthorne, Mr. Spencer Victor\",\"Gallagher, Mr. Martin\",\"Hansen, Mr. Henrik Juul\",\"Morley, Mr. Henry Samuel (\\\"Mr Henry Marshall\\\")\",\"Calderhead, Mr. Edward Pennington\",\"Moubarek, Master. Halim Gonios (\\\"William George\\\")\",\"Klaber, Mr. Herman\",\"Taylor, Mr. Elmer Zebley\",\"Larsson, Mr. August Viktor\",\"Greenberg, Mr. Samuel\",\"Soholt, Mr. Peter Andreas Lauritz Andersen\",\"McEvoy, Mr. Michael\",\"Johnson, Mr. Malkolm Joackim\",\"Jensen, Mr. Svend Lauritz\",\"Gillespie, Mr. William Henry\",\"Hodges, Mr. Henry Price\",\"Chambers, Mr. Norman Campbell\",\"Oreskovic, Mr. Luka\",\"Bryhl, Mr. Kurt Arnold Gottfrid\",\"Hassan, Mr. Houssein G N\",\"Knight, Mr. Robert J\",\"Berriman, Mr. William John\",\"Troupiansky, Mr. Moses Aaron\",\"Williams, Mr. Leslie\",\"Lesurer, Mr. Gustave J\",\"Ivanoff, Mr. Kanio\",\"Nankoff, Mr. Minko\",\"Hawksford, Mr. Walter James\",\"Cavendish, Mr. Tyrell William\",\"McNamee, Mr. Neal\",\"Stranden, Mr. Juho\",\"Crosby, Capt. Edward Gifford\",\"Abbott, Mr. Rossmore Edward\",\"Marvin, Mr. Daniel Warner\",\"Connaghton, Mr. Michael\",\"Moor, Master. Meier\",\"Vande Velde, Mr. Johannes Joseph\",\"Jonkoff, Mr. Lalio\",\"Hamalainen, Master. Viljo\",\"Carlsson, Mr. August Sigfrid\",\"Bailey, Mr. Percy Andrew\",\"Theobald, Mr. Thomas Leonard\",\"Garfirth, Mr. John\",\"Nirva, Mr. Iisakki Antino Aijo\",\"Barah, Mr. Hanna Assi\",\"Eklund, Mr. Hans Linus\",\"Brewe, Dr. Arthur Jackson\",\"Moran, Mr. Daniel J\",\"Gronnestad, Mr. Daniel Danielsen\",\"Lievens, Mr. Rene Aime\",\"Jensen, Mr. Niels Peder\",\"Elias, Mr. Dibo\",\"Myhrman, Mr. Pehr Fabian Oliver Malkolm\",\"Tobin, Mr. Roger\",\"Kilgannon, Mr. Thomas J\",\"Long, Mr. Milton Clyde\",\"Johnston, Mr. Andrew G\",\"Ali, Mr. William\",\"Harmer, Mr. Abraham (David Lishin)\",\"Rice, Master. George Hugh\",\"Dean, Master. Bertram Vere\",\"Guggenheim, Mr. Benjamin\",\"Keane, Mr. Andrew \\\"Andy\\\"\",\"Gaskell, Mr. Alfred\",\"Hoyt, Mr. William Fisher\",\"Dantcheff, Mr. Ristiu\",\"Otter, Mr. Richard\",\"Ibrahim Shawah, Mr. Yousseff\",\"Ponesell, Mr. Martin\",\"Carter, Master. William Thornton II\",\"Thomas, Master. Assad Alexander\",\"Hedman, Mr. Oskar Arvid\",\"Johansson, Mr. Karl Johan\",\"Andrews, Mr. Thomas Jr\",\"Meyer, Mr. August\",\"Alexander, Mr. William\",\"Lester, Mr. James\",\"Slemen, Mr. Richard James\",\"Tomlin, Mr. Ernest Portage\",\"Fry, Mr. Richard\",\"Mallet, Mr. Albert\",\"Holm, Mr. John Fredrik Alexander\",\"Skoog, Master. Karl Thorsten\",\"Lulic, Mr. Nikola\",\"Reuchlin, Jonkheer. John George\",\"Panula, Master. Urho Abraham\",\"Flynn, Mr. John\",\"Lam, Mr. Len\",\"Mallet, Master. Andre\",\"McCormack, Mr. Thomas Joseph\",\"Richards, Master. George Sibley\",\"Saad, Mr. Amin\",\"Augustsson, Mr. Albert\",\"Allum, Mr. Owen George\",\"Pasic, Mr. Jakob\",\"Sirota, Mr. Maurice\",\"Chip, Mr. Chang\",\"Marechal, Mr. Pierre\",\"Alhomaki, Mr. Ilmari Rudolf\",\"Mudd, Mr. Thomas Charles\",\"Lemberopolous, Mr. Peter L\",\"Culumovic, Mr. Jeso\",\"Abbing, Mr. Anthony\",\"Sage, Mr. Douglas Bullen\",\"Markoff, Mr. Marin\",\"Harper, Rev. John\",\"Andersson, Master. Sigvard Harald Elias\",\"Svensson, Mr. Johan\",\"Daly, Mr. Peter Denis \",\"Razi, Mr. Raihed\",\"Hansen, Mr. Claus Peter\",\"Giles, Mr. Frederick Edward\",\"Gill, Mr. John William\",\"Roebling, Mr. Washington Augustus II\",\"van Melkebeke, Mr. Philemon\",\"Johnson, Master. Harold Theodor\",\"Balkic, Mr. Cerin\",\"Carlsson, Mr. Frans Olof\",\"Vander Cruyssen, Mr. Victor\",\"Gustafsson, Mr. Alfred Ossian\",\"Petroff, Mr. Nedelio\",\"Laleff, Mr. Kristo\",\"Markun, Mr. Johann\",\"Banfield, Mr. Frederick James\",\"Sutehall, Mr. Henry Jr\",\"Montvila, Rev. Juozas\",\"Behr, Mr. Karl Howell\",\"Dooley, Mr. Patrick\"],\"xaxis\":\"x\",\"yaxis\":\"y\",\"type\":\"histogram\"},{\"alignmentgroup\":\"True\",\"bingroup\":\"x\",\"hovertemplate\":\"Sex=female<br>Name=%{x}<br>count=%{y}<extra></extra>\",\"legendgroup\":\"female\",\"marker\":{\"color\":\"#EF553B\",\"pattern\":{\"shape\":\"\"}},\"name\":\"female\",\"offsetgroup\":\"female\",\"orientation\":\"v\",\"showlegend\":true,\"x\":[\"Cumings, Mrs. John Bradley (Florence Briggs Thayer)\",\"Heikkinen, Miss. Laina\",\"Futrelle, Mrs. Jacques Heath (Lily May Peel)\",\"Johnson, Mrs. Oscar W (Elisabeth Vilhelmina Berg)\",\"Nasser, Mrs. Nicholas (Adele Achem)\",\"Sandstrom, Miss. Marguerite Rut\",\"Bonnell, Miss. Elizabeth\",\"Vestrom, Miss. Hulda Amanda Adolfina\",\"Hewlett, Mrs. (Mary D Kingcome) \",\"Vander Planke, Mrs. Julius (Emelia Maria Vandemoortele)\",\"Masselmani, Mrs. Fatima\",\"McGowan, Miss. Anna \\\"Annie\\\"\",\"Palsson, Miss. Torborg Danira\",\"Asplund, Mrs. Carl Oscar (Selma Augusta Emilia Johansson)\",\"O'Dwyer, Miss. Ellen \\\"Nellie\\\"\",\"Spencer, Mrs. William Augustus (Marie Eugenie)\",\"Glynn, Miss. Mary Agatha\",\"Vander Planke, Miss. Augusta Maria\",\"Nicola-Yarred, Miss. Jamila\",\"Ahlin, Mrs. Johan (Johanna Persdotter Larsson)\",\"Turpin, Mrs. William John Robert (Dorothy Ann Wonnacott)\",\"Laroche, Miss. Simonne Marie Anne Andree\",\"Devaney, Miss. Margaret Delia\",\"O'Driscoll, Miss. Bridget\",\"Arnold-Franchi, Mrs. Josef (Josefine Franchi)\",\"Harper, Mrs. Henry Sleeper (Myna Haxtun)\",\"Faunthorpe, Mrs. Lizzie (Elizabeth Anne Wilkinson)\",\"Rugg, Miss. Emily\",\"West, Miss. Constance Mirium\",\"Icard, Miss. Amelie\",\"Nye, Mrs. (Elizabeth Ramell)\",\"Andersson, Miss. Erna Alexandra\",\"Goodwin, Miss. Lillian Amy\",\"Dowdell, Miss. Elizabeth\",\"McDermott, Miss. Brigdet Delia\",\"Ilett, Miss. Bertha\",\"Backstrom, Mrs. Karl Alfred (Maria Mathilda Gustafsson)\",\"Fortune, Miss. Mabel Helen\",\"Doling, Mrs. John T (Ada Julia Bone)\",\"Petranec, Miss. Matilda\",\"Salkjelsvik, Miss. Anna Kristine\",\"Moran, Miss. Bertha\",\"Zabour, Miss. Hileni\",\"Jussila, Miss. Katriina\",\"Attalah, Miss. Malake\",\"Andersson, Miss. Ellis Anna Maria\",\"Webber, Miss. Susan\",\"Peter, Miss. Anna\",\"Robins, Mrs. Alexander A (Grace Charity Laury)\",\"Weisz, Mrs. Leopold (Mathilde Francoise Pede)\",\"Newsom, Miss. Helen Monypeny\",\"Boulos, Mrs. Joseph (Sultana)\",\"Nysten, Miss. Anna Sofia\",\"Hakkarainen, Mrs. Pekka Pietari (Elin Matilda Dolck)\",\"Ford, Miss. Robina Maggie \\\"Ruby\\\"\",\"Pears, Mrs. Thomas (Edith Wearne)\",\"Gilnagh, Miss. Katherine \\\"Katie\\\"\",\"Watt, Mrs. James (Elizabeth \\\"Bessie\\\" Inglis Milne)\",\"Chibnall, Mrs. (Edith Martha Bowerman)\",\"Skoog, Mrs. William (Anna Bernhardina Karlsson)\",\"Johnson, Miss. Eleanor Ileen\",\"Isham, Miss. Ann Elizabeth\",\"Sage, Miss. Constance Gladys\",\"Kink-Heilmann, Miss. Luise Gretchen\",\"O'Brien, Mrs. Thomas (Johanna \\\"Hannah\\\" Godfrey)\",\"Pinsky, Mrs. (Rosa)\",\"Andersen-Jensen, Miss. Carla Christine Nielsine\",\"Brown, Mrs. James Joseph (Margaret Tobin)\",\"Lurette, Miss. Elise\",\"Madigan, Miss. Margaret \\\"Maggie\\\"\",\"Yrois, Miss. Henriette (\\\"Mrs Harbeck\\\")\",\"Strom, Miss. Telma Matilda\",\"Carr, Miss. Helen \\\"Ellen\\\"\",\"Cameron, Miss. Clear Annie\",\"Newell, Miss. Madeleine\",\"Honkanen, Miss. Eliina\",\"Bazzani, Miss. Albina\",\"Lefebre, Miss. Mathilde\",\"Harris, Mrs. Henry Birkhardt (Irene Wallach)\",\"Asplund, Miss. Lillian Gertrud\",\"Harknett, Miss. Alice Phoebe\",\"Collyer, Miss. Marjorie \\\"Lottie\\\"\",\"Zabour, Miss. Thamine\",\"Murphy, Miss. Katherine \\\"Kate\\\"\",\"Lindahl, Miss. Agda Thorilda Viktoria\",\"Hamalainen, Mrs. William (Anna)\",\"Strom, Mrs. Wilhelm (Elna Matilda Persson)\",\"Rosblom, Mrs. Viktor (Helena Wilhelmina)\",\"Touma, Mrs. Darwis (Hanne Youssef Razi)\",\"Thorne, Mrs. Gertrude Maybelle\",\"Cherry, Miss. Gladys\",\"Ward, Miss. Anna\",\"Parrish, Mrs. (Lutie Davis)\",\"Henry, Miss. Delia\",\"Graham, Mrs. William Thompson (Edith Junkins)\",\"Bissette, Miss. Amelia\",\"Mellinger, Mrs. (Elizabeth Anne Maidment)\",\"Healy, Miss. Hanora \\\"Nora\\\"\",\"Andrews, Miss. Kornelia Theodosia\",\"Lindblom, Miss. Augusta Charlotta\",\"Abbott, Mrs. Stanton (Rosa Hunt)\",\"Connolly, Miss. Kate\",\"Barber, Miss. Ellen \\\"Nellie\\\"\",\"Bishop, Mrs. Dickinson H (Helen Walton)\",\"Haas, Miss. Aloisia\",\"Allison, Miss. Helen Loraine\",\"Baxter, Mrs. James (Helene DeLaudeniere Chaput)\",\"Kelly, Miss. Anna Katherine \\\"Annie Kate\\\"\",\"Keane, Miss. Nora A\",\"Fleming, Miss. Margaret\",\"Penasco y Castellana, Mrs. Victor de Satode (Maria Josefa Perez de Soto y Vallejo)\",\"Francatelli, Miss. Laura Mabel\",\"Hays, Miss. Margaret Bechstein\",\"Ryerson, Miss. Emily Borie\",\"Lahtinen, Mrs. William (Anna Sylfven)\",\"Nilsson, Miss. Helmina Josefina\",\"Kantor, Mrs. Sinai (Miriam Sternin)\",\"Wick, Miss. Mary Natalie\",\"Spedden, Mrs. Frederic Oakley (Margaretta Corning Stone)\",\"Slayter, Miss. Hilda Mary\",\"Caldwell, Mrs. Albert Francis (Sylvia Mae Harbaugh)\",\"Young, Miss. Marie Grice\",\"Ball, Mrs. (Ada E Hall)\",\"Goldsmith, Mrs. Frank John (Emily Alice Brown)\",\"Hippach, Miss. Jean Gertrude\",\"McCoy, Miss. Agnes\",\"Frauenthal, Mrs. Henry William (Clara Heinsheimer)\",\"Burns, Miss. Elizabeth Margaret\",\"Fortune, Miss. Alice Elizabeth\",\"Brown, Miss. Amelia \\\"Mildred\\\"\",\"Smith, Miss. Marion Elsie\",\"Davison, Mrs. Thomas Henry (Mary E Finck)\",\"Bowerman, Miss. Elsie Edith\",\"Funk, Miss. Annie Clemmer\",\"McGovern, Miss. Mary\",\"Mockler, Miss. Helen Mary \\\"Ellie\\\"\",\"Barbara, Mrs. (Catherine David)\",\"Warren, Mrs. Frank Manley (Anna Sophia Atkinson)\",\"Moussa, Mrs. (Mantoura Boulos)\",\"Jermyn, Miss. Annie\",\"Aubart, Mme. Leontine Pauline\",\"Palsson, Miss. Stina Viola\",\"Meyer, Mrs. Edgar Joseph (Leila Saks)\",\"Landergren, Miss. Aurora Adelia\",\"Bidois, Miss. Rosalie\",\"Nakid, Miss. Maria (\\\"Mary\\\")\",\"Holverson, Mrs. Alexander Oskar (Mary Aline Towner)\",\"Buss, Miss. Kate\",\"Lehmann, Miss. Bertha\",\"Newell, Miss. Marjorie\",\"Sandstrom, Mrs. Hjalmar (Agnes Charlotta Bengtsson)\",\"Olsson, Miss. Elina\",\"Trout, Mrs. William H (Jessie L)\",\"Jussila, Miss. Mari Aina\",\"Oreskovic, Miss. Marija\",\"Lefebre, Miss. Ida\",\"Minahan, Miss. Daisy E\",\"Meek, Mrs. Thomas (Annie Louise Rowley)\",\"Drew, Mrs. James Vivian (Lulu Thorne Christian)\",\"Silven, Miss. Lyyli Karoliina\",\"Van Impe, Miss. Catharina\",\"Danbom, Mrs. Ernst Gilbert (Anna Sigrid Maria Brogren)\",\"Clarke, Mrs. Charles V (Ada Maria Winfield)\",\"Phillips, Miss. Kate Florence (\\\"Mrs Kate Louise Phillips Marshall\\\")\",\"Thorneycroft, Mrs. Percival (Florence Kate White)\",\"Louch, Mrs. Charles Alexander (Alice Adelaide Slow)\",\"Carter, Miss. Lucile Polk\",\"Ford, Miss. Doolina Margaret \\\"Daisy\\\"\",\"Richards, Mrs. Sidney (Emily Hocking)\",\"Hart, Mrs. Benjamin (Esther Ada Bloomfield)\",\"Reynaldo, Ms. Encarnacion\",\"Mellinger, Miss. Madeleine Violet\",\"Baclini, Miss. Marie Catherine\",\"Kenyon, Mrs. Frederick R (Marion)\",\"Toomey, Miss. Ellen\",\"Baclini, Miss. Helene Barbara\",\"West, Mrs. Edwy Arthur (Ada Mary Worth)\",\"Jerwan, Mrs. Amin S (Marie Marthe Thuillard)\",\"Strandberg, Miss. Ida Sofia\",\"Hirvonen, Miss. Hildur E\",\"Turkula, Mrs. (Hedwig)\",\"Lefebre, Miss. Jeannie\",\"Hoyt, Mrs. Frederick Maxfield (Jane Anne Forby)\",\"Eustis, Miss. Elizabeth Mussey\",\"Allison, Mrs. Hudson J C (Bessie Waldo Daniels)\",\"Canavan, Miss. Mary\",\"O'Sullivan, Miss. Bridget Mary\",\"Laitinen, Miss. Kristina Sofia\",\"Maioni, Miss. Roberta\",\"Quick, Mrs. Frederick Charles (Jane Richards)\",\"Rothschild, Mrs. Martin (Elizabeth L. Barrett)\",\"Lemore, Mrs. (Amelia Milley)\",\"Angle, Mrs. William A (Florence \\\"Mary\\\" Agnes Hughes)\",\"Perreault, Miss. Anne\",\"Hippach, Mrs. Louis Albert (Ida Sophia Fischer)\",\"Ridsdale, Miss. Lucy\",\"Quick, Miss. Phyllis May\",\"Peter, Mrs. Catherine (Catherine Rizk)\",\"Cacic, Miss. Marija\",\"Hart, Miss. Eva Miriam\",\"LeRoy, Miss. Bertha\",\"Frolicher, Miss. Hedwig Margaritha\",\"Crosby, Miss. Harriet R\",\"Andersson, Miss. Ingeborg Constanzia\",\"Andersson, Miss. Sigrid Elisabeth\",\"Beane, Mrs. Edward (Ethel Clarke)\",\"Ohman, Miss. Velin\",\"Duff Gordon, Lady. (Lucille Christiana Sutherland) (\\\"Mrs Morgan\\\")\",\"Taussig, Mrs. Emil (Tillie Mandelbaum)\",\"de Messemaeker, Mrs. Guillaume Joseph (Emma)\",\"Meanwell, Miss. (Marion Ogden)\",\"Palsson, Mrs. Nils (Alma Cornelia Berglund)\",\"Appleton, Mrs. Edward Dale (Charlotte Lamson)\",\"Kelly, Miss. Mary\",\"Garside, Miss. Ethel\",\"Silvey, Mrs. William Baird (Alice Munger)\",\"Caram, Mrs. Joseph (Maria Elias)\",\"Christy, Miss. Julie Rachel\",\"Thayer, Mrs. John Borland (Marian Longstreth Morris)\",\"Taussig, Miss. Ruth\",\"Stephenson, Mrs. Walter Bertram (Martha Eustis)\",\"Bourke, Miss. Mary\",\"Leitch, Miss. Jessie Wills\",\"Jacobsohn, Mrs. Sidney Samuel (Amy Frances Christy)\",\"Laroche, Mrs. Joseph (Juliette Marie Louise Lafargue)\",\"Shutes, Miss. Elizabeth W\",\"Andersson, Mrs. Anders Johan (Alfrida Konstantia Brogren)\",\"Murphy, Miss. Margaret Jane\",\"Herman, Miss. Alice\",\"Lobb, Mrs. William Arthur (Cordelia K Stanlick)\",\"Becker, Miss. Marion Louise\",\"Longley, Miss. Gretchen Fiske\",\"Skoog, Miss. Mabel\",\"Davis, Miss. Mary\",\"Panula, Mrs. Juha (Maria Emilia Ojala)\",\"Sagesser, Mlle. Emma\",\"Skoog, Miss. Margit Elizabeth\",\"Baclini, Miss. Eugenie\",\"Stanley, Miss. Amy Zillah Elsie\",\"Doling, Miss. Elsie\",\"O'Leary, Miss. Hanora \\\"Norah\\\"\",\"Hegarty, Miss. Hanora \\\"Nora\\\"\",\"Bourke, Mrs. John (Catherine)\",\"Taylor, Mrs. Elmer Zebley (Juliet Cummins Wright)\",\"Brown, Mrs. Thomas William Solomon (Elizabeth Catherine Ford)\",\"Turja, Miss. Anna Sofia\",\"Goodwin, Mrs. Frederick (Augusta Tyler)\",\"Peters, Miss. Katie\",\"Madill, Miss. Georgette Alexandra\",\"Karun, Miss. Manca\",\"Mullens, Miss. Katherine \\\"Katie\\\"\",\"Astor, Mrs. John Jacob (Madeleine Talmadge Force)\",\"Barbara, Miss. Saiide\",\"Kelly, Mrs. Florence \\\"Fannie\\\"\",\"Cleaver, Miss. Alice\",\"Mayne, Mlle. Berthe Antonine (\\\"Mrs de Villiers\\\")\",\"Endres, Miss. Caroline Louise\",\"Troutt, Miss. Edwina Celia \\\"Winnie\\\"\",\"Harper, Miss. Annie Jessie \\\"Nina\\\"\",\"Renouf, Mrs. Peter Henry (Lillian Jefferys)\",\"Mannion, Miss. Margareth\",\"Ilmakangas, Miss. Pieta Sofia\",\"Allen, Miss. Elisabeth Walton\",\"Ford, Mrs. Edward (Margaret Ann Watson)\",\"Ryerson, Miss. Susan Parker \\\"Suzette\\\"\",\"Sinkkonen, Miss. Anna\",\"Wells, Miss. Joan\",\"Herman, Mrs. Samuel (Jane Laver)\",\"Rothes, the Countess. of (Lucy Noel Martha Dyer-Edwards)\",\"Carter, Mrs. William Ernest (Lucile Polk)\",\"Hogeboom, Mrs. John C (Anna Andrews)\",\"Mangan, Miss. Mary\",\"Mack, Mrs. (Mary)\",\"Hocking, Mrs. Elizabeth (Eliza Needs)\",\"Emanuel, Miss. Virginia Ethel\",\"Robert, Mrs. Edward Scott (Elisabeth Walton McMillan)\",\"Ayoub, Miss. Banoura\",\"Dick, Mrs. Albert Adrian (Vera Gillespie)\",\"Sjoblom, Miss. Anna Sofia\",\"Sage, Miss. Stella Anna\",\"Leader, Dr. Alice (Farnham)\",\"Osman, Mrs. Mara\",\"Van Impe, Mrs. Jean Baptiste (Rosalie Paula Govaert)\",\"Collyer, Mrs. Harvey (Charlotte Annie Tate)\",\"Pettersson, Miss. Ellen Natalia\",\"Chambers, Mrs. Norman Campbell (Bertha Griggs)\",\"Andersson, Miss. Ebba Iris Alfrida\",\"Heininen, Miss. Wendla Maria\",\"Hays, Mrs. Charles Melville (Clara Jennings Gregg)\",\"Moor, Mrs. (Beila)\",\"Stone, Mrs. George Nelson (Martha Evelyn)\",\"Yasbeck, Mrs. Antoni (Selini Alexander)\",\"Compton, Miss. Sara Rebecca\",\"Serepeca, Miss. Augusta\",\"Goldenberg, Mrs. Samuel L (Edwiga Grabowska)\",\"Boulos, Miss. Nourelain\",\"Lines, Miss. Mary Conover\",\"Carter, Mrs. Ernest Courtenay (Lilian Hughes)\",\"Aks, Mrs. Sam (Leah Rosen)\",\"Wick, Mrs. George Dennick (Mary Hitchcock)\",\"Baclini, Mrs. Solomon (Latifa Qurban)\",\"Swift, Mrs. Frederick Joel (Margaret Welles Barron)\",\"Sage, Miss. Dorothy Edith \\\"Dolly\\\"\",\"Bystrom, Mrs. (Karolina)\",\"Duran y More, Miss. Asuncion\",\"Beckwith, Mrs. Richard Leonard (Sallie Monypeny)\",\"Abelson, Mrs. Samuel (Hannah Wizosky)\",\"Najib, Miss. Adele Kiamie \\\"Jane\\\"\",\"Potter, Mrs. Thomas Jr (Lily Alexenia Wilson)\",\"Shelley, Mrs. William (Imanita Parrish Hall)\",\"Dahlberg, Miss. Gerda Ulrika\",\"Rice, Mrs. William (Margaret Norton)\",\"Graham, Miss. Margaret Edith\",\"Johnston, Miss. Catherine Helen \\\"Carrie\\\"\"],\"xaxis\":\"x\",\"yaxis\":\"y\",\"type\":\"histogram\"}],                        {\"template\":{\"data\":{\"bar\":[{\"error_x\":{\"color\":\"#2a3f5f\"},\"error_y\":{\"color\":\"#2a3f5f\"},\"marker\":{\"line\":{\"color\":\"#E5ECF6\",\"width\":0.5},\"pattern\":{\"fillmode\":\"overlay\",\"size\":10,\"solidity\":0.2}},\"type\":\"bar\"}],\"barpolar\":[{\"marker\":{\"line\":{\"color\":\"#E5ECF6\",\"width\":0.5},\"pattern\":{\"fillmode\":\"overlay\",\"size\":10,\"solidity\":0.2}},\"type\":\"barpolar\"}],\"carpet\":[{\"aaxis\":{\"endlinecolor\":\"#2a3f5f\",\"gridcolor\":\"white\",\"linecolor\":\"white\",\"minorgridcolor\":\"white\",\"startlinecolor\":\"#2a3f5f\"},\"baxis\":{\"endlinecolor\":\"#2a3f5f\",\"gridcolor\":\"white\",\"linecolor\":\"white\",\"minorgridcolor\":\"white\",\"startlinecolor\":\"#2a3f5f\"},\"type\":\"carpet\"}],\"choropleth\":[{\"colorbar\":{\"outlinewidth\":0,\"ticks\":\"\"},\"type\":\"choropleth\"}],\"contour\":[{\"colorbar\":{\"outlinewidth\":0,\"ticks\":\"\"},\"colorscale\":[[0.0,\"#0d0887\"],[0.1111111111111111,\"#46039f\"],[0.2222222222222222,\"#7201a8\"],[0.3333333333333333,\"#9c179e\"],[0.4444444444444444,\"#bd3786\"],[0.5555555555555556,\"#d8576b\"],[0.6666666666666666,\"#ed7953\"],[0.7777777777777778,\"#fb9f3a\"],[0.8888888888888888,\"#fdca26\"],[1.0,\"#f0f921\"]],\"type\":\"contour\"}],\"contourcarpet\":[{\"colorbar\":{\"outlinewidth\":0,\"ticks\":\"\"},\"type\":\"contourcarpet\"}],\"heatmap\":[{\"colorbar\":{\"outlinewidth\":0,\"ticks\":\"\"},\"colorscale\":[[0.0,\"#0d0887\"],[0.1111111111111111,\"#46039f\"],[0.2222222222222222,\"#7201a8\"],[0.3333333333333333,\"#9c179e\"],[0.4444444444444444,\"#bd3786\"],[0.5555555555555556,\"#d8576b\"],[0.6666666666666666,\"#ed7953\"],[0.7777777777777778,\"#fb9f3a\"],[0.8888888888888888,\"#fdca26\"],[1.0,\"#f0f921\"]],\"type\":\"heatmap\"}],\"heatmapgl\":[{\"colorbar\":{\"outlinewidth\":0,\"ticks\":\"\"},\"colorscale\":[[0.0,\"#0d0887\"],[0.1111111111111111,\"#46039f\"],[0.2222222222222222,\"#7201a8\"],[0.3333333333333333,\"#9c179e\"],[0.4444444444444444,\"#bd3786\"],[0.5555555555555556,\"#d8576b\"],[0.6666666666666666,\"#ed7953\"],[0.7777777777777778,\"#fb9f3a\"],[0.8888888888888888,\"#fdca26\"],[1.0,\"#f0f921\"]],\"type\":\"heatmapgl\"}],\"histogram\":[{\"marker\":{\"pattern\":{\"fillmode\":\"overlay\",\"size\":10,\"solidity\":0.2}},\"type\":\"histogram\"}],\"histogram2d\":[{\"colorbar\":{\"outlinewidth\":0,\"ticks\":\"\"},\"colorscale\":[[0.0,\"#0d0887\"],[0.1111111111111111,\"#46039f\"],[0.2222222222222222,\"#7201a8\"],[0.3333333333333333,\"#9c179e\"],[0.4444444444444444,\"#bd3786\"],[0.5555555555555556,\"#d8576b\"],[0.6666666666666666,\"#ed7953\"],[0.7777777777777778,\"#fb9f3a\"],[0.8888888888888888,\"#fdca26\"],[1.0,\"#f0f921\"]],\"type\":\"histogram2d\"}],\"histogram2dcontour\":[{\"colorbar\":{\"outlinewidth\":0,\"ticks\":\"\"},\"colorscale\":[[0.0,\"#0d0887\"],[0.1111111111111111,\"#46039f\"],[0.2222222222222222,\"#7201a8\"],[0.3333333333333333,\"#9c179e\"],[0.4444444444444444,\"#bd3786\"],[0.5555555555555556,\"#d8576b\"],[0.6666666666666666,\"#ed7953\"],[0.7777777777777778,\"#fb9f3a\"],[0.8888888888888888,\"#fdca26\"],[1.0,\"#f0f921\"]],\"type\":\"histogram2dcontour\"}],\"mesh3d\":[{\"colorbar\":{\"outlinewidth\":0,\"ticks\":\"\"},\"type\":\"mesh3d\"}],\"parcoords\":[{\"line\":{\"colorbar\":{\"outlinewidth\":0,\"ticks\":\"\"}},\"type\":\"parcoords\"}],\"pie\":[{\"automargin\":true,\"type\":\"pie\"}],\"scatter\":[{\"marker\":{\"colorbar\":{\"outlinewidth\":0,\"ticks\":\"\"}},\"type\":\"scatter\"}],\"scatter3d\":[{\"line\":{\"colorbar\":{\"outlinewidth\":0,\"ticks\":\"\"}},\"marker\":{\"colorbar\":{\"outlinewidth\":0,\"ticks\":\"\"}},\"type\":\"scatter3d\"}],\"scattercarpet\":[{\"marker\":{\"colorbar\":{\"outlinewidth\":0,\"ticks\":\"\"}},\"type\":\"scattercarpet\"}],\"scattergeo\":[{\"marker\":{\"colorbar\":{\"outlinewidth\":0,\"ticks\":\"\"}},\"type\":\"scattergeo\"}],\"scattergl\":[{\"marker\":{\"colorbar\":{\"outlinewidth\":0,\"ticks\":\"\"}},\"type\":\"scattergl\"}],\"scattermapbox\":[{\"marker\":{\"colorbar\":{\"outlinewidth\":0,\"ticks\":\"\"}},\"type\":\"scattermapbox\"}],\"scatterpolar\":[{\"marker\":{\"colorbar\":{\"outlinewidth\":0,\"ticks\":\"\"}},\"type\":\"scatterpolar\"}],\"scatterpolargl\":[{\"marker\":{\"colorbar\":{\"outlinewidth\":0,\"ticks\":\"\"}},\"type\":\"scatterpolargl\"}],\"scatterternary\":[{\"marker\":{\"colorbar\":{\"outlinewidth\":0,\"ticks\":\"\"}},\"type\":\"scatterternary\"}],\"surface\":[{\"colorbar\":{\"outlinewidth\":0,\"ticks\":\"\"},\"colorscale\":[[0.0,\"#0d0887\"],[0.1111111111111111,\"#46039f\"],[0.2222222222222222,\"#7201a8\"],[0.3333333333333333,\"#9c179e\"],[0.4444444444444444,\"#bd3786\"],[0.5555555555555556,\"#d8576b\"],[0.6666666666666666,\"#ed7953\"],[0.7777777777777778,\"#fb9f3a\"],[0.8888888888888888,\"#fdca26\"],[1.0,\"#f0f921\"]],\"type\":\"surface\"}],\"table\":[{\"cells\":{\"fill\":{\"color\":\"#EBF0F8\"},\"line\":{\"color\":\"white\"}},\"header\":{\"fill\":{\"color\":\"#C8D4E3\"},\"line\":{\"color\":\"white\"}},\"type\":\"table\"}]},\"layout\":{\"annotationdefaults\":{\"arrowcolor\":\"#2a3f5f\",\"arrowhead\":0,\"arrowwidth\":1},\"autotypenumbers\":\"strict\",\"coloraxis\":{\"colorbar\":{\"outlinewidth\":0,\"ticks\":\"\"}},\"colorscale\":{\"diverging\":[[0,\"#8e0152\"],[0.1,\"#c51b7d\"],[0.2,\"#de77ae\"],[0.3,\"#f1b6da\"],[0.4,\"#fde0ef\"],[0.5,\"#f7f7f7\"],[0.6,\"#e6f5d0\"],[0.7,\"#b8e186\"],[0.8,\"#7fbc41\"],[0.9,\"#4d9221\"],[1,\"#276419\"]],\"sequential\":[[0.0,\"#0d0887\"],[0.1111111111111111,\"#46039f\"],[0.2222222222222222,\"#7201a8\"],[0.3333333333333333,\"#9c179e\"],[0.4444444444444444,\"#bd3786\"],[0.5555555555555556,\"#d8576b\"],[0.6666666666666666,\"#ed7953\"],[0.7777777777777778,\"#fb9f3a\"],[0.8888888888888888,\"#fdca26\"],[1.0,\"#f0f921\"]],\"sequentialminus\":[[0.0,\"#0d0887\"],[0.1111111111111111,\"#46039f\"],[0.2222222222222222,\"#7201a8\"],[0.3333333333333333,\"#9c179e\"],[0.4444444444444444,\"#bd3786\"],[0.5555555555555556,\"#d8576b\"],[0.6666666666666666,\"#ed7953\"],[0.7777777777777778,\"#fb9f3a\"],[0.8888888888888888,\"#fdca26\"],[1.0,\"#f0f921\"]]},\"colorway\":[\"#636efa\",\"#EF553B\",\"#00cc96\",\"#ab63fa\",\"#FFA15A\",\"#19d3f3\",\"#FF6692\",\"#B6E880\",\"#FF97FF\",\"#FECB52\"],\"font\":{\"color\":\"#2a3f5f\"},\"geo\":{\"bgcolor\":\"white\",\"lakecolor\":\"white\",\"landcolor\":\"#E5ECF6\",\"showlakes\":true,\"showland\":true,\"subunitcolor\":\"white\"},\"hoverlabel\":{\"align\":\"left\"},\"hovermode\":\"closest\",\"mapbox\":{\"style\":\"light\"},\"paper_bgcolor\":\"white\",\"plot_bgcolor\":\"#E5ECF6\",\"polar\":{\"angularaxis\":{\"gridcolor\":\"white\",\"linecolor\":\"white\",\"ticks\":\"\"},\"bgcolor\":\"#E5ECF6\",\"radialaxis\":{\"gridcolor\":\"white\",\"linecolor\":\"white\",\"ticks\":\"\"}},\"scene\":{\"xaxis\":{\"backgroundcolor\":\"#E5ECF6\",\"gridcolor\":\"white\",\"gridwidth\":2,\"linecolor\":\"white\",\"showbackground\":true,\"ticks\":\"\",\"zerolinecolor\":\"white\"},\"yaxis\":{\"backgroundcolor\":\"#E5ECF6\",\"gridcolor\":\"white\",\"gridwidth\":2,\"linecolor\":\"white\",\"showbackground\":true,\"ticks\":\"\",\"zerolinecolor\":\"white\"},\"zaxis\":{\"backgroundcolor\":\"#E5ECF6\",\"gridcolor\":\"white\",\"gridwidth\":2,\"linecolor\":\"white\",\"showbackground\":true,\"ticks\":\"\",\"zerolinecolor\":\"white\"}},\"shapedefaults\":{\"line\":{\"color\":\"#2a3f5f\"}},\"ternary\":{\"aaxis\":{\"gridcolor\":\"white\",\"linecolor\":\"white\",\"ticks\":\"\"},\"baxis\":{\"gridcolor\":\"white\",\"linecolor\":\"white\",\"ticks\":\"\"},\"bgcolor\":\"#E5ECF6\",\"caxis\":{\"gridcolor\":\"white\",\"linecolor\":\"white\",\"ticks\":\"\"}},\"title\":{\"x\":0.05},\"xaxis\":{\"automargin\":true,\"gridcolor\":\"white\",\"linecolor\":\"white\",\"ticks\":\"\",\"title\":{\"standoff\":15},\"zerolinecolor\":\"white\",\"zerolinewidth\":2},\"yaxis\":{\"automargin\":true,\"gridcolor\":\"white\",\"linecolor\":\"white\",\"ticks\":\"\",\"title\":{\"standoff\":15},\"zerolinecolor\":\"white\",\"zerolinewidth\":2}}},\"xaxis\":{\"anchor\":\"y\",\"domain\":[0.0,1.0],\"title\":{\"text\":\"Name\"}},\"yaxis\":{\"anchor\":\"x\",\"domain\":[0.0,1.0],\"title\":{\"text\":\"count\"}},\"legend\":{\"title\":{\"text\":\"Sex\"},\"tracegroupgap\":0},\"margin\":{\"t\":60},\"barmode\":\"relative\"},                        {\"responsive\": true}                    ).then(function(){\n",
       "                            \n",
       "var gd = document.getElementById('dd88c2c3-a765-4b58-9591-9345f07a6c70');\n",
       "var x = new MutationObserver(function (mutations, observer) {{\n",
       "        var display = window.getComputedStyle(gd).display;\n",
       "        if (!display || display === 'none') {{\n",
       "            console.log([gd, 'removed!']);\n",
       "            Plotly.purge(gd);\n",
       "            observer.disconnect();\n",
       "        }}\n",
       "}});\n",
       "\n",
       "// Listen for the removal of the full notebook cells\n",
       "var notebookContainer = gd.closest('#notebook-container');\n",
       "if (notebookContainer) {{\n",
       "    x.observe(notebookContainer, {childList: true});\n",
       "}}\n",
       "\n",
       "// Listen for the clearing of the current output cell\n",
       "var outputEl = gd.closest('.output');\n",
       "if (outputEl) {{\n",
       "    x.observe(outputEl, {childList: true});\n",
       "}}\n",
       "\n",
       "                        })                };                });            </script>        </div>"
      ]
     },
     "metadata": {},
     "output_type": "display_data"
    },
    {
     "data": {
      "application/vnd.plotly.v1+json": {
       "config": {
        "plotlyServerURL": "https://plot.ly"
       },
       "data": [
        {
         "alignmentgroup": "True",
         "bingroup": "x",
         "hovertemplate": "Sex=%{x}<br>count=%{y}<extra></extra>",
         "legendgroup": "male",
         "marker": {
          "color": "#636efa",
          "pattern": {
           "shape": ""
          }
         },
         "name": "male",
         "offsetgroup": "male",
         "orientation": "v",
         "showlegend": true,
         "type": "histogram",
         "x": [
          "male",
          "male",
          "male",
          "male",
          "male",
          "male",
          "male",
          "male",
          "male",
          "male",
          "male",
          "male",
          "male",
          "male",
          "male",
          "male",
          "male",
          "male",
          "male",
          "male",
          "male",
          "male",
          "male",
          "male",
          "male",
          "male",
          "male",
          "male",
          "male",
          "male",
          "male",
          "male",
          "male",
          "male",
          "male",
          "male",
          "male",
          "male",
          "male",
          "male",
          "male",
          "male",
          "male",
          "male",
          "male",
          "male",
          "male",
          "male",
          "male",
          "male",
          "male",
          "male",
          "male",
          "male",
          "male",
          "male",
          "male",
          "male",
          "male",
          "male",
          "male",
          "male",
          "male",
          "male",
          "male",
          "male",
          "male",
          "male",
          "male",
          "male",
          "male",
          "male",
          "male",
          "male",
          "male",
          "male",
          "male",
          "male",
          "male",
          "male",
          "male",
          "male",
          "male",
          "male",
          "male",
          "male",
          "male",
          "male",
          "male",
          "male",
          "male",
          "male",
          "male",
          "male",
          "male",
          "male",
          "male",
          "male",
          "male",
          "male",
          "male",
          "male",
          "male",
          "male",
          "male",
          "male",
          "male",
          "male",
          "male",
          "male",
          "male",
          "male",
          "male",
          "male",
          "male",
          "male",
          "male",
          "male",
          "male",
          "male",
          "male",
          "male",
          "male",
          "male",
          "male",
          "male",
          "male",
          "male",
          "male",
          "male",
          "male",
          "male",
          "male",
          "male",
          "male",
          "male",
          "male",
          "male",
          "male",
          "male",
          "male",
          "male",
          "male",
          "male",
          "male",
          "male",
          "male",
          "male",
          "male",
          "male",
          "male",
          "male",
          "male",
          "male",
          "male",
          "male",
          "male",
          "male",
          "male",
          "male",
          "male",
          "male",
          "male",
          "male",
          "male",
          "male",
          "male",
          "male",
          "male",
          "male",
          "male",
          "male",
          "male",
          "male",
          "male",
          "male",
          "male",
          "male",
          "male",
          "male",
          "male",
          "male",
          "male",
          "male",
          "male",
          "male",
          "male",
          "male",
          "male",
          "male",
          "male",
          "male",
          "male",
          "male",
          "male",
          "male",
          "male",
          "male",
          "male",
          "male",
          "male",
          "male",
          "male",
          "male",
          "male",
          "male",
          "male",
          "male",
          "male",
          "male",
          "male",
          "male",
          "male",
          "male",
          "male",
          "male",
          "male",
          "male",
          "male",
          "male",
          "male",
          "male",
          "male",
          "male",
          "male",
          "male",
          "male",
          "male",
          "male",
          "male",
          "male",
          "male",
          "male",
          "male",
          "male",
          "male",
          "male",
          "male",
          "male",
          "male",
          "male",
          "male",
          "male",
          "male",
          "male",
          "male",
          "male",
          "male",
          "male",
          "male",
          "male",
          "male",
          "male",
          "male",
          "male",
          "male",
          "male",
          "male",
          "male",
          "male",
          "male",
          "male",
          "male",
          "male",
          "male",
          "male",
          "male",
          "male",
          "male",
          "male",
          "male",
          "male",
          "male",
          "male",
          "male",
          "male",
          "male",
          "male",
          "male",
          "male",
          "male",
          "male",
          "male",
          "male",
          "male",
          "male",
          "male",
          "male",
          "male",
          "male",
          "male",
          "male",
          "male",
          "male",
          "male",
          "male",
          "male",
          "male",
          "male",
          "male",
          "male",
          "male",
          "male",
          "male",
          "male",
          "male",
          "male",
          "male",
          "male",
          "male",
          "male",
          "male",
          "male",
          "male",
          "male",
          "male",
          "male",
          "male",
          "male",
          "male",
          "male",
          "male",
          "male",
          "male",
          "male",
          "male",
          "male",
          "male",
          "male",
          "male",
          "male",
          "male",
          "male",
          "male",
          "male",
          "male",
          "male",
          "male",
          "male",
          "male",
          "male",
          "male",
          "male",
          "male",
          "male",
          "male",
          "male",
          "male",
          "male",
          "male",
          "male",
          "male",
          "male",
          "male",
          "male",
          "male",
          "male",
          "male",
          "male",
          "male",
          "male",
          "male",
          "male",
          "male",
          "male",
          "male",
          "male",
          "male",
          "male",
          "male",
          "male",
          "male",
          "male",
          "male",
          "male",
          "male",
          "male",
          "male",
          "male",
          "male",
          "male",
          "male",
          "male",
          "male",
          "male",
          "male",
          "male",
          "male",
          "male",
          "male",
          "male",
          "male",
          "male",
          "male",
          "male",
          "male",
          "male",
          "male",
          "male",
          "male",
          "male",
          "male",
          "male",
          "male",
          "male",
          "male",
          "male",
          "male",
          "male",
          "male",
          "male",
          "male",
          "male",
          "male",
          "male",
          "male",
          "male",
          "male",
          "male",
          "male",
          "male",
          "male",
          "male",
          "male",
          "male",
          "male",
          "male",
          "male",
          "male",
          "male",
          "male",
          "male",
          "male",
          "male",
          "male",
          "male",
          "male",
          "male",
          "male",
          "male",
          "male",
          "male",
          "male",
          "male",
          "male",
          "male",
          "male",
          "male",
          "male",
          "male",
          "male",
          "male",
          "male",
          "male",
          "male",
          "male",
          "male",
          "male",
          "male",
          "male",
          "male",
          "male",
          "male",
          "male",
          "male",
          "male",
          "male",
          "male",
          "male",
          "male",
          "male",
          "male",
          "male",
          "male",
          "male",
          "male",
          "male",
          "male",
          "male",
          "male",
          "male",
          "male",
          "male",
          "male",
          "male",
          "male",
          "male",
          "male",
          "male",
          "male",
          "male",
          "male",
          "male",
          "male",
          "male",
          "male",
          "male",
          "male",
          "male",
          "male",
          "male",
          "male",
          "male",
          "male",
          "male",
          "male",
          "male",
          "male",
          "male",
          "male",
          "male",
          "male",
          "male",
          "male",
          "male",
          "male",
          "male",
          "male",
          "male",
          "male",
          "male",
          "male",
          "male",
          "male",
          "male",
          "male",
          "male",
          "male",
          "male",
          "male",
          "male",
          "male",
          "male",
          "male",
          "male",
          "male",
          "male",
          "male",
          "male",
          "male",
          "male",
          "male",
          "male",
          "male",
          "male",
          "male",
          "male",
          "male",
          "male",
          "male",
          "male",
          "male",
          "male",
          "male",
          "male",
          "male",
          "male",
          "male",
          "male",
          "male",
          "male",
          "male",
          "male",
          "male",
          "male",
          "male",
          "male",
          "male",
          "male",
          "male",
          "male",
          "male",
          "male",
          "male",
          "male",
          "male",
          "male"
         ],
         "xaxis": "x",
         "yaxis": "y"
        },
        {
         "alignmentgroup": "True",
         "bingroup": "x",
         "hovertemplate": "Sex=%{x}<br>count=%{y}<extra></extra>",
         "legendgroup": "female",
         "marker": {
          "color": "#EF553B",
          "pattern": {
           "shape": ""
          }
         },
         "name": "female",
         "offsetgroup": "female",
         "orientation": "v",
         "showlegend": true,
         "type": "histogram",
         "x": [
          "female",
          "female",
          "female",
          "female",
          "female",
          "female",
          "female",
          "female",
          "female",
          "female",
          "female",
          "female",
          "female",
          "female",
          "female",
          "female",
          "female",
          "female",
          "female",
          "female",
          "female",
          "female",
          "female",
          "female",
          "female",
          "female",
          "female",
          "female",
          "female",
          "female",
          "female",
          "female",
          "female",
          "female",
          "female",
          "female",
          "female",
          "female",
          "female",
          "female",
          "female",
          "female",
          "female",
          "female",
          "female",
          "female",
          "female",
          "female",
          "female",
          "female",
          "female",
          "female",
          "female",
          "female",
          "female",
          "female",
          "female",
          "female",
          "female",
          "female",
          "female",
          "female",
          "female",
          "female",
          "female",
          "female",
          "female",
          "female",
          "female",
          "female",
          "female",
          "female",
          "female",
          "female",
          "female",
          "female",
          "female",
          "female",
          "female",
          "female",
          "female",
          "female",
          "female",
          "female",
          "female",
          "female",
          "female",
          "female",
          "female",
          "female",
          "female",
          "female",
          "female",
          "female",
          "female",
          "female",
          "female",
          "female",
          "female",
          "female",
          "female",
          "female",
          "female",
          "female",
          "female",
          "female",
          "female",
          "female",
          "female",
          "female",
          "female",
          "female",
          "female",
          "female",
          "female",
          "female",
          "female",
          "female",
          "female",
          "female",
          "female",
          "female",
          "female",
          "female",
          "female",
          "female",
          "female",
          "female",
          "female",
          "female",
          "female",
          "female",
          "female",
          "female",
          "female",
          "female",
          "female",
          "female",
          "female",
          "female",
          "female",
          "female",
          "female",
          "female",
          "female",
          "female",
          "female",
          "female",
          "female",
          "female",
          "female",
          "female",
          "female",
          "female",
          "female",
          "female",
          "female",
          "female",
          "female",
          "female",
          "female",
          "female",
          "female",
          "female",
          "female",
          "female",
          "female",
          "female",
          "female",
          "female",
          "female",
          "female",
          "female",
          "female",
          "female",
          "female",
          "female",
          "female",
          "female",
          "female",
          "female",
          "female",
          "female",
          "female",
          "female",
          "female",
          "female",
          "female",
          "female",
          "female",
          "female",
          "female",
          "female",
          "female",
          "female",
          "female",
          "female",
          "female",
          "female",
          "female",
          "female",
          "female",
          "female",
          "female",
          "female",
          "female",
          "female",
          "female",
          "female",
          "female",
          "female",
          "female",
          "female",
          "female",
          "female",
          "female",
          "female",
          "female",
          "female",
          "female",
          "female",
          "female",
          "female",
          "female",
          "female",
          "female",
          "female",
          "female",
          "female",
          "female",
          "female",
          "female",
          "female",
          "female",
          "female",
          "female",
          "female",
          "female",
          "female",
          "female",
          "female",
          "female",
          "female",
          "female",
          "female",
          "female",
          "female",
          "female",
          "female",
          "female",
          "female",
          "female",
          "female",
          "female",
          "female",
          "female",
          "female",
          "female",
          "female",
          "female",
          "female",
          "female",
          "female",
          "female",
          "female",
          "female",
          "female",
          "female",
          "female",
          "female",
          "female",
          "female",
          "female",
          "female",
          "female",
          "female",
          "female",
          "female",
          "female",
          "female",
          "female",
          "female",
          "female",
          "female",
          "female",
          "female",
          "female",
          "female",
          "female",
          "female",
          "female",
          "female",
          "female",
          "female",
          "female",
          "female",
          "female",
          "female",
          "female",
          "female",
          "female",
          "female",
          "female",
          "female",
          "female",
          "female",
          "female",
          "female",
          "female",
          "female",
          "female",
          "female",
          "female",
          "female"
         ],
         "xaxis": "x",
         "yaxis": "y"
        }
       ],
       "layout": {
        "barmode": "relative",
        "legend": {
         "title": {
          "text": "Sex"
         },
         "tracegroupgap": 0
        },
        "margin": {
         "t": 60
        },
        "template": {
         "data": {
          "bar": [
           {
            "error_x": {
             "color": "#2a3f5f"
            },
            "error_y": {
             "color": "#2a3f5f"
            },
            "marker": {
             "line": {
              "color": "#E5ECF6",
              "width": 0.5
             },
             "pattern": {
              "fillmode": "overlay",
              "size": 10,
              "solidity": 0.2
             }
            },
            "type": "bar"
           }
          ],
          "barpolar": [
           {
            "marker": {
             "line": {
              "color": "#E5ECF6",
              "width": 0.5
             },
             "pattern": {
              "fillmode": "overlay",
              "size": 10,
              "solidity": 0.2
             }
            },
            "type": "barpolar"
           }
          ],
          "carpet": [
           {
            "aaxis": {
             "endlinecolor": "#2a3f5f",
             "gridcolor": "white",
             "linecolor": "white",
             "minorgridcolor": "white",
             "startlinecolor": "#2a3f5f"
            },
            "baxis": {
             "endlinecolor": "#2a3f5f",
             "gridcolor": "white",
             "linecolor": "white",
             "minorgridcolor": "white",
             "startlinecolor": "#2a3f5f"
            },
            "type": "carpet"
           }
          ],
          "choropleth": [
           {
            "colorbar": {
             "outlinewidth": 0,
             "ticks": ""
            },
            "type": "choropleth"
           }
          ],
          "contour": [
           {
            "colorbar": {
             "outlinewidth": 0,
             "ticks": ""
            },
            "colorscale": [
             [
              0,
              "#0d0887"
             ],
             [
              0.1111111111111111,
              "#46039f"
             ],
             [
              0.2222222222222222,
              "#7201a8"
             ],
             [
              0.3333333333333333,
              "#9c179e"
             ],
             [
              0.4444444444444444,
              "#bd3786"
             ],
             [
              0.5555555555555556,
              "#d8576b"
             ],
             [
              0.6666666666666666,
              "#ed7953"
             ],
             [
              0.7777777777777778,
              "#fb9f3a"
             ],
             [
              0.8888888888888888,
              "#fdca26"
             ],
             [
              1,
              "#f0f921"
             ]
            ],
            "type": "contour"
           }
          ],
          "contourcarpet": [
           {
            "colorbar": {
             "outlinewidth": 0,
             "ticks": ""
            },
            "type": "contourcarpet"
           }
          ],
          "heatmap": [
           {
            "colorbar": {
             "outlinewidth": 0,
             "ticks": ""
            },
            "colorscale": [
             [
              0,
              "#0d0887"
             ],
             [
              0.1111111111111111,
              "#46039f"
             ],
             [
              0.2222222222222222,
              "#7201a8"
             ],
             [
              0.3333333333333333,
              "#9c179e"
             ],
             [
              0.4444444444444444,
              "#bd3786"
             ],
             [
              0.5555555555555556,
              "#d8576b"
             ],
             [
              0.6666666666666666,
              "#ed7953"
             ],
             [
              0.7777777777777778,
              "#fb9f3a"
             ],
             [
              0.8888888888888888,
              "#fdca26"
             ],
             [
              1,
              "#f0f921"
             ]
            ],
            "type": "heatmap"
           }
          ],
          "heatmapgl": [
           {
            "colorbar": {
             "outlinewidth": 0,
             "ticks": ""
            },
            "colorscale": [
             [
              0,
              "#0d0887"
             ],
             [
              0.1111111111111111,
              "#46039f"
             ],
             [
              0.2222222222222222,
              "#7201a8"
             ],
             [
              0.3333333333333333,
              "#9c179e"
             ],
             [
              0.4444444444444444,
              "#bd3786"
             ],
             [
              0.5555555555555556,
              "#d8576b"
             ],
             [
              0.6666666666666666,
              "#ed7953"
             ],
             [
              0.7777777777777778,
              "#fb9f3a"
             ],
             [
              0.8888888888888888,
              "#fdca26"
             ],
             [
              1,
              "#f0f921"
             ]
            ],
            "type": "heatmapgl"
           }
          ],
          "histogram": [
           {
            "marker": {
             "pattern": {
              "fillmode": "overlay",
              "size": 10,
              "solidity": 0.2
             }
            },
            "type": "histogram"
           }
          ],
          "histogram2d": [
           {
            "colorbar": {
             "outlinewidth": 0,
             "ticks": ""
            },
            "colorscale": [
             [
              0,
              "#0d0887"
             ],
             [
              0.1111111111111111,
              "#46039f"
             ],
             [
              0.2222222222222222,
              "#7201a8"
             ],
             [
              0.3333333333333333,
              "#9c179e"
             ],
             [
              0.4444444444444444,
              "#bd3786"
             ],
             [
              0.5555555555555556,
              "#d8576b"
             ],
             [
              0.6666666666666666,
              "#ed7953"
             ],
             [
              0.7777777777777778,
              "#fb9f3a"
             ],
             [
              0.8888888888888888,
              "#fdca26"
             ],
             [
              1,
              "#f0f921"
             ]
            ],
            "type": "histogram2d"
           }
          ],
          "histogram2dcontour": [
           {
            "colorbar": {
             "outlinewidth": 0,
             "ticks": ""
            },
            "colorscale": [
             [
              0,
              "#0d0887"
             ],
             [
              0.1111111111111111,
              "#46039f"
             ],
             [
              0.2222222222222222,
              "#7201a8"
             ],
             [
              0.3333333333333333,
              "#9c179e"
             ],
             [
              0.4444444444444444,
              "#bd3786"
             ],
             [
              0.5555555555555556,
              "#d8576b"
             ],
             [
              0.6666666666666666,
              "#ed7953"
             ],
             [
              0.7777777777777778,
              "#fb9f3a"
             ],
             [
              0.8888888888888888,
              "#fdca26"
             ],
             [
              1,
              "#f0f921"
             ]
            ],
            "type": "histogram2dcontour"
           }
          ],
          "mesh3d": [
           {
            "colorbar": {
             "outlinewidth": 0,
             "ticks": ""
            },
            "type": "mesh3d"
           }
          ],
          "parcoords": [
           {
            "line": {
             "colorbar": {
              "outlinewidth": 0,
              "ticks": ""
             }
            },
            "type": "parcoords"
           }
          ],
          "pie": [
           {
            "automargin": true,
            "type": "pie"
           }
          ],
          "scatter": [
           {
            "marker": {
             "colorbar": {
              "outlinewidth": 0,
              "ticks": ""
             }
            },
            "type": "scatter"
           }
          ],
          "scatter3d": [
           {
            "line": {
             "colorbar": {
              "outlinewidth": 0,
              "ticks": ""
             }
            },
            "marker": {
             "colorbar": {
              "outlinewidth": 0,
              "ticks": ""
             }
            },
            "type": "scatter3d"
           }
          ],
          "scattercarpet": [
           {
            "marker": {
             "colorbar": {
              "outlinewidth": 0,
              "ticks": ""
             }
            },
            "type": "scattercarpet"
           }
          ],
          "scattergeo": [
           {
            "marker": {
             "colorbar": {
              "outlinewidth": 0,
              "ticks": ""
             }
            },
            "type": "scattergeo"
           }
          ],
          "scattergl": [
           {
            "marker": {
             "colorbar": {
              "outlinewidth": 0,
              "ticks": ""
             }
            },
            "type": "scattergl"
           }
          ],
          "scattermapbox": [
           {
            "marker": {
             "colorbar": {
              "outlinewidth": 0,
              "ticks": ""
             }
            },
            "type": "scattermapbox"
           }
          ],
          "scatterpolar": [
           {
            "marker": {
             "colorbar": {
              "outlinewidth": 0,
              "ticks": ""
             }
            },
            "type": "scatterpolar"
           }
          ],
          "scatterpolargl": [
           {
            "marker": {
             "colorbar": {
              "outlinewidth": 0,
              "ticks": ""
             }
            },
            "type": "scatterpolargl"
           }
          ],
          "scatterternary": [
           {
            "marker": {
             "colorbar": {
              "outlinewidth": 0,
              "ticks": ""
             }
            },
            "type": "scatterternary"
           }
          ],
          "surface": [
           {
            "colorbar": {
             "outlinewidth": 0,
             "ticks": ""
            },
            "colorscale": [
             [
              0,
              "#0d0887"
             ],
             [
              0.1111111111111111,
              "#46039f"
             ],
             [
              0.2222222222222222,
              "#7201a8"
             ],
             [
              0.3333333333333333,
              "#9c179e"
             ],
             [
              0.4444444444444444,
              "#bd3786"
             ],
             [
              0.5555555555555556,
              "#d8576b"
             ],
             [
              0.6666666666666666,
              "#ed7953"
             ],
             [
              0.7777777777777778,
              "#fb9f3a"
             ],
             [
              0.8888888888888888,
              "#fdca26"
             ],
             [
              1,
              "#f0f921"
             ]
            ],
            "type": "surface"
           }
          ],
          "table": [
           {
            "cells": {
             "fill": {
              "color": "#EBF0F8"
             },
             "line": {
              "color": "white"
             }
            },
            "header": {
             "fill": {
              "color": "#C8D4E3"
             },
             "line": {
              "color": "white"
             }
            },
            "type": "table"
           }
          ]
         },
         "layout": {
          "annotationdefaults": {
           "arrowcolor": "#2a3f5f",
           "arrowhead": 0,
           "arrowwidth": 1
          },
          "autotypenumbers": "strict",
          "coloraxis": {
           "colorbar": {
            "outlinewidth": 0,
            "ticks": ""
           }
          },
          "colorscale": {
           "diverging": [
            [
             0,
             "#8e0152"
            ],
            [
             0.1,
             "#c51b7d"
            ],
            [
             0.2,
             "#de77ae"
            ],
            [
             0.3,
             "#f1b6da"
            ],
            [
             0.4,
             "#fde0ef"
            ],
            [
             0.5,
             "#f7f7f7"
            ],
            [
             0.6,
             "#e6f5d0"
            ],
            [
             0.7,
             "#b8e186"
            ],
            [
             0.8,
             "#7fbc41"
            ],
            [
             0.9,
             "#4d9221"
            ],
            [
             1,
             "#276419"
            ]
           ],
           "sequential": [
            [
             0,
             "#0d0887"
            ],
            [
             0.1111111111111111,
             "#46039f"
            ],
            [
             0.2222222222222222,
             "#7201a8"
            ],
            [
             0.3333333333333333,
             "#9c179e"
            ],
            [
             0.4444444444444444,
             "#bd3786"
            ],
            [
             0.5555555555555556,
             "#d8576b"
            ],
            [
             0.6666666666666666,
             "#ed7953"
            ],
            [
             0.7777777777777778,
             "#fb9f3a"
            ],
            [
             0.8888888888888888,
             "#fdca26"
            ],
            [
             1,
             "#f0f921"
            ]
           ],
           "sequentialminus": [
            [
             0,
             "#0d0887"
            ],
            [
             0.1111111111111111,
             "#46039f"
            ],
            [
             0.2222222222222222,
             "#7201a8"
            ],
            [
             0.3333333333333333,
             "#9c179e"
            ],
            [
             0.4444444444444444,
             "#bd3786"
            ],
            [
             0.5555555555555556,
             "#d8576b"
            ],
            [
             0.6666666666666666,
             "#ed7953"
            ],
            [
             0.7777777777777778,
             "#fb9f3a"
            ],
            [
             0.8888888888888888,
             "#fdca26"
            ],
            [
             1,
             "#f0f921"
            ]
           ]
          },
          "colorway": [
           "#636efa",
           "#EF553B",
           "#00cc96",
           "#ab63fa",
           "#FFA15A",
           "#19d3f3",
           "#FF6692",
           "#B6E880",
           "#FF97FF",
           "#FECB52"
          ],
          "font": {
           "color": "#2a3f5f"
          },
          "geo": {
           "bgcolor": "white",
           "lakecolor": "white",
           "landcolor": "#E5ECF6",
           "showlakes": true,
           "showland": true,
           "subunitcolor": "white"
          },
          "hoverlabel": {
           "align": "left"
          },
          "hovermode": "closest",
          "mapbox": {
           "style": "light"
          },
          "paper_bgcolor": "white",
          "plot_bgcolor": "#E5ECF6",
          "polar": {
           "angularaxis": {
            "gridcolor": "white",
            "linecolor": "white",
            "ticks": ""
           },
           "bgcolor": "#E5ECF6",
           "radialaxis": {
            "gridcolor": "white",
            "linecolor": "white",
            "ticks": ""
           }
          },
          "scene": {
           "xaxis": {
            "backgroundcolor": "#E5ECF6",
            "gridcolor": "white",
            "gridwidth": 2,
            "linecolor": "white",
            "showbackground": true,
            "ticks": "",
            "zerolinecolor": "white"
           },
           "yaxis": {
            "backgroundcolor": "#E5ECF6",
            "gridcolor": "white",
            "gridwidth": 2,
            "linecolor": "white",
            "showbackground": true,
            "ticks": "",
            "zerolinecolor": "white"
           },
           "zaxis": {
            "backgroundcolor": "#E5ECF6",
            "gridcolor": "white",
            "gridwidth": 2,
            "linecolor": "white",
            "showbackground": true,
            "ticks": "",
            "zerolinecolor": "white"
           }
          },
          "shapedefaults": {
           "line": {
            "color": "#2a3f5f"
           }
          },
          "ternary": {
           "aaxis": {
            "gridcolor": "white",
            "linecolor": "white",
            "ticks": ""
           },
           "baxis": {
            "gridcolor": "white",
            "linecolor": "white",
            "ticks": ""
           },
           "bgcolor": "#E5ECF6",
           "caxis": {
            "gridcolor": "white",
            "linecolor": "white",
            "ticks": ""
           }
          },
          "title": {
           "x": 0.05
          },
          "xaxis": {
           "automargin": true,
           "gridcolor": "white",
           "linecolor": "white",
           "ticks": "",
           "title": {
            "standoff": 15
           },
           "zerolinecolor": "white",
           "zerolinewidth": 2
          },
          "yaxis": {
           "automargin": true,
           "gridcolor": "white",
           "linecolor": "white",
           "ticks": "",
           "title": {
            "standoff": 15
           },
           "zerolinecolor": "white",
           "zerolinewidth": 2
          }
         }
        },
        "xaxis": {
         "anchor": "y",
         "categoryarray": [
          "male",
          "female"
         ],
         "categoryorder": "array",
         "domain": [
          0,
          1
         ],
         "title": {
          "text": "Sex"
         }
        },
        "yaxis": {
         "anchor": "x",
         "domain": [
          0,
          1
         ],
         "title": {
          "text": "count"
         }
        }
       }
      },
      "text/html": [
       "<div>                            <div id=\"9f07574d-c3b5-4c3c-8d06-2ce64500c7c7\" class=\"plotly-graph-div\" style=\"height:525px; width:100%;\"></div>            <script type=\"text/javascript\">                require([\"plotly\"], function(Plotly) {                    window.PLOTLYENV=window.PLOTLYENV || {};                                    if (document.getElementById(\"9f07574d-c3b5-4c3c-8d06-2ce64500c7c7\")) {                    Plotly.newPlot(                        \"9f07574d-c3b5-4c3c-8d06-2ce64500c7c7\",                        [{\"alignmentgroup\":\"True\",\"bingroup\":\"x\",\"hovertemplate\":\"Sex=%{x}<br>count=%{y}<extra></extra>\",\"legendgroup\":\"male\",\"marker\":{\"color\":\"#636efa\",\"pattern\":{\"shape\":\"\"}},\"name\":\"male\",\"offsetgroup\":\"male\",\"orientation\":\"v\",\"showlegend\":true,\"x\":[\"male\",\"male\",\"male\",\"male\",\"male\",\"male\",\"male\",\"male\",\"male\",\"male\",\"male\",\"male\",\"male\",\"male\",\"male\",\"male\",\"male\",\"male\",\"male\",\"male\",\"male\",\"male\",\"male\",\"male\",\"male\",\"male\",\"male\",\"male\",\"male\",\"male\",\"male\",\"male\",\"male\",\"male\",\"male\",\"male\",\"male\",\"male\",\"male\",\"male\",\"male\",\"male\",\"male\",\"male\",\"male\",\"male\",\"male\",\"male\",\"male\",\"male\",\"male\",\"male\",\"male\",\"male\",\"male\",\"male\",\"male\",\"male\",\"male\",\"male\",\"male\",\"male\",\"male\",\"male\",\"male\",\"male\",\"male\",\"male\",\"male\",\"male\",\"male\",\"male\",\"male\",\"male\",\"male\",\"male\",\"male\",\"male\",\"male\",\"male\",\"male\",\"male\",\"male\",\"male\",\"male\",\"male\",\"male\",\"male\",\"male\",\"male\",\"male\",\"male\",\"male\",\"male\",\"male\",\"male\",\"male\",\"male\",\"male\",\"male\",\"male\",\"male\",\"male\",\"male\",\"male\",\"male\",\"male\",\"male\",\"male\",\"male\",\"male\",\"male\",\"male\",\"male\",\"male\",\"male\",\"male\",\"male\",\"male\",\"male\",\"male\",\"male\",\"male\",\"male\",\"male\",\"male\",\"male\",\"male\",\"male\",\"male\",\"male\",\"male\",\"male\",\"male\",\"male\",\"male\",\"male\",\"male\",\"male\",\"male\",\"male\",\"male\",\"male\",\"male\",\"male\",\"male\",\"male\",\"male\",\"male\",\"male\",\"male\",\"male\",\"male\",\"male\",\"male\",\"male\",\"male\",\"male\",\"male\",\"male\",\"male\",\"male\",\"male\",\"male\",\"male\",\"male\",\"male\",\"male\",\"male\",\"male\",\"male\",\"male\",\"male\",\"male\",\"male\",\"male\",\"male\",\"male\",\"male\",\"male\",\"male\",\"male\",\"male\",\"male\",\"male\",\"male\",\"male\",\"male\",\"male\",\"male\",\"male\",\"male\",\"male\",\"male\",\"male\",\"male\",\"male\",\"male\",\"male\",\"male\",\"male\",\"male\",\"male\",\"male\",\"male\",\"male\",\"male\",\"male\",\"male\",\"male\",\"male\",\"male\",\"male\",\"male\",\"male\",\"male\",\"male\",\"male\",\"male\",\"male\",\"male\",\"male\",\"male\",\"male\",\"male\",\"male\",\"male\",\"male\",\"male\",\"male\",\"male\",\"male\",\"male\",\"male\",\"male\",\"male\",\"male\",\"male\",\"male\",\"male\",\"male\",\"male\",\"male\",\"male\",\"male\",\"male\",\"male\",\"male\",\"male\",\"male\",\"male\",\"male\",\"male\",\"male\",\"male\",\"male\",\"male\",\"male\",\"male\",\"male\",\"male\",\"male\",\"male\",\"male\",\"male\",\"male\",\"male\",\"male\",\"male\",\"male\",\"male\",\"male\",\"male\",\"male\",\"male\",\"male\",\"male\",\"male\",\"male\",\"male\",\"male\",\"male\",\"male\",\"male\",\"male\",\"male\",\"male\",\"male\",\"male\",\"male\",\"male\",\"male\",\"male\",\"male\",\"male\",\"male\",\"male\",\"male\",\"male\",\"male\",\"male\",\"male\",\"male\",\"male\",\"male\",\"male\",\"male\",\"male\",\"male\",\"male\",\"male\",\"male\",\"male\",\"male\",\"male\",\"male\",\"male\",\"male\",\"male\",\"male\",\"male\",\"male\",\"male\",\"male\",\"male\",\"male\",\"male\",\"male\",\"male\",\"male\",\"male\",\"male\",\"male\",\"male\",\"male\",\"male\",\"male\",\"male\",\"male\",\"male\",\"male\",\"male\",\"male\",\"male\",\"male\",\"male\",\"male\",\"male\",\"male\",\"male\",\"male\",\"male\",\"male\",\"male\",\"male\",\"male\",\"male\",\"male\",\"male\",\"male\",\"male\",\"male\",\"male\",\"male\",\"male\",\"male\",\"male\",\"male\",\"male\",\"male\",\"male\",\"male\",\"male\",\"male\",\"male\",\"male\",\"male\",\"male\",\"male\",\"male\",\"male\",\"male\",\"male\",\"male\",\"male\",\"male\",\"male\",\"male\",\"male\",\"male\",\"male\",\"male\",\"male\",\"male\",\"male\",\"male\",\"male\",\"male\",\"male\",\"male\",\"male\",\"male\",\"male\",\"male\",\"male\",\"male\",\"male\",\"male\",\"male\",\"male\",\"male\",\"male\",\"male\",\"male\",\"male\",\"male\",\"male\",\"male\",\"male\",\"male\",\"male\",\"male\",\"male\",\"male\",\"male\",\"male\",\"male\",\"male\",\"male\",\"male\",\"male\",\"male\",\"male\",\"male\",\"male\",\"male\",\"male\",\"male\",\"male\",\"male\",\"male\",\"male\",\"male\",\"male\",\"male\",\"male\",\"male\",\"male\",\"male\",\"male\",\"male\",\"male\",\"male\",\"male\",\"male\",\"male\",\"male\",\"male\",\"male\",\"male\",\"male\",\"male\",\"male\",\"male\",\"male\",\"male\",\"male\",\"male\",\"male\",\"male\",\"male\",\"male\",\"male\",\"male\",\"male\",\"male\",\"male\",\"male\",\"male\",\"male\",\"male\",\"male\",\"male\",\"male\",\"male\",\"male\",\"male\",\"male\",\"male\",\"male\",\"male\",\"male\",\"male\",\"male\",\"male\",\"male\",\"male\",\"male\",\"male\",\"male\",\"male\",\"male\",\"male\",\"male\",\"male\",\"male\",\"male\",\"male\",\"male\",\"male\",\"male\",\"male\",\"male\",\"male\",\"male\",\"male\",\"male\",\"male\",\"male\",\"male\",\"male\",\"male\",\"male\",\"male\",\"male\",\"male\",\"male\",\"male\",\"male\",\"male\",\"male\",\"male\",\"male\",\"male\",\"male\",\"male\",\"male\",\"male\",\"male\",\"male\",\"male\",\"male\",\"male\",\"male\",\"male\",\"male\",\"male\",\"male\",\"male\",\"male\",\"male\",\"male\",\"male\",\"male\",\"male\",\"male\",\"male\",\"male\",\"male\",\"male\",\"male\",\"male\",\"male\",\"male\",\"male\",\"male\",\"male\",\"male\",\"male\",\"male\",\"male\",\"male\",\"male\",\"male\",\"male\",\"male\",\"male\"],\"xaxis\":\"x\",\"yaxis\":\"y\",\"type\":\"histogram\"},{\"alignmentgroup\":\"True\",\"bingroup\":\"x\",\"hovertemplate\":\"Sex=%{x}<br>count=%{y}<extra></extra>\",\"legendgroup\":\"female\",\"marker\":{\"color\":\"#EF553B\",\"pattern\":{\"shape\":\"\"}},\"name\":\"female\",\"offsetgroup\":\"female\",\"orientation\":\"v\",\"showlegend\":true,\"x\":[\"female\",\"female\",\"female\",\"female\",\"female\",\"female\",\"female\",\"female\",\"female\",\"female\",\"female\",\"female\",\"female\",\"female\",\"female\",\"female\",\"female\",\"female\",\"female\",\"female\",\"female\",\"female\",\"female\",\"female\",\"female\",\"female\",\"female\",\"female\",\"female\",\"female\",\"female\",\"female\",\"female\",\"female\",\"female\",\"female\",\"female\",\"female\",\"female\",\"female\",\"female\",\"female\",\"female\",\"female\",\"female\",\"female\",\"female\",\"female\",\"female\",\"female\",\"female\",\"female\",\"female\",\"female\",\"female\",\"female\",\"female\",\"female\",\"female\",\"female\",\"female\",\"female\",\"female\",\"female\",\"female\",\"female\",\"female\",\"female\",\"female\",\"female\",\"female\",\"female\",\"female\",\"female\",\"female\",\"female\",\"female\",\"female\",\"female\",\"female\",\"female\",\"female\",\"female\",\"female\",\"female\",\"female\",\"female\",\"female\",\"female\",\"female\",\"female\",\"female\",\"female\",\"female\",\"female\",\"female\",\"female\",\"female\",\"female\",\"female\",\"female\",\"female\",\"female\",\"female\",\"female\",\"female\",\"female\",\"female\",\"female\",\"female\",\"female\",\"female\",\"female\",\"female\",\"female\",\"female\",\"female\",\"female\",\"female\",\"female\",\"female\",\"female\",\"female\",\"female\",\"female\",\"female\",\"female\",\"female\",\"female\",\"female\",\"female\",\"female\",\"female\",\"female\",\"female\",\"female\",\"female\",\"female\",\"female\",\"female\",\"female\",\"female\",\"female\",\"female\",\"female\",\"female\",\"female\",\"female\",\"female\",\"female\",\"female\",\"female\",\"female\",\"female\",\"female\",\"female\",\"female\",\"female\",\"female\",\"female\",\"female\",\"female\",\"female\",\"female\",\"female\",\"female\",\"female\",\"female\",\"female\",\"female\",\"female\",\"female\",\"female\",\"female\",\"female\",\"female\",\"female\",\"female\",\"female\",\"female\",\"female\",\"female\",\"female\",\"female\",\"female\",\"female\",\"female\",\"female\",\"female\",\"female\",\"female\",\"female\",\"female\",\"female\",\"female\",\"female\",\"female\",\"female\",\"female\",\"female\",\"female\",\"female\",\"female\",\"female\",\"female\",\"female\",\"female\",\"female\",\"female\",\"female\",\"female\",\"female\",\"female\",\"female\",\"female\",\"female\",\"female\",\"female\",\"female\",\"female\",\"female\",\"female\",\"female\",\"female\",\"female\",\"female\",\"female\",\"female\",\"female\",\"female\",\"female\",\"female\",\"female\",\"female\",\"female\",\"female\",\"female\",\"female\",\"female\",\"female\",\"female\",\"female\",\"female\",\"female\",\"female\",\"female\",\"female\",\"female\",\"female\",\"female\",\"female\",\"female\",\"female\",\"female\",\"female\",\"female\",\"female\",\"female\",\"female\",\"female\",\"female\",\"female\",\"female\",\"female\",\"female\",\"female\",\"female\",\"female\",\"female\",\"female\",\"female\",\"female\",\"female\",\"female\",\"female\",\"female\",\"female\",\"female\",\"female\",\"female\",\"female\",\"female\",\"female\",\"female\",\"female\",\"female\",\"female\",\"female\",\"female\",\"female\",\"female\",\"female\",\"female\",\"female\",\"female\",\"female\",\"female\",\"female\",\"female\",\"female\",\"female\",\"female\",\"female\",\"female\",\"female\",\"female\",\"female\",\"female\",\"female\",\"female\",\"female\",\"female\",\"female\",\"female\"],\"xaxis\":\"x\",\"yaxis\":\"y\",\"type\":\"histogram\"}],                        {\"template\":{\"data\":{\"bar\":[{\"error_x\":{\"color\":\"#2a3f5f\"},\"error_y\":{\"color\":\"#2a3f5f\"},\"marker\":{\"line\":{\"color\":\"#E5ECF6\",\"width\":0.5},\"pattern\":{\"fillmode\":\"overlay\",\"size\":10,\"solidity\":0.2}},\"type\":\"bar\"}],\"barpolar\":[{\"marker\":{\"line\":{\"color\":\"#E5ECF6\",\"width\":0.5},\"pattern\":{\"fillmode\":\"overlay\",\"size\":10,\"solidity\":0.2}},\"type\":\"barpolar\"}],\"carpet\":[{\"aaxis\":{\"endlinecolor\":\"#2a3f5f\",\"gridcolor\":\"white\",\"linecolor\":\"white\",\"minorgridcolor\":\"white\",\"startlinecolor\":\"#2a3f5f\"},\"baxis\":{\"endlinecolor\":\"#2a3f5f\",\"gridcolor\":\"white\",\"linecolor\":\"white\",\"minorgridcolor\":\"white\",\"startlinecolor\":\"#2a3f5f\"},\"type\":\"carpet\"}],\"choropleth\":[{\"colorbar\":{\"outlinewidth\":0,\"ticks\":\"\"},\"type\":\"choropleth\"}],\"contour\":[{\"colorbar\":{\"outlinewidth\":0,\"ticks\":\"\"},\"colorscale\":[[0.0,\"#0d0887\"],[0.1111111111111111,\"#46039f\"],[0.2222222222222222,\"#7201a8\"],[0.3333333333333333,\"#9c179e\"],[0.4444444444444444,\"#bd3786\"],[0.5555555555555556,\"#d8576b\"],[0.6666666666666666,\"#ed7953\"],[0.7777777777777778,\"#fb9f3a\"],[0.8888888888888888,\"#fdca26\"],[1.0,\"#f0f921\"]],\"type\":\"contour\"}],\"contourcarpet\":[{\"colorbar\":{\"outlinewidth\":0,\"ticks\":\"\"},\"type\":\"contourcarpet\"}],\"heatmap\":[{\"colorbar\":{\"outlinewidth\":0,\"ticks\":\"\"},\"colorscale\":[[0.0,\"#0d0887\"],[0.1111111111111111,\"#46039f\"],[0.2222222222222222,\"#7201a8\"],[0.3333333333333333,\"#9c179e\"],[0.4444444444444444,\"#bd3786\"],[0.5555555555555556,\"#d8576b\"],[0.6666666666666666,\"#ed7953\"],[0.7777777777777778,\"#fb9f3a\"],[0.8888888888888888,\"#fdca26\"],[1.0,\"#f0f921\"]],\"type\":\"heatmap\"}],\"heatmapgl\":[{\"colorbar\":{\"outlinewidth\":0,\"ticks\":\"\"},\"colorscale\":[[0.0,\"#0d0887\"],[0.1111111111111111,\"#46039f\"],[0.2222222222222222,\"#7201a8\"],[0.3333333333333333,\"#9c179e\"],[0.4444444444444444,\"#bd3786\"],[0.5555555555555556,\"#d8576b\"],[0.6666666666666666,\"#ed7953\"],[0.7777777777777778,\"#fb9f3a\"],[0.8888888888888888,\"#fdca26\"],[1.0,\"#f0f921\"]],\"type\":\"heatmapgl\"}],\"histogram\":[{\"marker\":{\"pattern\":{\"fillmode\":\"overlay\",\"size\":10,\"solidity\":0.2}},\"type\":\"histogram\"}],\"histogram2d\":[{\"colorbar\":{\"outlinewidth\":0,\"ticks\":\"\"},\"colorscale\":[[0.0,\"#0d0887\"],[0.1111111111111111,\"#46039f\"],[0.2222222222222222,\"#7201a8\"],[0.3333333333333333,\"#9c179e\"],[0.4444444444444444,\"#bd3786\"],[0.5555555555555556,\"#d8576b\"],[0.6666666666666666,\"#ed7953\"],[0.7777777777777778,\"#fb9f3a\"],[0.8888888888888888,\"#fdca26\"],[1.0,\"#f0f921\"]],\"type\":\"histogram2d\"}],\"histogram2dcontour\":[{\"colorbar\":{\"outlinewidth\":0,\"ticks\":\"\"},\"colorscale\":[[0.0,\"#0d0887\"],[0.1111111111111111,\"#46039f\"],[0.2222222222222222,\"#7201a8\"],[0.3333333333333333,\"#9c179e\"],[0.4444444444444444,\"#bd3786\"],[0.5555555555555556,\"#d8576b\"],[0.6666666666666666,\"#ed7953\"],[0.7777777777777778,\"#fb9f3a\"],[0.8888888888888888,\"#fdca26\"],[1.0,\"#f0f921\"]],\"type\":\"histogram2dcontour\"}],\"mesh3d\":[{\"colorbar\":{\"outlinewidth\":0,\"ticks\":\"\"},\"type\":\"mesh3d\"}],\"parcoords\":[{\"line\":{\"colorbar\":{\"outlinewidth\":0,\"ticks\":\"\"}},\"type\":\"parcoords\"}],\"pie\":[{\"automargin\":true,\"type\":\"pie\"}],\"scatter\":[{\"marker\":{\"colorbar\":{\"outlinewidth\":0,\"ticks\":\"\"}},\"type\":\"scatter\"}],\"scatter3d\":[{\"line\":{\"colorbar\":{\"outlinewidth\":0,\"ticks\":\"\"}},\"marker\":{\"colorbar\":{\"outlinewidth\":0,\"ticks\":\"\"}},\"type\":\"scatter3d\"}],\"scattercarpet\":[{\"marker\":{\"colorbar\":{\"outlinewidth\":0,\"ticks\":\"\"}},\"type\":\"scattercarpet\"}],\"scattergeo\":[{\"marker\":{\"colorbar\":{\"outlinewidth\":0,\"ticks\":\"\"}},\"type\":\"scattergeo\"}],\"scattergl\":[{\"marker\":{\"colorbar\":{\"outlinewidth\":0,\"ticks\":\"\"}},\"type\":\"scattergl\"}],\"scattermapbox\":[{\"marker\":{\"colorbar\":{\"outlinewidth\":0,\"ticks\":\"\"}},\"type\":\"scattermapbox\"}],\"scatterpolar\":[{\"marker\":{\"colorbar\":{\"outlinewidth\":0,\"ticks\":\"\"}},\"type\":\"scatterpolar\"}],\"scatterpolargl\":[{\"marker\":{\"colorbar\":{\"outlinewidth\":0,\"ticks\":\"\"}},\"type\":\"scatterpolargl\"}],\"scatterternary\":[{\"marker\":{\"colorbar\":{\"outlinewidth\":0,\"ticks\":\"\"}},\"type\":\"scatterternary\"}],\"surface\":[{\"colorbar\":{\"outlinewidth\":0,\"ticks\":\"\"},\"colorscale\":[[0.0,\"#0d0887\"],[0.1111111111111111,\"#46039f\"],[0.2222222222222222,\"#7201a8\"],[0.3333333333333333,\"#9c179e\"],[0.4444444444444444,\"#bd3786\"],[0.5555555555555556,\"#d8576b\"],[0.6666666666666666,\"#ed7953\"],[0.7777777777777778,\"#fb9f3a\"],[0.8888888888888888,\"#fdca26\"],[1.0,\"#f0f921\"]],\"type\":\"surface\"}],\"table\":[{\"cells\":{\"fill\":{\"color\":\"#EBF0F8\"},\"line\":{\"color\":\"white\"}},\"header\":{\"fill\":{\"color\":\"#C8D4E3\"},\"line\":{\"color\":\"white\"}},\"type\":\"table\"}]},\"layout\":{\"annotationdefaults\":{\"arrowcolor\":\"#2a3f5f\",\"arrowhead\":0,\"arrowwidth\":1},\"autotypenumbers\":\"strict\",\"coloraxis\":{\"colorbar\":{\"outlinewidth\":0,\"ticks\":\"\"}},\"colorscale\":{\"diverging\":[[0,\"#8e0152\"],[0.1,\"#c51b7d\"],[0.2,\"#de77ae\"],[0.3,\"#f1b6da\"],[0.4,\"#fde0ef\"],[0.5,\"#f7f7f7\"],[0.6,\"#e6f5d0\"],[0.7,\"#b8e186\"],[0.8,\"#7fbc41\"],[0.9,\"#4d9221\"],[1,\"#276419\"]],\"sequential\":[[0.0,\"#0d0887\"],[0.1111111111111111,\"#46039f\"],[0.2222222222222222,\"#7201a8\"],[0.3333333333333333,\"#9c179e\"],[0.4444444444444444,\"#bd3786\"],[0.5555555555555556,\"#d8576b\"],[0.6666666666666666,\"#ed7953\"],[0.7777777777777778,\"#fb9f3a\"],[0.8888888888888888,\"#fdca26\"],[1.0,\"#f0f921\"]],\"sequentialminus\":[[0.0,\"#0d0887\"],[0.1111111111111111,\"#46039f\"],[0.2222222222222222,\"#7201a8\"],[0.3333333333333333,\"#9c179e\"],[0.4444444444444444,\"#bd3786\"],[0.5555555555555556,\"#d8576b\"],[0.6666666666666666,\"#ed7953\"],[0.7777777777777778,\"#fb9f3a\"],[0.8888888888888888,\"#fdca26\"],[1.0,\"#f0f921\"]]},\"colorway\":[\"#636efa\",\"#EF553B\",\"#00cc96\",\"#ab63fa\",\"#FFA15A\",\"#19d3f3\",\"#FF6692\",\"#B6E880\",\"#FF97FF\",\"#FECB52\"],\"font\":{\"color\":\"#2a3f5f\"},\"geo\":{\"bgcolor\":\"white\",\"lakecolor\":\"white\",\"landcolor\":\"#E5ECF6\",\"showlakes\":true,\"showland\":true,\"subunitcolor\":\"white\"},\"hoverlabel\":{\"align\":\"left\"},\"hovermode\":\"closest\",\"mapbox\":{\"style\":\"light\"},\"paper_bgcolor\":\"white\",\"plot_bgcolor\":\"#E5ECF6\",\"polar\":{\"angularaxis\":{\"gridcolor\":\"white\",\"linecolor\":\"white\",\"ticks\":\"\"},\"bgcolor\":\"#E5ECF6\",\"radialaxis\":{\"gridcolor\":\"white\",\"linecolor\":\"white\",\"ticks\":\"\"}},\"scene\":{\"xaxis\":{\"backgroundcolor\":\"#E5ECF6\",\"gridcolor\":\"white\",\"gridwidth\":2,\"linecolor\":\"white\",\"showbackground\":true,\"ticks\":\"\",\"zerolinecolor\":\"white\"},\"yaxis\":{\"backgroundcolor\":\"#E5ECF6\",\"gridcolor\":\"white\",\"gridwidth\":2,\"linecolor\":\"white\",\"showbackground\":true,\"ticks\":\"\",\"zerolinecolor\":\"white\"},\"zaxis\":{\"backgroundcolor\":\"#E5ECF6\",\"gridcolor\":\"white\",\"gridwidth\":2,\"linecolor\":\"white\",\"showbackground\":true,\"ticks\":\"\",\"zerolinecolor\":\"white\"}},\"shapedefaults\":{\"line\":{\"color\":\"#2a3f5f\"}},\"ternary\":{\"aaxis\":{\"gridcolor\":\"white\",\"linecolor\":\"white\",\"ticks\":\"\"},\"baxis\":{\"gridcolor\":\"white\",\"linecolor\":\"white\",\"ticks\":\"\"},\"bgcolor\":\"#E5ECF6\",\"caxis\":{\"gridcolor\":\"white\",\"linecolor\":\"white\",\"ticks\":\"\"}},\"title\":{\"x\":0.05},\"xaxis\":{\"automargin\":true,\"gridcolor\":\"white\",\"linecolor\":\"white\",\"ticks\":\"\",\"title\":{\"standoff\":15},\"zerolinecolor\":\"white\",\"zerolinewidth\":2},\"yaxis\":{\"automargin\":true,\"gridcolor\":\"white\",\"linecolor\":\"white\",\"ticks\":\"\",\"title\":{\"standoff\":15},\"zerolinecolor\":\"white\",\"zerolinewidth\":2}}},\"xaxis\":{\"anchor\":\"y\",\"domain\":[0.0,1.0],\"title\":{\"text\":\"Sex\"},\"categoryorder\":\"array\",\"categoryarray\":[\"male\",\"female\"]},\"yaxis\":{\"anchor\":\"x\",\"domain\":[0.0,1.0],\"title\":{\"text\":\"count\"}},\"legend\":{\"title\":{\"text\":\"Sex\"},\"tracegroupgap\":0},\"margin\":{\"t\":60},\"barmode\":\"relative\"},                        {\"responsive\": true}                    ).then(function(){\n",
       "                            \n",
       "var gd = document.getElementById('9f07574d-c3b5-4c3c-8d06-2ce64500c7c7');\n",
       "var x = new MutationObserver(function (mutations, observer) {{\n",
       "        var display = window.getComputedStyle(gd).display;\n",
       "        if (!display || display === 'none') {{\n",
       "            console.log([gd, 'removed!']);\n",
       "            Plotly.purge(gd);\n",
       "            observer.disconnect();\n",
       "        }}\n",
       "}});\n",
       "\n",
       "// Listen for the removal of the full notebook cells\n",
       "var notebookContainer = gd.closest('#notebook-container');\n",
       "if (notebookContainer) {{\n",
       "    x.observe(notebookContainer, {childList: true});\n",
       "}}\n",
       "\n",
       "// Listen for the clearing of the current output cell\n",
       "var outputEl = gd.closest('.output');\n",
       "if (outputEl) {{\n",
       "    x.observe(outputEl, {childList: true});\n",
       "}}\n",
       "\n",
       "                        })                };                });            </script>        </div>"
      ]
     },
     "metadata": {},
     "output_type": "display_data"
    },
    {
     "data": {
      "application/vnd.plotly.v1+json": {
       "config": {
        "plotlyServerURL": "https://plot.ly"
       },
       "data": [
        {
         "alignmentgroup": "True",
         "bingroup": "x",
         "hovertemplate": "Sex=male<br>Age=%{x}<br>count=%{y}<extra></extra>",
         "legendgroup": "male",
         "marker": {
          "color": "#636efa",
          "pattern": {
           "shape": ""
          }
         },
         "name": "male",
         "offsetgroup": "male",
         "orientation": "v",
         "showlegend": true,
         "type": "histogram",
         "x": [
          22,
          35,
          28,
          54,
          2,
          20,
          39,
          2,
          28,
          35,
          34,
          28,
          28,
          19,
          28,
          40,
          66,
          28,
          42,
          28,
          21,
          28,
          28,
          28,
          28,
          7,
          21,
          65,
          28,
          28.5,
          11,
          22,
          45,
          4,
          28,
          28,
          19,
          26,
          32,
          21,
          26,
          32,
          25,
          28,
          28,
          0.83,
          22,
          29,
          28,
          16,
          28,
          24,
          29,
          20,
          46,
          26,
          59,
          28,
          71,
          23,
          34,
          28,
          21,
          33,
          37,
          28,
          28,
          38,
          47,
          22,
          21,
          70.5,
          29,
          24,
          21,
          28,
          32.5,
          54,
          12,
          28,
          24,
          45,
          33,
          20,
          25,
          23,
          37,
          16,
          24,
          19,
          18,
          19,
          27,
          36.5,
          42,
          51,
          55.5,
          40.5,
          28,
          51,
          30,
          28,
          28,
          44,
          26,
          17,
          1,
          9,
          28,
          28,
          61,
          4,
          21,
          56,
          18,
          28,
          30,
          36,
          28,
          9,
          1,
          28,
          45,
          40,
          36,
          19,
          3,
          28,
          42,
          28,
          28,
          34,
          45.5,
          18,
          32,
          26,
          40,
          24,
          22,
          30,
          28,
          42,
          30,
          16,
          27,
          51,
          28,
          38,
          22,
          19,
          20.5,
          18,
          29,
          59,
          24,
          44,
          19,
          33,
          29,
          22,
          30,
          44,
          37,
          54,
          28,
          62,
          30,
          28,
          3,
          52,
          40,
          36,
          16,
          25,
          28,
          25,
          37,
          28,
          7,
          65,
          28,
          16,
          19,
          28,
          33,
          30,
          22,
          42,
          36,
          24,
          28,
          23.5,
          28,
          28,
          19,
          28,
          0.92,
          30,
          28,
          43,
          54,
          22,
          27,
          28,
          61,
          45.5,
          38,
          16,
          28,
          29,
          45,
          45,
          2,
          28,
          25,
          36,
          3,
          42,
          23,
          28,
          15,
          25,
          28,
          28,
          40,
          29,
          35,
          28,
          30,
          25,
          18,
          19,
          22,
          27,
          20,
          19,
          32,
          28,
          18,
          1,
          28,
          36,
          21,
          28,
          22,
          46,
          23,
          39,
          26,
          28,
          34,
          51,
          3,
          21,
          28,
          28,
          28,
          44,
          30,
          28,
          21,
          29,
          18,
          28,
          28,
          32,
          28,
          17,
          50,
          64,
          31,
          20,
          25,
          28,
          4,
          34,
          52,
          36,
          28,
          30,
          49,
          28,
          29,
          65,
          28,
          48,
          34,
          47,
          48,
          28,
          38,
          28,
          56,
          28,
          28,
          38,
          28,
          34,
          29,
          22,
          9,
          28,
          50,
          25,
          58,
          30,
          9,
          28,
          21,
          55,
          71,
          21,
          28,
          28,
          24,
          17,
          18,
          28,
          28,
          26,
          29,
          28,
          36,
          24,
          47,
          28,
          32,
          22,
          28,
          28,
          40.5,
          28,
          39,
          23,
          28,
          17,
          45,
          28,
          32,
          50,
          64,
          28,
          33,
          8,
          17,
          27,
          28,
          22,
          62,
          28,
          28,
          40,
          28,
          28,
          24,
          19,
          28,
          32,
          62,
          36,
          16,
          19,
          32,
          54,
          36,
          28,
          47,
          60,
          22,
          28,
          35,
          47,
          37,
          36,
          49,
          28,
          49,
          28,
          28,
          44,
          35,
          36,
          30,
          27,
          28,
          28,
          35,
          34,
          26,
          27,
          42,
          20,
          21,
          21,
          61,
          57,
          26,
          28,
          80,
          51,
          32,
          28,
          32,
          31,
          28,
          20,
          28,
          48,
          19,
          56,
          28,
          28,
          21,
          24,
          28,
          23,
          58,
          50,
          40,
          47,
          36,
          20,
          32,
          25,
          28,
          43,
          31,
          70,
          31,
          28,
          18,
          24.5,
          36,
          27,
          20,
          14,
          60,
          25,
          14,
          19,
          18,
          31,
          28,
          25,
          60,
          52,
          44,
          49,
          42,
          35,
          25,
          26,
          39,
          42,
          28,
          28,
          48,
          29,
          52,
          19,
          28,
          33,
          17,
          34,
          50,
          27,
          20,
          25,
          11,
          28,
          23,
          23,
          28.5,
          35,
          28,
          28,
          28,
          36,
          24,
          31,
          70,
          16,
          19,
          31,
          6,
          33,
          23,
          0.67,
          28,
          18,
          34,
          28,
          41,
          20,
          16,
          28,
          28,
          32,
          24,
          48,
          28,
          18,
          28,
          28,
          29,
          28,
          25,
          25,
          8,
          1,
          46,
          28,
          16,
          28,
          25,
          39,
          30,
          34,
          11,
          0.42,
          27,
          31,
          39,
          39,
          26,
          39,
          35,
          30.5,
          28,
          31,
          43,
          10,
          27,
          38,
          2,
          28,
          28,
          1,
          28,
          0.83,
          28,
          23,
          18,
          21,
          28,
          32,
          28,
          20,
          16,
          34.5,
          17,
          42,
          28,
          35,
          28,
          4,
          74,
          51,
          28,
          41,
          21,
          24,
          31,
          28,
          4,
          26,
          33,
          47,
          20,
          19,
          28,
          33,
          28,
          25,
          27,
          26,
          32
         ],
         "xaxis": "x",
         "yaxis": "y"
        },
        {
         "alignmentgroup": "True",
         "bingroup": "x",
         "hovertemplate": "Sex=female<br>Age=%{x}<br>count=%{y}<extra></extra>",
         "legendgroup": "female",
         "marker": {
          "color": "#EF553B",
          "pattern": {
           "shape": ""
          }
         },
         "name": "female",
         "offsetgroup": "female",
         "orientation": "v",
         "showlegend": true,
         "type": "histogram",
         "x": [
          38,
          26,
          35,
          27,
          14,
          4,
          58,
          14,
          55,
          31,
          28,
          15,
          8,
          38,
          28,
          28,
          28,
          18,
          14,
          40,
          27,
          3,
          19,
          28,
          18,
          49,
          29,
          21,
          5,
          38,
          29,
          17,
          16,
          30,
          28,
          17,
          33,
          23,
          34,
          28,
          21,
          28,
          14.5,
          20,
          17,
          2,
          32.5,
          28,
          47,
          29,
          19,
          28,
          22,
          24,
          9,
          22,
          16,
          40,
          28,
          45,
          1,
          50,
          28,
          4,
          28,
          32,
          19,
          44,
          58,
          28,
          24,
          2,
          16,
          35,
          31,
          27,
          32,
          28,
          35,
          5,
          28,
          8,
          28,
          28,
          25,
          24,
          29,
          41,
          29,
          28,
          30,
          35,
          50,
          28,
          58,
          35,
          41,
          28,
          63,
          45,
          35,
          22,
          26,
          19,
          24,
          2,
          50,
          28,
          28,
          28,
          17,
          30,
          24,
          18,
          26,
          26,
          24,
          31,
          40,
          30,
          22,
          36,
          36,
          31,
          16,
          28,
          28,
          41,
          24,
          24,
          40,
          28,
          22,
          38,
          28,
          28,
          45,
          60,
          28,
          28,
          24,
          3,
          28,
          22,
          42,
          1,
          35,
          36,
          17,
          23,
          24,
          31,
          28,
          21,
          20,
          28,
          33,
          28,
          34,
          18,
          10,
          28,
          28,
          19,
          28,
          42,
          14,
          21,
          24,
          45,
          28,
          13,
          5,
          28,
          50,
          0.75,
          33,
          23,
          22,
          2,
          63,
          28,
          35,
          54,
          25,
          21,
          28,
          37,
          16,
          33,
          54,
          34,
          36,
          30,
          44,
          50,
          2,
          28,
          30,
          7,
          30,
          22,
          36,
          9,
          11,
          19,
          22,
          48,
          39,
          36,
          28,
          29,
          53,
          28,
          34,
          39,
          28,
          25,
          39,
          18,
          52,
          28,
          28,
          24,
          22,
          40,
          39,
          28,
          24,
          26,
          4,
          21,
          9,
          28,
          41,
          24,
          2,
          0.75,
          23,
          18,
          28,
          18,
          32,
          28,
          40,
          18,
          43,
          28,
          15,
          4,
          28,
          18,
          18,
          45,
          22,
          24,
          38,
          27,
          6,
          30,
          28,
          25,
          29,
          48,
          21,
          30,
          4,
          48,
          33,
          36,
          51,
          30.5,
          57,
          54,
          5,
          43,
          13,
          17,
          18,
          28,
          49,
          31,
          30,
          31,
          18,
          33,
          6,
          23,
          52,
          27,
          62,
          15,
          39,
          30,
          28,
          9,
          16,
          44,
          18,
          45,
          24,
          48,
          28,
          42,
          27,
          47,
          28,
          15,
          56,
          25,
          22,
          39,
          19,
          28
         ],
         "xaxis": "x",
         "yaxis": "y"
        }
       ],
       "layout": {
        "barmode": "relative",
        "legend": {
         "title": {
          "text": "Sex"
         },
         "tracegroupgap": 0
        },
        "margin": {
         "t": 60
        },
        "template": {
         "data": {
          "bar": [
           {
            "error_x": {
             "color": "#2a3f5f"
            },
            "error_y": {
             "color": "#2a3f5f"
            },
            "marker": {
             "line": {
              "color": "#E5ECF6",
              "width": 0.5
             },
             "pattern": {
              "fillmode": "overlay",
              "size": 10,
              "solidity": 0.2
             }
            },
            "type": "bar"
           }
          ],
          "barpolar": [
           {
            "marker": {
             "line": {
              "color": "#E5ECF6",
              "width": 0.5
             },
             "pattern": {
              "fillmode": "overlay",
              "size": 10,
              "solidity": 0.2
             }
            },
            "type": "barpolar"
           }
          ],
          "carpet": [
           {
            "aaxis": {
             "endlinecolor": "#2a3f5f",
             "gridcolor": "white",
             "linecolor": "white",
             "minorgridcolor": "white",
             "startlinecolor": "#2a3f5f"
            },
            "baxis": {
             "endlinecolor": "#2a3f5f",
             "gridcolor": "white",
             "linecolor": "white",
             "minorgridcolor": "white",
             "startlinecolor": "#2a3f5f"
            },
            "type": "carpet"
           }
          ],
          "choropleth": [
           {
            "colorbar": {
             "outlinewidth": 0,
             "ticks": ""
            },
            "type": "choropleth"
           }
          ],
          "contour": [
           {
            "colorbar": {
             "outlinewidth": 0,
             "ticks": ""
            },
            "colorscale": [
             [
              0,
              "#0d0887"
             ],
             [
              0.1111111111111111,
              "#46039f"
             ],
             [
              0.2222222222222222,
              "#7201a8"
             ],
             [
              0.3333333333333333,
              "#9c179e"
             ],
             [
              0.4444444444444444,
              "#bd3786"
             ],
             [
              0.5555555555555556,
              "#d8576b"
             ],
             [
              0.6666666666666666,
              "#ed7953"
             ],
             [
              0.7777777777777778,
              "#fb9f3a"
             ],
             [
              0.8888888888888888,
              "#fdca26"
             ],
             [
              1,
              "#f0f921"
             ]
            ],
            "type": "contour"
           }
          ],
          "contourcarpet": [
           {
            "colorbar": {
             "outlinewidth": 0,
             "ticks": ""
            },
            "type": "contourcarpet"
           }
          ],
          "heatmap": [
           {
            "colorbar": {
             "outlinewidth": 0,
             "ticks": ""
            },
            "colorscale": [
             [
              0,
              "#0d0887"
             ],
             [
              0.1111111111111111,
              "#46039f"
             ],
             [
              0.2222222222222222,
              "#7201a8"
             ],
             [
              0.3333333333333333,
              "#9c179e"
             ],
             [
              0.4444444444444444,
              "#bd3786"
             ],
             [
              0.5555555555555556,
              "#d8576b"
             ],
             [
              0.6666666666666666,
              "#ed7953"
             ],
             [
              0.7777777777777778,
              "#fb9f3a"
             ],
             [
              0.8888888888888888,
              "#fdca26"
             ],
             [
              1,
              "#f0f921"
             ]
            ],
            "type": "heatmap"
           }
          ],
          "heatmapgl": [
           {
            "colorbar": {
             "outlinewidth": 0,
             "ticks": ""
            },
            "colorscale": [
             [
              0,
              "#0d0887"
             ],
             [
              0.1111111111111111,
              "#46039f"
             ],
             [
              0.2222222222222222,
              "#7201a8"
             ],
             [
              0.3333333333333333,
              "#9c179e"
             ],
             [
              0.4444444444444444,
              "#bd3786"
             ],
             [
              0.5555555555555556,
              "#d8576b"
             ],
             [
              0.6666666666666666,
              "#ed7953"
             ],
             [
              0.7777777777777778,
              "#fb9f3a"
             ],
             [
              0.8888888888888888,
              "#fdca26"
             ],
             [
              1,
              "#f0f921"
             ]
            ],
            "type": "heatmapgl"
           }
          ],
          "histogram": [
           {
            "marker": {
             "pattern": {
              "fillmode": "overlay",
              "size": 10,
              "solidity": 0.2
             }
            },
            "type": "histogram"
           }
          ],
          "histogram2d": [
           {
            "colorbar": {
             "outlinewidth": 0,
             "ticks": ""
            },
            "colorscale": [
             [
              0,
              "#0d0887"
             ],
             [
              0.1111111111111111,
              "#46039f"
             ],
             [
              0.2222222222222222,
              "#7201a8"
             ],
             [
              0.3333333333333333,
              "#9c179e"
             ],
             [
              0.4444444444444444,
              "#bd3786"
             ],
             [
              0.5555555555555556,
              "#d8576b"
             ],
             [
              0.6666666666666666,
              "#ed7953"
             ],
             [
              0.7777777777777778,
              "#fb9f3a"
             ],
             [
              0.8888888888888888,
              "#fdca26"
             ],
             [
              1,
              "#f0f921"
             ]
            ],
            "type": "histogram2d"
           }
          ],
          "histogram2dcontour": [
           {
            "colorbar": {
             "outlinewidth": 0,
             "ticks": ""
            },
            "colorscale": [
             [
              0,
              "#0d0887"
             ],
             [
              0.1111111111111111,
              "#46039f"
             ],
             [
              0.2222222222222222,
              "#7201a8"
             ],
             [
              0.3333333333333333,
              "#9c179e"
             ],
             [
              0.4444444444444444,
              "#bd3786"
             ],
             [
              0.5555555555555556,
              "#d8576b"
             ],
             [
              0.6666666666666666,
              "#ed7953"
             ],
             [
              0.7777777777777778,
              "#fb9f3a"
             ],
             [
              0.8888888888888888,
              "#fdca26"
             ],
             [
              1,
              "#f0f921"
             ]
            ],
            "type": "histogram2dcontour"
           }
          ],
          "mesh3d": [
           {
            "colorbar": {
             "outlinewidth": 0,
             "ticks": ""
            },
            "type": "mesh3d"
           }
          ],
          "parcoords": [
           {
            "line": {
             "colorbar": {
              "outlinewidth": 0,
              "ticks": ""
             }
            },
            "type": "parcoords"
           }
          ],
          "pie": [
           {
            "automargin": true,
            "type": "pie"
           }
          ],
          "scatter": [
           {
            "marker": {
             "colorbar": {
              "outlinewidth": 0,
              "ticks": ""
             }
            },
            "type": "scatter"
           }
          ],
          "scatter3d": [
           {
            "line": {
             "colorbar": {
              "outlinewidth": 0,
              "ticks": ""
             }
            },
            "marker": {
             "colorbar": {
              "outlinewidth": 0,
              "ticks": ""
             }
            },
            "type": "scatter3d"
           }
          ],
          "scattercarpet": [
           {
            "marker": {
             "colorbar": {
              "outlinewidth": 0,
              "ticks": ""
             }
            },
            "type": "scattercarpet"
           }
          ],
          "scattergeo": [
           {
            "marker": {
             "colorbar": {
              "outlinewidth": 0,
              "ticks": ""
             }
            },
            "type": "scattergeo"
           }
          ],
          "scattergl": [
           {
            "marker": {
             "colorbar": {
              "outlinewidth": 0,
              "ticks": ""
             }
            },
            "type": "scattergl"
           }
          ],
          "scattermapbox": [
           {
            "marker": {
             "colorbar": {
              "outlinewidth": 0,
              "ticks": ""
             }
            },
            "type": "scattermapbox"
           }
          ],
          "scatterpolar": [
           {
            "marker": {
             "colorbar": {
              "outlinewidth": 0,
              "ticks": ""
             }
            },
            "type": "scatterpolar"
           }
          ],
          "scatterpolargl": [
           {
            "marker": {
             "colorbar": {
              "outlinewidth": 0,
              "ticks": ""
             }
            },
            "type": "scatterpolargl"
           }
          ],
          "scatterternary": [
           {
            "marker": {
             "colorbar": {
              "outlinewidth": 0,
              "ticks": ""
             }
            },
            "type": "scatterternary"
           }
          ],
          "surface": [
           {
            "colorbar": {
             "outlinewidth": 0,
             "ticks": ""
            },
            "colorscale": [
             [
              0,
              "#0d0887"
             ],
             [
              0.1111111111111111,
              "#46039f"
             ],
             [
              0.2222222222222222,
              "#7201a8"
             ],
             [
              0.3333333333333333,
              "#9c179e"
             ],
             [
              0.4444444444444444,
              "#bd3786"
             ],
             [
              0.5555555555555556,
              "#d8576b"
             ],
             [
              0.6666666666666666,
              "#ed7953"
             ],
             [
              0.7777777777777778,
              "#fb9f3a"
             ],
             [
              0.8888888888888888,
              "#fdca26"
             ],
             [
              1,
              "#f0f921"
             ]
            ],
            "type": "surface"
           }
          ],
          "table": [
           {
            "cells": {
             "fill": {
              "color": "#EBF0F8"
             },
             "line": {
              "color": "white"
             }
            },
            "header": {
             "fill": {
              "color": "#C8D4E3"
             },
             "line": {
              "color": "white"
             }
            },
            "type": "table"
           }
          ]
         },
         "layout": {
          "annotationdefaults": {
           "arrowcolor": "#2a3f5f",
           "arrowhead": 0,
           "arrowwidth": 1
          },
          "autotypenumbers": "strict",
          "coloraxis": {
           "colorbar": {
            "outlinewidth": 0,
            "ticks": ""
           }
          },
          "colorscale": {
           "diverging": [
            [
             0,
             "#8e0152"
            ],
            [
             0.1,
             "#c51b7d"
            ],
            [
             0.2,
             "#de77ae"
            ],
            [
             0.3,
             "#f1b6da"
            ],
            [
             0.4,
             "#fde0ef"
            ],
            [
             0.5,
             "#f7f7f7"
            ],
            [
             0.6,
             "#e6f5d0"
            ],
            [
             0.7,
             "#b8e186"
            ],
            [
             0.8,
             "#7fbc41"
            ],
            [
             0.9,
             "#4d9221"
            ],
            [
             1,
             "#276419"
            ]
           ],
           "sequential": [
            [
             0,
             "#0d0887"
            ],
            [
             0.1111111111111111,
             "#46039f"
            ],
            [
             0.2222222222222222,
             "#7201a8"
            ],
            [
             0.3333333333333333,
             "#9c179e"
            ],
            [
             0.4444444444444444,
             "#bd3786"
            ],
            [
             0.5555555555555556,
             "#d8576b"
            ],
            [
             0.6666666666666666,
             "#ed7953"
            ],
            [
             0.7777777777777778,
             "#fb9f3a"
            ],
            [
             0.8888888888888888,
             "#fdca26"
            ],
            [
             1,
             "#f0f921"
            ]
           ],
           "sequentialminus": [
            [
             0,
             "#0d0887"
            ],
            [
             0.1111111111111111,
             "#46039f"
            ],
            [
             0.2222222222222222,
             "#7201a8"
            ],
            [
             0.3333333333333333,
             "#9c179e"
            ],
            [
             0.4444444444444444,
             "#bd3786"
            ],
            [
             0.5555555555555556,
             "#d8576b"
            ],
            [
             0.6666666666666666,
             "#ed7953"
            ],
            [
             0.7777777777777778,
             "#fb9f3a"
            ],
            [
             0.8888888888888888,
             "#fdca26"
            ],
            [
             1,
             "#f0f921"
            ]
           ]
          },
          "colorway": [
           "#636efa",
           "#EF553B",
           "#00cc96",
           "#ab63fa",
           "#FFA15A",
           "#19d3f3",
           "#FF6692",
           "#B6E880",
           "#FF97FF",
           "#FECB52"
          ],
          "font": {
           "color": "#2a3f5f"
          },
          "geo": {
           "bgcolor": "white",
           "lakecolor": "white",
           "landcolor": "#E5ECF6",
           "showlakes": true,
           "showland": true,
           "subunitcolor": "white"
          },
          "hoverlabel": {
           "align": "left"
          },
          "hovermode": "closest",
          "mapbox": {
           "style": "light"
          },
          "paper_bgcolor": "white",
          "plot_bgcolor": "#E5ECF6",
          "polar": {
           "angularaxis": {
            "gridcolor": "white",
            "linecolor": "white",
            "ticks": ""
           },
           "bgcolor": "#E5ECF6",
           "radialaxis": {
            "gridcolor": "white",
            "linecolor": "white",
            "ticks": ""
           }
          },
          "scene": {
           "xaxis": {
            "backgroundcolor": "#E5ECF6",
            "gridcolor": "white",
            "gridwidth": 2,
            "linecolor": "white",
            "showbackground": true,
            "ticks": "",
            "zerolinecolor": "white"
           },
           "yaxis": {
            "backgroundcolor": "#E5ECF6",
            "gridcolor": "white",
            "gridwidth": 2,
            "linecolor": "white",
            "showbackground": true,
            "ticks": "",
            "zerolinecolor": "white"
           },
           "zaxis": {
            "backgroundcolor": "#E5ECF6",
            "gridcolor": "white",
            "gridwidth": 2,
            "linecolor": "white",
            "showbackground": true,
            "ticks": "",
            "zerolinecolor": "white"
           }
          },
          "shapedefaults": {
           "line": {
            "color": "#2a3f5f"
           }
          },
          "ternary": {
           "aaxis": {
            "gridcolor": "white",
            "linecolor": "white",
            "ticks": ""
           },
           "baxis": {
            "gridcolor": "white",
            "linecolor": "white",
            "ticks": ""
           },
           "bgcolor": "#E5ECF6",
           "caxis": {
            "gridcolor": "white",
            "linecolor": "white",
            "ticks": ""
           }
          },
          "title": {
           "x": 0.05
          },
          "xaxis": {
           "automargin": true,
           "gridcolor": "white",
           "linecolor": "white",
           "ticks": "",
           "title": {
            "standoff": 15
           },
           "zerolinecolor": "white",
           "zerolinewidth": 2
          },
          "yaxis": {
           "automargin": true,
           "gridcolor": "white",
           "linecolor": "white",
           "ticks": "",
           "title": {
            "standoff": 15
           },
           "zerolinecolor": "white",
           "zerolinewidth": 2
          }
         }
        },
        "xaxis": {
         "anchor": "y",
         "domain": [
          0,
          1
         ],
         "title": {
          "text": "Age"
         }
        },
        "yaxis": {
         "anchor": "x",
         "domain": [
          0,
          1
         ],
         "title": {
          "text": "count"
         }
        }
       }
      },
      "text/html": [
       "<div>                            <div id=\"101ec911-7a40-4e3c-9b03-ab93097d1d90\" class=\"plotly-graph-div\" style=\"height:525px; width:100%;\"></div>            <script type=\"text/javascript\">                require([\"plotly\"], function(Plotly) {                    window.PLOTLYENV=window.PLOTLYENV || {};                                    if (document.getElementById(\"101ec911-7a40-4e3c-9b03-ab93097d1d90\")) {                    Plotly.newPlot(                        \"101ec911-7a40-4e3c-9b03-ab93097d1d90\",                        [{\"alignmentgroup\":\"True\",\"bingroup\":\"x\",\"hovertemplate\":\"Sex=male<br>Age=%{x}<br>count=%{y}<extra></extra>\",\"legendgroup\":\"male\",\"marker\":{\"color\":\"#636efa\",\"pattern\":{\"shape\":\"\"}},\"name\":\"male\",\"offsetgroup\":\"male\",\"orientation\":\"v\",\"showlegend\":true,\"x\":[22.0,35.0,28.0,54.0,2.0,20.0,39.0,2.0,28.0,35.0,34.0,28.0,28.0,19.0,28.0,40.0,66.0,28.0,42.0,28.0,21.0,28.0,28.0,28.0,28.0,7.0,21.0,65.0,28.0,28.5,11.0,22.0,45.0,4.0,28.0,28.0,19.0,26.0,32.0,21.0,26.0,32.0,25.0,28.0,28.0,0.83,22.0,29.0,28.0,16.0,28.0,24.0,29.0,20.0,46.0,26.0,59.0,28.0,71.0,23.0,34.0,28.0,21.0,33.0,37.0,28.0,28.0,38.0,47.0,22.0,21.0,70.5,29.0,24.0,21.0,28.0,32.5,54.0,12.0,28.0,24.0,45.0,33.0,20.0,25.0,23.0,37.0,16.0,24.0,19.0,18.0,19.0,27.0,36.5,42.0,51.0,55.5,40.5,28.0,51.0,30.0,28.0,28.0,44.0,26.0,17.0,1.0,9.0,28.0,28.0,61.0,4.0,21.0,56.0,18.0,28.0,30.0,36.0,28.0,9.0,1.0,28.0,45.0,40.0,36.0,19.0,3.0,28.0,42.0,28.0,28.0,34.0,45.5,18.0,32.0,26.0,40.0,24.0,22.0,30.0,28.0,42.0,30.0,16.0,27.0,51.0,28.0,38.0,22.0,19.0,20.5,18.0,29.0,59.0,24.0,44.0,19.0,33.0,29.0,22.0,30.0,44.0,37.0,54.0,28.0,62.0,30.0,28.0,3.0,52.0,40.0,36.0,16.0,25.0,28.0,25.0,37.0,28.0,7.0,65.0,28.0,16.0,19.0,28.0,33.0,30.0,22.0,42.0,36.0,24.0,28.0,23.5,28.0,28.0,19.0,28.0,0.92,30.0,28.0,43.0,54.0,22.0,27.0,28.0,61.0,45.5,38.0,16.0,28.0,29.0,45.0,45.0,2.0,28.0,25.0,36.0,3.0,42.0,23.0,28.0,15.0,25.0,28.0,28.0,40.0,29.0,35.0,28.0,30.0,25.0,18.0,19.0,22.0,27.0,20.0,19.0,32.0,28.0,18.0,1.0,28.0,36.0,21.0,28.0,22.0,46.0,23.0,39.0,26.0,28.0,34.0,51.0,3.0,21.0,28.0,28.0,28.0,44.0,30.0,28.0,21.0,29.0,18.0,28.0,28.0,32.0,28.0,17.0,50.0,64.0,31.0,20.0,25.0,28.0,4.0,34.0,52.0,36.0,28.0,30.0,49.0,28.0,29.0,65.0,28.0,48.0,34.0,47.0,48.0,28.0,38.0,28.0,56.0,28.0,28.0,38.0,28.0,34.0,29.0,22.0,9.0,28.0,50.0,25.0,58.0,30.0,9.0,28.0,21.0,55.0,71.0,21.0,28.0,28.0,24.0,17.0,18.0,28.0,28.0,26.0,29.0,28.0,36.0,24.0,47.0,28.0,32.0,22.0,28.0,28.0,40.5,28.0,39.0,23.0,28.0,17.0,45.0,28.0,32.0,50.0,64.0,28.0,33.0,8.0,17.0,27.0,28.0,22.0,62.0,28.0,28.0,40.0,28.0,28.0,24.0,19.0,28.0,32.0,62.0,36.0,16.0,19.0,32.0,54.0,36.0,28.0,47.0,60.0,22.0,28.0,35.0,47.0,37.0,36.0,49.0,28.0,49.0,28.0,28.0,44.0,35.0,36.0,30.0,27.0,28.0,28.0,35.0,34.0,26.0,27.0,42.0,20.0,21.0,21.0,61.0,57.0,26.0,28.0,80.0,51.0,32.0,28.0,32.0,31.0,28.0,20.0,28.0,48.0,19.0,56.0,28.0,28.0,21.0,24.0,28.0,23.0,58.0,50.0,40.0,47.0,36.0,20.0,32.0,25.0,28.0,43.0,31.0,70.0,31.0,28.0,18.0,24.5,36.0,27.0,20.0,14.0,60.0,25.0,14.0,19.0,18.0,31.0,28.0,25.0,60.0,52.0,44.0,49.0,42.0,35.0,25.0,26.0,39.0,42.0,28.0,28.0,48.0,29.0,52.0,19.0,28.0,33.0,17.0,34.0,50.0,27.0,20.0,25.0,11.0,28.0,23.0,23.0,28.5,35.0,28.0,28.0,28.0,36.0,24.0,31.0,70.0,16.0,19.0,31.0,6.0,33.0,23.0,0.67,28.0,18.0,34.0,28.0,41.0,20.0,16.0,28.0,28.0,32.0,24.0,48.0,28.0,18.0,28.0,28.0,29.0,28.0,25.0,25.0,8.0,1.0,46.0,28.0,16.0,28.0,25.0,39.0,30.0,34.0,11.0,0.42,27.0,31.0,39.0,39.0,26.0,39.0,35.0,30.5,28.0,31.0,43.0,10.0,27.0,38.0,2.0,28.0,28.0,1.0,28.0,0.83,28.0,23.0,18.0,21.0,28.0,32.0,28.0,20.0,16.0,34.5,17.0,42.0,28.0,35.0,28.0,4.0,74.0,51.0,28.0,41.0,21.0,24.0,31.0,28.0,4.0,26.0,33.0,47.0,20.0,19.0,28.0,33.0,28.0,25.0,27.0,26.0,32.0],\"xaxis\":\"x\",\"yaxis\":\"y\",\"type\":\"histogram\"},{\"alignmentgroup\":\"True\",\"bingroup\":\"x\",\"hovertemplate\":\"Sex=female<br>Age=%{x}<br>count=%{y}<extra></extra>\",\"legendgroup\":\"female\",\"marker\":{\"color\":\"#EF553B\",\"pattern\":{\"shape\":\"\"}},\"name\":\"female\",\"offsetgroup\":\"female\",\"orientation\":\"v\",\"showlegend\":true,\"x\":[38.0,26.0,35.0,27.0,14.0,4.0,58.0,14.0,55.0,31.0,28.0,15.0,8.0,38.0,28.0,28.0,28.0,18.0,14.0,40.0,27.0,3.0,19.0,28.0,18.0,49.0,29.0,21.0,5.0,38.0,29.0,17.0,16.0,30.0,28.0,17.0,33.0,23.0,34.0,28.0,21.0,28.0,14.5,20.0,17.0,2.0,32.5,28.0,47.0,29.0,19.0,28.0,22.0,24.0,9.0,22.0,16.0,40.0,28.0,45.0,1.0,50.0,28.0,4.0,28.0,32.0,19.0,44.0,58.0,28.0,24.0,2.0,16.0,35.0,31.0,27.0,32.0,28.0,35.0,5.0,28.0,8.0,28.0,28.0,25.0,24.0,29.0,41.0,29.0,28.0,30.0,35.0,50.0,28.0,58.0,35.0,41.0,28.0,63.0,45.0,35.0,22.0,26.0,19.0,24.0,2.0,50.0,28.0,28.0,28.0,17.0,30.0,24.0,18.0,26.0,26.0,24.0,31.0,40.0,30.0,22.0,36.0,36.0,31.0,16.0,28.0,28.0,41.0,24.0,24.0,40.0,28.0,22.0,38.0,28.0,28.0,45.0,60.0,28.0,28.0,24.0,3.0,28.0,22.0,42.0,1.0,35.0,36.0,17.0,23.0,24.0,31.0,28.0,21.0,20.0,28.0,33.0,28.0,34.0,18.0,10.0,28.0,28.0,19.0,28.0,42.0,14.0,21.0,24.0,45.0,28.0,13.0,5.0,28.0,50.0,0.75,33.0,23.0,22.0,2.0,63.0,28.0,35.0,54.0,25.0,21.0,28.0,37.0,16.0,33.0,54.0,34.0,36.0,30.0,44.0,50.0,2.0,28.0,30.0,7.0,30.0,22.0,36.0,9.0,11.0,19.0,22.0,48.0,39.0,36.0,28.0,29.0,53.0,28.0,34.0,39.0,28.0,25.0,39.0,18.0,52.0,28.0,28.0,24.0,22.0,40.0,39.0,28.0,24.0,26.0,4.0,21.0,9.0,28.0,41.0,24.0,2.0,0.75,23.0,18.0,28.0,18.0,32.0,28.0,40.0,18.0,43.0,28.0,15.0,4.0,28.0,18.0,18.0,45.0,22.0,24.0,38.0,27.0,6.0,30.0,28.0,25.0,29.0,48.0,21.0,30.0,4.0,48.0,33.0,36.0,51.0,30.5,57.0,54.0,5.0,43.0,13.0,17.0,18.0,28.0,49.0,31.0,30.0,31.0,18.0,33.0,6.0,23.0,52.0,27.0,62.0,15.0,39.0,30.0,28.0,9.0,16.0,44.0,18.0,45.0,24.0,48.0,28.0,42.0,27.0,47.0,28.0,15.0,56.0,25.0,22.0,39.0,19.0,28.0],\"xaxis\":\"x\",\"yaxis\":\"y\",\"type\":\"histogram\"}],                        {\"template\":{\"data\":{\"bar\":[{\"error_x\":{\"color\":\"#2a3f5f\"},\"error_y\":{\"color\":\"#2a3f5f\"},\"marker\":{\"line\":{\"color\":\"#E5ECF6\",\"width\":0.5},\"pattern\":{\"fillmode\":\"overlay\",\"size\":10,\"solidity\":0.2}},\"type\":\"bar\"}],\"barpolar\":[{\"marker\":{\"line\":{\"color\":\"#E5ECF6\",\"width\":0.5},\"pattern\":{\"fillmode\":\"overlay\",\"size\":10,\"solidity\":0.2}},\"type\":\"barpolar\"}],\"carpet\":[{\"aaxis\":{\"endlinecolor\":\"#2a3f5f\",\"gridcolor\":\"white\",\"linecolor\":\"white\",\"minorgridcolor\":\"white\",\"startlinecolor\":\"#2a3f5f\"},\"baxis\":{\"endlinecolor\":\"#2a3f5f\",\"gridcolor\":\"white\",\"linecolor\":\"white\",\"minorgridcolor\":\"white\",\"startlinecolor\":\"#2a3f5f\"},\"type\":\"carpet\"}],\"choropleth\":[{\"colorbar\":{\"outlinewidth\":0,\"ticks\":\"\"},\"type\":\"choropleth\"}],\"contour\":[{\"colorbar\":{\"outlinewidth\":0,\"ticks\":\"\"},\"colorscale\":[[0.0,\"#0d0887\"],[0.1111111111111111,\"#46039f\"],[0.2222222222222222,\"#7201a8\"],[0.3333333333333333,\"#9c179e\"],[0.4444444444444444,\"#bd3786\"],[0.5555555555555556,\"#d8576b\"],[0.6666666666666666,\"#ed7953\"],[0.7777777777777778,\"#fb9f3a\"],[0.8888888888888888,\"#fdca26\"],[1.0,\"#f0f921\"]],\"type\":\"contour\"}],\"contourcarpet\":[{\"colorbar\":{\"outlinewidth\":0,\"ticks\":\"\"},\"type\":\"contourcarpet\"}],\"heatmap\":[{\"colorbar\":{\"outlinewidth\":0,\"ticks\":\"\"},\"colorscale\":[[0.0,\"#0d0887\"],[0.1111111111111111,\"#46039f\"],[0.2222222222222222,\"#7201a8\"],[0.3333333333333333,\"#9c179e\"],[0.4444444444444444,\"#bd3786\"],[0.5555555555555556,\"#d8576b\"],[0.6666666666666666,\"#ed7953\"],[0.7777777777777778,\"#fb9f3a\"],[0.8888888888888888,\"#fdca26\"],[1.0,\"#f0f921\"]],\"type\":\"heatmap\"}],\"heatmapgl\":[{\"colorbar\":{\"outlinewidth\":0,\"ticks\":\"\"},\"colorscale\":[[0.0,\"#0d0887\"],[0.1111111111111111,\"#46039f\"],[0.2222222222222222,\"#7201a8\"],[0.3333333333333333,\"#9c179e\"],[0.4444444444444444,\"#bd3786\"],[0.5555555555555556,\"#d8576b\"],[0.6666666666666666,\"#ed7953\"],[0.7777777777777778,\"#fb9f3a\"],[0.8888888888888888,\"#fdca26\"],[1.0,\"#f0f921\"]],\"type\":\"heatmapgl\"}],\"histogram\":[{\"marker\":{\"pattern\":{\"fillmode\":\"overlay\",\"size\":10,\"solidity\":0.2}},\"type\":\"histogram\"}],\"histogram2d\":[{\"colorbar\":{\"outlinewidth\":0,\"ticks\":\"\"},\"colorscale\":[[0.0,\"#0d0887\"],[0.1111111111111111,\"#46039f\"],[0.2222222222222222,\"#7201a8\"],[0.3333333333333333,\"#9c179e\"],[0.4444444444444444,\"#bd3786\"],[0.5555555555555556,\"#d8576b\"],[0.6666666666666666,\"#ed7953\"],[0.7777777777777778,\"#fb9f3a\"],[0.8888888888888888,\"#fdca26\"],[1.0,\"#f0f921\"]],\"type\":\"histogram2d\"}],\"histogram2dcontour\":[{\"colorbar\":{\"outlinewidth\":0,\"ticks\":\"\"},\"colorscale\":[[0.0,\"#0d0887\"],[0.1111111111111111,\"#46039f\"],[0.2222222222222222,\"#7201a8\"],[0.3333333333333333,\"#9c179e\"],[0.4444444444444444,\"#bd3786\"],[0.5555555555555556,\"#d8576b\"],[0.6666666666666666,\"#ed7953\"],[0.7777777777777778,\"#fb9f3a\"],[0.8888888888888888,\"#fdca26\"],[1.0,\"#f0f921\"]],\"type\":\"histogram2dcontour\"}],\"mesh3d\":[{\"colorbar\":{\"outlinewidth\":0,\"ticks\":\"\"},\"type\":\"mesh3d\"}],\"parcoords\":[{\"line\":{\"colorbar\":{\"outlinewidth\":0,\"ticks\":\"\"}},\"type\":\"parcoords\"}],\"pie\":[{\"automargin\":true,\"type\":\"pie\"}],\"scatter\":[{\"marker\":{\"colorbar\":{\"outlinewidth\":0,\"ticks\":\"\"}},\"type\":\"scatter\"}],\"scatter3d\":[{\"line\":{\"colorbar\":{\"outlinewidth\":0,\"ticks\":\"\"}},\"marker\":{\"colorbar\":{\"outlinewidth\":0,\"ticks\":\"\"}},\"type\":\"scatter3d\"}],\"scattercarpet\":[{\"marker\":{\"colorbar\":{\"outlinewidth\":0,\"ticks\":\"\"}},\"type\":\"scattercarpet\"}],\"scattergeo\":[{\"marker\":{\"colorbar\":{\"outlinewidth\":0,\"ticks\":\"\"}},\"type\":\"scattergeo\"}],\"scattergl\":[{\"marker\":{\"colorbar\":{\"outlinewidth\":0,\"ticks\":\"\"}},\"type\":\"scattergl\"}],\"scattermapbox\":[{\"marker\":{\"colorbar\":{\"outlinewidth\":0,\"ticks\":\"\"}},\"type\":\"scattermapbox\"}],\"scatterpolar\":[{\"marker\":{\"colorbar\":{\"outlinewidth\":0,\"ticks\":\"\"}},\"type\":\"scatterpolar\"}],\"scatterpolargl\":[{\"marker\":{\"colorbar\":{\"outlinewidth\":0,\"ticks\":\"\"}},\"type\":\"scatterpolargl\"}],\"scatterternary\":[{\"marker\":{\"colorbar\":{\"outlinewidth\":0,\"ticks\":\"\"}},\"type\":\"scatterternary\"}],\"surface\":[{\"colorbar\":{\"outlinewidth\":0,\"ticks\":\"\"},\"colorscale\":[[0.0,\"#0d0887\"],[0.1111111111111111,\"#46039f\"],[0.2222222222222222,\"#7201a8\"],[0.3333333333333333,\"#9c179e\"],[0.4444444444444444,\"#bd3786\"],[0.5555555555555556,\"#d8576b\"],[0.6666666666666666,\"#ed7953\"],[0.7777777777777778,\"#fb9f3a\"],[0.8888888888888888,\"#fdca26\"],[1.0,\"#f0f921\"]],\"type\":\"surface\"}],\"table\":[{\"cells\":{\"fill\":{\"color\":\"#EBF0F8\"},\"line\":{\"color\":\"white\"}},\"header\":{\"fill\":{\"color\":\"#C8D4E3\"},\"line\":{\"color\":\"white\"}},\"type\":\"table\"}]},\"layout\":{\"annotationdefaults\":{\"arrowcolor\":\"#2a3f5f\",\"arrowhead\":0,\"arrowwidth\":1},\"autotypenumbers\":\"strict\",\"coloraxis\":{\"colorbar\":{\"outlinewidth\":0,\"ticks\":\"\"}},\"colorscale\":{\"diverging\":[[0,\"#8e0152\"],[0.1,\"#c51b7d\"],[0.2,\"#de77ae\"],[0.3,\"#f1b6da\"],[0.4,\"#fde0ef\"],[0.5,\"#f7f7f7\"],[0.6,\"#e6f5d0\"],[0.7,\"#b8e186\"],[0.8,\"#7fbc41\"],[0.9,\"#4d9221\"],[1,\"#276419\"]],\"sequential\":[[0.0,\"#0d0887\"],[0.1111111111111111,\"#46039f\"],[0.2222222222222222,\"#7201a8\"],[0.3333333333333333,\"#9c179e\"],[0.4444444444444444,\"#bd3786\"],[0.5555555555555556,\"#d8576b\"],[0.6666666666666666,\"#ed7953\"],[0.7777777777777778,\"#fb9f3a\"],[0.8888888888888888,\"#fdca26\"],[1.0,\"#f0f921\"]],\"sequentialminus\":[[0.0,\"#0d0887\"],[0.1111111111111111,\"#46039f\"],[0.2222222222222222,\"#7201a8\"],[0.3333333333333333,\"#9c179e\"],[0.4444444444444444,\"#bd3786\"],[0.5555555555555556,\"#d8576b\"],[0.6666666666666666,\"#ed7953\"],[0.7777777777777778,\"#fb9f3a\"],[0.8888888888888888,\"#fdca26\"],[1.0,\"#f0f921\"]]},\"colorway\":[\"#636efa\",\"#EF553B\",\"#00cc96\",\"#ab63fa\",\"#FFA15A\",\"#19d3f3\",\"#FF6692\",\"#B6E880\",\"#FF97FF\",\"#FECB52\"],\"font\":{\"color\":\"#2a3f5f\"},\"geo\":{\"bgcolor\":\"white\",\"lakecolor\":\"white\",\"landcolor\":\"#E5ECF6\",\"showlakes\":true,\"showland\":true,\"subunitcolor\":\"white\"},\"hoverlabel\":{\"align\":\"left\"},\"hovermode\":\"closest\",\"mapbox\":{\"style\":\"light\"},\"paper_bgcolor\":\"white\",\"plot_bgcolor\":\"#E5ECF6\",\"polar\":{\"angularaxis\":{\"gridcolor\":\"white\",\"linecolor\":\"white\",\"ticks\":\"\"},\"bgcolor\":\"#E5ECF6\",\"radialaxis\":{\"gridcolor\":\"white\",\"linecolor\":\"white\",\"ticks\":\"\"}},\"scene\":{\"xaxis\":{\"backgroundcolor\":\"#E5ECF6\",\"gridcolor\":\"white\",\"gridwidth\":2,\"linecolor\":\"white\",\"showbackground\":true,\"ticks\":\"\",\"zerolinecolor\":\"white\"},\"yaxis\":{\"backgroundcolor\":\"#E5ECF6\",\"gridcolor\":\"white\",\"gridwidth\":2,\"linecolor\":\"white\",\"showbackground\":true,\"ticks\":\"\",\"zerolinecolor\":\"white\"},\"zaxis\":{\"backgroundcolor\":\"#E5ECF6\",\"gridcolor\":\"white\",\"gridwidth\":2,\"linecolor\":\"white\",\"showbackground\":true,\"ticks\":\"\",\"zerolinecolor\":\"white\"}},\"shapedefaults\":{\"line\":{\"color\":\"#2a3f5f\"}},\"ternary\":{\"aaxis\":{\"gridcolor\":\"white\",\"linecolor\":\"white\",\"ticks\":\"\"},\"baxis\":{\"gridcolor\":\"white\",\"linecolor\":\"white\",\"ticks\":\"\"},\"bgcolor\":\"#E5ECF6\",\"caxis\":{\"gridcolor\":\"white\",\"linecolor\":\"white\",\"ticks\":\"\"}},\"title\":{\"x\":0.05},\"xaxis\":{\"automargin\":true,\"gridcolor\":\"white\",\"linecolor\":\"white\",\"ticks\":\"\",\"title\":{\"standoff\":15},\"zerolinecolor\":\"white\",\"zerolinewidth\":2},\"yaxis\":{\"automargin\":true,\"gridcolor\":\"white\",\"linecolor\":\"white\",\"ticks\":\"\",\"title\":{\"standoff\":15},\"zerolinecolor\":\"white\",\"zerolinewidth\":2}}},\"xaxis\":{\"anchor\":\"y\",\"domain\":[0.0,1.0],\"title\":{\"text\":\"Age\"}},\"yaxis\":{\"anchor\":\"x\",\"domain\":[0.0,1.0],\"title\":{\"text\":\"count\"}},\"legend\":{\"title\":{\"text\":\"Sex\"},\"tracegroupgap\":0},\"margin\":{\"t\":60},\"barmode\":\"relative\"},                        {\"responsive\": true}                    ).then(function(){\n",
       "                            \n",
       "var gd = document.getElementById('101ec911-7a40-4e3c-9b03-ab93097d1d90');\n",
       "var x = new MutationObserver(function (mutations, observer) {{\n",
       "        var display = window.getComputedStyle(gd).display;\n",
       "        if (!display || display === 'none') {{\n",
       "            console.log([gd, 'removed!']);\n",
       "            Plotly.purge(gd);\n",
       "            observer.disconnect();\n",
       "        }}\n",
       "}});\n",
       "\n",
       "// Listen for the removal of the full notebook cells\n",
       "var notebookContainer = gd.closest('#notebook-container');\n",
       "if (notebookContainer) {{\n",
       "    x.observe(notebookContainer, {childList: true});\n",
       "}}\n",
       "\n",
       "// Listen for the clearing of the current output cell\n",
       "var outputEl = gd.closest('.output');\n",
       "if (outputEl) {{\n",
       "    x.observe(outputEl, {childList: true});\n",
       "}}\n",
       "\n",
       "                        })                };                });            </script>        </div>"
      ]
     },
     "metadata": {},
     "output_type": "display_data"
    },
    {
     "data": {
      "application/vnd.plotly.v1+json": {
       "config": {
        "plotlyServerURL": "https://plot.ly"
       },
       "data": [
        {
         "alignmentgroup": "True",
         "bingroup": "x",
         "hovertemplate": "Sex=male<br>Fare=%{x}<br>count=%{y}<extra></extra>",
         "legendgroup": "male",
         "marker": {
          "color": "#636efa",
          "pattern": {
           "shape": ""
          }
         },
         "name": "male",
         "offsetgroup": "male",
         "orientation": "v",
         "showlegend": true,
         "type": "histogram",
         "x": [
          7.25,
          8.05,
          8.4583,
          51.8625,
          21.075,
          8.05,
          31.275,
          29.125,
          13,
          26,
          13,
          35.5,
          7.225,
          263,
          7.8958,
          27.7208,
          10.5,
          82.1708,
          52,
          7.2292,
          8.05,
          7.8958,
          8.05,
          15.5,
          21.6792,
          39.6875,
          7.8,
          61.9792,
          35.5,
          7.2292,
          46.9,
          7.2292,
          83.475,
          27.9,
          27.7208,
          15.2458,
          8.1583,
          8.6625,
          10.5,
          73.5,
          14.4542,
          56.4958,
          7.65,
          7.8958,
          8.05,
          29,
          9,
          9.5,
          47.1,
          34.375,
          8.05,
          8.05,
          8.05,
          7.8542,
          61.175,
          20.575,
          7.25,
          8.05,
          34.6542,
          63.3583,
          26,
          7.8958,
          77.2875,
          8.6542,
          7.925,
          7.8958,
          7.775,
          7.8958,
          52,
          8.05,
          7.925,
          7.75,
          21,
          247.5208,
          73.5,
          8.05,
          30.0708,
          77.2875,
          11.2417,
          7.75,
          7.1417,
          6.975,
          7.8958,
          7.05,
          13,
          15.0458,
          53.1,
          9.2167,
          79.2,
          6.75,
          11.5,
          36.75,
          7.7958,
          26,
          13,
          12.525,
          8.05,
          14.5,
          7.3125,
          61.3792,
          8.05,
          8.6625,
          69.55,
          16.1,
          7.775,
          8.6625,
          39.6875,
          20.525,
          25.925,
          56.4958,
          33.5,
          29.125,
          7.925,
          30.6958,
          7.8542,
          25.4667,
          13,
          0,
          15.05,
          31.3875,
          39,
          50,
          26.55,
          15.5,
          7.8958,
          13,
          26,
          7.75,
          8.4042,
          9.5,
          69.55,
          6.4958,
          7.225,
          8.05,
          15.85,
          18.7875,
          31,
          7.05,
          7.25,
          13,
          7.75,
          27,
          10.5,
          8.05,
          13,
          8.05,
          7.8958,
          90,
          9.35,
          10.5,
          7.25,
          13,
          7.775,
          13.5,
          10.5,
          26,
          10.5,
          12.275,
          10.5,
          7.125,
          7.225,
          90,
          52.5542,
          26,
          7.25,
          26.55,
          16.1,
          7.75,
          31.3875,
          79.65,
          0,
          10.5,
          39.6875,
          7.775,
          31,
          0,
          29.7,
          0,
          29.125,
          7.75,
          7.8542,
          9.5,
          8.05,
          26,
          8.6625,
          9.5,
          7.8958,
          13,
          12.875,
          7.8958,
          27.7208,
          7.2292,
          30.5,
          23.25,
          0,
          8.05,
          151.55,
          24,
          7.8958,
          26.25,
          14,
          7.25,
          7.8958,
          69.55,
          6.2375,
          28.5,
          153.4625,
          18,
          7.8958,
          66.6,
          8.05,
          35.5,
          26,
          13,
          13,
          13,
          15.9,
          8.6625,
          9.225,
          35,
          7.2292,
          17.8,
          7.225,
          9.5,
          27.9,
          27.7208,
          7.05,
          15.5,
          7.25,
          55.4417,
          6.4958,
          8.05,
          135.6333,
          211.5,
          4.0125,
          7.775,
          7.925,
          7.8958,
          73.5,
          46.9,
          7.7292,
          120,
          7.7958,
          7.925,
          7.7958,
          26,
          10.5,
          7.925,
          8.05,
          15.85,
          21,
          7.75,
          18.75,
          7.775,
          7.8958,
          6.8583,
          0,
          7.925,
          13,
          7.8958,
          7.7333,
          7.875,
          20.2125,
          7.25,
          7.75,
          8.05,
          26.55,
          7.125,
          55.9,
          263,
          10.5,
          9.5,
          7.775,
          8.1125,
          81.8583,
          26.55,
          30.5,
          27.75,
          19.9667,
          27.75,
          89.1042,
          8.05,
          7.8958,
          26.55,
          7.75,
          26.55,
          8.05,
          38.5,
          13,
          8.05,
          7.05,
          0,
          26.55,
          7.725,
          7.25,
          8.6625,
          52,
          21,
          7.0458,
          7.5208,
          46.9,
          0,
          8.05,
          91.0792,
          29.7,
          8.05,
          15.9,
          19.9667,
          7.25,
          30.5,
          49.5042,
          8.05,
          14.4583,
          15.1,
          7.7958,
          8.6625,
          108.9,
          26.55,
          22.525,
          56.4958,
          7.75,
          8.05,
          26.2875,
          7.4958,
          34.0208,
          24.15,
          7.8958,
          7.8958,
          7.225,
          7.2292,
          7.75,
          221.7792,
          7.925,
          11.5,
          7.2292,
          7.2292,
          26.55,
          14.5,
          26,
          106.425,
          26,
          13.8625,
          20.525,
          36.75,
          110.8833,
          26,
          7.8292,
          7.225,
          26.55,
          227.525,
          7.75,
          7.8958,
          13.5,
          8.05,
          24.15,
          7.8958,
          7.2292,
          7.8542,
          10.5,
          26.3875,
          8.05,
          14.5,
          7.925,
          26,
          40.125,
          8.7125,
          15,
          79.2,
          8.05,
          8.05,
          7.125,
          7.25,
          26,
          24.15,
          0,
          7.225,
          56.9292,
          7.8958,
          42.4,
          8.05,
          26.55,
          15.55,
          7.8958,
          30.5,
          7.05,
          7.75,
          8.05,
          14.4,
          10.5,
          14.4542,
          52.5542,
          15.7417,
          7.8542,
          16.1,
          32.3208,
          12.35,
          7.8958,
          7.7333,
          30,
          7.0542,
          30.5,
          0,
          7.925,
          26.25,
          16.1,
          7.8542,
          56.4958,
          76.7292,
          7.8958,
          35.5,
          7.55,
          7.8958,
          8.4333,
          73.5,
          7.8958,
          13,
          113.275,
          133.65,
          7.225,
          25.5875,
          7.4958,
          7.925,
          73.5,
          13,
          7.775,
          8.05,
          52,
          10.5,
          13,
          0,
          7.775,
          8.05,
          512.3292,
          76.7292,
          9.225,
          46.9,
          39,
          41.5792,
          39.6875,
          10.1708,
          7.7958,
          57,
          56.4958,
          7.225,
          26.55,
          13.5,
          8.05,
          110.8833,
          7.65,
          26.2875,
          7.7417,
          7.8542,
          26,
          26.2875,
          15.2458,
          26.55,
          52,
          9.4833,
          13,
          7.65,
          15.5,
          7.775,
          7.0542,
          13,
          13,
          53.1,
          8.6625,
          26,
          18.7875,
          0,
          13,
          13,
          16.1,
          512.3292,
          7.8958,
          7.8958,
          30,
          78.85,
          16.1,
          7.925,
          71,
          20.25,
          53.1,
          7.75,
          12.475,
          9.5,
          7.8958,
          14.5,
          7.7958,
          11.5,
          8.05,
          14.5,
          7.125,
          7.2292,
          7.775,
          39.6,
          24.15,
          8.3625,
          9.5,
          7.8542,
          7.225,
          7.75,
          7.75,
          7.7375,
          30,
          23.45,
          7.05,
          7.25,
          29.125,
          20.575,
          79.2,
          7.75,
          26,
          30.6958,
          7.8958,
          13,
          7.2292,
          13,
          120,
          8.5167,
          6.975,
          7.775,
          0,
          13,
          7.8875,
          24.15,
          10.5,
          8.05,
          0,
          37.0042,
          6.45,
          27.9,
          8.6625,
          0,
          39.6875,
          6.95,
          56.4958,
          37.0042,
          7.75,
          18.75,
          7.2292,
          7.8542,
          8.3,
          8.6625,
          8.05,
          56.4958,
          29.7,
          7.925,
          10.5,
          6.4375,
          8.6625,
          7.55,
          69.55,
          7.8958,
          33,
          31.275,
          7.775,
          26.55,
          7.2292,
          14.1083,
          11.5,
          13,
          50.4958,
          9.5,
          11.1333,
          7.8958,
          5,
          9,
          9.8458,
          7.8958,
          7.8958,
          7.8958,
          10.5,
          7.05,
          13,
          30,
          7.75
         ],
         "xaxis": "x",
         "yaxis": "y"
        },
        {
         "alignmentgroup": "True",
         "bingroup": "x",
         "hovertemplate": "Sex=female<br>Fare=%{x}<br>count=%{y}<extra></extra>",
         "legendgroup": "female",
         "marker": {
          "color": "#EF553B",
          "pattern": {
           "shape": ""
          }
         },
         "name": "female",
         "offsetgroup": "female",
         "orientation": "v",
         "showlegend": true,
         "type": "histogram",
         "x": [
          71.2833,
          7.925,
          53.1,
          11.1333,
          30.0708,
          16.7,
          26.55,
          7.8542,
          16,
          18,
          7.225,
          8.0292,
          21.075,
          31.3875,
          7.8792,
          146.5208,
          7.75,
          18,
          11.2417,
          9.475,
          21,
          41.5792,
          7.8792,
          7.75,
          17.8,
          76.7292,
          26,
          10.5,
          27.75,
          80,
          10.5,
          7.925,
          46.9,
          12.475,
          7.7875,
          10.5,
          15.85,
          263,
          23,
          7.8958,
          7.65,
          24.15,
          14.4542,
          9.825,
          14.4583,
          31.275,
          13,
          22.3583,
          14.5,
          26,
          26.2833,
          15.2458,
          7.75,
          15.85,
          34.375,
          66.6,
          7.7333,
          15.75,
          55,
          27.9,
          11.1333,
          28.7125,
          69.55,
          22.025,
          15.5,
          13,
          7.8542,
          27.7208,
          146.5208,
          7.75,
          13,
          10.4625,
          7.75,
          21,
          113.275,
          7.925,
          76.2917,
          25.4667,
          83.475,
          31.3875,
          7.55,
          26.25,
          14.4542,
          15.5,
          7.775,
          14.5,
          10.4625,
          20.2125,
          15.2458,
          79.2,
          86.5,
          512.3292,
          26,
          7.75,
          153.4625,
          135.6333,
          19.5,
          7.75,
          77.9583,
          7.75,
          20.25,
          7.75,
          78.85,
          91.0792,
          8.85,
          151.55,
          247.5208,
          7.75,
          12.35,
          110.8833,
          108.9,
          56.9292,
          83.1583,
          262.375,
          26,
          7.8542,
          26,
          164.8667,
          134.5,
          12.35,
          29,
          135.6333,
          13,
          20.525,
          57.9792,
          23.25,
          133.65,
          134.5,
          263,
          13,
          13,
          16.1,
          55,
          13,
          7.8792,
          7.8792,
          14.4542,
          75.25,
          7.2292,
          7.75,
          69.3,
          21.075,
          82.1708,
          7.25,
          227.525,
          15.7417,
          52,
          13,
          12,
          113.275,
          16.7,
          7.8542,
          12.65,
          9.825,
          8.6625,
          25.4667,
          90,
          8.05,
          32.5,
          13,
          24.15,
          14.4,
          26,
          26,
          16.1,
          26,
          120,
          34.375,
          18.75,
          26.25,
          13,
          19.5,
          19.2583,
          51.8625,
          10.5,
          19.2583,
          27.75,
          13.7917,
          9.8375,
          12.2875,
          9.5875,
          25.4667,
          90,
          78.2667,
          151.55,
          7.75,
          7.6292,
          9.5875,
          86.5,
          26,
          59.4,
          10.5,
          26,
          93.5,
          57.9792,
          10.5,
          26,
          22.3583,
          8.6625,
          26.25,
          106.425,
          49.5,
          71,
          31.275,
          31.275,
          26,
          7.775,
          39.6,
          79.65,
          17.4,
          8.05,
          21.075,
          51.4792,
          7.75,
          13,
          55.9,
          14.4583,
          30,
          110.8833,
          79.65,
          78.2667,
          7.75,
          33,
          27,
          41.5792,
          153.4625,
          31.275,
          15.5,
          65,
          16.1,
          39,
          77.9583,
          27.9,
          13,
          39.6875,
          69.3,
          27.9,
          19.2583,
          7.55,
          23,
          7.8292,
          6.75,
          15.5,
          52,
          39,
          9.8417,
          46.9,
          8.1375,
          211.3375,
          13.4167,
          7.7333,
          227.525,
          14.4542,
          13.5,
          151.55,
          49.5042,
          227.525,
          10.5,
          33,
          21,
          7.7375,
          7.925,
          211.3375,
          34.375,
          262.375,
          13,
          23,
          65,
          86.5,
          120,
          77.9583,
          7.75,
          10.5,
          23,
          12.475,
          211.3375,
          7.2292,
          57,
          7.4958,
          69.55,
          25.9292,
          8.6833,
          24.15,
          26.25,
          7.775,
          53.1,
          31.275,
          7.925,
          93.5,
          12.475,
          80,
          14.4542,
          83.1583,
          31,
          89.1042,
          15.2458,
          39.4,
          26,
          9.35,
          164.8667,
          19.2583,
          25.9292,
          69.55,
          13,
          13.8583,
          52.5542,
          24,
          7.225,
          83.1583,
          26,
          10.5167,
          29.125,
          30,
          23.45
         ],
         "xaxis": "x",
         "yaxis": "y"
        }
       ],
       "layout": {
        "barmode": "relative",
        "legend": {
         "title": {
          "text": "Sex"
         },
         "tracegroupgap": 0
        },
        "margin": {
         "t": 60
        },
        "template": {
         "data": {
          "bar": [
           {
            "error_x": {
             "color": "#2a3f5f"
            },
            "error_y": {
             "color": "#2a3f5f"
            },
            "marker": {
             "line": {
              "color": "#E5ECF6",
              "width": 0.5
             },
             "pattern": {
              "fillmode": "overlay",
              "size": 10,
              "solidity": 0.2
             }
            },
            "type": "bar"
           }
          ],
          "barpolar": [
           {
            "marker": {
             "line": {
              "color": "#E5ECF6",
              "width": 0.5
             },
             "pattern": {
              "fillmode": "overlay",
              "size": 10,
              "solidity": 0.2
             }
            },
            "type": "barpolar"
           }
          ],
          "carpet": [
           {
            "aaxis": {
             "endlinecolor": "#2a3f5f",
             "gridcolor": "white",
             "linecolor": "white",
             "minorgridcolor": "white",
             "startlinecolor": "#2a3f5f"
            },
            "baxis": {
             "endlinecolor": "#2a3f5f",
             "gridcolor": "white",
             "linecolor": "white",
             "minorgridcolor": "white",
             "startlinecolor": "#2a3f5f"
            },
            "type": "carpet"
           }
          ],
          "choropleth": [
           {
            "colorbar": {
             "outlinewidth": 0,
             "ticks": ""
            },
            "type": "choropleth"
           }
          ],
          "contour": [
           {
            "colorbar": {
             "outlinewidth": 0,
             "ticks": ""
            },
            "colorscale": [
             [
              0,
              "#0d0887"
             ],
             [
              0.1111111111111111,
              "#46039f"
             ],
             [
              0.2222222222222222,
              "#7201a8"
             ],
             [
              0.3333333333333333,
              "#9c179e"
             ],
             [
              0.4444444444444444,
              "#bd3786"
             ],
             [
              0.5555555555555556,
              "#d8576b"
             ],
             [
              0.6666666666666666,
              "#ed7953"
             ],
             [
              0.7777777777777778,
              "#fb9f3a"
             ],
             [
              0.8888888888888888,
              "#fdca26"
             ],
             [
              1,
              "#f0f921"
             ]
            ],
            "type": "contour"
           }
          ],
          "contourcarpet": [
           {
            "colorbar": {
             "outlinewidth": 0,
             "ticks": ""
            },
            "type": "contourcarpet"
           }
          ],
          "heatmap": [
           {
            "colorbar": {
             "outlinewidth": 0,
             "ticks": ""
            },
            "colorscale": [
             [
              0,
              "#0d0887"
             ],
             [
              0.1111111111111111,
              "#46039f"
             ],
             [
              0.2222222222222222,
              "#7201a8"
             ],
             [
              0.3333333333333333,
              "#9c179e"
             ],
             [
              0.4444444444444444,
              "#bd3786"
             ],
             [
              0.5555555555555556,
              "#d8576b"
             ],
             [
              0.6666666666666666,
              "#ed7953"
             ],
             [
              0.7777777777777778,
              "#fb9f3a"
             ],
             [
              0.8888888888888888,
              "#fdca26"
             ],
             [
              1,
              "#f0f921"
             ]
            ],
            "type": "heatmap"
           }
          ],
          "heatmapgl": [
           {
            "colorbar": {
             "outlinewidth": 0,
             "ticks": ""
            },
            "colorscale": [
             [
              0,
              "#0d0887"
             ],
             [
              0.1111111111111111,
              "#46039f"
             ],
             [
              0.2222222222222222,
              "#7201a8"
             ],
             [
              0.3333333333333333,
              "#9c179e"
             ],
             [
              0.4444444444444444,
              "#bd3786"
             ],
             [
              0.5555555555555556,
              "#d8576b"
             ],
             [
              0.6666666666666666,
              "#ed7953"
             ],
             [
              0.7777777777777778,
              "#fb9f3a"
             ],
             [
              0.8888888888888888,
              "#fdca26"
             ],
             [
              1,
              "#f0f921"
             ]
            ],
            "type": "heatmapgl"
           }
          ],
          "histogram": [
           {
            "marker": {
             "pattern": {
              "fillmode": "overlay",
              "size": 10,
              "solidity": 0.2
             }
            },
            "type": "histogram"
           }
          ],
          "histogram2d": [
           {
            "colorbar": {
             "outlinewidth": 0,
             "ticks": ""
            },
            "colorscale": [
             [
              0,
              "#0d0887"
             ],
             [
              0.1111111111111111,
              "#46039f"
             ],
             [
              0.2222222222222222,
              "#7201a8"
             ],
             [
              0.3333333333333333,
              "#9c179e"
             ],
             [
              0.4444444444444444,
              "#bd3786"
             ],
             [
              0.5555555555555556,
              "#d8576b"
             ],
             [
              0.6666666666666666,
              "#ed7953"
             ],
             [
              0.7777777777777778,
              "#fb9f3a"
             ],
             [
              0.8888888888888888,
              "#fdca26"
             ],
             [
              1,
              "#f0f921"
             ]
            ],
            "type": "histogram2d"
           }
          ],
          "histogram2dcontour": [
           {
            "colorbar": {
             "outlinewidth": 0,
             "ticks": ""
            },
            "colorscale": [
             [
              0,
              "#0d0887"
             ],
             [
              0.1111111111111111,
              "#46039f"
             ],
             [
              0.2222222222222222,
              "#7201a8"
             ],
             [
              0.3333333333333333,
              "#9c179e"
             ],
             [
              0.4444444444444444,
              "#bd3786"
             ],
             [
              0.5555555555555556,
              "#d8576b"
             ],
             [
              0.6666666666666666,
              "#ed7953"
             ],
             [
              0.7777777777777778,
              "#fb9f3a"
             ],
             [
              0.8888888888888888,
              "#fdca26"
             ],
             [
              1,
              "#f0f921"
             ]
            ],
            "type": "histogram2dcontour"
           }
          ],
          "mesh3d": [
           {
            "colorbar": {
             "outlinewidth": 0,
             "ticks": ""
            },
            "type": "mesh3d"
           }
          ],
          "parcoords": [
           {
            "line": {
             "colorbar": {
              "outlinewidth": 0,
              "ticks": ""
             }
            },
            "type": "parcoords"
           }
          ],
          "pie": [
           {
            "automargin": true,
            "type": "pie"
           }
          ],
          "scatter": [
           {
            "marker": {
             "colorbar": {
              "outlinewidth": 0,
              "ticks": ""
             }
            },
            "type": "scatter"
           }
          ],
          "scatter3d": [
           {
            "line": {
             "colorbar": {
              "outlinewidth": 0,
              "ticks": ""
             }
            },
            "marker": {
             "colorbar": {
              "outlinewidth": 0,
              "ticks": ""
             }
            },
            "type": "scatter3d"
           }
          ],
          "scattercarpet": [
           {
            "marker": {
             "colorbar": {
              "outlinewidth": 0,
              "ticks": ""
             }
            },
            "type": "scattercarpet"
           }
          ],
          "scattergeo": [
           {
            "marker": {
             "colorbar": {
              "outlinewidth": 0,
              "ticks": ""
             }
            },
            "type": "scattergeo"
           }
          ],
          "scattergl": [
           {
            "marker": {
             "colorbar": {
              "outlinewidth": 0,
              "ticks": ""
             }
            },
            "type": "scattergl"
           }
          ],
          "scattermapbox": [
           {
            "marker": {
             "colorbar": {
              "outlinewidth": 0,
              "ticks": ""
             }
            },
            "type": "scattermapbox"
           }
          ],
          "scatterpolar": [
           {
            "marker": {
             "colorbar": {
              "outlinewidth": 0,
              "ticks": ""
             }
            },
            "type": "scatterpolar"
           }
          ],
          "scatterpolargl": [
           {
            "marker": {
             "colorbar": {
              "outlinewidth": 0,
              "ticks": ""
             }
            },
            "type": "scatterpolargl"
           }
          ],
          "scatterternary": [
           {
            "marker": {
             "colorbar": {
              "outlinewidth": 0,
              "ticks": ""
             }
            },
            "type": "scatterternary"
           }
          ],
          "surface": [
           {
            "colorbar": {
             "outlinewidth": 0,
             "ticks": ""
            },
            "colorscale": [
             [
              0,
              "#0d0887"
             ],
             [
              0.1111111111111111,
              "#46039f"
             ],
             [
              0.2222222222222222,
              "#7201a8"
             ],
             [
              0.3333333333333333,
              "#9c179e"
             ],
             [
              0.4444444444444444,
              "#bd3786"
             ],
             [
              0.5555555555555556,
              "#d8576b"
             ],
             [
              0.6666666666666666,
              "#ed7953"
             ],
             [
              0.7777777777777778,
              "#fb9f3a"
             ],
             [
              0.8888888888888888,
              "#fdca26"
             ],
             [
              1,
              "#f0f921"
             ]
            ],
            "type": "surface"
           }
          ],
          "table": [
           {
            "cells": {
             "fill": {
              "color": "#EBF0F8"
             },
             "line": {
              "color": "white"
             }
            },
            "header": {
             "fill": {
              "color": "#C8D4E3"
             },
             "line": {
              "color": "white"
             }
            },
            "type": "table"
           }
          ]
         },
         "layout": {
          "annotationdefaults": {
           "arrowcolor": "#2a3f5f",
           "arrowhead": 0,
           "arrowwidth": 1
          },
          "autotypenumbers": "strict",
          "coloraxis": {
           "colorbar": {
            "outlinewidth": 0,
            "ticks": ""
           }
          },
          "colorscale": {
           "diverging": [
            [
             0,
             "#8e0152"
            ],
            [
             0.1,
             "#c51b7d"
            ],
            [
             0.2,
             "#de77ae"
            ],
            [
             0.3,
             "#f1b6da"
            ],
            [
             0.4,
             "#fde0ef"
            ],
            [
             0.5,
             "#f7f7f7"
            ],
            [
             0.6,
             "#e6f5d0"
            ],
            [
             0.7,
             "#b8e186"
            ],
            [
             0.8,
             "#7fbc41"
            ],
            [
             0.9,
             "#4d9221"
            ],
            [
             1,
             "#276419"
            ]
           ],
           "sequential": [
            [
             0,
             "#0d0887"
            ],
            [
             0.1111111111111111,
             "#46039f"
            ],
            [
             0.2222222222222222,
             "#7201a8"
            ],
            [
             0.3333333333333333,
             "#9c179e"
            ],
            [
             0.4444444444444444,
             "#bd3786"
            ],
            [
             0.5555555555555556,
             "#d8576b"
            ],
            [
             0.6666666666666666,
             "#ed7953"
            ],
            [
             0.7777777777777778,
             "#fb9f3a"
            ],
            [
             0.8888888888888888,
             "#fdca26"
            ],
            [
             1,
             "#f0f921"
            ]
           ],
           "sequentialminus": [
            [
             0,
             "#0d0887"
            ],
            [
             0.1111111111111111,
             "#46039f"
            ],
            [
             0.2222222222222222,
             "#7201a8"
            ],
            [
             0.3333333333333333,
             "#9c179e"
            ],
            [
             0.4444444444444444,
             "#bd3786"
            ],
            [
             0.5555555555555556,
             "#d8576b"
            ],
            [
             0.6666666666666666,
             "#ed7953"
            ],
            [
             0.7777777777777778,
             "#fb9f3a"
            ],
            [
             0.8888888888888888,
             "#fdca26"
            ],
            [
             1,
             "#f0f921"
            ]
           ]
          },
          "colorway": [
           "#636efa",
           "#EF553B",
           "#00cc96",
           "#ab63fa",
           "#FFA15A",
           "#19d3f3",
           "#FF6692",
           "#B6E880",
           "#FF97FF",
           "#FECB52"
          ],
          "font": {
           "color": "#2a3f5f"
          },
          "geo": {
           "bgcolor": "white",
           "lakecolor": "white",
           "landcolor": "#E5ECF6",
           "showlakes": true,
           "showland": true,
           "subunitcolor": "white"
          },
          "hoverlabel": {
           "align": "left"
          },
          "hovermode": "closest",
          "mapbox": {
           "style": "light"
          },
          "paper_bgcolor": "white",
          "plot_bgcolor": "#E5ECF6",
          "polar": {
           "angularaxis": {
            "gridcolor": "white",
            "linecolor": "white",
            "ticks": ""
           },
           "bgcolor": "#E5ECF6",
           "radialaxis": {
            "gridcolor": "white",
            "linecolor": "white",
            "ticks": ""
           }
          },
          "scene": {
           "xaxis": {
            "backgroundcolor": "#E5ECF6",
            "gridcolor": "white",
            "gridwidth": 2,
            "linecolor": "white",
            "showbackground": true,
            "ticks": "",
            "zerolinecolor": "white"
           },
           "yaxis": {
            "backgroundcolor": "#E5ECF6",
            "gridcolor": "white",
            "gridwidth": 2,
            "linecolor": "white",
            "showbackground": true,
            "ticks": "",
            "zerolinecolor": "white"
           },
           "zaxis": {
            "backgroundcolor": "#E5ECF6",
            "gridcolor": "white",
            "gridwidth": 2,
            "linecolor": "white",
            "showbackground": true,
            "ticks": "",
            "zerolinecolor": "white"
           }
          },
          "shapedefaults": {
           "line": {
            "color": "#2a3f5f"
           }
          },
          "ternary": {
           "aaxis": {
            "gridcolor": "white",
            "linecolor": "white",
            "ticks": ""
           },
           "baxis": {
            "gridcolor": "white",
            "linecolor": "white",
            "ticks": ""
           },
           "bgcolor": "#E5ECF6",
           "caxis": {
            "gridcolor": "white",
            "linecolor": "white",
            "ticks": ""
           }
          },
          "title": {
           "x": 0.05
          },
          "xaxis": {
           "automargin": true,
           "gridcolor": "white",
           "linecolor": "white",
           "ticks": "",
           "title": {
            "standoff": 15
           },
           "zerolinecolor": "white",
           "zerolinewidth": 2
          },
          "yaxis": {
           "automargin": true,
           "gridcolor": "white",
           "linecolor": "white",
           "ticks": "",
           "title": {
            "standoff": 15
           },
           "zerolinecolor": "white",
           "zerolinewidth": 2
          }
         }
        },
        "xaxis": {
         "anchor": "y",
         "domain": [
          0,
          1
         ],
         "title": {
          "text": "Fare"
         }
        },
        "yaxis": {
         "anchor": "x",
         "domain": [
          0,
          1
         ],
         "title": {
          "text": "count"
         }
        }
       }
      },
      "text/html": [
       "<div>                            <div id=\"946de583-408d-4913-b047-38359a31ec89\" class=\"plotly-graph-div\" style=\"height:525px; width:100%;\"></div>            <script type=\"text/javascript\">                require([\"plotly\"], function(Plotly) {                    window.PLOTLYENV=window.PLOTLYENV || {};                                    if (document.getElementById(\"946de583-408d-4913-b047-38359a31ec89\")) {                    Plotly.newPlot(                        \"946de583-408d-4913-b047-38359a31ec89\",                        [{\"alignmentgroup\":\"True\",\"bingroup\":\"x\",\"hovertemplate\":\"Sex=male<br>Fare=%{x}<br>count=%{y}<extra></extra>\",\"legendgroup\":\"male\",\"marker\":{\"color\":\"#636efa\",\"pattern\":{\"shape\":\"\"}},\"name\":\"male\",\"offsetgroup\":\"male\",\"orientation\":\"v\",\"showlegend\":true,\"x\":[7.25,8.05,8.4583,51.8625,21.075,8.05,31.275,29.125,13.0,26.0,13.0,35.5,7.225,263.0,7.8958,27.7208,10.5,82.1708,52.0,7.2292,8.05,7.8958,8.05,15.5,21.6792,39.6875,7.8,61.9792,35.5,7.2292,46.9,7.2292,83.475,27.9,27.7208,15.2458,8.1583,8.6625,10.5,73.5,14.4542,56.4958,7.65,7.8958,8.05,29.0,9.0,9.5,47.1,34.375,8.05,8.05,8.05,7.8542,61.175,20.575,7.25,8.05,34.6542,63.3583,26.0,7.8958,77.2875,8.6542,7.925,7.8958,7.775,7.8958,52.0,8.05,7.925,7.75,21.0,247.5208,73.5,8.05,30.0708,77.2875,11.2417,7.75,7.1417,6.975,7.8958,7.05,13.0,15.0458,53.1,9.2167,79.2,6.75,11.5,36.75,7.7958,26.0,13.0,12.525,8.05,14.5,7.3125,61.3792,8.05,8.6625,69.55,16.1,7.775,8.6625,39.6875,20.525,25.925,56.4958,33.5,29.125,7.925,30.6958,7.8542,25.4667,13.0,0.0,15.05,31.3875,39.0,50.0,26.55,15.5,7.8958,13.0,26.0,7.75,8.4042,9.5,69.55,6.4958,7.225,8.05,15.85,18.7875,31.0,7.05,7.25,13.0,7.75,27.0,10.5,8.05,13.0,8.05,7.8958,90.0,9.35,10.5,7.25,13.0,7.775,13.5,10.5,26.0,10.5,12.275,10.5,7.125,7.225,90.0,52.5542,26.0,7.25,26.55,16.1,7.75,31.3875,79.65,0.0,10.5,39.6875,7.775,31.0,0.0,29.7,0.0,29.125,7.75,7.8542,9.5,8.05,26.0,8.6625,9.5,7.8958,13.0,12.875,7.8958,27.7208,7.2292,30.5,23.25,0.0,8.05,151.55,24.0,7.8958,26.25,14.0,7.25,7.8958,69.55,6.2375,28.5,153.4625,18.0,7.8958,66.6,8.05,35.5,26.0,13.0,13.0,13.0,15.9,8.6625,9.225,35.0,7.2292,17.8,7.225,9.5,27.9,27.7208,7.05,15.5,7.25,55.4417,6.4958,8.05,135.6333,211.5,4.0125,7.775,7.925,7.8958,73.5,46.9,7.7292,120.0,7.7958,7.925,7.7958,26.0,10.5,7.925,8.05,15.85,21.0,7.75,18.75,7.775,7.8958,6.8583,0.0,7.925,13.0,7.8958,7.7333,7.875,20.2125,7.25,7.75,8.05,26.55,7.125,55.9,263.0,10.5,9.5,7.775,8.1125,81.8583,26.55,30.5,27.75,19.9667,27.75,89.1042,8.05,7.8958,26.55,7.75,26.55,8.05,38.5,13.0,8.05,7.05,0.0,26.55,7.725,7.25,8.6625,52.0,21.0,7.0458,7.5208,46.9,0.0,8.05,91.0792,29.7,8.05,15.9,19.9667,7.25,30.5,49.5042,8.05,14.4583,15.1,7.7958,8.6625,108.9,26.55,22.525,56.4958,7.75,8.05,26.2875,7.4958,34.0208,24.15,7.8958,7.8958,7.225,7.2292,7.75,221.7792,7.925,11.5,7.2292,7.2292,26.55,14.5,26.0,106.425,26.0,13.8625,20.525,36.75,110.8833,26.0,7.8292,7.225,26.55,227.525,7.75,7.8958,13.5,8.05,24.15,7.8958,7.2292,7.8542,10.5,26.3875,8.05,14.5,7.925,26.0,40.125,8.7125,15.0,79.2,8.05,8.05,7.125,7.25,26.0,24.15,0.0,7.225,56.9292,7.8958,42.4,8.05,26.55,15.55,7.8958,30.5,7.05,7.75,8.05,14.4,10.5,14.4542,52.5542,15.7417,7.8542,16.1,32.3208,12.35,7.8958,7.7333,30.0,7.0542,30.5,0.0,7.925,26.25,16.1,7.8542,56.4958,76.7292,7.8958,35.5,7.55,7.8958,8.4333,73.5,7.8958,13.0,113.275,133.65,7.225,25.5875,7.4958,7.925,73.5,13.0,7.775,8.05,52.0,10.5,13.0,0.0,7.775,8.05,512.3292,76.7292,9.225,46.9,39.0,41.5792,39.6875,10.1708,7.7958,57.0,56.4958,7.225,26.55,13.5,8.05,110.8833,7.65,26.2875,7.7417,7.8542,26.0,26.2875,15.2458,26.55,52.0,9.4833,13.0,7.65,15.5,7.775,7.0542,13.0,13.0,53.1,8.6625,26.0,18.7875,0.0,13.0,13.0,16.1,512.3292,7.8958,7.8958,30.0,78.85,16.1,7.925,71.0,20.25,53.1,7.75,12.475,9.5,7.8958,14.5,7.7958,11.5,8.05,14.5,7.125,7.2292,7.775,39.6,24.15,8.3625,9.5,7.8542,7.225,7.75,7.75,7.7375,30.0,23.45,7.05,7.25,29.125,20.575,79.2,7.75,26.0,30.6958,7.8958,13.0,7.2292,13.0,120.0,8.5167,6.975,7.775,0.0,13.0,7.8875,24.15,10.5,8.05,0.0,37.0042,6.45,27.9,8.6625,0.0,39.6875,6.95,56.4958,37.0042,7.75,18.75,7.2292,7.8542,8.3,8.6625,8.05,56.4958,29.7,7.925,10.5,6.4375,8.6625,7.55,69.55,7.8958,33.0,31.275,7.775,26.55,7.2292,14.1083,11.5,13.0,50.4958,9.5,11.1333,7.8958,5.0,9.0,9.8458,7.8958,7.8958,7.8958,10.5,7.05,13.0,30.0,7.75],\"xaxis\":\"x\",\"yaxis\":\"y\",\"type\":\"histogram\"},{\"alignmentgroup\":\"True\",\"bingroup\":\"x\",\"hovertemplate\":\"Sex=female<br>Fare=%{x}<br>count=%{y}<extra></extra>\",\"legendgroup\":\"female\",\"marker\":{\"color\":\"#EF553B\",\"pattern\":{\"shape\":\"\"}},\"name\":\"female\",\"offsetgroup\":\"female\",\"orientation\":\"v\",\"showlegend\":true,\"x\":[71.2833,7.925,53.1,11.1333,30.0708,16.7,26.55,7.8542,16.0,18.0,7.225,8.0292,21.075,31.3875,7.8792,146.5208,7.75,18.0,11.2417,9.475,21.0,41.5792,7.8792,7.75,17.8,76.7292,26.0,10.5,27.75,80.0,10.5,7.925,46.9,12.475,7.7875,10.5,15.85,263.0,23.0,7.8958,7.65,24.15,14.4542,9.825,14.4583,31.275,13.0,22.3583,14.5,26.0,26.2833,15.2458,7.75,15.85,34.375,66.6,7.7333,15.75,55.0,27.9,11.1333,28.7125,69.55,22.025,15.5,13.0,7.8542,27.7208,146.5208,7.75,13.0,10.4625,7.75,21.0,113.275,7.925,76.2917,25.4667,83.475,31.3875,7.55,26.25,14.4542,15.5,7.775,14.5,10.4625,20.2125,15.2458,79.2,86.5,512.3292,26.0,7.75,153.4625,135.6333,19.5,7.75,77.9583,7.75,20.25,7.75,78.85,91.0792,8.85,151.55,247.5208,7.75,12.35,110.8833,108.9,56.9292,83.1583,262.375,26.0,7.8542,26.0,164.8667,134.5,12.35,29.0,135.6333,13.0,20.525,57.9792,23.25,133.65,134.5,263.0,13.0,13.0,16.1,55.0,13.0,7.8792,7.8792,14.4542,75.25,7.2292,7.75,69.3,21.075,82.1708,7.25,227.525,15.7417,52.0,13.0,12.0,113.275,16.7,7.8542,12.65,9.825,8.6625,25.4667,90.0,8.05,32.5,13.0,24.15,14.4,26.0,26.0,16.1,26.0,120.0,34.375,18.75,26.25,13.0,19.5,19.2583,51.8625,10.5,19.2583,27.75,13.7917,9.8375,12.2875,9.5875,25.4667,90.0,78.2667,151.55,7.75,7.6292,9.5875,86.5,26.0,59.4,10.5,26.0,93.5,57.9792,10.5,26.0,22.3583,8.6625,26.25,106.425,49.5,71.0,31.275,31.275,26.0,7.775,39.6,79.65,17.4,8.05,21.075,51.4792,7.75,13.0,55.9,14.4583,30.0,110.8833,79.65,78.2667,7.75,33.0,27.0,41.5792,153.4625,31.275,15.5,65.0,16.1,39.0,77.9583,27.9,13.0,39.6875,69.3,27.9,19.2583,7.55,23.0,7.8292,6.75,15.5,52.0,39.0,9.8417,46.9,8.1375,211.3375,13.4167,7.7333,227.525,14.4542,13.5,151.55,49.5042,227.525,10.5,33.0,21.0,7.7375,7.925,211.3375,34.375,262.375,13.0,23.0,65.0,86.5,120.0,77.9583,7.75,10.5,23.0,12.475,211.3375,7.2292,57.0,7.4958,69.55,25.9292,8.6833,24.15,26.25,7.775,53.1,31.275,7.925,93.5,12.475,80.0,14.4542,83.1583,31.0,89.1042,15.2458,39.4,26.0,9.35,164.8667,19.2583,25.9292,69.55,13.0,13.8583,52.5542,24.0,7.225,83.1583,26.0,10.5167,29.125,30.0,23.45],\"xaxis\":\"x\",\"yaxis\":\"y\",\"type\":\"histogram\"}],                        {\"template\":{\"data\":{\"bar\":[{\"error_x\":{\"color\":\"#2a3f5f\"},\"error_y\":{\"color\":\"#2a3f5f\"},\"marker\":{\"line\":{\"color\":\"#E5ECF6\",\"width\":0.5},\"pattern\":{\"fillmode\":\"overlay\",\"size\":10,\"solidity\":0.2}},\"type\":\"bar\"}],\"barpolar\":[{\"marker\":{\"line\":{\"color\":\"#E5ECF6\",\"width\":0.5},\"pattern\":{\"fillmode\":\"overlay\",\"size\":10,\"solidity\":0.2}},\"type\":\"barpolar\"}],\"carpet\":[{\"aaxis\":{\"endlinecolor\":\"#2a3f5f\",\"gridcolor\":\"white\",\"linecolor\":\"white\",\"minorgridcolor\":\"white\",\"startlinecolor\":\"#2a3f5f\"},\"baxis\":{\"endlinecolor\":\"#2a3f5f\",\"gridcolor\":\"white\",\"linecolor\":\"white\",\"minorgridcolor\":\"white\",\"startlinecolor\":\"#2a3f5f\"},\"type\":\"carpet\"}],\"choropleth\":[{\"colorbar\":{\"outlinewidth\":0,\"ticks\":\"\"},\"type\":\"choropleth\"}],\"contour\":[{\"colorbar\":{\"outlinewidth\":0,\"ticks\":\"\"},\"colorscale\":[[0.0,\"#0d0887\"],[0.1111111111111111,\"#46039f\"],[0.2222222222222222,\"#7201a8\"],[0.3333333333333333,\"#9c179e\"],[0.4444444444444444,\"#bd3786\"],[0.5555555555555556,\"#d8576b\"],[0.6666666666666666,\"#ed7953\"],[0.7777777777777778,\"#fb9f3a\"],[0.8888888888888888,\"#fdca26\"],[1.0,\"#f0f921\"]],\"type\":\"contour\"}],\"contourcarpet\":[{\"colorbar\":{\"outlinewidth\":0,\"ticks\":\"\"},\"type\":\"contourcarpet\"}],\"heatmap\":[{\"colorbar\":{\"outlinewidth\":0,\"ticks\":\"\"},\"colorscale\":[[0.0,\"#0d0887\"],[0.1111111111111111,\"#46039f\"],[0.2222222222222222,\"#7201a8\"],[0.3333333333333333,\"#9c179e\"],[0.4444444444444444,\"#bd3786\"],[0.5555555555555556,\"#d8576b\"],[0.6666666666666666,\"#ed7953\"],[0.7777777777777778,\"#fb9f3a\"],[0.8888888888888888,\"#fdca26\"],[1.0,\"#f0f921\"]],\"type\":\"heatmap\"}],\"heatmapgl\":[{\"colorbar\":{\"outlinewidth\":0,\"ticks\":\"\"},\"colorscale\":[[0.0,\"#0d0887\"],[0.1111111111111111,\"#46039f\"],[0.2222222222222222,\"#7201a8\"],[0.3333333333333333,\"#9c179e\"],[0.4444444444444444,\"#bd3786\"],[0.5555555555555556,\"#d8576b\"],[0.6666666666666666,\"#ed7953\"],[0.7777777777777778,\"#fb9f3a\"],[0.8888888888888888,\"#fdca26\"],[1.0,\"#f0f921\"]],\"type\":\"heatmapgl\"}],\"histogram\":[{\"marker\":{\"pattern\":{\"fillmode\":\"overlay\",\"size\":10,\"solidity\":0.2}},\"type\":\"histogram\"}],\"histogram2d\":[{\"colorbar\":{\"outlinewidth\":0,\"ticks\":\"\"},\"colorscale\":[[0.0,\"#0d0887\"],[0.1111111111111111,\"#46039f\"],[0.2222222222222222,\"#7201a8\"],[0.3333333333333333,\"#9c179e\"],[0.4444444444444444,\"#bd3786\"],[0.5555555555555556,\"#d8576b\"],[0.6666666666666666,\"#ed7953\"],[0.7777777777777778,\"#fb9f3a\"],[0.8888888888888888,\"#fdca26\"],[1.0,\"#f0f921\"]],\"type\":\"histogram2d\"}],\"histogram2dcontour\":[{\"colorbar\":{\"outlinewidth\":0,\"ticks\":\"\"},\"colorscale\":[[0.0,\"#0d0887\"],[0.1111111111111111,\"#46039f\"],[0.2222222222222222,\"#7201a8\"],[0.3333333333333333,\"#9c179e\"],[0.4444444444444444,\"#bd3786\"],[0.5555555555555556,\"#d8576b\"],[0.6666666666666666,\"#ed7953\"],[0.7777777777777778,\"#fb9f3a\"],[0.8888888888888888,\"#fdca26\"],[1.0,\"#f0f921\"]],\"type\":\"histogram2dcontour\"}],\"mesh3d\":[{\"colorbar\":{\"outlinewidth\":0,\"ticks\":\"\"},\"type\":\"mesh3d\"}],\"parcoords\":[{\"line\":{\"colorbar\":{\"outlinewidth\":0,\"ticks\":\"\"}},\"type\":\"parcoords\"}],\"pie\":[{\"automargin\":true,\"type\":\"pie\"}],\"scatter\":[{\"marker\":{\"colorbar\":{\"outlinewidth\":0,\"ticks\":\"\"}},\"type\":\"scatter\"}],\"scatter3d\":[{\"line\":{\"colorbar\":{\"outlinewidth\":0,\"ticks\":\"\"}},\"marker\":{\"colorbar\":{\"outlinewidth\":0,\"ticks\":\"\"}},\"type\":\"scatter3d\"}],\"scattercarpet\":[{\"marker\":{\"colorbar\":{\"outlinewidth\":0,\"ticks\":\"\"}},\"type\":\"scattercarpet\"}],\"scattergeo\":[{\"marker\":{\"colorbar\":{\"outlinewidth\":0,\"ticks\":\"\"}},\"type\":\"scattergeo\"}],\"scattergl\":[{\"marker\":{\"colorbar\":{\"outlinewidth\":0,\"ticks\":\"\"}},\"type\":\"scattergl\"}],\"scattermapbox\":[{\"marker\":{\"colorbar\":{\"outlinewidth\":0,\"ticks\":\"\"}},\"type\":\"scattermapbox\"}],\"scatterpolar\":[{\"marker\":{\"colorbar\":{\"outlinewidth\":0,\"ticks\":\"\"}},\"type\":\"scatterpolar\"}],\"scatterpolargl\":[{\"marker\":{\"colorbar\":{\"outlinewidth\":0,\"ticks\":\"\"}},\"type\":\"scatterpolargl\"}],\"scatterternary\":[{\"marker\":{\"colorbar\":{\"outlinewidth\":0,\"ticks\":\"\"}},\"type\":\"scatterternary\"}],\"surface\":[{\"colorbar\":{\"outlinewidth\":0,\"ticks\":\"\"},\"colorscale\":[[0.0,\"#0d0887\"],[0.1111111111111111,\"#46039f\"],[0.2222222222222222,\"#7201a8\"],[0.3333333333333333,\"#9c179e\"],[0.4444444444444444,\"#bd3786\"],[0.5555555555555556,\"#d8576b\"],[0.6666666666666666,\"#ed7953\"],[0.7777777777777778,\"#fb9f3a\"],[0.8888888888888888,\"#fdca26\"],[1.0,\"#f0f921\"]],\"type\":\"surface\"}],\"table\":[{\"cells\":{\"fill\":{\"color\":\"#EBF0F8\"},\"line\":{\"color\":\"white\"}},\"header\":{\"fill\":{\"color\":\"#C8D4E3\"},\"line\":{\"color\":\"white\"}},\"type\":\"table\"}]},\"layout\":{\"annotationdefaults\":{\"arrowcolor\":\"#2a3f5f\",\"arrowhead\":0,\"arrowwidth\":1},\"autotypenumbers\":\"strict\",\"coloraxis\":{\"colorbar\":{\"outlinewidth\":0,\"ticks\":\"\"}},\"colorscale\":{\"diverging\":[[0,\"#8e0152\"],[0.1,\"#c51b7d\"],[0.2,\"#de77ae\"],[0.3,\"#f1b6da\"],[0.4,\"#fde0ef\"],[0.5,\"#f7f7f7\"],[0.6,\"#e6f5d0\"],[0.7,\"#b8e186\"],[0.8,\"#7fbc41\"],[0.9,\"#4d9221\"],[1,\"#276419\"]],\"sequential\":[[0.0,\"#0d0887\"],[0.1111111111111111,\"#46039f\"],[0.2222222222222222,\"#7201a8\"],[0.3333333333333333,\"#9c179e\"],[0.4444444444444444,\"#bd3786\"],[0.5555555555555556,\"#d8576b\"],[0.6666666666666666,\"#ed7953\"],[0.7777777777777778,\"#fb9f3a\"],[0.8888888888888888,\"#fdca26\"],[1.0,\"#f0f921\"]],\"sequentialminus\":[[0.0,\"#0d0887\"],[0.1111111111111111,\"#46039f\"],[0.2222222222222222,\"#7201a8\"],[0.3333333333333333,\"#9c179e\"],[0.4444444444444444,\"#bd3786\"],[0.5555555555555556,\"#d8576b\"],[0.6666666666666666,\"#ed7953\"],[0.7777777777777778,\"#fb9f3a\"],[0.8888888888888888,\"#fdca26\"],[1.0,\"#f0f921\"]]},\"colorway\":[\"#636efa\",\"#EF553B\",\"#00cc96\",\"#ab63fa\",\"#FFA15A\",\"#19d3f3\",\"#FF6692\",\"#B6E880\",\"#FF97FF\",\"#FECB52\"],\"font\":{\"color\":\"#2a3f5f\"},\"geo\":{\"bgcolor\":\"white\",\"lakecolor\":\"white\",\"landcolor\":\"#E5ECF6\",\"showlakes\":true,\"showland\":true,\"subunitcolor\":\"white\"},\"hoverlabel\":{\"align\":\"left\"},\"hovermode\":\"closest\",\"mapbox\":{\"style\":\"light\"},\"paper_bgcolor\":\"white\",\"plot_bgcolor\":\"#E5ECF6\",\"polar\":{\"angularaxis\":{\"gridcolor\":\"white\",\"linecolor\":\"white\",\"ticks\":\"\"},\"bgcolor\":\"#E5ECF6\",\"radialaxis\":{\"gridcolor\":\"white\",\"linecolor\":\"white\",\"ticks\":\"\"}},\"scene\":{\"xaxis\":{\"backgroundcolor\":\"#E5ECF6\",\"gridcolor\":\"white\",\"gridwidth\":2,\"linecolor\":\"white\",\"showbackground\":true,\"ticks\":\"\",\"zerolinecolor\":\"white\"},\"yaxis\":{\"backgroundcolor\":\"#E5ECF6\",\"gridcolor\":\"white\",\"gridwidth\":2,\"linecolor\":\"white\",\"showbackground\":true,\"ticks\":\"\",\"zerolinecolor\":\"white\"},\"zaxis\":{\"backgroundcolor\":\"#E5ECF6\",\"gridcolor\":\"white\",\"gridwidth\":2,\"linecolor\":\"white\",\"showbackground\":true,\"ticks\":\"\",\"zerolinecolor\":\"white\"}},\"shapedefaults\":{\"line\":{\"color\":\"#2a3f5f\"}},\"ternary\":{\"aaxis\":{\"gridcolor\":\"white\",\"linecolor\":\"white\",\"ticks\":\"\"},\"baxis\":{\"gridcolor\":\"white\",\"linecolor\":\"white\",\"ticks\":\"\"},\"bgcolor\":\"#E5ECF6\",\"caxis\":{\"gridcolor\":\"white\",\"linecolor\":\"white\",\"ticks\":\"\"}},\"title\":{\"x\":0.05},\"xaxis\":{\"automargin\":true,\"gridcolor\":\"white\",\"linecolor\":\"white\",\"ticks\":\"\",\"title\":{\"standoff\":15},\"zerolinecolor\":\"white\",\"zerolinewidth\":2},\"yaxis\":{\"automargin\":true,\"gridcolor\":\"white\",\"linecolor\":\"white\",\"ticks\":\"\",\"title\":{\"standoff\":15},\"zerolinecolor\":\"white\",\"zerolinewidth\":2}}},\"xaxis\":{\"anchor\":\"y\",\"domain\":[0.0,1.0],\"title\":{\"text\":\"Fare\"}},\"yaxis\":{\"anchor\":\"x\",\"domain\":[0.0,1.0],\"title\":{\"text\":\"count\"}},\"legend\":{\"title\":{\"text\":\"Sex\"},\"tracegroupgap\":0},\"margin\":{\"t\":60},\"barmode\":\"relative\"},                        {\"responsive\": true}                    ).then(function(){\n",
       "                            \n",
       "var gd = document.getElementById('946de583-408d-4913-b047-38359a31ec89');\n",
       "var x = new MutationObserver(function (mutations, observer) {{\n",
       "        var display = window.getComputedStyle(gd).display;\n",
       "        if (!display || display === 'none') {{\n",
       "            console.log([gd, 'removed!']);\n",
       "            Plotly.purge(gd);\n",
       "            observer.disconnect();\n",
       "        }}\n",
       "}});\n",
       "\n",
       "// Listen for the removal of the full notebook cells\n",
       "var notebookContainer = gd.closest('#notebook-container');\n",
       "if (notebookContainer) {{\n",
       "    x.observe(notebookContainer, {childList: true});\n",
       "}}\n",
       "\n",
       "// Listen for the clearing of the current output cell\n",
       "var outputEl = gd.closest('.output');\n",
       "if (outputEl) {{\n",
       "    x.observe(outputEl, {childList: true});\n",
       "}}\n",
       "\n",
       "                        })                };                });            </script>        </div>"
      ]
     },
     "metadata": {},
     "output_type": "display_data"
    },
    {
     "data": {
      "application/vnd.plotly.v1+json": {
       "config": {
        "plotlyServerURL": "https://plot.ly"
       },
       "data": [
        {
         "alignmentgroup": "True",
         "bingroup": "x",
         "hovertemplate": "Sex=male<br>Embarked=%{x}<br>count=%{y}<extra></extra>",
         "legendgroup": "male",
         "marker": {
          "color": "#636efa",
          "pattern": {
           "shape": ""
          }
         },
         "name": "male",
         "offsetgroup": "male",
         "orientation": "v",
         "showlegend": true,
         "type": "histogram",
         "x": [
          "S",
          "S",
          "Q",
          "S",
          "S",
          "S",
          "S",
          "Q",
          "S",
          "S",
          "S",
          "S",
          "C",
          "S",
          "S",
          "C",
          "S",
          "C",
          "S",
          "C",
          "S",
          "C",
          "S",
          "Q",
          "C",
          "S",
          "S",
          "C",
          "S",
          "C",
          "S",
          "C",
          "S",
          "S",
          "C",
          "C",
          "S",
          "S",
          "S",
          "S",
          "C",
          "S",
          "S",
          "S",
          "S",
          "S",
          "S",
          "S",
          "S",
          "S",
          "S",
          "S",
          "S",
          "S",
          "S",
          "S",
          "S",
          "S",
          "C",
          "C",
          "S",
          "S",
          "S",
          "S",
          "S",
          "S",
          "S",
          "S",
          "S",
          "S",
          "S",
          "Q",
          "S",
          "C",
          "S",
          "S",
          "C",
          "S",
          "C",
          "Q",
          "S",
          "S",
          "C",
          "S",
          "S",
          "C",
          "S",
          "S",
          "C",
          "Q",
          "S",
          "S",
          "S",
          "S",
          "S",
          "S",
          "S",
          "S",
          "S",
          "C",
          "S",
          "S",
          "S",
          "S",
          "S",
          "S",
          "S",
          "S",
          "S",
          "S",
          "S",
          "Q",
          "S",
          "C",
          "S",
          "S",
          "S",
          "S",
          "C",
          "S",
          "S",
          "S",
          "S",
          "Q",
          "S",
          "S",
          "S",
          "Q",
          "S",
          "S",
          "S",
          "S",
          "C",
          "S",
          "S",
          "C",
          "C",
          "S",
          "S",
          "S",
          "Q",
          "S",
          "S",
          "S",
          "S",
          "S",
          "S",
          "S",
          "S",
          "S",
          "S",
          "S",
          "S",
          "S",
          "S",
          "S",
          "S",
          "S",
          "S",
          "S",
          "C",
          "Q",
          "S",
          "S",
          "S",
          "S",
          "S",
          "Q",
          "S",
          "S",
          "S",
          "S",
          "S",
          "S",
          "S",
          "S",
          "C",
          "S",
          "Q",
          "Q",
          "S",
          "S",
          "S",
          "S",
          "C",
          "S",
          "S",
          "S",
          "C",
          "S",
          "C",
          "C",
          "S",
          "Q",
          "S",
          "S",
          "S",
          "C",
          "S",
          "S",
          "S",
          "S",
          "S",
          "S",
          "S",
          "S",
          "S",
          "S",
          "S",
          "S",
          "S",
          "S",
          "S",
          "S",
          "S",
          "S",
          "S",
          "S",
          "S",
          "S",
          "C",
          "S",
          "C",
          "S",
          "S",
          "C",
          "S",
          "Q",
          "S",
          "C",
          "S",
          "S",
          "C",
          "C",
          "C",
          "S",
          "S",
          "S",
          "S",
          "S",
          "Q",
          "S",
          "S",
          "S",
          "S",
          "S",
          "S",
          "S",
          "S",
          "S",
          "S",
          "S",
          "S",
          "S",
          "S",
          "Q",
          "S",
          "S",
          "S",
          "C",
          "Q",
          "S",
          "S",
          "S",
          "Q",
          "S",
          "S",
          "S",
          "S",
          "S",
          "S",
          "S",
          "S",
          "S",
          "S",
          "S",
          "S",
          "S",
          "S",
          "C",
          "C",
          "S",
          "C",
          "S",
          "Q",
          "S",
          "S",
          "S",
          "S",
          "S",
          "S",
          "S",
          "S",
          "Q",
          "S",
          "S",
          "S",
          "S",
          "S",
          "S",
          "S",
          "S",
          "S",
          "C",
          "C",
          "S",
          "S",
          "S",
          "S",
          "S",
          "C",
          "S",
          "C",
          "S",
          "S",
          "S",
          "C",
          "S",
          "S",
          "S",
          "Q",
          "S",
          "S",
          "S",
          "S",
          "Q",
          "S",
          "S",
          "C",
          "C",
          "Q",
          "S",
          "S",
          "S",
          "C",
          "C",
          "S",
          "S",
          "S",
          "C",
          "S",
          "C",
          "S",
          "S",
          "C",
          "S",
          "Q",
          "C",
          "S",
          "C",
          "Q",
          "S",
          "S",
          "S",
          "S",
          "S",
          "C",
          "S",
          "S",
          "S",
          "S",
          "S",
          "S",
          "S",
          "C",
          "C",
          "S",
          "C",
          "S",
          "S",
          "S",
          "S",
          "S",
          "S",
          "S",
          "C",
          "C",
          "S",
          "S",
          "S",
          "C",
          "S",
          "S",
          "S",
          "S",
          "Q",
          "S",
          "S",
          "S",
          "C",
          "S",
          "C",
          "S",
          "S",
          "S",
          "Q",
          "S",
          "Q",
          "S",
          "S",
          "C",
          "S",
          "S",
          "S",
          "S",
          "S",
          "S",
          "C",
          "S",
          "C",
          "S",
          "S",
          "S",
          "S",
          "S",
          "S",
          "C",
          "S",
          "C",
          "S",
          "S",
          "S",
          "S",
          "S",
          "S",
          "S",
          "S",
          "S",
          "S",
          "S",
          "S",
          "S",
          "C",
          "C",
          "S",
          "S",
          "S",
          "C",
          "S",
          "S",
          "S",
          "S",
          "S",
          "C",
          "S",
          "S",
          "S",
          "C",
          "S",
          "S",
          "Q",
          "S",
          "S",
          "S",
          "C",
          "S",
          "S",
          "S",
          "S",
          "S",
          "Q",
          "S",
          "S",
          "S",
          "S",
          "S",
          "S",
          "S",
          "C",
          "S",
          "S",
          "S",
          "S",
          "C",
          "S",
          "S",
          "S",
          "S",
          "S",
          "S",
          "S",
          "S",
          "S",
          "Q",
          "S",
          "S",
          "S",
          "S",
          "S",
          "S",
          "S",
          "S",
          "S",
          "C",
          "S",
          "C",
          "Q",
          "S",
          "S",
          "S",
          "C",
          "S",
          "Q",
          "Q",
          "S",
          "S",
          "S",
          "S",
          "Q",
          "S",
          "C",
          "Q",
          "S",
          "C",
          "S",
          "S",
          "C",
          "S",
          "S",
          "C",
          "S",
          "S",
          "S",
          "S",
          "S",
          "S",
          "S",
          "S",
          "S",
          "C",
          "S",
          "S",
          "S",
          "S",
          "S",
          "Q",
          "S",
          "C",
          "Q",
          "S",
          "C",
          "S",
          "S",
          "S",
          "S",
          "S",
          "C",
          "S",
          "S",
          "C",
          "S",
          "S",
          "S",
          "C",
          "S",
          "S",
          "S",
          "S",
          "C",
          "S",
          "S",
          "S",
          "S",
          "S",
          "S",
          "S",
          "S",
          "S",
          "S",
          "S",
          "S",
          "S",
          "S",
          "S",
          "S",
          "C",
          "Q"
         ],
         "xaxis": "x",
         "yaxis": "y"
        },
        {
         "alignmentgroup": "True",
         "bingroup": "x",
         "hovertemplate": "Sex=female<br>Embarked=%{x}<br>count=%{y}<extra></extra>",
         "legendgroup": "female",
         "marker": {
          "color": "#EF553B",
          "pattern": {
           "shape": ""
          }
         },
         "name": "female",
         "offsetgroup": "female",
         "orientation": "v",
         "showlegend": true,
         "type": "histogram",
         "x": [
          "C",
          "S",
          "S",
          "S",
          "C",
          "S",
          "S",
          "S",
          "S",
          "S",
          "C",
          "Q",
          "S",
          "S",
          "Q",
          "C",
          "Q",
          "S",
          "C",
          "S",
          "S",
          "C",
          "Q",
          "Q",
          "S",
          "C",
          "S",
          "S",
          "S",
          "S",
          "S",
          "S",
          "S",
          "S",
          "Q",
          "S",
          "S",
          "S",
          "S",
          "S",
          "S",
          "Q",
          "C",
          "S",
          "C",
          "S",
          "S",
          "C",
          "S",
          "S",
          "S",
          "C",
          "S",
          "S",
          "S",
          "S",
          "Q",
          "S",
          "S",
          "S",
          "S",
          "C",
          "S",
          "S",
          "Q",
          "S",
          "S",
          "C",
          "C",
          "Q",
          "S",
          "S",
          "Q",
          "S",
          "C",
          "S",
          "C",
          "S",
          "S",
          "S",
          "S",
          "S",
          "C",
          "Q",
          "S",
          "S",
          "S",
          "S",
          "C",
          "C",
          "S",
          "C",
          "S",
          "Q",
          "S",
          "S",
          "S",
          "Q",
          "S",
          "S",
          "S",
          "Q",
          "S",
          "C",
          "S",
          "S",
          "C",
          "Q",
          "Q",
          "C",
          "C",
          "C",
          "C",
          "C",
          "S",
          "S",
          "S",
          "S",
          "C",
          "Q",
          "S",
          "C",
          "S",
          "S",
          "C",
          "Q",
          "S",
          "C",
          "S",
          "S",
          "S",
          "S",
          "S",
          "S",
          "Q",
          "Q",
          "C",
          "C",
          "C",
          "Q",
          "C",
          "S",
          "C",
          "S",
          "C",
          "C",
          "S",
          "S",
          "C",
          "C",
          "S",
          "S",
          "S",
          "S",
          "S",
          "S",
          "Q",
          "S",
          "S",
          "S",
          "S",
          "S",
          "S",
          "S",
          "S",
          "S",
          "S",
          "S",
          "S",
          "S",
          "S",
          "S",
          "C",
          "S",
          "S",
          "C",
          "S",
          "C",
          "S",
          "S",
          "S",
          "S",
          "S",
          "C",
          "S",
          "Q",
          "Q",
          "S",
          "S",
          "S",
          "C",
          "S",
          "S",
          "S",
          "C",
          "S",
          "S",
          "C",
          "S",
          "S",
          "C",
          "C",
          "S",
          "S",
          "S",
          "S",
          "S",
          "C",
          "S",
          "S",
          "S",
          "S",
          "S",
          "Q",
          "S",
          "S",
          "C",
          "S",
          "C",
          "S",
          "C",
          "Q",
          "S",
          "S",
          "C",
          "S",
          "S",
          "Q",
          "S",
          "S",
          "S",
          "S",
          "S",
          "S",
          "S",
          "C",
          "S",
          "C",
          "S",
          "S",
          "Q",
          "Q",
          "Q",
          "S",
          "S",
          "S",
          "S",
          "Q",
          "S",
          "C",
          "Q",
          "C",
          "C",
          "S",
          "S",
          "C",
          "C",
          "S",
          "S",
          "S",
          "Q",
          "S",
          "S",
          "S",
          "C",
          "S",
          "S",
          "S",
          "S",
          "S",
          "S",
          "Q",
          "S",
          "S",
          "S",
          "S",
          "C",
          "S",
          "S",
          "S",
          "S",
          "S",
          "S",
          "S",
          "S",
          "S",
          "S",
          "S",
          "S",
          "S",
          "S",
          "C",
          "C",
          "C",
          "C",
          "C",
          "S",
          "S",
          "S",
          "S",
          "C",
          "S",
          "S",
          "S",
          "C",
          "S",
          "C",
          "C",
          "C",
          "S",
          "S",
          "Q",
          "S",
          "S"
         ],
         "xaxis": "x",
         "yaxis": "y"
        }
       ],
       "layout": {
        "barmode": "relative",
        "legend": {
         "title": {
          "text": "Sex"
         },
         "tracegroupgap": 0
        },
        "margin": {
         "t": 60
        },
        "template": {
         "data": {
          "bar": [
           {
            "error_x": {
             "color": "#2a3f5f"
            },
            "error_y": {
             "color": "#2a3f5f"
            },
            "marker": {
             "line": {
              "color": "#E5ECF6",
              "width": 0.5
             },
             "pattern": {
              "fillmode": "overlay",
              "size": 10,
              "solidity": 0.2
             }
            },
            "type": "bar"
           }
          ],
          "barpolar": [
           {
            "marker": {
             "line": {
              "color": "#E5ECF6",
              "width": 0.5
             },
             "pattern": {
              "fillmode": "overlay",
              "size": 10,
              "solidity": 0.2
             }
            },
            "type": "barpolar"
           }
          ],
          "carpet": [
           {
            "aaxis": {
             "endlinecolor": "#2a3f5f",
             "gridcolor": "white",
             "linecolor": "white",
             "minorgridcolor": "white",
             "startlinecolor": "#2a3f5f"
            },
            "baxis": {
             "endlinecolor": "#2a3f5f",
             "gridcolor": "white",
             "linecolor": "white",
             "minorgridcolor": "white",
             "startlinecolor": "#2a3f5f"
            },
            "type": "carpet"
           }
          ],
          "choropleth": [
           {
            "colorbar": {
             "outlinewidth": 0,
             "ticks": ""
            },
            "type": "choropleth"
           }
          ],
          "contour": [
           {
            "colorbar": {
             "outlinewidth": 0,
             "ticks": ""
            },
            "colorscale": [
             [
              0,
              "#0d0887"
             ],
             [
              0.1111111111111111,
              "#46039f"
             ],
             [
              0.2222222222222222,
              "#7201a8"
             ],
             [
              0.3333333333333333,
              "#9c179e"
             ],
             [
              0.4444444444444444,
              "#bd3786"
             ],
             [
              0.5555555555555556,
              "#d8576b"
             ],
             [
              0.6666666666666666,
              "#ed7953"
             ],
             [
              0.7777777777777778,
              "#fb9f3a"
             ],
             [
              0.8888888888888888,
              "#fdca26"
             ],
             [
              1,
              "#f0f921"
             ]
            ],
            "type": "contour"
           }
          ],
          "contourcarpet": [
           {
            "colorbar": {
             "outlinewidth": 0,
             "ticks": ""
            },
            "type": "contourcarpet"
           }
          ],
          "heatmap": [
           {
            "colorbar": {
             "outlinewidth": 0,
             "ticks": ""
            },
            "colorscale": [
             [
              0,
              "#0d0887"
             ],
             [
              0.1111111111111111,
              "#46039f"
             ],
             [
              0.2222222222222222,
              "#7201a8"
             ],
             [
              0.3333333333333333,
              "#9c179e"
             ],
             [
              0.4444444444444444,
              "#bd3786"
             ],
             [
              0.5555555555555556,
              "#d8576b"
             ],
             [
              0.6666666666666666,
              "#ed7953"
             ],
             [
              0.7777777777777778,
              "#fb9f3a"
             ],
             [
              0.8888888888888888,
              "#fdca26"
             ],
             [
              1,
              "#f0f921"
             ]
            ],
            "type": "heatmap"
           }
          ],
          "heatmapgl": [
           {
            "colorbar": {
             "outlinewidth": 0,
             "ticks": ""
            },
            "colorscale": [
             [
              0,
              "#0d0887"
             ],
             [
              0.1111111111111111,
              "#46039f"
             ],
             [
              0.2222222222222222,
              "#7201a8"
             ],
             [
              0.3333333333333333,
              "#9c179e"
             ],
             [
              0.4444444444444444,
              "#bd3786"
             ],
             [
              0.5555555555555556,
              "#d8576b"
             ],
             [
              0.6666666666666666,
              "#ed7953"
             ],
             [
              0.7777777777777778,
              "#fb9f3a"
             ],
             [
              0.8888888888888888,
              "#fdca26"
             ],
             [
              1,
              "#f0f921"
             ]
            ],
            "type": "heatmapgl"
           }
          ],
          "histogram": [
           {
            "marker": {
             "pattern": {
              "fillmode": "overlay",
              "size": 10,
              "solidity": 0.2
             }
            },
            "type": "histogram"
           }
          ],
          "histogram2d": [
           {
            "colorbar": {
             "outlinewidth": 0,
             "ticks": ""
            },
            "colorscale": [
             [
              0,
              "#0d0887"
             ],
             [
              0.1111111111111111,
              "#46039f"
             ],
             [
              0.2222222222222222,
              "#7201a8"
             ],
             [
              0.3333333333333333,
              "#9c179e"
             ],
             [
              0.4444444444444444,
              "#bd3786"
             ],
             [
              0.5555555555555556,
              "#d8576b"
             ],
             [
              0.6666666666666666,
              "#ed7953"
             ],
             [
              0.7777777777777778,
              "#fb9f3a"
             ],
             [
              0.8888888888888888,
              "#fdca26"
             ],
             [
              1,
              "#f0f921"
             ]
            ],
            "type": "histogram2d"
           }
          ],
          "histogram2dcontour": [
           {
            "colorbar": {
             "outlinewidth": 0,
             "ticks": ""
            },
            "colorscale": [
             [
              0,
              "#0d0887"
             ],
             [
              0.1111111111111111,
              "#46039f"
             ],
             [
              0.2222222222222222,
              "#7201a8"
             ],
             [
              0.3333333333333333,
              "#9c179e"
             ],
             [
              0.4444444444444444,
              "#bd3786"
             ],
             [
              0.5555555555555556,
              "#d8576b"
             ],
             [
              0.6666666666666666,
              "#ed7953"
             ],
             [
              0.7777777777777778,
              "#fb9f3a"
             ],
             [
              0.8888888888888888,
              "#fdca26"
             ],
             [
              1,
              "#f0f921"
             ]
            ],
            "type": "histogram2dcontour"
           }
          ],
          "mesh3d": [
           {
            "colorbar": {
             "outlinewidth": 0,
             "ticks": ""
            },
            "type": "mesh3d"
           }
          ],
          "parcoords": [
           {
            "line": {
             "colorbar": {
              "outlinewidth": 0,
              "ticks": ""
             }
            },
            "type": "parcoords"
           }
          ],
          "pie": [
           {
            "automargin": true,
            "type": "pie"
           }
          ],
          "scatter": [
           {
            "marker": {
             "colorbar": {
              "outlinewidth": 0,
              "ticks": ""
             }
            },
            "type": "scatter"
           }
          ],
          "scatter3d": [
           {
            "line": {
             "colorbar": {
              "outlinewidth": 0,
              "ticks": ""
             }
            },
            "marker": {
             "colorbar": {
              "outlinewidth": 0,
              "ticks": ""
             }
            },
            "type": "scatter3d"
           }
          ],
          "scattercarpet": [
           {
            "marker": {
             "colorbar": {
              "outlinewidth": 0,
              "ticks": ""
             }
            },
            "type": "scattercarpet"
           }
          ],
          "scattergeo": [
           {
            "marker": {
             "colorbar": {
              "outlinewidth": 0,
              "ticks": ""
             }
            },
            "type": "scattergeo"
           }
          ],
          "scattergl": [
           {
            "marker": {
             "colorbar": {
              "outlinewidth": 0,
              "ticks": ""
             }
            },
            "type": "scattergl"
           }
          ],
          "scattermapbox": [
           {
            "marker": {
             "colorbar": {
              "outlinewidth": 0,
              "ticks": ""
             }
            },
            "type": "scattermapbox"
           }
          ],
          "scatterpolar": [
           {
            "marker": {
             "colorbar": {
              "outlinewidth": 0,
              "ticks": ""
             }
            },
            "type": "scatterpolar"
           }
          ],
          "scatterpolargl": [
           {
            "marker": {
             "colorbar": {
              "outlinewidth": 0,
              "ticks": ""
             }
            },
            "type": "scatterpolargl"
           }
          ],
          "scatterternary": [
           {
            "marker": {
             "colorbar": {
              "outlinewidth": 0,
              "ticks": ""
             }
            },
            "type": "scatterternary"
           }
          ],
          "surface": [
           {
            "colorbar": {
             "outlinewidth": 0,
             "ticks": ""
            },
            "colorscale": [
             [
              0,
              "#0d0887"
             ],
             [
              0.1111111111111111,
              "#46039f"
             ],
             [
              0.2222222222222222,
              "#7201a8"
             ],
             [
              0.3333333333333333,
              "#9c179e"
             ],
             [
              0.4444444444444444,
              "#bd3786"
             ],
             [
              0.5555555555555556,
              "#d8576b"
             ],
             [
              0.6666666666666666,
              "#ed7953"
             ],
             [
              0.7777777777777778,
              "#fb9f3a"
             ],
             [
              0.8888888888888888,
              "#fdca26"
             ],
             [
              1,
              "#f0f921"
             ]
            ],
            "type": "surface"
           }
          ],
          "table": [
           {
            "cells": {
             "fill": {
              "color": "#EBF0F8"
             },
             "line": {
              "color": "white"
             }
            },
            "header": {
             "fill": {
              "color": "#C8D4E3"
             },
             "line": {
              "color": "white"
             }
            },
            "type": "table"
           }
          ]
         },
         "layout": {
          "annotationdefaults": {
           "arrowcolor": "#2a3f5f",
           "arrowhead": 0,
           "arrowwidth": 1
          },
          "autotypenumbers": "strict",
          "coloraxis": {
           "colorbar": {
            "outlinewidth": 0,
            "ticks": ""
           }
          },
          "colorscale": {
           "diverging": [
            [
             0,
             "#8e0152"
            ],
            [
             0.1,
             "#c51b7d"
            ],
            [
             0.2,
             "#de77ae"
            ],
            [
             0.3,
             "#f1b6da"
            ],
            [
             0.4,
             "#fde0ef"
            ],
            [
             0.5,
             "#f7f7f7"
            ],
            [
             0.6,
             "#e6f5d0"
            ],
            [
             0.7,
             "#b8e186"
            ],
            [
             0.8,
             "#7fbc41"
            ],
            [
             0.9,
             "#4d9221"
            ],
            [
             1,
             "#276419"
            ]
           ],
           "sequential": [
            [
             0,
             "#0d0887"
            ],
            [
             0.1111111111111111,
             "#46039f"
            ],
            [
             0.2222222222222222,
             "#7201a8"
            ],
            [
             0.3333333333333333,
             "#9c179e"
            ],
            [
             0.4444444444444444,
             "#bd3786"
            ],
            [
             0.5555555555555556,
             "#d8576b"
            ],
            [
             0.6666666666666666,
             "#ed7953"
            ],
            [
             0.7777777777777778,
             "#fb9f3a"
            ],
            [
             0.8888888888888888,
             "#fdca26"
            ],
            [
             1,
             "#f0f921"
            ]
           ],
           "sequentialminus": [
            [
             0,
             "#0d0887"
            ],
            [
             0.1111111111111111,
             "#46039f"
            ],
            [
             0.2222222222222222,
             "#7201a8"
            ],
            [
             0.3333333333333333,
             "#9c179e"
            ],
            [
             0.4444444444444444,
             "#bd3786"
            ],
            [
             0.5555555555555556,
             "#d8576b"
            ],
            [
             0.6666666666666666,
             "#ed7953"
            ],
            [
             0.7777777777777778,
             "#fb9f3a"
            ],
            [
             0.8888888888888888,
             "#fdca26"
            ],
            [
             1,
             "#f0f921"
            ]
           ]
          },
          "colorway": [
           "#636efa",
           "#EF553B",
           "#00cc96",
           "#ab63fa",
           "#FFA15A",
           "#19d3f3",
           "#FF6692",
           "#B6E880",
           "#FF97FF",
           "#FECB52"
          ],
          "font": {
           "color": "#2a3f5f"
          },
          "geo": {
           "bgcolor": "white",
           "lakecolor": "white",
           "landcolor": "#E5ECF6",
           "showlakes": true,
           "showland": true,
           "subunitcolor": "white"
          },
          "hoverlabel": {
           "align": "left"
          },
          "hovermode": "closest",
          "mapbox": {
           "style": "light"
          },
          "paper_bgcolor": "white",
          "plot_bgcolor": "#E5ECF6",
          "polar": {
           "angularaxis": {
            "gridcolor": "white",
            "linecolor": "white",
            "ticks": ""
           },
           "bgcolor": "#E5ECF6",
           "radialaxis": {
            "gridcolor": "white",
            "linecolor": "white",
            "ticks": ""
           }
          },
          "scene": {
           "xaxis": {
            "backgroundcolor": "#E5ECF6",
            "gridcolor": "white",
            "gridwidth": 2,
            "linecolor": "white",
            "showbackground": true,
            "ticks": "",
            "zerolinecolor": "white"
           },
           "yaxis": {
            "backgroundcolor": "#E5ECF6",
            "gridcolor": "white",
            "gridwidth": 2,
            "linecolor": "white",
            "showbackground": true,
            "ticks": "",
            "zerolinecolor": "white"
           },
           "zaxis": {
            "backgroundcolor": "#E5ECF6",
            "gridcolor": "white",
            "gridwidth": 2,
            "linecolor": "white",
            "showbackground": true,
            "ticks": "",
            "zerolinecolor": "white"
           }
          },
          "shapedefaults": {
           "line": {
            "color": "#2a3f5f"
           }
          },
          "ternary": {
           "aaxis": {
            "gridcolor": "white",
            "linecolor": "white",
            "ticks": ""
           },
           "baxis": {
            "gridcolor": "white",
            "linecolor": "white",
            "ticks": ""
           },
           "bgcolor": "#E5ECF6",
           "caxis": {
            "gridcolor": "white",
            "linecolor": "white",
            "ticks": ""
           }
          },
          "title": {
           "x": 0.05
          },
          "xaxis": {
           "automargin": true,
           "gridcolor": "white",
           "linecolor": "white",
           "ticks": "",
           "title": {
            "standoff": 15
           },
           "zerolinecolor": "white",
           "zerolinewidth": 2
          },
          "yaxis": {
           "automargin": true,
           "gridcolor": "white",
           "linecolor": "white",
           "ticks": "",
           "title": {
            "standoff": 15
           },
           "zerolinecolor": "white",
           "zerolinewidth": 2
          }
         }
        },
        "xaxis": {
         "anchor": "y",
         "domain": [
          0,
          1
         ],
         "title": {
          "text": "Embarked"
         }
        },
        "yaxis": {
         "anchor": "x",
         "domain": [
          0,
          1
         ],
         "title": {
          "text": "count"
         }
        }
       }
      },
      "text/html": [
       "<div>                            <div id=\"7abf9424-f8d6-49fa-b732-5b90b3657df6\" class=\"plotly-graph-div\" style=\"height:525px; width:100%;\"></div>            <script type=\"text/javascript\">                require([\"plotly\"], function(Plotly) {                    window.PLOTLYENV=window.PLOTLYENV || {};                                    if (document.getElementById(\"7abf9424-f8d6-49fa-b732-5b90b3657df6\")) {                    Plotly.newPlot(                        \"7abf9424-f8d6-49fa-b732-5b90b3657df6\",                        [{\"alignmentgroup\":\"True\",\"bingroup\":\"x\",\"hovertemplate\":\"Sex=male<br>Embarked=%{x}<br>count=%{y}<extra></extra>\",\"legendgroup\":\"male\",\"marker\":{\"color\":\"#636efa\",\"pattern\":{\"shape\":\"\"}},\"name\":\"male\",\"offsetgroup\":\"male\",\"orientation\":\"v\",\"showlegend\":true,\"x\":[\"S\",\"S\",\"Q\",\"S\",\"S\",\"S\",\"S\",\"Q\",\"S\",\"S\",\"S\",\"S\",\"C\",\"S\",\"S\",\"C\",\"S\",\"C\",\"S\",\"C\",\"S\",\"C\",\"S\",\"Q\",\"C\",\"S\",\"S\",\"C\",\"S\",\"C\",\"S\",\"C\",\"S\",\"S\",\"C\",\"C\",\"S\",\"S\",\"S\",\"S\",\"C\",\"S\",\"S\",\"S\",\"S\",\"S\",\"S\",\"S\",\"S\",\"S\",\"S\",\"S\",\"S\",\"S\",\"S\",\"S\",\"S\",\"S\",\"C\",\"C\",\"S\",\"S\",\"S\",\"S\",\"S\",\"S\",\"S\",\"S\",\"S\",\"S\",\"S\",\"Q\",\"S\",\"C\",\"S\",\"S\",\"C\",\"S\",\"C\",\"Q\",\"S\",\"S\",\"C\",\"S\",\"S\",\"C\",\"S\",\"S\",\"C\",\"Q\",\"S\",\"S\",\"S\",\"S\",\"S\",\"S\",\"S\",\"S\",\"S\",\"C\",\"S\",\"S\",\"S\",\"S\",\"S\",\"S\",\"S\",\"S\",\"S\",\"S\",\"S\",\"Q\",\"S\",\"C\",\"S\",\"S\",\"S\",\"S\",\"C\",\"S\",\"S\",\"S\",\"S\",\"Q\",\"S\",\"S\",\"S\",\"Q\",\"S\",\"S\",\"S\",\"S\",\"C\",\"S\",\"S\",\"C\",\"C\",\"S\",\"S\",\"S\",\"Q\",\"S\",\"S\",\"S\",\"S\",\"S\",\"S\",\"S\",\"S\",\"S\",\"S\",\"S\",\"S\",\"S\",\"S\",\"S\",\"S\",\"S\",\"S\",\"S\",\"C\",\"Q\",\"S\",\"S\",\"S\",\"S\",\"S\",\"Q\",\"S\",\"S\",\"S\",\"S\",\"S\",\"S\",\"S\",\"S\",\"C\",\"S\",\"Q\",\"Q\",\"S\",\"S\",\"S\",\"S\",\"C\",\"S\",\"S\",\"S\",\"C\",\"S\",\"C\",\"C\",\"S\",\"Q\",\"S\",\"S\",\"S\",\"C\",\"S\",\"S\",\"S\",\"S\",\"S\",\"S\",\"S\",\"S\",\"S\",\"S\",\"S\",\"S\",\"S\",\"S\",\"S\",\"S\",\"S\",\"S\",\"S\",\"S\",\"S\",\"S\",\"C\",\"S\",\"C\",\"S\",\"S\",\"C\",\"S\",\"Q\",\"S\",\"C\",\"S\",\"S\",\"C\",\"C\",\"C\",\"S\",\"S\",\"S\",\"S\",\"S\",\"Q\",\"S\",\"S\",\"S\",\"S\",\"S\",\"S\",\"S\",\"S\",\"S\",\"S\",\"S\",\"S\",\"S\",\"S\",\"Q\",\"S\",\"S\",\"S\",\"C\",\"Q\",\"S\",\"S\",\"S\",\"Q\",\"S\",\"S\",\"S\",\"S\",\"S\",\"S\",\"S\",\"S\",\"S\",\"S\",\"S\",\"S\",\"S\",\"S\",\"C\",\"C\",\"S\",\"C\",\"S\",\"Q\",\"S\",\"S\",\"S\",\"S\",\"S\",\"S\",\"S\",\"S\",\"Q\",\"S\",\"S\",\"S\",\"S\",\"S\",\"S\",\"S\",\"S\",\"S\",\"C\",\"C\",\"S\",\"S\",\"S\",\"S\",\"S\",\"C\",\"S\",\"C\",\"S\",\"S\",\"S\",\"C\",\"S\",\"S\",\"S\",\"Q\",\"S\",\"S\",\"S\",\"S\",\"Q\",\"S\",\"S\",\"C\",\"C\",\"Q\",\"S\",\"S\",\"S\",\"C\",\"C\",\"S\",\"S\",\"S\",\"C\",\"S\",\"C\",\"S\",\"S\",\"C\",\"S\",\"Q\",\"C\",\"S\",\"C\",\"Q\",\"S\",\"S\",\"S\",\"S\",\"S\",\"C\",\"S\",\"S\",\"S\",\"S\",\"S\",\"S\",\"S\",\"C\",\"C\",\"S\",\"C\",\"S\",\"S\",\"S\",\"S\",\"S\",\"S\",\"S\",\"C\",\"C\",\"S\",\"S\",\"S\",\"C\",\"S\",\"S\",\"S\",\"S\",\"Q\",\"S\",\"S\",\"S\",\"C\",\"S\",\"C\",\"S\",\"S\",\"S\",\"Q\",\"S\",\"Q\",\"S\",\"S\",\"C\",\"S\",\"S\",\"S\",\"S\",\"S\",\"S\",\"C\",\"S\",\"C\",\"S\",\"S\",\"S\",\"S\",\"S\",\"S\",\"C\",\"S\",\"C\",\"S\",\"S\",\"S\",\"S\",\"S\",\"S\",\"S\",\"S\",\"S\",\"S\",\"S\",\"S\",\"S\",\"C\",\"C\",\"S\",\"S\",\"S\",\"C\",\"S\",\"S\",\"S\",\"S\",\"S\",\"C\",\"S\",\"S\",\"S\",\"C\",\"S\",\"S\",\"Q\",\"S\",\"S\",\"S\",\"C\",\"S\",\"S\",\"S\",\"S\",\"S\",\"Q\",\"S\",\"S\",\"S\",\"S\",\"S\",\"S\",\"S\",\"C\",\"S\",\"S\",\"S\",\"S\",\"C\",\"S\",\"S\",\"S\",\"S\",\"S\",\"S\",\"S\",\"S\",\"S\",\"Q\",\"S\",\"S\",\"S\",\"S\",\"S\",\"S\",\"S\",\"S\",\"S\",\"C\",\"S\",\"C\",\"Q\",\"S\",\"S\",\"S\",\"C\",\"S\",\"Q\",\"Q\",\"S\",\"S\",\"S\",\"S\",\"Q\",\"S\",\"C\",\"Q\",\"S\",\"C\",\"S\",\"S\",\"C\",\"S\",\"S\",\"C\",\"S\",\"S\",\"S\",\"S\",\"S\",\"S\",\"S\",\"S\",\"S\",\"C\",\"S\",\"S\",\"S\",\"S\",\"S\",\"Q\",\"S\",\"C\",\"Q\",\"S\",\"C\",\"S\",\"S\",\"S\",\"S\",\"S\",\"C\",\"S\",\"S\",\"C\",\"S\",\"S\",\"S\",\"C\",\"S\",\"S\",\"S\",\"S\",\"C\",\"S\",\"S\",\"S\",\"S\",\"S\",\"S\",\"S\",\"S\",\"S\",\"S\",\"S\",\"S\",\"S\",\"S\",\"S\",\"S\",\"C\",\"Q\"],\"xaxis\":\"x\",\"yaxis\":\"y\",\"type\":\"histogram\"},{\"alignmentgroup\":\"True\",\"bingroup\":\"x\",\"hovertemplate\":\"Sex=female<br>Embarked=%{x}<br>count=%{y}<extra></extra>\",\"legendgroup\":\"female\",\"marker\":{\"color\":\"#EF553B\",\"pattern\":{\"shape\":\"\"}},\"name\":\"female\",\"offsetgroup\":\"female\",\"orientation\":\"v\",\"showlegend\":true,\"x\":[\"C\",\"S\",\"S\",\"S\",\"C\",\"S\",\"S\",\"S\",\"S\",\"S\",\"C\",\"Q\",\"S\",\"S\",\"Q\",\"C\",\"Q\",\"S\",\"C\",\"S\",\"S\",\"C\",\"Q\",\"Q\",\"S\",\"C\",\"S\",\"S\",\"S\",\"S\",\"S\",\"S\",\"S\",\"S\",\"Q\",\"S\",\"S\",\"S\",\"S\",\"S\",\"S\",\"Q\",\"C\",\"S\",\"C\",\"S\",\"S\",\"C\",\"S\",\"S\",\"S\",\"C\",\"S\",\"S\",\"S\",\"S\",\"Q\",\"S\",\"S\",\"S\",\"S\",\"C\",\"S\",\"S\",\"Q\",\"S\",\"S\",\"C\",\"C\",\"Q\",\"S\",\"S\",\"Q\",\"S\",\"C\",\"S\",\"C\",\"S\",\"S\",\"S\",\"S\",\"S\",\"C\",\"Q\",\"S\",\"S\",\"S\",\"S\",\"C\",\"C\",\"S\",\"C\",\"S\",\"Q\",\"S\",\"S\",\"S\",\"Q\",\"S\",\"S\",\"S\",\"Q\",\"S\",\"C\",\"S\",\"S\",\"C\",\"Q\",\"Q\",\"C\",\"C\",\"C\",\"C\",\"C\",\"S\",\"S\",\"S\",\"S\",\"C\",\"Q\",\"S\",\"C\",\"S\",\"S\",\"C\",\"Q\",\"S\",\"C\",\"S\",\"S\",\"S\",\"S\",\"S\",\"S\",\"Q\",\"Q\",\"C\",\"C\",\"C\",\"Q\",\"C\",\"S\",\"C\",\"S\",\"C\",\"C\",\"S\",\"S\",\"C\",\"C\",\"S\",\"S\",\"S\",\"S\",\"S\",\"S\",\"Q\",\"S\",\"S\",\"S\",\"S\",\"S\",\"S\",\"S\",\"S\",\"S\",\"S\",\"S\",\"S\",\"S\",\"S\",\"S\",\"C\",\"S\",\"S\",\"C\",\"S\",\"C\",\"S\",\"S\",\"S\",\"S\",\"S\",\"C\",\"S\",\"Q\",\"Q\",\"S\",\"S\",\"S\",\"C\",\"S\",\"S\",\"S\",\"C\",\"S\",\"S\",\"C\",\"S\",\"S\",\"C\",\"C\",\"S\",\"S\",\"S\",\"S\",\"S\",\"C\",\"S\",\"S\",\"S\",\"S\",\"S\",\"Q\",\"S\",\"S\",\"C\",\"S\",\"C\",\"S\",\"C\",\"Q\",\"S\",\"S\",\"C\",\"S\",\"S\",\"Q\",\"S\",\"S\",\"S\",\"S\",\"S\",\"S\",\"S\",\"C\",\"S\",\"C\",\"S\",\"S\",\"Q\",\"Q\",\"Q\",\"S\",\"S\",\"S\",\"S\",\"Q\",\"S\",\"C\",\"Q\",\"C\",\"C\",\"S\",\"S\",\"C\",\"C\",\"S\",\"S\",\"S\",\"Q\",\"S\",\"S\",\"S\",\"C\",\"S\",\"S\",\"S\",\"S\",\"S\",\"S\",\"Q\",\"S\",\"S\",\"S\",\"S\",\"C\",\"S\",\"S\",\"S\",\"S\",\"S\",\"S\",\"S\",\"S\",\"S\",\"S\",\"S\",\"S\",\"S\",\"S\",\"C\",\"C\",\"C\",\"C\",\"C\",\"S\",\"S\",\"S\",\"S\",\"C\",\"S\",\"S\",\"S\",\"C\",\"S\",\"C\",\"C\",\"C\",\"S\",\"S\",\"Q\",\"S\",\"S\"],\"xaxis\":\"x\",\"yaxis\":\"y\",\"type\":\"histogram\"}],                        {\"template\":{\"data\":{\"bar\":[{\"error_x\":{\"color\":\"#2a3f5f\"},\"error_y\":{\"color\":\"#2a3f5f\"},\"marker\":{\"line\":{\"color\":\"#E5ECF6\",\"width\":0.5},\"pattern\":{\"fillmode\":\"overlay\",\"size\":10,\"solidity\":0.2}},\"type\":\"bar\"}],\"barpolar\":[{\"marker\":{\"line\":{\"color\":\"#E5ECF6\",\"width\":0.5},\"pattern\":{\"fillmode\":\"overlay\",\"size\":10,\"solidity\":0.2}},\"type\":\"barpolar\"}],\"carpet\":[{\"aaxis\":{\"endlinecolor\":\"#2a3f5f\",\"gridcolor\":\"white\",\"linecolor\":\"white\",\"minorgridcolor\":\"white\",\"startlinecolor\":\"#2a3f5f\"},\"baxis\":{\"endlinecolor\":\"#2a3f5f\",\"gridcolor\":\"white\",\"linecolor\":\"white\",\"minorgridcolor\":\"white\",\"startlinecolor\":\"#2a3f5f\"},\"type\":\"carpet\"}],\"choropleth\":[{\"colorbar\":{\"outlinewidth\":0,\"ticks\":\"\"},\"type\":\"choropleth\"}],\"contour\":[{\"colorbar\":{\"outlinewidth\":0,\"ticks\":\"\"},\"colorscale\":[[0.0,\"#0d0887\"],[0.1111111111111111,\"#46039f\"],[0.2222222222222222,\"#7201a8\"],[0.3333333333333333,\"#9c179e\"],[0.4444444444444444,\"#bd3786\"],[0.5555555555555556,\"#d8576b\"],[0.6666666666666666,\"#ed7953\"],[0.7777777777777778,\"#fb9f3a\"],[0.8888888888888888,\"#fdca26\"],[1.0,\"#f0f921\"]],\"type\":\"contour\"}],\"contourcarpet\":[{\"colorbar\":{\"outlinewidth\":0,\"ticks\":\"\"},\"type\":\"contourcarpet\"}],\"heatmap\":[{\"colorbar\":{\"outlinewidth\":0,\"ticks\":\"\"},\"colorscale\":[[0.0,\"#0d0887\"],[0.1111111111111111,\"#46039f\"],[0.2222222222222222,\"#7201a8\"],[0.3333333333333333,\"#9c179e\"],[0.4444444444444444,\"#bd3786\"],[0.5555555555555556,\"#d8576b\"],[0.6666666666666666,\"#ed7953\"],[0.7777777777777778,\"#fb9f3a\"],[0.8888888888888888,\"#fdca26\"],[1.0,\"#f0f921\"]],\"type\":\"heatmap\"}],\"heatmapgl\":[{\"colorbar\":{\"outlinewidth\":0,\"ticks\":\"\"},\"colorscale\":[[0.0,\"#0d0887\"],[0.1111111111111111,\"#46039f\"],[0.2222222222222222,\"#7201a8\"],[0.3333333333333333,\"#9c179e\"],[0.4444444444444444,\"#bd3786\"],[0.5555555555555556,\"#d8576b\"],[0.6666666666666666,\"#ed7953\"],[0.7777777777777778,\"#fb9f3a\"],[0.8888888888888888,\"#fdca26\"],[1.0,\"#f0f921\"]],\"type\":\"heatmapgl\"}],\"histogram\":[{\"marker\":{\"pattern\":{\"fillmode\":\"overlay\",\"size\":10,\"solidity\":0.2}},\"type\":\"histogram\"}],\"histogram2d\":[{\"colorbar\":{\"outlinewidth\":0,\"ticks\":\"\"},\"colorscale\":[[0.0,\"#0d0887\"],[0.1111111111111111,\"#46039f\"],[0.2222222222222222,\"#7201a8\"],[0.3333333333333333,\"#9c179e\"],[0.4444444444444444,\"#bd3786\"],[0.5555555555555556,\"#d8576b\"],[0.6666666666666666,\"#ed7953\"],[0.7777777777777778,\"#fb9f3a\"],[0.8888888888888888,\"#fdca26\"],[1.0,\"#f0f921\"]],\"type\":\"histogram2d\"}],\"histogram2dcontour\":[{\"colorbar\":{\"outlinewidth\":0,\"ticks\":\"\"},\"colorscale\":[[0.0,\"#0d0887\"],[0.1111111111111111,\"#46039f\"],[0.2222222222222222,\"#7201a8\"],[0.3333333333333333,\"#9c179e\"],[0.4444444444444444,\"#bd3786\"],[0.5555555555555556,\"#d8576b\"],[0.6666666666666666,\"#ed7953\"],[0.7777777777777778,\"#fb9f3a\"],[0.8888888888888888,\"#fdca26\"],[1.0,\"#f0f921\"]],\"type\":\"histogram2dcontour\"}],\"mesh3d\":[{\"colorbar\":{\"outlinewidth\":0,\"ticks\":\"\"},\"type\":\"mesh3d\"}],\"parcoords\":[{\"line\":{\"colorbar\":{\"outlinewidth\":0,\"ticks\":\"\"}},\"type\":\"parcoords\"}],\"pie\":[{\"automargin\":true,\"type\":\"pie\"}],\"scatter\":[{\"marker\":{\"colorbar\":{\"outlinewidth\":0,\"ticks\":\"\"}},\"type\":\"scatter\"}],\"scatter3d\":[{\"line\":{\"colorbar\":{\"outlinewidth\":0,\"ticks\":\"\"}},\"marker\":{\"colorbar\":{\"outlinewidth\":0,\"ticks\":\"\"}},\"type\":\"scatter3d\"}],\"scattercarpet\":[{\"marker\":{\"colorbar\":{\"outlinewidth\":0,\"ticks\":\"\"}},\"type\":\"scattercarpet\"}],\"scattergeo\":[{\"marker\":{\"colorbar\":{\"outlinewidth\":0,\"ticks\":\"\"}},\"type\":\"scattergeo\"}],\"scattergl\":[{\"marker\":{\"colorbar\":{\"outlinewidth\":0,\"ticks\":\"\"}},\"type\":\"scattergl\"}],\"scattermapbox\":[{\"marker\":{\"colorbar\":{\"outlinewidth\":0,\"ticks\":\"\"}},\"type\":\"scattermapbox\"}],\"scatterpolar\":[{\"marker\":{\"colorbar\":{\"outlinewidth\":0,\"ticks\":\"\"}},\"type\":\"scatterpolar\"}],\"scatterpolargl\":[{\"marker\":{\"colorbar\":{\"outlinewidth\":0,\"ticks\":\"\"}},\"type\":\"scatterpolargl\"}],\"scatterternary\":[{\"marker\":{\"colorbar\":{\"outlinewidth\":0,\"ticks\":\"\"}},\"type\":\"scatterternary\"}],\"surface\":[{\"colorbar\":{\"outlinewidth\":0,\"ticks\":\"\"},\"colorscale\":[[0.0,\"#0d0887\"],[0.1111111111111111,\"#46039f\"],[0.2222222222222222,\"#7201a8\"],[0.3333333333333333,\"#9c179e\"],[0.4444444444444444,\"#bd3786\"],[0.5555555555555556,\"#d8576b\"],[0.6666666666666666,\"#ed7953\"],[0.7777777777777778,\"#fb9f3a\"],[0.8888888888888888,\"#fdca26\"],[1.0,\"#f0f921\"]],\"type\":\"surface\"}],\"table\":[{\"cells\":{\"fill\":{\"color\":\"#EBF0F8\"},\"line\":{\"color\":\"white\"}},\"header\":{\"fill\":{\"color\":\"#C8D4E3\"},\"line\":{\"color\":\"white\"}},\"type\":\"table\"}]},\"layout\":{\"annotationdefaults\":{\"arrowcolor\":\"#2a3f5f\",\"arrowhead\":0,\"arrowwidth\":1},\"autotypenumbers\":\"strict\",\"coloraxis\":{\"colorbar\":{\"outlinewidth\":0,\"ticks\":\"\"}},\"colorscale\":{\"diverging\":[[0,\"#8e0152\"],[0.1,\"#c51b7d\"],[0.2,\"#de77ae\"],[0.3,\"#f1b6da\"],[0.4,\"#fde0ef\"],[0.5,\"#f7f7f7\"],[0.6,\"#e6f5d0\"],[0.7,\"#b8e186\"],[0.8,\"#7fbc41\"],[0.9,\"#4d9221\"],[1,\"#276419\"]],\"sequential\":[[0.0,\"#0d0887\"],[0.1111111111111111,\"#46039f\"],[0.2222222222222222,\"#7201a8\"],[0.3333333333333333,\"#9c179e\"],[0.4444444444444444,\"#bd3786\"],[0.5555555555555556,\"#d8576b\"],[0.6666666666666666,\"#ed7953\"],[0.7777777777777778,\"#fb9f3a\"],[0.8888888888888888,\"#fdca26\"],[1.0,\"#f0f921\"]],\"sequentialminus\":[[0.0,\"#0d0887\"],[0.1111111111111111,\"#46039f\"],[0.2222222222222222,\"#7201a8\"],[0.3333333333333333,\"#9c179e\"],[0.4444444444444444,\"#bd3786\"],[0.5555555555555556,\"#d8576b\"],[0.6666666666666666,\"#ed7953\"],[0.7777777777777778,\"#fb9f3a\"],[0.8888888888888888,\"#fdca26\"],[1.0,\"#f0f921\"]]},\"colorway\":[\"#636efa\",\"#EF553B\",\"#00cc96\",\"#ab63fa\",\"#FFA15A\",\"#19d3f3\",\"#FF6692\",\"#B6E880\",\"#FF97FF\",\"#FECB52\"],\"font\":{\"color\":\"#2a3f5f\"},\"geo\":{\"bgcolor\":\"white\",\"lakecolor\":\"white\",\"landcolor\":\"#E5ECF6\",\"showlakes\":true,\"showland\":true,\"subunitcolor\":\"white\"},\"hoverlabel\":{\"align\":\"left\"},\"hovermode\":\"closest\",\"mapbox\":{\"style\":\"light\"},\"paper_bgcolor\":\"white\",\"plot_bgcolor\":\"#E5ECF6\",\"polar\":{\"angularaxis\":{\"gridcolor\":\"white\",\"linecolor\":\"white\",\"ticks\":\"\"},\"bgcolor\":\"#E5ECF6\",\"radialaxis\":{\"gridcolor\":\"white\",\"linecolor\":\"white\",\"ticks\":\"\"}},\"scene\":{\"xaxis\":{\"backgroundcolor\":\"#E5ECF6\",\"gridcolor\":\"white\",\"gridwidth\":2,\"linecolor\":\"white\",\"showbackground\":true,\"ticks\":\"\",\"zerolinecolor\":\"white\"},\"yaxis\":{\"backgroundcolor\":\"#E5ECF6\",\"gridcolor\":\"white\",\"gridwidth\":2,\"linecolor\":\"white\",\"showbackground\":true,\"ticks\":\"\",\"zerolinecolor\":\"white\"},\"zaxis\":{\"backgroundcolor\":\"#E5ECF6\",\"gridcolor\":\"white\",\"gridwidth\":2,\"linecolor\":\"white\",\"showbackground\":true,\"ticks\":\"\",\"zerolinecolor\":\"white\"}},\"shapedefaults\":{\"line\":{\"color\":\"#2a3f5f\"}},\"ternary\":{\"aaxis\":{\"gridcolor\":\"white\",\"linecolor\":\"white\",\"ticks\":\"\"},\"baxis\":{\"gridcolor\":\"white\",\"linecolor\":\"white\",\"ticks\":\"\"},\"bgcolor\":\"#E5ECF6\",\"caxis\":{\"gridcolor\":\"white\",\"linecolor\":\"white\",\"ticks\":\"\"}},\"title\":{\"x\":0.05},\"xaxis\":{\"automargin\":true,\"gridcolor\":\"white\",\"linecolor\":\"white\",\"ticks\":\"\",\"title\":{\"standoff\":15},\"zerolinecolor\":\"white\",\"zerolinewidth\":2},\"yaxis\":{\"automargin\":true,\"gridcolor\":\"white\",\"linecolor\":\"white\",\"ticks\":\"\",\"title\":{\"standoff\":15},\"zerolinecolor\":\"white\",\"zerolinewidth\":2}}},\"xaxis\":{\"anchor\":\"y\",\"domain\":[0.0,1.0],\"title\":{\"text\":\"Embarked\"}},\"yaxis\":{\"anchor\":\"x\",\"domain\":[0.0,1.0],\"title\":{\"text\":\"count\"}},\"legend\":{\"title\":{\"text\":\"Sex\"},\"tracegroupgap\":0},\"margin\":{\"t\":60},\"barmode\":\"relative\"},                        {\"responsive\": true}                    ).then(function(){\n",
       "                            \n",
       "var gd = document.getElementById('7abf9424-f8d6-49fa-b732-5b90b3657df6');\n",
       "var x = new MutationObserver(function (mutations, observer) {{\n",
       "        var display = window.getComputedStyle(gd).display;\n",
       "        if (!display || display === 'none') {{\n",
       "            console.log([gd, 'removed!']);\n",
       "            Plotly.purge(gd);\n",
       "            observer.disconnect();\n",
       "        }}\n",
       "}});\n",
       "\n",
       "// Listen for the removal of the full notebook cells\n",
       "var notebookContainer = gd.closest('#notebook-container');\n",
       "if (notebookContainer) {{\n",
       "    x.observe(notebookContainer, {childList: true});\n",
       "}}\n",
       "\n",
       "// Listen for the clearing of the current output cell\n",
       "var outputEl = gd.closest('.output');\n",
       "if (outputEl) {{\n",
       "    x.observe(outputEl, {childList: true});\n",
       "}}\n",
       "\n",
       "                        })                };                });            </script>        </div>"
      ]
     },
     "metadata": {},
     "output_type": "display_data"
    }
   ],
   "source": [
    "import plotly.express as px\n",
    "\n",
    "# para edições nos gráficos: https://plotly.com/python/histograms/\n",
    "\n",
    "for coluna in df:\n",
    "    if coluna != \"Survived\":\n",
    "        # criar a figura\n",
    "        fig = px.histogram(df, x=coluna, color=\"Sex\")\n",
    "        # exibir a figura\n",
    "        fig.show()\n",
    "             "
   ]
  },
  {
   "cell_type": "code",
   "execution_count": null,
   "id": "376d1b6b",
   "metadata": {},
   "outputs": [],
   "source": []
  }
 ],
 "metadata": {
  "kernelspec": {
   "display_name": "Python 3.10.6 64-bit",
   "language": "python",
   "name": "python3"
  },
  "language_info": {
   "codemirror_mode": {
    "name": "ipython",
    "version": 3
   },
   "file_extension": ".py",
   "mimetype": "text/x-python",
   "name": "python",
   "nbconvert_exporter": "python",
   "pygments_lexer": "ipython3",
   "version": "3.10.6"
  },
  "vscode": {
   "interpreter": {
    "hash": "3487747ec6a093cec50f9b262f9568b6fb6b8c523d42b9e8dcac4b2321d7829a"
   }
  }
 },
 "nbformat": 4,
 "nbformat_minor": 5
}
